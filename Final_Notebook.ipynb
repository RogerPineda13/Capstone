{
 "cells": [
  {
   "cell_type": "markdown",
   "metadata": {},
   "source": [
    "# Craigslist Car Prediction\n",
    "\n",
    "## Manufacturing Data-Driven Price Model\n",
    "by Roger Pineda"
   ]
  },
  {
   "cell_type": "markdown",
   "metadata": {},
   "source": [
    "# Overview\n",
    "This project uses regression modeling to predict the price of new and used vehicles based on car information listed on Craigslist. The purpose for this project is to aid any person currently deciding on whether they are in the market to purchase or sell a vehicle. This notebook focuses on a dataset retrieved from Kaggle. Prior to cleaning the dataset had around 430k car listings and had 26 columns.\n",
    "\n",
    "Current steps to create a workable model will be:\n",
    "1. Explore and scrub our data\n",
    "2. Use regression models suggested by jigsawacademy.com (within modeling notebook)\n",
    "3. Analyze results\n",
    "4. Prediction with new data"
   ]
  },
  {
   "cell_type": "markdown",
   "metadata": {},
   "source": [
    "# Business Understanding\n",
    "Currently the car market has gone to a state where there is such uncertantity with supply that older cars are no longer seen as a cheap throw away. People are trying to purchase cars   "
   ]
  },
  {
   "cell_type": "code",
   "execution_count": 1,
   "metadata": {},
   "outputs": [],
   "source": [
    "import pandas as pd\n",
    "import numpy as np\n",
    "import seaborn as sns\n",
    "import os\n",
    "from matplotlib import pyplot\n",
    "from sklearn.preprocessing import OneHotEncoder\n",
    "from sklearn.preprocessing import StandardScaler\n",
    "\n",
    "import nltk\n",
    "from nltk.probability import FreqDist\n",
    "from nltk.corpus import stopwords\n",
    "from nltk.tokenize import regexp_tokenize, word_tokenize, RegexpTokenizer\n",
    "from nltk.corpus import wordnet\n",
    "import matplotlib.pyplot as plt\n",
    "import string\n",
    "import re\n",
    "import pickle\n",
    "from sklearn.feature_extraction.text import CountVectorizer, TfidfVectorizer,\\\n",
    "HashingVectorizer\n",
    "%matplotlib inline"
   ]
  },
  {
   "cell_type": "code",
   "execution_count": 2,
   "metadata": {},
   "outputs": [],
   "source": [
    "# Functions that will be used within the notebook\n",
    "def onehotencoder(column_name, df):\n",
    "    column_name_ohe = df[[column_name]]\n",
    "    ohe = OneHotEncoder(categories = 'auto', sparse = False)\n",
    "    ohe.fit(column_name_ohe)\n",
    "    column_transformed = ohe.transform(column_name_ohe)\n",
    "    column_encoded_ohe = pd.DataFrame(column_transformed, columns = ohe.get_feature_names([column_name]), index = df.index)\n",
    "    return column_encoded_ohe\n",
    "\n",
    "def list_contains(List1, List2): \n",
    "    check = False\n",
    "  \n",
    "    # Iterate in the 1st list \n",
    "    for m in List1: \n",
    "  \n",
    "        # Iterate in the 2nd list \n",
    "        for n in List2: \n",
    "    \n",
    "            # if there is a match\n",
    "            if m == n: \n",
    "                check = True\n",
    "                return check  \n",
    "                  \n",
    "    return check"
   ]
  },
  {
   "cell_type": "markdown",
   "metadata": {},
   "source": [
    "Loading in the data"
   ]
  },
  {
   "cell_type": "code",
   "execution_count": 3,
   "metadata": {},
   "outputs": [],
   "source": [
    "df= pd.read_csv('CraigslistCars.csv')"
   ]
  },
  {
   "cell_type": "code",
   "execution_count": 4,
   "metadata": {
    "scrolled": false
   },
   "outputs": [],
   "source": [
    "# Making a copy of the main dataframe so if mistake is made don't have to relaod the entire thing,\n",
    "df_1 = df.copy()\n"
   ]
  },
  {
   "cell_type": "code",
   "execution_count": 5,
   "metadata": {
    "scrolled": false
   },
   "outputs": [
    {
     "data": {
      "text/html": [
       "<div>\n",
       "<style scoped>\n",
       "    .dataframe tbody tr th:only-of-type {\n",
       "        vertical-align: middle;\n",
       "    }\n",
       "\n",
       "    .dataframe tbody tr th {\n",
       "        vertical-align: top;\n",
       "    }\n",
       "\n",
       "    .dataframe thead th {\n",
       "        text-align: right;\n",
       "    }\n",
       "</style>\n",
       "<table border=\"1\" class=\"dataframe\">\n",
       "  <thead>\n",
       "    <tr style=\"text-align: right;\">\n",
       "      <th></th>\n",
       "      <th>id</th>\n",
       "      <th>url</th>\n",
       "      <th>region</th>\n",
       "      <th>region_url</th>\n",
       "      <th>price</th>\n",
       "      <th>year</th>\n",
       "      <th>manufacturer</th>\n",
       "      <th>model</th>\n",
       "      <th>condition</th>\n",
       "      <th>cylinders</th>\n",
       "      <th>...</th>\n",
       "      <th>size</th>\n",
       "      <th>type</th>\n",
       "      <th>paint_color</th>\n",
       "      <th>image_url</th>\n",
       "      <th>description</th>\n",
       "      <th>county</th>\n",
       "      <th>state</th>\n",
       "      <th>lat</th>\n",
       "      <th>long</th>\n",
       "      <th>posting_date</th>\n",
       "    </tr>\n",
       "  </thead>\n",
       "  <tbody>\n",
       "    <tr>\n",
       "      <th>0</th>\n",
       "      <td>7222695916</td>\n",
       "      <td>https://prescott.craigslist.org/cto/d/prescott...</td>\n",
       "      <td>prescott</td>\n",
       "      <td>https://prescott.craigslist.org</td>\n",
       "      <td>6000</td>\n",
       "      <td>NaN</td>\n",
       "      <td>NaN</td>\n",
       "      <td>NaN</td>\n",
       "      <td>NaN</td>\n",
       "      <td>NaN</td>\n",
       "      <td>...</td>\n",
       "      <td>NaN</td>\n",
       "      <td>NaN</td>\n",
       "      <td>NaN</td>\n",
       "      <td>NaN</td>\n",
       "      <td>NaN</td>\n",
       "      <td>NaN</td>\n",
       "      <td>az</td>\n",
       "      <td>NaN</td>\n",
       "      <td>NaN</td>\n",
       "      <td>NaN</td>\n",
       "    </tr>\n",
       "    <tr>\n",
       "      <th>1</th>\n",
       "      <td>7218891961</td>\n",
       "      <td>https://fayar.craigslist.org/ctd/d/bentonville...</td>\n",
       "      <td>fayetteville</td>\n",
       "      <td>https://fayar.craigslist.org</td>\n",
       "      <td>11900</td>\n",
       "      <td>NaN</td>\n",
       "      <td>NaN</td>\n",
       "      <td>NaN</td>\n",
       "      <td>NaN</td>\n",
       "      <td>NaN</td>\n",
       "      <td>...</td>\n",
       "      <td>NaN</td>\n",
       "      <td>NaN</td>\n",
       "      <td>NaN</td>\n",
       "      <td>NaN</td>\n",
       "      <td>NaN</td>\n",
       "      <td>NaN</td>\n",
       "      <td>ar</td>\n",
       "      <td>NaN</td>\n",
       "      <td>NaN</td>\n",
       "      <td>NaN</td>\n",
       "    </tr>\n",
       "    <tr>\n",
       "      <th>2</th>\n",
       "      <td>7221797935</td>\n",
       "      <td>https://keys.craigslist.org/cto/d/summerland-k...</td>\n",
       "      <td>florida keys</td>\n",
       "      <td>https://keys.craigslist.org</td>\n",
       "      <td>21000</td>\n",
       "      <td>NaN</td>\n",
       "      <td>NaN</td>\n",
       "      <td>NaN</td>\n",
       "      <td>NaN</td>\n",
       "      <td>NaN</td>\n",
       "      <td>...</td>\n",
       "      <td>NaN</td>\n",
       "      <td>NaN</td>\n",
       "      <td>NaN</td>\n",
       "      <td>NaN</td>\n",
       "      <td>NaN</td>\n",
       "      <td>NaN</td>\n",
       "      <td>fl</td>\n",
       "      <td>NaN</td>\n",
       "      <td>NaN</td>\n",
       "      <td>NaN</td>\n",
       "    </tr>\n",
       "    <tr>\n",
       "      <th>3</th>\n",
       "      <td>7222270760</td>\n",
       "      <td>https://worcester.craigslist.org/cto/d/west-br...</td>\n",
       "      <td>worcester / central MA</td>\n",
       "      <td>https://worcester.craigslist.org</td>\n",
       "      <td>1500</td>\n",
       "      <td>NaN</td>\n",
       "      <td>NaN</td>\n",
       "      <td>NaN</td>\n",
       "      <td>NaN</td>\n",
       "      <td>NaN</td>\n",
       "      <td>...</td>\n",
       "      <td>NaN</td>\n",
       "      <td>NaN</td>\n",
       "      <td>NaN</td>\n",
       "      <td>NaN</td>\n",
       "      <td>NaN</td>\n",
       "      <td>NaN</td>\n",
       "      <td>ma</td>\n",
       "      <td>NaN</td>\n",
       "      <td>NaN</td>\n",
       "      <td>NaN</td>\n",
       "    </tr>\n",
       "    <tr>\n",
       "      <th>4</th>\n",
       "      <td>7210384030</td>\n",
       "      <td>https://greensboro.craigslist.org/cto/d/trinit...</td>\n",
       "      <td>greensboro</td>\n",
       "      <td>https://greensboro.craigslist.org</td>\n",
       "      <td>4900</td>\n",
       "      <td>NaN</td>\n",
       "      <td>NaN</td>\n",
       "      <td>NaN</td>\n",
       "      <td>NaN</td>\n",
       "      <td>NaN</td>\n",
       "      <td>...</td>\n",
       "      <td>NaN</td>\n",
       "      <td>NaN</td>\n",
       "      <td>NaN</td>\n",
       "      <td>NaN</td>\n",
       "      <td>NaN</td>\n",
       "      <td>NaN</td>\n",
       "      <td>nc</td>\n",
       "      <td>NaN</td>\n",
       "      <td>NaN</td>\n",
       "      <td>NaN</td>\n",
       "    </tr>\n",
       "  </tbody>\n",
       "</table>\n",
       "<p>5 rows × 26 columns</p>\n",
       "</div>"
      ],
      "text/plain": [
       "           id                                                url  \\\n",
       "0  7222695916  https://prescott.craigslist.org/cto/d/prescott...   \n",
       "1  7218891961  https://fayar.craigslist.org/ctd/d/bentonville...   \n",
       "2  7221797935  https://keys.craigslist.org/cto/d/summerland-k...   \n",
       "3  7222270760  https://worcester.craigslist.org/cto/d/west-br...   \n",
       "4  7210384030  https://greensboro.craigslist.org/cto/d/trinit...   \n",
       "\n",
       "                   region                         region_url  price  year  \\\n",
       "0                prescott    https://prescott.craigslist.org   6000   NaN   \n",
       "1            fayetteville       https://fayar.craigslist.org  11900   NaN   \n",
       "2            florida keys        https://keys.craigslist.org  21000   NaN   \n",
       "3  worcester / central MA   https://worcester.craigslist.org   1500   NaN   \n",
       "4              greensboro  https://greensboro.craigslist.org   4900   NaN   \n",
       "\n",
       "  manufacturer model condition cylinders  ... size  type paint_color  \\\n",
       "0          NaN   NaN       NaN       NaN  ...  NaN   NaN         NaN   \n",
       "1          NaN   NaN       NaN       NaN  ...  NaN   NaN         NaN   \n",
       "2          NaN   NaN       NaN       NaN  ...  NaN   NaN         NaN   \n",
       "3          NaN   NaN       NaN       NaN  ...  NaN   NaN         NaN   \n",
       "4          NaN   NaN       NaN       NaN  ...  NaN   NaN         NaN   \n",
       "\n",
       "  image_url description county state lat long posting_date  \n",
       "0       NaN         NaN    NaN    az NaN  NaN          NaN  \n",
       "1       NaN         NaN    NaN    ar NaN  NaN          NaN  \n",
       "2       NaN         NaN    NaN    fl NaN  NaN          NaN  \n",
       "3       NaN         NaN    NaN    ma NaN  NaN          NaN  \n",
       "4       NaN         NaN    NaN    nc NaN  NaN          NaN  \n",
       "\n",
       "[5 rows x 26 columns]"
      ]
     },
     "execution_count": 5,
     "metadata": {},
     "output_type": "execute_result"
    }
   ],
   "source": [
    "df_1.head()\n",
    "# visually seeing the first 5 rows of the raw dataset"
   ]
  },
  {
   "cell_type": "markdown",
   "metadata": {},
   "source": [
    "From the first few lines we are seeing that there are many rows that have NaN as a value within a column."
   ]
  },
  {
   "cell_type": "code",
   "execution_count": 6,
   "metadata": {
    "scrolled": true
   },
   "outputs": [
    {
     "data": {
      "text/html": [
       "<div>\n",
       "<style scoped>\n",
       "    .dataframe tbody tr th:only-of-type {\n",
       "        vertical-align: middle;\n",
       "    }\n",
       "\n",
       "    .dataframe tbody tr th {\n",
       "        vertical-align: top;\n",
       "    }\n",
       "\n",
       "    .dataframe thead th {\n",
       "        text-align: right;\n",
       "    }\n",
       "</style>\n",
       "<table border=\"1\" class=\"dataframe\">\n",
       "  <thead>\n",
       "    <tr style=\"text-align: right;\">\n",
       "      <th></th>\n",
       "      <th>id</th>\n",
       "      <th>url</th>\n",
       "      <th>region</th>\n",
       "      <th>region_url</th>\n",
       "      <th>price</th>\n",
       "      <th>year</th>\n",
       "      <th>manufacturer</th>\n",
       "      <th>model</th>\n",
       "      <th>condition</th>\n",
       "      <th>cylinders</th>\n",
       "      <th>...</th>\n",
       "      <th>size</th>\n",
       "      <th>type</th>\n",
       "      <th>paint_color</th>\n",
       "      <th>image_url</th>\n",
       "      <th>description</th>\n",
       "      <th>county</th>\n",
       "      <th>state</th>\n",
       "      <th>lat</th>\n",
       "      <th>long</th>\n",
       "      <th>posting_date</th>\n",
       "    </tr>\n",
       "  </thead>\n",
       "  <tbody>\n",
       "    <tr>\n",
       "      <th>401636</th>\n",
       "      <td>7306519713</td>\n",
       "      <td>https://bellingham.craigslist.org/ctd/d/lynnwo...</td>\n",
       "      <td>bellingham</td>\n",
       "      <td>https://bellingham.craigslist.org</td>\n",
       "      <td>54999</td>\n",
       "      <td>2016.0</td>\n",
       "      <td>rover</td>\n",
       "      <td>sport</td>\n",
       "      <td>NaN</td>\n",
       "      <td>8 cylinders</td>\n",
       "      <td>...</td>\n",
       "      <td>NaN</td>\n",
       "      <td>SUV</td>\n",
       "      <td>NaN</td>\n",
       "      <td>https://images.craigslist.org/01515_k4b2vUesvd...</td>\n",
       "      <td>⭐ FREE DELIVERY to Bellingham WAAsk us about o...</td>\n",
       "      <td>NaN</td>\n",
       "      <td>wa</td>\n",
       "      <td>47.81247</td>\n",
       "      <td>-122.32164</td>\n",
       "      <td>2021-04-13T20:14:57-0700</td>\n",
       "    </tr>\n",
       "  </tbody>\n",
       "</table>\n",
       "<p>1 rows × 26 columns</p>\n",
       "</div>"
      ],
      "text/plain": [
       "                id                                                url  \\\n",
       "401636  7306519713  https://bellingham.craigslist.org/ctd/d/lynnwo...   \n",
       "\n",
       "            region                         region_url  price    year  \\\n",
       "401636  bellingham  https://bellingham.craigslist.org  54999  2016.0   \n",
       "\n",
       "       manufacturer  model condition    cylinders  ... size  type paint_color  \\\n",
       "401636        rover  sport       NaN  8 cylinders  ...  NaN   SUV         NaN   \n",
       "\n",
       "                                                image_url  \\\n",
       "401636  https://images.craigslist.org/01515_k4b2vUesvd...   \n",
       "\n",
       "                                              description county state  \\\n",
       "401636  ⭐ FREE DELIVERY to Bellingham WAAsk us about o...    NaN    wa   \n",
       "\n",
       "             lat       long              posting_date  \n",
       "401636  47.81247 -122.32164  2021-04-13T20:14:57-0700  \n",
       "\n",
       "[1 rows x 26 columns]"
      ]
     },
     "execution_count": 6,
     "metadata": {},
     "output_type": "execute_result"
    }
   ],
   "source": [
    "# Will take a random sample of a row to see if an arbritrary row will also follow suit of the first 5 rows by having \n",
    "# multiple NaN values\n",
    "df_1.sample()"
   ]
  },
  {
   "cell_type": "markdown",
   "metadata": {},
   "source": [
    "As you may possibly see above at least one column could have a NaN value in a row."
   ]
  },
  {
   "cell_type": "code",
   "execution_count": 7,
   "metadata": {
    "scrolled": false
   },
   "outputs": [
    {
     "data": {
      "text/plain": [
       "Index(['id', 'url', 'region', 'region_url', 'price', 'year', 'manufacturer',\n",
       "       'model', 'condition', 'cylinders', 'fuel', 'odometer', 'title_status',\n",
       "       'transmission', 'VIN', 'drive', 'size', 'type', 'paint_color',\n",
       "       'image_url', 'description', 'county', 'state', 'lat', 'long',\n",
       "       'posting_date'],\n",
       "      dtype='object')"
      ]
     },
     "execution_count": 7,
     "metadata": {},
     "output_type": "execute_result"
    }
   ],
   "source": [
    "# Want to see what are the 25 columns that will be dealt with. Also will see which should be the target for this dataset\n",
    "df_1.columns"
   ]
  },
  {
   "cell_type": "markdown",
   "metadata": {},
   "source": [
    "Seeing that within the dataset that price exists and therefore should be a solid target to predict."
   ]
  },
  {
   "cell_type": "code",
   "execution_count": 8,
   "metadata": {},
   "outputs": [
    {
     "data": {
      "text/plain": [
       "(0, 3736928711)"
      ]
     },
     "execution_count": 8,
     "metadata": {},
     "output_type": "execute_result"
    }
   ],
   "source": [
    "# Seeing the range of the prices\n",
    "df_1.price.min(), df_1.price.max()"
   ]
  },
  {
   "cell_type": "markdown",
   "metadata": {},
   "source": [
    "With the range of the target being 3736928711 from the minimum to the maximum it is safe to say there may exist outliers within the dataset."
   ]
  },
  {
   "cell_type": "code",
   "execution_count": 9,
   "metadata": {},
   "outputs": [
    {
     "name": "stderr",
     "output_type": "stream",
     "text": [
      "C:\\Users\\roger\\anaconda3\\envs\\learn-env\\lib\\site-packages\\seaborn\\_decorators.py:36: FutureWarning: Pass the following variable as a keyword arg: x. From version 0.12, the only valid positional argument will be `data`, and passing other arguments without an explicit keyword will result in an error or misinterpretation.\n",
      "  warnings.warn(\n"
     ]
    },
    {
     "data": {
      "image/png": "[encoded data removed]",
      "text/plain": [
       "<Figure size 432x288 with 1 Axes>"
      ]
     },
     "metadata": {
      "needs_background": "light"
     },
     "output_type": "display_data"
    }
   ],
   "source": [
    "b =sns.boxplot( df_1['price'] ) #creating a boxplot to show the distribution of the values within the target column\n",
    "b.set(xlabel = \"Price (in $)\", title='Price Distribution')\n",
    "sns.set_style(\"dark\");"
   ]
  },
  {
   "cell_type": "markdown",
   "metadata": {},
   "source": [
    "As seen in the boxplot above the price column has values that in the billions of dollars and may or may not be proper listings."
   ]
  },
  {
   "cell_type": "code",
   "execution_count": 10,
   "metadata": {},
   "outputs": [
    {
     "data": {
      "text/plain": [
       "(          year\n",
       " 10         NaN\n",
       " 11         NaN\n",
       " 12         NaN\n",
       " 13         NaN\n",
       " 14         NaN\n",
       " ...        ...\n",
       " 426764  2018.0\n",
       " 426812  2006.0\n",
       " 426832  2004.0\n",
       " 426836  2018.0\n",
       " 426868  2010.0\n",
       " \n",
       " [32895 rows x 1 columns],\n",
       "           year\n",
       " 318592  2007.0\n",
       " 356716  1999.0)"
      ]
     },
     "execution_count": 10,
     "metadata": {},
     "output_type": "execute_result"
    }
   ],
   "source": [
    "# The range of price within the dataset goes from 0 to 3,736,928,711\n",
    "# Want to check out the years of these vehicles because some older cars have been valued in the millions\n",
    "df_1.loc[df_1['price'] == df_1.price.min(), ['year']], df_1.loc[df_1['price']==df_1.price.max(), ['year']]"
   ]
  },
  {
   "cell_type": "markdown",
   "metadata": {},
   "source": [
    "Seeing that over 30,000 rows have the price of 0 and 2 have the large value it is showing the dataset is far fromm perfect"
   ]
  },
  {
   "cell_type": "markdown",
   "metadata": {},
   "source": [
    "Best way to have the price of 0 not sway modeling later on is to limit price values as well as these strange values that are in the billions. Therefore will take an inner 90% of the data."
   ]
  },
  {
   "cell_type": "code",
   "execution_count": 11,
   "metadata": {},
   "outputs": [
    {
     "data": {
      "text/plain": [
       "(100.0, 59999.0)"
      ]
     },
     "execution_count": 11,
     "metadata": {},
     "output_type": "execute_result"
    }
   ],
   "source": [
    "df_1['price'] = df_1['price'][df_1['price'].between(df_1['price'].quantile(.085), df_1['price'].quantile(.985),inclusive=True)]\n",
    "df_1.price.min(), df_1.price.max()\n",
    "# shows 100 - 59999 is an inner 90%%"
   ]
  },
  {
   "cell_type": "markdown",
   "metadata": {},
   "source": [
    "Making a new df with the target column limited in range will make it so the outliers don't come into play when coming time to model."
   ]
  },
  {
   "cell_type": "markdown",
   "metadata": {},
   "source": [
    "## Making a new DF with limited price values"
   ]
  },
  {
   "cell_type": "code",
   "execution_count": 12,
   "metadata": {
    "scrolled": true
   },
   "outputs": [
    {
     "data": {
      "text/plain": [
       "(           id                                                url  \\\n",
       " 0  7222695916  https://prescott.craigslist.org/cto/d/prescott...   \n",
       " 1  7218891961  https://fayar.craigslist.org/ctd/d/bentonville...   \n",
       " 2  7221797935  https://keys.craigslist.org/cto/d/summerland-k...   \n",
       " 3  7222270760  https://worcester.craigslist.org/cto/d/west-br...   \n",
       " 4  7210384030  https://greensboro.craigslist.org/cto/d/trinit...   \n",
       " \n",
       "                    region                         region_url    price  year  \\\n",
       " 0                prescott    https://prescott.craigslist.org   6000.0   NaN   \n",
       " 1            fayetteville       https://fayar.craigslist.org  11900.0   NaN   \n",
       " 2            florida keys        https://keys.craigslist.org  21000.0   NaN   \n",
       " 3  worcester / central MA   https://worcester.craigslist.org   1500.0   NaN   \n",
       " 4              greensboro  https://greensboro.craigslist.org   4900.0   NaN   \n",
       " \n",
       "   manufacturer model condition cylinders  ... size  type paint_color  \\\n",
       " 0          NaN   NaN       NaN       NaN  ...  NaN   NaN         NaN   \n",
       " 1          NaN   NaN       NaN       NaN  ...  NaN   NaN         NaN   \n",
       " 2          NaN   NaN       NaN       NaN  ...  NaN   NaN         NaN   \n",
       " 3          NaN   NaN       NaN       NaN  ...  NaN   NaN         NaN   \n",
       " 4          NaN   NaN       NaN       NaN  ...  NaN   NaN         NaN   \n",
       " \n",
       "   image_url description county state lat long posting_date  \n",
       " 0       NaN         NaN    NaN    az NaN  NaN          NaN  \n",
       " 1       NaN         NaN    NaN    ar NaN  NaN          NaN  \n",
       " 2       NaN         NaN    NaN    fl NaN  NaN          NaN  \n",
       " 3       NaN         NaN    NaN    ma NaN  NaN          NaN  \n",
       " 4       NaN         NaN    NaN    nc NaN  NaN          NaN  \n",
       " \n",
       " [5 rows x 26 columns],\n",
       " 383903)"
      ]
     },
     "execution_count": 12,
     "metadata": {},
     "output_type": "execute_result"
    }
   ],
   "source": [
    "# Making new df of just values of cars between 100 and 59,999\n",
    "df_2 = df_1.loc[(df_1['price']>100) & (df_1['price'] <59999)].copy()\n",
    "df_2.head(), len(df_2)"
   ]
  },
  {
   "cell_type": "markdown",
   "metadata": {},
   "source": [
    "# Dealing with all the possible NaN values in the dataset"
   ]
  },
  {
   "cell_type": "code",
   "execution_count": 13,
   "metadata": {
    "scrolled": true
   },
   "outputs": [
    {
     "data": {
      "text/plain": [
       "id                   0\n",
       "url                  0\n",
       "region               0\n",
       "region_url           0\n",
       "price                0\n",
       "year              1018\n",
       "manufacturer     15164\n",
       "model             4321\n",
       "condition       145292\n",
       "cylinders       155429\n",
       "fuel              2564\n",
       "odometer          2221\n",
       "title_status      7543\n",
       "transmission      1775\n",
       "VIN             148750\n",
       "drive           117540\n",
       "size            276055\n",
       "type             82942\n",
       "paint_color     113668\n",
       "image_url           62\n",
       "description         64\n",
       "county          383903\n",
       "state                0\n",
       "lat               3461\n",
       "long              3461\n",
       "posting_date        62\n",
       "dtype: int64"
      ]
     },
     "execution_count": 13,
     "metadata": {},
     "output_type": "execute_result"
    }
   ],
   "source": [
    "df_2.isna().sum()"
   ]
  },
  {
   "cell_type": "markdown",
   "metadata": {},
   "source": [
    "year, manufacturer, model, condition, cylinders, fuel, odometer, title_status, transmission, VIN, drive, size, type, paint_color\n",
    "image_url, description, county, state, lat, long, posting_date have Na values and some have around 40% of its rows with NaN values."
   ]
  },
  {
   "cell_type": "code",
   "execution_count": 14,
   "metadata": {},
   "outputs": [
    {
     "data": {
      "text/plain": [
       "Series([], Name: county, dtype: int64)"
      ]
     },
     "execution_count": 14,
     "metadata": {},
     "output_type": "execute_result"
    }
   ],
   "source": [
    "# Checking the 'county' column since it has the most NaN values.\n",
    "df_2['county'].value_counts()\n",
    "# is completely empty"
   ]
  },
  {
   "cell_type": "code",
   "execution_count": 15,
   "metadata": {
    "scrolled": true
   },
   "outputs": [
    {
     "data": {
      "text/html": [
       "<div>\n",
       "<style scoped>\n",
       "    .dataframe tbody tr th:only-of-type {\n",
       "        vertical-align: middle;\n",
       "    }\n",
       "\n",
       "    .dataframe tbody tr th {\n",
       "        vertical-align: top;\n",
       "    }\n",
       "\n",
       "    .dataframe thead th {\n",
       "        text-align: right;\n",
       "    }\n",
       "</style>\n",
       "<table border=\"1\" class=\"dataframe\">\n",
       "  <thead>\n",
       "    <tr style=\"text-align: right;\">\n",
       "      <th></th>\n",
       "      <th>id</th>\n",
       "      <th>url</th>\n",
       "      <th>region</th>\n",
       "      <th>region_url</th>\n",
       "      <th>price</th>\n",
       "      <th>year</th>\n",
       "      <th>manufacturer</th>\n",
       "      <th>model</th>\n",
       "      <th>condition</th>\n",
       "      <th>cylinders</th>\n",
       "      <th>...</th>\n",
       "      <th>drive</th>\n",
       "      <th>size</th>\n",
       "      <th>type</th>\n",
       "      <th>paint_color</th>\n",
       "      <th>image_url</th>\n",
       "      <th>description</th>\n",
       "      <th>state</th>\n",
       "      <th>lat</th>\n",
       "      <th>long</th>\n",
       "      <th>posting_date</th>\n",
       "    </tr>\n",
       "  </thead>\n",
       "  <tbody>\n",
       "    <tr>\n",
       "      <th>0</th>\n",
       "      <td>7222695916</td>\n",
       "      <td>https://prescott.craigslist.org/cto/d/prescott...</td>\n",
       "      <td>prescott</td>\n",
       "      <td>https://prescott.craigslist.org</td>\n",
       "      <td>6000.0</td>\n",
       "      <td>NaN</td>\n",
       "      <td>NaN</td>\n",
       "      <td>NaN</td>\n",
       "      <td>NaN</td>\n",
       "      <td>NaN</td>\n",
       "      <td>...</td>\n",
       "      <td>NaN</td>\n",
       "      <td>NaN</td>\n",
       "      <td>NaN</td>\n",
       "      <td>NaN</td>\n",
       "      <td>NaN</td>\n",
       "      <td>NaN</td>\n",
       "      <td>az</td>\n",
       "      <td>NaN</td>\n",
       "      <td>NaN</td>\n",
       "      <td>NaN</td>\n",
       "    </tr>\n",
       "    <tr>\n",
       "      <th>1</th>\n",
       "      <td>7218891961</td>\n",
       "      <td>https://fayar.craigslist.org/ctd/d/bentonville...</td>\n",
       "      <td>fayetteville</td>\n",
       "      <td>https://fayar.craigslist.org</td>\n",
       "      <td>11900.0</td>\n",
       "      <td>NaN</td>\n",
       "      <td>NaN</td>\n",
       "      <td>NaN</td>\n",
       "      <td>NaN</td>\n",
       "      <td>NaN</td>\n",
       "      <td>...</td>\n",
       "      <td>NaN</td>\n",
       "      <td>NaN</td>\n",
       "      <td>NaN</td>\n",
       "      <td>NaN</td>\n",
       "      <td>NaN</td>\n",
       "      <td>NaN</td>\n",
       "      <td>ar</td>\n",
       "      <td>NaN</td>\n",
       "      <td>NaN</td>\n",
       "      <td>NaN</td>\n",
       "    </tr>\n",
       "    <tr>\n",
       "      <th>2</th>\n",
       "      <td>7221797935</td>\n",
       "      <td>https://keys.craigslist.org/cto/d/summerland-k...</td>\n",
       "      <td>florida keys</td>\n",
       "      <td>https://keys.craigslist.org</td>\n",
       "      <td>21000.0</td>\n",
       "      <td>NaN</td>\n",
       "      <td>NaN</td>\n",
       "      <td>NaN</td>\n",
       "      <td>NaN</td>\n",
       "      <td>NaN</td>\n",
       "      <td>...</td>\n",
       "      <td>NaN</td>\n",
       "      <td>NaN</td>\n",
       "      <td>NaN</td>\n",
       "      <td>NaN</td>\n",
       "      <td>NaN</td>\n",
       "      <td>NaN</td>\n",
       "      <td>fl</td>\n",
       "      <td>NaN</td>\n",
       "      <td>NaN</td>\n",
       "      <td>NaN</td>\n",
       "    </tr>\n",
       "    <tr>\n",
       "      <th>3</th>\n",
       "      <td>7222270760</td>\n",
       "      <td>https://worcester.craigslist.org/cto/d/west-br...</td>\n",
       "      <td>worcester / central MA</td>\n",
       "      <td>https://worcester.craigslist.org</td>\n",
       "      <td>1500.0</td>\n",
       "      <td>NaN</td>\n",
       "      <td>NaN</td>\n",
       "      <td>NaN</td>\n",
       "      <td>NaN</td>\n",
       "      <td>NaN</td>\n",
       "      <td>...</td>\n",
       "      <td>NaN</td>\n",
       "      <td>NaN</td>\n",
       "      <td>NaN</td>\n",
       "      <td>NaN</td>\n",
       "      <td>NaN</td>\n",
       "      <td>NaN</td>\n",
       "      <td>ma</td>\n",
       "      <td>NaN</td>\n",
       "      <td>NaN</td>\n",
       "      <td>NaN</td>\n",
       "    </tr>\n",
       "    <tr>\n",
       "      <th>4</th>\n",
       "      <td>7210384030</td>\n",
       "      <td>https://greensboro.craigslist.org/cto/d/trinit...</td>\n",
       "      <td>greensboro</td>\n",
       "      <td>https://greensboro.craigslist.org</td>\n",
       "      <td>4900.0</td>\n",
       "      <td>NaN</td>\n",
       "      <td>NaN</td>\n",
       "      <td>NaN</td>\n",
       "      <td>NaN</td>\n",
       "      <td>NaN</td>\n",
       "      <td>...</td>\n",
       "      <td>NaN</td>\n",
       "      <td>NaN</td>\n",
       "      <td>NaN</td>\n",
       "      <td>NaN</td>\n",
       "      <td>NaN</td>\n",
       "      <td>NaN</td>\n",
       "      <td>nc</td>\n",
       "      <td>NaN</td>\n",
       "      <td>NaN</td>\n",
       "      <td>NaN</td>\n",
       "    </tr>\n",
       "  </tbody>\n",
       "</table>\n",
       "<p>5 rows × 25 columns</p>\n",
       "</div>"
      ],
      "text/plain": [
       "           id                                                url  \\\n",
       "0  7222695916  https://prescott.craigslist.org/cto/d/prescott...   \n",
       "1  7218891961  https://fayar.craigslist.org/ctd/d/bentonville...   \n",
       "2  7221797935  https://keys.craigslist.org/cto/d/summerland-k...   \n",
       "3  7222270760  https://worcester.craigslist.org/cto/d/west-br...   \n",
       "4  7210384030  https://greensboro.craigslist.org/cto/d/trinit...   \n",
       "\n",
       "                   region                         region_url    price  year  \\\n",
       "0                prescott    https://prescott.craigslist.org   6000.0   NaN   \n",
       "1            fayetteville       https://fayar.craigslist.org  11900.0   NaN   \n",
       "2            florida keys        https://keys.craigslist.org  21000.0   NaN   \n",
       "3  worcester / central MA   https://worcester.craigslist.org   1500.0   NaN   \n",
       "4              greensboro  https://greensboro.craigslist.org   4900.0   NaN   \n",
       "\n",
       "  manufacturer model condition cylinders  ... drive  size type paint_color  \\\n",
       "0          NaN   NaN       NaN       NaN  ...   NaN   NaN  NaN         NaN   \n",
       "1          NaN   NaN       NaN       NaN  ...   NaN   NaN  NaN         NaN   \n",
       "2          NaN   NaN       NaN       NaN  ...   NaN   NaN  NaN         NaN   \n",
       "3          NaN   NaN       NaN       NaN  ...   NaN   NaN  NaN         NaN   \n",
       "4          NaN   NaN       NaN       NaN  ...   NaN   NaN  NaN         NaN   \n",
       "\n",
       "  image_url description state lat long posting_date  \n",
       "0       NaN         NaN    az NaN  NaN          NaN  \n",
       "1       NaN         NaN    ar NaN  NaN          NaN  \n",
       "2       NaN         NaN    fl NaN  NaN          NaN  \n",
       "3       NaN         NaN    ma NaN  NaN          NaN  \n",
       "4       NaN         NaN    nc NaN  NaN          NaN  \n",
       "\n",
       "[5 rows x 25 columns]"
      ]
     },
     "execution_count": 15,
     "metadata": {},
     "output_type": "execute_result"
    }
   ],
   "source": [
    "# The column is not going to be useful therefore it is safe to just drop it\n",
    "df_2.drop('county', axis=1, inplace=True)\n",
    "df_2.head()"
   ]
  },
  {
   "cell_type": "markdown",
   "metadata": {},
   "source": [
    "County dealt with"
   ]
  },
  {
   "cell_type": "markdown",
   "metadata": {},
   "source": [
    "The 'year' column is the first column that shows it has NaN values so lets take a deeper dive into the column"
   ]
  },
  {
   "cell_type": "code",
   "execution_count": 16,
   "metadata": {
    "scrolled": true
   },
   "outputs": [
    {
     "data": {
      "text/plain": [
       "2018.0    31248\n",
       "2017.0    31229\n",
       "2013.0    27950\n",
       "2015.0    27462\n",
       "2016.0    26741\n",
       "          ...  \n",
       "1915.0        1\n",
       "1913.0        1\n",
       "1909.0        1\n",
       "1905.0        1\n",
       "1918.0        1\n",
       "Name: year, Length: 112, dtype: int64"
      ]
     },
     "execution_count": 16,
     "metadata": {},
     "output_type": "execute_result"
    }
   ],
   "source": [
    "df_2['year'].value_counts()"
   ]
  },
  {
   "cell_type": "code",
   "execution_count": 17,
   "metadata": {},
   "outputs": [
    {
     "data": {
      "text/plain": [
       "1900.0"
      ]
     },
     "execution_count": 17,
     "metadata": {},
     "output_type": "execute_result"
    }
   ],
   "source": [
    "# Checking the oldest car\n",
    "df_2['year'].min()"
   ]
  },
  {
   "cell_type": "code",
   "execution_count": 18,
   "metadata": {},
   "outputs": [
    {
     "data": {
      "text/plain": [
       "2022.0"
      ]
     },
     "execution_count": 18,
     "metadata": {},
     "output_type": "execute_result"
    }
   ],
   "source": [
    "# Checking newest car\n",
    "df_2.year.max()"
   ]
  },
  {
   "cell_type": "code",
   "execution_count": 19,
   "metadata": {
    "scrolled": true
   },
   "outputs": [
    {
     "name": "stdout",
     "output_type": "stream",
     "text": [
      "[nan, 1900.0, 1901.0, 1905.0, 1909.0, 1910.0, 1913.0, 1915.0, 1916.0, 1918.0, 1920.0, 1921.0, 1922.0, 1923.0, 1924.0, 1925.0, 1926.0, 1927.0, 1928.0, 1929.0, 1930.0, 1931.0, 1932.0, 1933.0, 1934.0, 1935.0, 1936.0, 1937.0, 1938.0, 1939.0, 1940.0, 1941.0, 1942.0, 1943.0, 1944.0, 1945.0, 1946.0, 1947.0, 1948.0, 1949.0, 1950.0, 1951.0, 1952.0, 1953.0, 1954.0, 1955.0, 1956.0, 1957.0, 1958.0, 1959.0, 1960.0, 1961.0, 1962.0, 1963.0, 1964.0, 1965.0, 1966.0, 1967.0, 1968.0, 1969.0, 1970.0, 1971.0, 1972.0, 1973.0, 1974.0, 1975.0, 1976.0, 1977.0, 1978.0, 1979.0, 1980.0, 1981.0, 1982.0, 1983.0, 1984.0, 1985.0, 1986.0, 1987.0, 1988.0, 1989.0, 1990.0, 1991.0, 1992.0, 1993.0, 1994.0, 1995.0, 1996.0, 1997.0, 1998.0, 1999.0, 2000.0, 2001.0, 2002.0, 2003.0, 2004.0, 2005.0, 2006.0, 2007.0, 2008.0, 2009.0, 2010.0, 2011.0, 2012.0, 2013.0, 2014.0, 2015.0, 2016.0, 2017.0, 2018.0, 2019.0, 2020.0, 2021.0, 2022.0]\n"
     ]
    }
   ],
   "source": [
    "# Making a sorted list of all the years of the cars represented in the dataset\n",
    "unique_years = df_2['year'].unique()\n",
    "print(sorted(unique_years))"
   ]
  },
  {
   "cell_type": "markdown",
   "metadata": {},
   "source": [
    "Barring a couple of years in the early 1900's, the dataset seems to have nearly every year in the 20th century and all years that have occured in the 21st century."
   ]
  },
  {
   "cell_type": "code",
   "execution_count": 20,
   "metadata": {
    "scrolled": false
   },
   "outputs": [
    {
     "data": {
      "text/plain": [
       "2018.0    0.081612\n",
       "2017.0    0.081562\n",
       "2013.0    0.072998\n",
       "2015.0    0.071724\n",
       "2016.0    0.069841\n",
       "            ...   \n",
       "1915.0    0.000003\n",
       "1913.0    0.000003\n",
       "1909.0    0.000003\n",
       "1905.0    0.000003\n",
       "1918.0    0.000003\n",
       "Name: year, Length: 112, dtype: float64"
      ]
     },
     "execution_count": 20,
     "metadata": {},
     "output_type": "execute_result"
    }
   ],
   "source": [
    "df_2.year.value_counts(normalize=True)\n",
    "# most of the cars stated year is within the past 6 years"
   ]
  },
  {
   "cell_type": "markdown",
   "metadata": {},
   "source": [
    "From the method above we somewhat see that most of the years of the cars listed in the dataset are from the past 6 years."
   ]
  },
  {
   "cell_type": "code",
   "execution_count": 21,
   "metadata": {},
   "outputs": [
    {
     "name": "stderr",
     "output_type": "stream",
     "text": [
      "C:\\Users\\roger\\anaconda3\\envs\\learn-env\\lib\\site-packages\\seaborn\\_decorators.py:36: FutureWarning: Pass the following variable as a keyword arg: x. From version 0.12, the only valid positional argument will be `data`, and passing other arguments without an explicit keyword will result in an error or misinterpretation.\n",
      "  warnings.warn(\n"
     ]
    },
    {
     "data": {
      "image/png": "[encoded data removed]",
      "text/plain": [
       "<Figure size 432x288 with 1 Axes>"
      ]
     },
     "metadata": {},
     "output_type": "display_data"
    }
   ],
   "source": [
    "# Creating a visual to see the distribution of the years in the dataset.\n",
    "p=sns.boxplot(df_2.year) #grabbing the years from the dataframe\n",
    "p.set(xlabel = 'Car Year ', title='Year Distribution') #Seeting labels\n",
    "sns.set_style(\"dark\");"
   ]
  },
  {
   "cell_type": "markdown",
   "metadata": {},
   "source": [
    "From the boxplot above we are seeing most of the interquartile data falls in after the year 2000 and the mean falls a bit before the 2020."
   ]
  },
  {
   "cell_type": "markdown",
   "metadata": {},
   "source": [
    "Want to remove some of the lower outliers that exist in the year column so will first look for the top 90% of the years in the dataset."
   ]
  },
  {
   "cell_type": "code",
   "execution_count": 22,
   "metadata": {},
   "outputs": [
    {
     "data": {
      "text/plain": [
       "(2003.0, 2022.0)"
      ]
     },
     "execution_count": 22,
     "metadata": {},
     "output_type": "execute_result"
    }
   ],
   "source": [
    "df_top_years = df_2.copy()\n",
    "df_top_years['year'] = df_top_years['year'][df_top_years['year'].between(df_top_years['year'].quantile(.1), df_top_years['year'].quantile(1),inclusive=True)]\n",
    "df_top_years.year.min(), df_top_years.year.max()"
   ]
  },
  {
   "cell_type": "markdown",
   "metadata": {},
   "source": [
    "We come to see that the lower end of starting years for cars that we should be looking at is after the year 2002. Anything prior could mess up the data."
   ]
  },
  {
   "cell_type": "markdown",
   "metadata": {},
   "source": [
    "## Making new Dataframe with limited amount of years. "
   ]
  },
  {
   "cell_type": "code",
   "execution_count": 23,
   "metadata": {},
   "outputs": [],
   "source": [
    "# grabbing only values with years greater than 2002\n",
    "df_limited_years= df_2.loc[df_2['year'] >2002].copy()"
   ]
  },
  {
   "cell_type": "code",
   "execution_count": 24,
   "metadata": {},
   "outputs": [
    {
     "data": {
      "text/plain": [
       "id                   0\n",
       "url                  0\n",
       "region               0\n",
       "region_url           0\n",
       "price                0\n",
       "year                 0\n",
       "manufacturer     10234\n",
       "model             2530\n",
       "condition       133836\n",
       "cylinders       144503\n",
       "fuel              2226\n",
       "odometer          2050\n",
       "title_status      7004\n",
       "transmission      1645\n",
       "VIN             120074\n",
       "drive           105630\n",
       "size            253876\n",
       "type             69704\n",
       "paint_color     101144\n",
       "image_url            0\n",
       "description          2\n",
       "state                0\n",
       "lat               3283\n",
       "long              3283\n",
       "posting_date         0\n",
       "dtype: int64"
      ]
     },
     "execution_count": 24,
     "metadata": {},
     "output_type": "execute_result"
    }
   ],
   "source": [
    "# Seeing the amount of NaN values within the remaining dataset.\n",
    "df_limited_years.isna().sum()"
   ]
  },
  {
   "cell_type": "markdown",
   "metadata": {},
   "source": [
    "Now that two key columns have been dealt with it is time to start looking at the rest of the dataset and to find ways for the empty values to be filled in."
   ]
  },
  {
   "cell_type": "markdown",
   "metadata": {},
   "source": [
    "## Attempts on filling NaN values using the model column"
   ]
  },
  {
   "cell_type": "code",
   "execution_count": 25,
   "metadata": {},
   "outputs": [],
   "source": [
    "# A new df is being made with all the rows where the condition column does not have an NaN value.\n",
    "df_condition = df_limited_years.loc[df_limited_years['condition'].notna()].copy()\n",
    "# Taking the df above and focusing on where the 'model' column also doesn't have any NaN values.\n",
    "df_model_and_condition = df_condition.loc[df_condition['model'].notna()].copy()\n",
    "# Making an empty dictionary\n",
    "condition_dict = {}\n",
    "# This for loop will grab all the associated values of model and condition of the vehicle and save it within the dictionary \n",
    "# above\n",
    "for a, b in df_model_and_condition[['model', 'condition']].values:\n",
    "    condition_dict[a] = b\n",
    "# Here with the dictionary above it will run through the 'condition' column and fill out missing values with appropiate ones\n",
    "# found within the made dictionary above\n",
    "df_limited_years['condition'] = df_limited_years.apply(lambda x: x['condition'] if pd.isna(x['model']) or pd.notna(x['condition']) else condition_dict[x['model']] if x['model'] in condition_dict.keys() else x['condition'], axis=1)"
   ]
  },
  {
   "cell_type": "code",
   "execution_count": 26,
   "metadata": {
    "scrolled": true
   },
   "outputs": [
    {
     "data": {
      "text/plain": [
       "id                   0\n",
       "url                  0\n",
       "region               0\n",
       "region_url           0\n",
       "price                0\n",
       "year                 0\n",
       "manufacturer     10234\n",
       "model             2530\n",
       "condition        17764\n",
       "cylinders       144503\n",
       "fuel              2226\n",
       "odometer          2050\n",
       "title_status      7004\n",
       "transmission      1645\n",
       "VIN             120074\n",
       "drive           105630\n",
       "size            253876\n",
       "type             69704\n",
       "paint_color     101144\n",
       "image_url            0\n",
       "description          2\n",
       "state                0\n",
       "lat               3283\n",
       "long              3283\n",
       "posting_date         0\n",
       "dtype: int64"
      ]
     },
     "execution_count": 26,
     "metadata": {},
     "output_type": "execute_result"
    }
   ],
   "source": [
    "# We see that it filled in 116,072 NaN values within the 'condition' column\n",
    "df_limited_years.isna().sum()"
   ]
  },
  {
   "cell_type": "code",
   "execution_count": 27,
   "metadata": {},
   "outputs": [],
   "source": [
    "# Will do same procedure as abpve with the 'cylinders' column\n",
    "df_cylinders = df_limited_years.loc[df_limited_years['cylinders'].notna()].copy()\n",
    "\n",
    "df_cylinders_model = df_cylinders.loc[df_cylinders['model'].notna()].copy()\n",
    "\n",
    "cylinders_dictionary = {}\n",
    "\n",
    "for c, d in df_cylinders_model[['model', 'cylinders']].values:\n",
    "    cylinders_dictionary[c] = d\n",
    "df_limited_years['cylinders'] = df_limited_years.apply( lambda x: x['cylinders'] if pd.isna( x['model'] ) or pd.notna( x['cylinders'] ) else cylinders_dictionary[x['model']] if x['model'] in cylinders_dictionary.keys() else x['cylinders'], axis=1)"
   ]
  },
  {
   "cell_type": "code",
   "execution_count": 28,
   "metadata": {},
   "outputs": [
    {
     "data": {
      "text/plain": [
       "id                   0\n",
       "url                  0\n",
       "region               0\n",
       "region_url           0\n",
       "price                0\n",
       "year                 0\n",
       "manufacturer     10234\n",
       "model             2530\n",
       "condition        17764\n",
       "cylinders        34854\n",
       "fuel              2226\n",
       "odometer          2050\n",
       "title_status      7004\n",
       "transmission      1645\n",
       "VIN             120074\n",
       "drive           105630\n",
       "size            253876\n",
       "type             69704\n",
       "paint_color     101144\n",
       "image_url            0\n",
       "description          2\n",
       "state                0\n",
       "lat               3283\n",
       "long              3283\n",
       "posting_date         0\n",
       "dtype: int64"
      ]
     },
     "execution_count": 28,
     "metadata": {},
     "output_type": "execute_result"
    }
   ],
   "source": [
    "df_limited_years.isna().sum()\n",
    "# 109,649 NaN values filled in"
   ]
  },
  {
   "cell_type": "code",
   "execution_count": 29,
   "metadata": {},
   "outputs": [],
   "source": [
    "# Same procedure as down above\n",
    "df_manufacturer = df_limited_years.loc[df_limited_years['manufacturer'].notna()].copy()\n",
    "df_manufacturer_model = df_manufacturer.loc[df_manufacturer['model'].notna()].copy()\n",
    "manufacturer_dictionary = {}\n",
    "for e, f in df_manufacturer_model[['model', 'manufacturer']].values:\n",
    "    manufacturer_dictionary[e] = f\n",
    "df_limited_years['manufacturer'] = df_limited_years.apply( lambda x: x['manufacturer'] if pd.isna( x['model'] ) or pd.notna( x['manufacturer'] ) else manufacturer_dictionary[x['model']] if x['model'] in manufacturer_dictionary.keys() else x['manufacturer'], axis=1)"
   ]
  },
  {
   "cell_type": "code",
   "execution_count": 30,
   "metadata": {
    "scrolled": true
   },
   "outputs": [
    {
     "data": {
      "text/plain": [
       "id                   0\n",
       "url                  0\n",
       "region               0\n",
       "region_url           0\n",
       "price                0\n",
       "year                 0\n",
       "manufacturer      9789\n",
       "model             2530\n",
       "condition        17764\n",
       "cylinders        34854\n",
       "fuel              2226\n",
       "odometer          2050\n",
       "title_status      7004\n",
       "transmission      1645\n",
       "VIN             120074\n",
       "drive           105630\n",
       "size            253876\n",
       "type             69704\n",
       "paint_color     101144\n",
       "image_url            0\n",
       "description          2\n",
       "state                0\n",
       "lat               3283\n",
       "long              3283\n",
       "posting_date         0\n",
       "dtype: int64"
      ]
     },
     "execution_count": 30,
     "metadata": {},
     "output_type": "execute_result"
    }
   ],
   "source": [
    "df_limited_years.isna().sum()\n",
    "# 445 NaN values filled in"
   ]
  },
  {
   "cell_type": "markdown",
   "metadata": {},
   "source": [
    "## Using the groupby function to also fill in NaN values using the model column"
   ]
  },
  {
   "cell_type": "code",
   "execution_count": 31,
   "metadata": {},
   "outputs": [],
   "source": [
    "# A groupy forward fill can be applied here to use the model column to appropiately fill in other columns with missing values\n",
    "df_limited_years['cylinders'] = df_limited_years.groupby('model')['cylinders'].ffill()\n",
    "df_limited_years['manufacturer'] = df_limited_years.groupby('model')['manufacturer'].ffill()\n",
    "df_limited_years['fuel']=df_limited_years.groupby('model')['fuel'].ffill()\n",
    "df_limited_years['odometer'] = df_limited_years['odometer'].fillna(df_limited_years.groupby(['year','model'])['odometer'].transform('mean'))\n",
    "df_limited_years['size']= df_limited_years.groupby('model')['size'].ffill()\n",
    "df_limited_years['type']= df_limited_years.groupby('model')['type'].ffill()\n",
    "df_limited_years['manufacturer']= df_limited_years.groupby('model')['manufacturer'].ffill()"
   ]
  },
  {
   "cell_type": "code",
   "execution_count": 32,
   "metadata": {
    "scrolled": true
   },
   "outputs": [
    {
     "data": {
      "text/plain": [
       "id                   0\n",
       "url                  0\n",
       "region               0\n",
       "region_url           0\n",
       "price                0\n",
       "year                 0\n",
       "manufacturer      9789\n",
       "model             2530\n",
       "condition        17764\n",
       "cylinders        33444\n",
       "fuel              1410\n",
       "odometer           392\n",
       "title_status      7004\n",
       "transmission      1645\n",
       "VIN             120074\n",
       "drive           105630\n",
       "size             91605\n",
       "type              9966\n",
       "paint_color     101144\n",
       "image_url            0\n",
       "description          2\n",
       "state                0\n",
       "lat               3283\n",
       "long              3283\n",
       "posting_date         0\n",
       "dtype: int64"
      ]
     },
     "execution_count": 32,
     "metadata": {},
     "output_type": "execute_result"
    }
   ],
   "source": [
    "df_limited_years.isna().sum()\n",
    "# cylinders filled in 1,410 NaN values\n",
    "# condition filled in none\n",
    "# fuel filled in 816 NaN values\n",
    "# odometer with transforming and using the mean filled in 1658\n",
    "# size filled in 162,271 NaN values\n",
    "# type filled in 59,738 NaN values\n",
    "# manufacturer filled in none "
   ]
  },
  {
   "cell_type": "markdown",
   "metadata": {},
   "source": [
    "Above shows how many columns were filled in by the groupby forward fill using the model column. Conceptually it makes sense since most individual models of cars tend to have the same features."
   ]
  },
  {
   "cell_type": "markdown",
   "metadata": {},
   "source": [
    "Manufacturer is a very important column so want to see what car makers are in the column."
   ]
  },
  {
   "cell_type": "code",
   "execution_count": 33,
   "metadata": {},
   "outputs": [
    {
     "data": {
      "text/plain": [
       "['gmc',\n",
       " 'chevrolet',\n",
       " 'toyota',\n",
       " 'ford',\n",
       " 'jeep',\n",
       " 'nissan',\n",
       " 'ram',\n",
       " 'mazda',\n",
       " 'cadillac',\n",
       " 'honda',\n",
       " 'dodge',\n",
       " 'lexus',\n",
       " 'jaguar',\n",
       " 'buick',\n",
       " 'chrysler',\n",
       " 'volvo',\n",
       " 'audi',\n",
       " 'infiniti',\n",
       " 'lincoln',\n",
       " 'alfa-romeo',\n",
       " 'subaru',\n",
       " 'acura',\n",
       " 'hyundai',\n",
       " 'mercedes-benz',\n",
       " 'bmw',\n",
       " 'mitsubishi',\n",
       " 'volkswagen',\n",
       " 'porsche',\n",
       " 'kia',\n",
       " 'rover',\n",
       " 'mini',\n",
       " 'pontiac',\n",
       " 'fiat',\n",
       " 'tesla',\n",
       " 'saturn',\n",
       " 'mercury',\n",
       " 'harley-davidson',\n",
       " 'datsun',\n",
       " 'aston-martin',\n",
       " 'land rover',\n",
       " 'morgan',\n",
       " 'ferrari']"
      ]
     },
     "execution_count": 33,
     "metadata": {},
     "output_type": "execute_result"
    }
   ],
   "source": [
    "unique_manufacturer = df_2['manufacturer'].unique() #Grabbing all the values within the manufacturer column\n",
    "manufacturer_list = list(unique_manufacturer) #saving all the values into a list\n",
    "manufacturer_list =manufacturer_list[1:] #doing this to exclude the NaN value that appears in the list\n",
    "manufacturer_list"
   ]
  },
  {
   "cell_type": "markdown",
   "metadata": {},
   "source": [
    "Seeing there are a variety of car makers from around the world exists in the dataset then it is key to find ways to fill in the column."
   ]
  },
  {
   "cell_type": "markdown",
   "metadata": {
    "scrolled": true
   },
   "source": [
    "As seen in one of the variations of the random sample done above it was determined that when a manufacturers column was empty that the true value could have been found within the description of the vehicle. Threw domain knowledge this carries much ground."
   ]
  },
  {
   "cell_type": "code",
   "execution_count": 34,
   "metadata": {},
   "outputs": [],
   "source": [
    "# Taking in a sample of a description of a row whose manufacturer value is NaN to see if the value is is in the description \n",
    "# column.\n",
    "sample = df_2['description'][97]"
   ]
  },
  {
   "cell_type": "code",
   "execution_count": 35,
   "metadata": {
    "scrolled": true
   },
   "outputs": [
    {
     "data": {
      "text/plain": [
       "4573"
      ]
     },
     "execution_count": 35,
     "metadata": {},
     "output_type": "execute_result"
    }
   ],
   "source": [
    "len(sample)\n",
    "# Checking the length. "
   ]
  },
  {
   "cell_type": "code",
   "execution_count": 36,
   "metadata": {},
   "outputs": [],
   "source": [
    "# Seeing that it is 4573 in length and it contains punction will use regexptokenizer to remove punctions and simply the \n",
    "# sample\n",
    "pattern = \"([a-zA-Z]+(?:'[a-z]+)?)\"\n",
    "tokenizer = RegexpTokenizer(pattern)\n",
    "sample_doc = tokenizer.tokenize(sample)\n",
    "sample_doc = [token.lower() for token in sample_doc]\n",
    "sw =stopwords.words('english')\n",
    "sample_doc = [token for token in sample_doc if token not in sw]"
   ]
  },
  {
   "cell_type": "code",
   "execution_count": 37,
   "metadata": {},
   "outputs": [
    {
     "data": {
      "text/plain": [
       "252"
      ]
     },
     "execution_count": 37,
     "metadata": {},
     "output_type": "execute_result"
    }
   ],
   "source": [
    "len(set(sample_doc))\n",
    "# The length of the sample has decresed to 252 in length making it easier on the machine to run through and search."
   ]
  },
  {
   "cell_type": "code",
   "execution_count": 38,
   "metadata": {},
   "outputs": [
    {
     "data": {
      "text/plain": [
       "list"
      ]
     },
     "execution_count": 38,
     "metadata": {},
     "output_type": "execute_result"
    }
   ],
   "source": [
    "type(sample_doc)"
   ]
  },
  {
   "cell_type": "code",
   "execution_count": 39,
   "metadata": {
    "scrolled": true
   },
   "outputs": [
    {
     "name": "stdout",
     "output_type": "stream",
     "text": [
      "Test Case#1  True\n"
     ]
    }
   ],
   "source": [
    "# Using the function list_contains to see if it true whether the sample doc has at least one of the strings in the\n",
    "# manufacturer list\n",
    "List1 = unique_manufacturer\n",
    "List2 = sample_doc \n",
    "print(\"Test Case#1 \", list_contains(List1, List2)) "
   ]
  },
  {
   "cell_type": "markdown",
   "metadata": {},
   "source": [
    "As we see above we have a true finding of having an empty manufacturer cell in the dataframe having its true value found in the description of the vehicle."
   ]
  },
  {
   "cell_type": "code",
   "execution_count": 40,
   "metadata": {},
   "outputs": [
    {
     "data": {
      "text/plain": [
       "{'toyota'}"
      ]
     },
     "execution_count": 40,
     "metadata": {},
     "output_type": "execute_result"
    }
   ],
   "source": [
    "# Seeing which car maker is within the desciption\n",
    "car = set(unique_manufacturer) & set(sample_doc)\n",
    "car"
   ]
  },
  {
   "cell_type": "markdown",
   "metadata": {},
   "source": [
    "With it proven that the car makers name can be found with the description of the vehicle will now use the description column to help fill out the NaN values within the manufacturer column."
   ]
  },
  {
   "cell_type": "code",
   "execution_count": 41,
   "metadata": {
    "scrolled": false
   },
   "outputs": [
    {
     "data": {
      "text/html": [
       "<div>\n",
       "<style scoped>\n",
       "    .dataframe tbody tr th:only-of-type {\n",
       "        vertical-align: middle;\n",
       "    }\n",
       "\n",
       "    .dataframe tbody tr th {\n",
       "        vertical-align: top;\n",
       "    }\n",
       "\n",
       "    .dataframe thead th {\n",
       "        text-align: right;\n",
       "    }\n",
       "</style>\n",
       "<table border=\"1\" class=\"dataframe\">\n",
       "  <thead>\n",
       "    <tr style=\"text-align: right;\">\n",
       "      <th></th>\n",
       "      <th>description</th>\n",
       "      <th>manufacturer</th>\n",
       "      <th>id</th>\n",
       "    </tr>\n",
       "  </thead>\n",
       "  <tbody>\n",
       "    <tr>\n",
       "      <th>97</th>\n",
       "      <td>Carvana is the safer way to buy a car During t...</td>\n",
       "      <td>NaN</td>\n",
       "      <td>7309271279</td>\n",
       "    </tr>\n",
       "    <tr>\n",
       "      <th>122</th>\n",
       "      <td>2005 Blue Bird 12 window, 72 passenger bus tha...</td>\n",
       "      <td>NaN</td>\n",
       "      <td>7306198330</td>\n",
       "    </tr>\n",
       "    <tr>\n",
       "      <th>135</th>\n",
       "      <td>Carvana is the safer way to buy a car During t...</td>\n",
       "      <td>NaN</td>\n",
       "      <td>7305150004</td>\n",
       "    </tr>\n",
       "    <tr>\n",
       "      <th>155</th>\n",
       "      <td>Carvana is the safer way to buy a car During t...</td>\n",
       "      <td>NaN</td>\n",
       "      <td>7302642422</td>\n",
       "    </tr>\n",
       "    <tr>\n",
       "      <th>220</th>\n",
       "      <td>2006 STERLING ACTERRA GRAPPLE TRUCK PAC-MAC LO...</td>\n",
       "      <td>NaN</td>\n",
       "      <td>7316423933</td>\n",
       "    </tr>\n",
       "  </tbody>\n",
       "</table>\n",
       "</div>"
      ],
      "text/plain": [
       "                                           description manufacturer  \\\n",
       "97   Carvana is the safer way to buy a car During t...          NaN   \n",
       "122  2005 Blue Bird 12 window, 72 passenger bus tha...          NaN   \n",
       "135  Carvana is the safer way to buy a car During t...          NaN   \n",
       "155  Carvana is the safer way to buy a car During t...          NaN   \n",
       "220  2006 STERLING ACTERRA GRAPPLE TRUCK PAC-MAC LO...          NaN   \n",
       "\n",
       "             id  \n",
       "97   7309271279  \n",
       "122  7306198330  \n",
       "135  7305150004  \n",
       "155  7302642422  \n",
       "220  7316423933  "
      ]
     },
     "execution_count": 41,
     "metadata": {},
     "output_type": "execute_result"
    }
   ],
   "source": [
    "# Making a new df where it is grabbing all the rows where the manufacturer is NaN and grabbing its associated description\n",
    "# and id column\n",
    "manu_desc=df_limited_years.loc[df_limited_years['manufacturer'].isna(), ['description','manufacturer', 'id']].copy()\n",
    "manu_desc.head()"
   ]
  },
  {
   "cell_type": "code",
   "execution_count": 42,
   "metadata": {},
   "outputs": [],
   "source": [
    "# Lowercasing and making strings to all the values within the description column since the list of manufacturer are all\n",
    "# lowercase\n",
    "manu_desc['description']=manu_desc['description'].str.lower().str.split()"
   ]
  },
  {
   "cell_type": "code",
   "execution_count": 43,
   "metadata": {
    "scrolled": true
   },
   "outputs": [
    {
     "data": {
      "text/html": [
       "<div>\n",
       "<style scoped>\n",
       "    .dataframe tbody tr th:only-of-type {\n",
       "        vertical-align: middle;\n",
       "    }\n",
       "\n",
       "    .dataframe tbody tr th {\n",
       "        vertical-align: top;\n",
       "    }\n",
       "\n",
       "    .dataframe thead th {\n",
       "        text-align: right;\n",
       "    }\n",
       "</style>\n",
       "<table border=\"1\" class=\"dataframe\">\n",
       "  <thead>\n",
       "    <tr style=\"text-align: right;\">\n",
       "      <th></th>\n",
       "      <th>description</th>\n",
       "      <th>manufacturer</th>\n",
       "      <th>id</th>\n",
       "    </tr>\n",
       "  </thead>\n",
       "  <tbody>\n",
       "    <tr>\n",
       "      <th>97</th>\n",
       "      <td>[carvana, is, the, safer, way, to, buy, a, car...</td>\n",
       "      <td>NaN</td>\n",
       "      <td>7309271279</td>\n",
       "    </tr>\n",
       "    <tr>\n",
       "      <th>122</th>\n",
       "      <td>[2005, blue, bird, 12, window,, 72, passenger,...</td>\n",
       "      <td>NaN</td>\n",
       "      <td>7306198330</td>\n",
       "    </tr>\n",
       "    <tr>\n",
       "      <th>135</th>\n",
       "      <td>[carvana, is, the, safer, way, to, buy, a, car...</td>\n",
       "      <td>NaN</td>\n",
       "      <td>7305150004</td>\n",
       "    </tr>\n",
       "    <tr>\n",
       "      <th>155</th>\n",
       "      <td>[carvana, is, the, safer, way, to, buy, a, car...</td>\n",
       "      <td>NaN</td>\n",
       "      <td>7302642422</td>\n",
       "    </tr>\n",
       "    <tr>\n",
       "      <th>220</th>\n",
       "      <td>[2006, sterling, acterra, grapple, truck, pac-...</td>\n",
       "      <td>NaN</td>\n",
       "      <td>7316423933</td>\n",
       "    </tr>\n",
       "  </tbody>\n",
       "</table>\n",
       "</div>"
      ],
      "text/plain": [
       "                                           description manufacturer  \\\n",
       "97   [carvana, is, the, safer, way, to, buy, a, car...          NaN   \n",
       "122  [2005, blue, bird, 12, window,, 72, passenger,...          NaN   \n",
       "135  [carvana, is, the, safer, way, to, buy, a, car...          NaN   \n",
       "155  [carvana, is, the, safer, way, to, buy, a, car...          NaN   \n",
       "220  [2006, sterling, acterra, grapple, truck, pac-...          NaN   \n",
       "\n",
       "             id  \n",
       "97   7309271279  \n",
       "122  7306198330  \n",
       "135  7305150004  \n",
       "155  7302642422  \n",
       "220  7316423933  "
      ]
     },
     "execution_count": 43,
     "metadata": {},
     "output_type": "execute_result"
    }
   ],
   "source": [
    "# checking to see if it worked\n",
    "manu_desc.head()"
   ]
  },
  {
   "cell_type": "code",
   "execution_count": 44,
   "metadata": {
    "scrolled": false
   },
   "outputs": [],
   "source": [
    "# Now making for loops to run through and fill in an empty list with the common values\n",
    "index_nums=[]\n",
    "m =[]\n",
    "for index, row in manu_desc.iterrows():   #runs through all the rows grabbing the index and the complete value\n",
    "    for manufacturer in manufacturer_list: #runs through the manufacturer list \n",
    "        if manufacturer in row['description']:  #seeing if the value has a common value from the list\n",
    "            index_nums.append(index)        #appending its index to index_nums empty list from above\n",
    "            m.append(manufacturer)          #appending the assocaited values from the list and row "
   ]
  },
  {
   "cell_type": "code",
   "execution_count": 45,
   "metadata": {},
   "outputs": [],
   "source": [
    "# Here was just showing the result of the loop showing that it work. But it is very long and takes up a lot of space on the\n",
    "# repo so it is commented out. For those cloning it down you can uncomment it and look\n",
    "# result = [None]*(len(index_nums)+len(m))\n",
    "# result[::2] = index_nums\n",
    "# result[1::2] =m\n",
    "\n",
    "# for x, y in zip(result[::2], result[1::2]):\n",
    "    \n",
    "#     print(x,y)"
   ]
  },
  {
   "cell_type": "code",
   "execution_count": 46,
   "metadata": {},
   "outputs": [],
   "source": [
    "# Making a new df from the values grabbed from the for loop above to now associate the row with the new value\n",
    "manu_desc_completed = pd.DataFrame(index_nums, columns=['index'])    \n",
    "manu_desc_completed['manufacturer'] = m"
   ]
  },
  {
   "cell_type": "code",
   "execution_count": 47,
   "metadata": {
    "scrolled": true
   },
   "outputs": [
    {
     "data": {
      "text/html": [
       "<div>\n",
       "<style scoped>\n",
       "    .dataframe tbody tr th:only-of-type {\n",
       "        vertical-align: middle;\n",
       "    }\n",
       "\n",
       "    .dataframe tbody tr th {\n",
       "        vertical-align: top;\n",
       "    }\n",
       "\n",
       "    .dataframe thead th {\n",
       "        text-align: right;\n",
       "    }\n",
       "</style>\n",
       "<table border=\"1\" class=\"dataframe\">\n",
       "  <thead>\n",
       "    <tr style=\"text-align: right;\">\n",
       "      <th></th>\n",
       "      <th>index</th>\n",
       "      <th>manufacturer</th>\n",
       "    </tr>\n",
       "  </thead>\n",
       "  <tbody>\n",
       "    <tr>\n",
       "      <th>0</th>\n",
       "      <td>220</td>\n",
       "      <td>gmc</td>\n",
       "    </tr>\n",
       "    <tr>\n",
       "      <th>1</th>\n",
       "      <td>220</td>\n",
       "      <td>ford</td>\n",
       "    </tr>\n",
       "    <tr>\n",
       "      <th>2</th>\n",
       "      <td>601</td>\n",
       "      <td>gmc</td>\n",
       "    </tr>\n",
       "    <tr>\n",
       "      <th>3</th>\n",
       "      <td>696</td>\n",
       "      <td>gmc</td>\n",
       "    </tr>\n",
       "    <tr>\n",
       "      <th>4</th>\n",
       "      <td>696</td>\n",
       "      <td>chevrolet</td>\n",
       "    </tr>\n",
       "    <tr>\n",
       "      <th>5</th>\n",
       "      <td>696</td>\n",
       "      <td>ford</td>\n",
       "    </tr>\n",
       "    <tr>\n",
       "      <th>6</th>\n",
       "      <td>696</td>\n",
       "      <td>nissan</td>\n",
       "    </tr>\n",
       "    <tr>\n",
       "      <th>7</th>\n",
       "      <td>696</td>\n",
       "      <td>dodge</td>\n",
       "    </tr>\n",
       "    <tr>\n",
       "      <th>8</th>\n",
       "      <td>696</td>\n",
       "      <td>mini</td>\n",
       "    </tr>\n",
       "    <tr>\n",
       "      <th>9</th>\n",
       "      <td>787</td>\n",
       "      <td>gmc</td>\n",
       "    </tr>\n",
       "    <tr>\n",
       "      <th>10</th>\n",
       "      <td>787</td>\n",
       "      <td>chevrolet</td>\n",
       "    </tr>\n",
       "    <tr>\n",
       "      <th>11</th>\n",
       "      <td>787</td>\n",
       "      <td>ford</td>\n",
       "    </tr>\n",
       "    <tr>\n",
       "      <th>12</th>\n",
       "      <td>787</td>\n",
       "      <td>ram</td>\n",
       "    </tr>\n",
       "    <tr>\n",
       "      <th>13</th>\n",
       "      <td>787</td>\n",
       "      <td>dodge</td>\n",
       "    </tr>\n",
       "    <tr>\n",
       "      <th>14</th>\n",
       "      <td>794</td>\n",
       "      <td>gmc</td>\n",
       "    </tr>\n",
       "  </tbody>\n",
       "</table>\n",
       "</div>"
      ],
      "text/plain": [
       "    index manufacturer\n",
       "0     220          gmc\n",
       "1     220         ford\n",
       "2     601          gmc\n",
       "3     696          gmc\n",
       "4     696    chevrolet\n",
       "5     696         ford\n",
       "6     696       nissan\n",
       "7     696        dodge\n",
       "8     696         mini\n",
       "9     787          gmc\n",
       "10    787    chevrolet\n",
       "11    787         ford\n",
       "12    787          ram\n",
       "13    787        dodge\n",
       "14    794          gmc"
      ]
     },
     "execution_count": 47,
     "metadata": {},
     "output_type": "execute_result"
    }
   ],
   "source": [
    "manu_desc_completed.head(15)"
   ]
  },
  {
   "cell_type": "code",
   "execution_count": 48,
   "metadata": {
    "scrolled": true
   },
   "outputs": [
    {
     "data": {
      "text/plain": [
       "gmc              869\n",
       "ford             297\n",
       "toyota           228\n",
       "chevrolet        185\n",
       "dodge            105\n",
       "volvo             95\n",
       "hyundai           84\n",
       "honda             83\n",
       "nissan            78\n",
       "chrysler          65\n",
       "jeep              62\n",
       "subaru            49\n",
       "ram               44\n",
       "bmw               42\n",
       "infiniti          42\n",
       "mercedes-benz     41\n",
       "volkswagen        41\n",
       "mini              39\n",
       "mazda             33\n",
       "mitsubishi        30\n",
       "cadillac          27\n",
       "morgan            26\n",
       "lexus             24\n",
       "ferrari           19\n",
       "audi              16\n",
       "lincoln           16\n",
       "pontiac           15\n",
       "acura             15\n",
       "kia               13\n",
       "mercury            5\n",
       "buick              4\n",
       "fiat               4\n",
       "tesla              4\n",
       "saturn             4\n",
       "porsche            4\n",
       "jaguar             4\n",
       "rover              4\n",
       "Name: manufacturer, dtype: int64"
      ]
     },
     "execution_count": 48,
     "metadata": {},
     "output_type": "execute_result"
    }
   ],
   "source": [
    "manu_desc_completed_new=manu_desc_completed.drop_duplicates(subset=['index']) #just grabbing first appearance of whatever\n",
    "# value came from the for loop since cars can have more than one maker\n",
    "manu_desc_completed_new.manufacturer.value_counts()"
   ]
  },
  {
   "cell_type": "code",
   "execution_count": 49,
   "metadata": {},
   "outputs": [
    {
     "data": {
      "text/html": [
       "<div>\n",
       "<style scoped>\n",
       "    .dataframe tbody tr th:only-of-type {\n",
       "        vertical-align: middle;\n",
       "    }\n",
       "\n",
       "    .dataframe tbody tr th {\n",
       "        vertical-align: top;\n",
       "    }\n",
       "\n",
       "    .dataframe thead th {\n",
       "        text-align: right;\n",
       "    }\n",
       "</style>\n",
       "<table border=\"1\" class=\"dataframe\">\n",
       "  <thead>\n",
       "    <tr style=\"text-align: right;\">\n",
       "      <th></th>\n",
       "      <th>index</th>\n",
       "      <th>manufacturer</th>\n",
       "    </tr>\n",
       "  </thead>\n",
       "  <tbody>\n",
       "    <tr>\n",
       "      <th>0</th>\n",
       "      <td>220</td>\n",
       "      <td>gmc</td>\n",
       "    </tr>\n",
       "    <tr>\n",
       "      <th>2</th>\n",
       "      <td>601</td>\n",
       "      <td>gmc</td>\n",
       "    </tr>\n",
       "    <tr>\n",
       "      <th>3</th>\n",
       "      <td>696</td>\n",
       "      <td>gmc</td>\n",
       "    </tr>\n",
       "    <tr>\n",
       "      <th>9</th>\n",
       "      <td>787</td>\n",
       "      <td>gmc</td>\n",
       "    </tr>\n",
       "    <tr>\n",
       "      <th>14</th>\n",
       "      <td>794</td>\n",
       "      <td>gmc</td>\n",
       "    </tr>\n",
       "  </tbody>\n",
       "</table>\n",
       "</div>"
      ],
      "text/plain": [
       "    index manufacturer\n",
       "0     220          gmc\n",
       "2     601          gmc\n",
       "3     696          gmc\n",
       "9     787          gmc\n",
       "14    794          gmc"
      ]
     },
     "execution_count": 49,
     "metadata": {},
     "output_type": "execute_result"
    }
   ],
   "source": [
    "# manu_desc_completed_new.set_index('index',inplace=True ) reseting the index to the index column made above\n",
    "manu_desc_completed_new.head()"
   ]
  },
  {
   "cell_type": "code",
   "execution_count": 50,
   "metadata": {},
   "outputs": [],
   "source": [
    "df_yo= df_limited_years.copy() #making a new df"
   ]
  },
  {
   "cell_type": "code",
   "execution_count": 51,
   "metadata": {
    "scrolled": true
   },
   "outputs": [
    {
     "data": {
      "text/plain": [
       "id                   0\n",
       "url                  0\n",
       "region               0\n",
       "region_url           0\n",
       "price                0\n",
       "year                 0\n",
       "manufacturer      9740\n",
       "model             2530\n",
       "condition        17764\n",
       "cylinders        33444\n",
       "fuel              1410\n",
       "odometer           392\n",
       "title_status      7004\n",
       "transmission      1645\n",
       "VIN             120074\n",
       "drive           105630\n",
       "size             91605\n",
       "type              9966\n",
       "paint_color     101144\n",
       "image_url            0\n",
       "description          2\n",
       "state                0\n",
       "lat               3283\n",
       "long              3283\n",
       "posting_date         0\n",
       "dtype: int64"
      ]
     },
     "execution_count": 51,
     "metadata": {},
     "output_type": "execute_result"
    }
   ],
   "source": [
    "df_yo.update(manu_desc_completed_new)  #Using the the update method to fill in the missing values that were generated from\n",
    "# operations above\n",
    "df_yo.isna().sum()\n",
    "# We see 2,716 NaN values were filled in."
   ]
  },
  {
   "cell_type": "markdown",
   "metadata": {},
   "source": [
    "Seeing that the description column could fill in NaN values for the manufacturer it probably can work for other columns as well. The same steps from the procedure above will be used on other columns that are deemed fit to have this work."
   ]
  },
  {
   "cell_type": "markdown",
   "metadata": {},
   "source": [
    "With the procedure thought process broken down from cell to cell for you the reader to follow what is going on with the example of the manufacturer column we can now just put everything into one cell for future columns. "
   ]
  },
  {
   "cell_type": "code",
   "execution_count": 52,
   "metadata": {},
   "outputs": [
    {
     "data": {
      "text/plain": [
       "id                   0\n",
       "url                  0\n",
       "region               0\n",
       "region_url           0\n",
       "price                0\n",
       "year                 0\n",
       "manufacturer      9740\n",
       "model             2530\n",
       "condition         9894\n",
       "cylinders        33444\n",
       "fuel              1410\n",
       "odometer           392\n",
       "title_status      7004\n",
       "transmission      1645\n",
       "VIN             120074\n",
       "drive           105630\n",
       "size             91605\n",
       "type              9966\n",
       "paint_color     101144\n",
       "image_url            0\n",
       "description          2\n",
       "state                0\n",
       "lat               3283\n",
       "long              3283\n",
       "posting_date         0\n",
       "dtype: int64"
      ]
     },
     "execution_count": 52,
     "metadata": {},
     "output_type": "execute_result"
    }
   ],
   "source": [
    "# Making a list of the condition of the vehicle\n",
    "unique_condition = df_2['condition'].unique()\n",
    "condition_list = list(unique_condition)\n",
    "condition_list =condition_list[1:]\n",
    "# condition_list\n",
    "\n",
    "# New df with all rows of NaN values from condition\n",
    "cond_desc=df_limited_years.loc[df_limited_years['condition'].isna(), ['description','condition', 'id']].copy()\n",
    "\n",
    "cond_desc['description']=cond_desc['description'].str.lower().str.split()\n",
    "# lowering the description column\n",
    "\n",
    "# Grabbing index and value of occurance\n",
    "index_nums2=[]\n",
    "c =[]\n",
    "for index, row in cond_desc.iterrows():\n",
    "    for condition in condition_list:\n",
    "        if condition in row['description']:\n",
    "            index_nums2.append(index)\n",
    "            c.append(condition) \n",
    "\n",
    "# Same as above of it being a printed out version of it working. Leaving it commented it out because list is long and would\n",
    "# clog up this repository\n",
    "# result2 = [None]*(len(index_nums2)+len(c))\n",
    "# result2[::2] = index_nums2\n",
    "# result2[1::2] =c\n",
    "\n",
    "# for x, y in zip(result2[::2], result2[1::2]):\n",
    "    \n",
    "#     print(x,y)            \n",
    "            \n",
    "            \n",
    "# Same procedure of creating a dataframe for the values found within the for loop above\n",
    "cond_desc_completed = pd.DataFrame(index_nums2, columns=['index'])\n",
    "cond_desc_completed['condition'] = c\n",
    "cond_desc_completed_new=cond_desc_completed.drop_duplicates(subset=['index'])\n",
    "cond_desc_completed_new.set_index('index',inplace=True )\n",
    "cond_desc_completed_new.head()\n",
    "\n",
    "df_yo.update(cond_desc_completed_new) #Updating the dataframe\n",
    "df_yo.isna().sum() "
   ]
  },
  {
   "cell_type": "markdown",
   "metadata": {},
   "source": [
    "Below is a comment out attempt to use the description column to fill the cylinders column. This will not work because any number that is found in the description column could be considered as a value for the cylinders. So any phone number or street address could have been applied to the creation of the dataframe that would have been used to update the df_yo"
   ]
  },
  {
   "cell_type": "code",
   "execution_count": 53,
   "metadata": {},
   "outputs": [],
   "source": [
    "# unique_cylinders = df_2['cylinders'].unique()\n",
    "# cylinders_list = list(unique_cylinders)\n",
    "# cylinders_list = cylinders_list[1:]\n",
    "\n",
    "# cyld_desc=df_limited_years.loc[df_limited_years['cylinders'].isna(), ['description','cylinders', 'id']].copy()\n",
    "# cyld_desc['description']=cyld_desc['description'].str.lower().str.split()\n",
    "\n",
    "# ll=[]\n",
    "# cy =[]\n",
    "# for index, row in cyld_desc.iterrows():\n",
    "#     for cylinders in cylinders_list:\n",
    "#         if cylinders in row['description']:\n",
    "#             ll.append(index)\n",
    "#             cy.append(manufacturer)  \n",
    "# result3 = [None]*(len(ll)+len(cy))\n",
    "# result3[::2] = ll\n",
    "# result3[1::2] =cy\n",
    "# result3\n",
    "# # for x, y in zip(result3[::2], result3[1::2]):\n",
    "    \n",
    "# #     print(x,y)"
   ]
  },
  {
   "cell_type": "code",
   "execution_count": 54,
   "metadata": {},
   "outputs": [
    {
     "data": {
      "text/plain": [
       "id                   0\n",
       "url                  0\n",
       "region               0\n",
       "region_url           0\n",
       "price                0\n",
       "year                 0\n",
       "manufacturer      9740\n",
       "model             2530\n",
       "condition         9894\n",
       "cylinders        33444\n",
       "fuel              1215\n",
       "odometer           392\n",
       "title_status      7004\n",
       "transmission      1645\n",
       "VIN             120074\n",
       "drive           105630\n",
       "size             91605\n",
       "type              9966\n",
       "paint_color     101144\n",
       "image_url            0\n",
       "description          2\n",
       "state                0\n",
       "lat               3283\n",
       "long              3283\n",
       "posting_date         0\n",
       "dtype: int64"
      ]
     },
     "execution_count": 54,
     "metadata": {},
     "output_type": "execute_result"
    }
   ],
   "source": [
    "#Same procedure above with grabbing the values in the fuel column and making a list\n",
    "unique_fuel = df_limited_years['fuel'].unique()\n",
    "fuel_list = list(unique_fuel)\n",
    "fuel_list = ['gas', 'diesel', 'hybrid', 'electric']\n",
    "\n",
    "# Same procedure as above where grabbing the rows and columns where the fuel column is empty\n",
    "fuel_desc=df_limited_years.loc[df_limited_years['fuel'].isna(), ['description','fuel', 'id']].copy()\n",
    "fuel_desc['description']=fuel_desc['description'].str.lower().str.split()\n",
    "\n",
    "\n",
    "# Same procedure as above with running a for loop to grab the value and occurance in the dataframe\n",
    "index_nums4=[]\n",
    "f =[]\n",
    "for index, row in fuel_desc.iterrows():\n",
    "    for fuel in fuel_list:\n",
    "        if fuel in row['description']:\n",
    "            index_nums4.append(index)\n",
    "            f.append(fuel)\n",
    "\n",
    "# Same as above of it being a printed out version of it working. Leaving it commented it out because list is long and would\n",
    "# clog up this repository\n",
    "# result4 = [None]*(len(index_nums4)+len(f))\n",
    "# result4[::2] = index_nums4\n",
    "# result4[1::2] =f\n",
    "\n",
    "# for x, y in zip(result4[::2], result4[1::2]):\n",
    "    \n",
    "#     print(x,y)\n",
    "\n",
    "# Same procedure as before with making a new dataframe of the index and their associated value.\n",
    "fuel_desc_completed = pd.DataFrame(index_nums4, columns=['index'])\n",
    "fuel_desc_completed['fuel'] = f\n",
    "fuel_desc_completed_new=fuel_desc_completed.drop_duplicates(subset=['index'])\n",
    "fuel_desc_completed_new.set_index('index',inplace=True )\n",
    "fuel_desc_completed_new.head()\n",
    "\n",
    "\n",
    "df_yo.update(fuel_desc_completed_new) #Updating the dataframe with new found values\n",
    "df_yo.isna().sum() #checking how many NaN that were filled"
   ]
  },
  {
   "cell_type": "code",
   "execution_count": 55,
   "metadata": {},
   "outputs": [
    {
     "data": {
      "text/plain": [
       "id                   0\n",
       "url                  0\n",
       "region               0\n",
       "region_url           0\n",
       "price                0\n",
       "year                 0\n",
       "manufacturer      9740\n",
       "model             2530\n",
       "condition         9894\n",
       "cylinders        33444\n",
       "fuel              1215\n",
       "odometer           392\n",
       "title_status      7004\n",
       "transmission      1158\n",
       "VIN             120074\n",
       "drive           105630\n",
       "size             91605\n",
       "type              9966\n",
       "paint_color     101144\n",
       "image_url            0\n",
       "description          2\n",
       "state                0\n",
       "lat               3283\n",
       "long              3283\n",
       "posting_date         0\n",
       "dtype: int64"
      ]
     },
     "execution_count": 55,
     "metadata": {},
     "output_type": "execute_result"
    }
   ],
   "source": [
    "#Same procedure as before with grabbing the values of the transmission column and saving them into a list\n",
    "unique_transmission = df_limited_years['transmission'].unique()\n",
    "trasnmission_list = list(unique_transmission)\n",
    "transmission_list = ['automatic', 'manual']\n",
    "\n",
    "# Same procdure as before where grabbing the rows and columns where transmission is Nan\n",
    "tran_desc=df_limited_years.loc[df_limited_years['transmission'].isna(), ['description','transmission', 'id']].copy()\n",
    "tran_desc['description']=tran_desc['description'].str.lower().str.split()\n",
    "\n",
    "# Same procedure as above with running a for loop to grab the value and occurance in the dataframe\n",
    "index_nums5=[]\n",
    "t =[]\n",
    "for index, row in tran_desc.iterrows():\n",
    "    for transmission in transmission_list:\n",
    "        if transmission in row['description']:\n",
    "            index_nums5.append(index)\n",
    "            t.append(transmission)  \n",
    "\n",
    "# Same as above of it being a printed out version of it working. Leaving it commented it out because list is long and would\n",
    "# clog up this repository\n",
    "# result5 = [None]*(len(index_nums5)+len(t))\n",
    "# result5[::2] = index_nums5\n",
    "# result5[1::2] =t\n",
    "\n",
    "# for x, y in zip(result5[::2], result5[1::2]):\n",
    "    \n",
    "#     print(x,y)\n",
    "            \n",
    "            \n",
    "# Same procedure as before with making a new dataframe of the index and their associated value.\n",
    "tran_desc_completed = pd.DataFrame(index_nums5, columns=['index'])\n",
    "tran_desc_completed['transmission'] = t\n",
    "tran_desc_completed_new=tran_desc_completed.drop_duplicates(subset=['index'])\n",
    "tran_desc_completed_new.set_index('index',inplace=True )\n",
    "tran_desc_completed_new.head()\n",
    "\n",
    "df_yo.update(tran_desc_completed_new) #updating the dataframe\n",
    "df_yo.isna().sum()"
   ]
  },
  {
   "cell_type": "code",
   "execution_count": 56,
   "metadata": {},
   "outputs": [
    {
     "data": {
      "text/plain": [
       "id                   0\n",
       "url                  0\n",
       "region               0\n",
       "region_url           0\n",
       "price                0\n",
       "year                 0\n",
       "manufacturer      9740\n",
       "model             2530\n",
       "condition         9894\n",
       "cylinders        33444\n",
       "fuel              1215\n",
       "odometer           392\n",
       "title_status      7004\n",
       "transmission      1158\n",
       "VIN             120074\n",
       "drive            93792\n",
       "size             91605\n",
       "type              9966\n",
       "paint_color     101144\n",
       "image_url            0\n",
       "description          2\n",
       "state                0\n",
       "lat               3283\n",
       "long              3283\n",
       "posting_date         0\n",
       "dtype: int64"
      ]
     },
     "execution_count": 56,
     "metadata": {},
     "output_type": "execute_result"
    }
   ],
   "source": [
    "# grabbing the unique values of the drive column and asving them into a list\n",
    "unique_drive = df_limited_years['drive'].unique()\n",
    "drive_list = list(unique_drive)\n",
    "drive_list= drive_list[1:]\n",
    "# drive_list\n",
    "\n",
    "#Same procedure as above where grabbing only rows were drive column is NAN\n",
    "driv_desc=df_limited_years.loc[df_limited_years['drive'].isna(), ['description','drive', 'id']].copy()\n",
    "driv_desc['description']=driv_desc['description'].str.lower().str.split()\n",
    "\n",
    "# driv_desc.isna().sum()\n",
    "# # Seeing if any NaN values exist within the description column because it will interfere with the for loop\n",
    "# # There is and that row will be dropped\n",
    "\n",
    "driv_desc.dropna(subset=['description'], axis=0, inplace=True)\n",
    "# dropping the row\n",
    "\n",
    "# Same procedure as above with running a for loop to grab the value and occurance in the dataframe\n",
    "index_nums6=[]\n",
    "d =[]\n",
    "for index, row in driv_desc.iterrows():\n",
    "    for drive in drive_list:\n",
    "        if drive in row['description']:\n",
    "            index_nums6.append(index)\n",
    "            d.append(drive)  \n",
    "            \n",
    "# Same as above of it being a printed out version of it working. Leaving it commented it out because list is long and would\n",
    "# clog up this repository\n",
    "# result6 = [None]*(len(index_nums6)+len(d))\n",
    "# result6[::2] = index_nums6\n",
    "# result6[1::2] =d\n",
    "\n",
    "# for x, y in zip(result6[::2], result6[1::2]):\n",
    "    \n",
    "#     print(x,y)\n",
    "\n",
    "# Same as procedure above where making a dataframe from the results of the for loop\n",
    "driv_desc_completed = pd.DataFrame(index_nums6, columns=['index'])\n",
    "driv_desc_completed['drive'] = d\n",
    "driv_desc_completed_new=driv_desc_completed.drop_duplicates(subset=['index'])\n",
    "driv_desc_completed_new.set_index('index',inplace=True )\n",
    "# driv_desc_completed_new.head()\n",
    "\n",
    "df_yo.update(driv_desc_completed_new) #updating the dataframe with dataframe made above\n",
    "df_yo.isna().sum() #Chechking NAN values it filled in"
   ]
  },
  {
   "cell_type": "code",
   "execution_count": 57,
   "metadata": {},
   "outputs": [
    {
     "data": {
      "text/plain": [
       "id                   0\n",
       "url                  0\n",
       "region               0\n",
       "region_url           0\n",
       "price                0\n",
       "year                 0\n",
       "manufacturer      9740\n",
       "model             2530\n",
       "condition         9894\n",
       "cylinders        33444\n",
       "fuel              1215\n",
       "odometer           392\n",
       "title_status      7004\n",
       "transmission      1158\n",
       "VIN             120074\n",
       "drive            93792\n",
       "size             88753\n",
       "type              9966\n",
       "paint_color     101144\n",
       "image_url            0\n",
       "description          2\n",
       "state                0\n",
       "lat               3283\n",
       "long              3283\n",
       "posting_date         0\n",
       "dtype: int64"
      ]
     },
     "execution_count": 57,
     "metadata": {},
     "output_type": "execute_result"
    }
   ],
   "source": [
    "# Grabbing the unique values from the size column and saving into a list\n",
    "unique_size = df_limited_years['size'].unique()\n",
    "size_list = list(unique_size)\n",
    "size_list= size_list[1:]\n",
    "# size_list\n",
    "\n",
    "# Same procedure as before with just grabbing the rows where size is NaN\n",
    "size_desc=df_limited_years.loc[df_limited_years['size'].isna(), ['description','size', 'id']].copy()\n",
    "size_desc['description']=size_desc['description'].str.lower().str.split()\n",
    "\n",
    "# Same procedure as above with running a for loop to grab the value and occurance in the dataframe\n",
    "index_nums7=[]\n",
    "s =[]\n",
    "for index, row in size_desc.iterrows():\n",
    "    for size in size_list:\n",
    "        if size in row['description']:\n",
    "            index_nums7.append(index)\n",
    "            s.append(size) \n",
    "\n",
    "            # Same as above of it being a printed out version of it working. Leaving it commented it out because list is long and would\n",
    "# clog up this repository\n",
    "# result7 = [None]*(len(index_nums7)+len(s))\n",
    "# result7[::2] = index_nums7\n",
    "# result7[1::2] =s\n",
    "\n",
    "# for x, y in zip(result7[::2], result7[1::2]):\n",
    "    \n",
    "#     print(x,y)\n",
    "\n",
    "# Same as procedure above where making a dataframe from the results of the for loop\n",
    "size_desc_completed = pd.DataFrame(index_nums7, columns=['index'])\n",
    "size_desc_completed['size'] = s\n",
    "size_desc_completed_new=size_desc_completed.drop_duplicates(subset=['index'])\n",
    "size_desc_completed_new.set_index('index',inplace=True )\n",
    "\n",
    "df_yo.update(size_desc_completed_new) # updating the dataframe with the values found in the dataframe above\n",
    "df_yo.isna().sum() #Checking how many NaN's are filled in"
   ]
  },
  {
   "cell_type": "code",
   "execution_count": 58,
   "metadata": {
    "scrolled": true
   },
   "outputs": [
    {
     "data": {
      "text/plain": [
       "id                   0\n",
       "url                  0\n",
       "region               0\n",
       "region_url           0\n",
       "price                0\n",
       "year                 0\n",
       "manufacturer      9740\n",
       "model             2530\n",
       "condition         9894\n",
       "cylinders        33444\n",
       "fuel              1215\n",
       "odometer           392\n",
       "title_status      7004\n",
       "transmission      1158\n",
       "VIN             120074\n",
       "drive            93792\n",
       "size             88753\n",
       "type              4586\n",
       "paint_color     101144\n",
       "image_url            0\n",
       "description          2\n",
       "state                0\n",
       "lat               3283\n",
       "long              3283\n",
       "posting_date         0\n",
       "dtype: int64"
      ]
     },
     "execution_count": 58,
     "metadata": {},
     "output_type": "execute_result"
    }
   ],
   "source": [
    "#Grabbing the unique values from the type column and saving it into a list\n",
    "unique_type = df_limited_years['type'].unique()\n",
    "type_list = list(unique_type)\n",
    "type_list = ['pickup',\n",
    " 'truck',\n",
    " 'other',\n",
    " 'coupe',\n",
    " 'SUV',\n",
    " 'hatchback',\n",
    " 'mini-van',\n",
    " 'sedan',\n",
    " 'offroad',\n",
    " 'bus',\n",
    " 'convertible',\n",
    " 'wagon',\n",
    " 'van']\n",
    "\n",
    "#Grabbing the rows where type is NAN\n",
    "type_desc=df_limited_years.loc[df_limited_years['type'].isna(), ['description','type', 'id']].copy()\n",
    "type_desc['description']=type_desc['description'].str.lower().str.split()\n",
    "\n",
    "# Same procedure as above with running a for loop to grab the value and occurance in the dataframe\n",
    "index_nums8=[]\n",
    "ty =[]\n",
    "for index, row in type_desc.iterrows():\n",
    "    for types in type_list:\n",
    "        if types in row['description']:\n",
    "            index_nums8.append(index)\n",
    "            ty.append(types)  \n",
    "            \n",
    "# Same as above of it being a printed out version of it working. Leaving it commented it out because list is long and would\n",
    "# clog up this repository\n",
    "# result8 = [None]*(len(index_nums8)+len(ty))\n",
    "# result8[::2] = index_nums8\n",
    "# result8[1::2] =ty\n",
    "\n",
    "# for x, y in zip(result8[::2], result8[1::2]):\n",
    "    \n",
    "#     print(x,y)\n",
    "\n",
    "type_desc_completed = pd.DataFrame(index_nums8, columns=['index'])\n",
    "type_desc_completed['type'] = ty\n",
    "type_desc_completed_new=type_desc_completed.drop_duplicates(subset=['index'])\n",
    "type_desc_completed_new.set_index('index',inplace=True )\n",
    "\n",
    "df_yo.update(type_desc_completed_new)\n",
    "df_yo.isna().sum()"
   ]
  },
  {
   "cell_type": "markdown",
   "metadata": {},
   "source": [
    "After filling in as many NaN values as the dataset allowed we can now begin with finalizing the dataset as to prepare it for modeling."
   ]
  },
  {
   "cell_type": "markdown",
   "metadata": {},
   "source": [
    "Some columns are currently not very useful for the models and due to lack of machine power that the local machine that was used to make this repo it also can't handle their vast amount of unique values. Therefore they will be dropped from the dataset."
   ]
  },
  {
   "cell_type": "code",
   "execution_count": 59,
   "metadata": {
    "scrolled": true
   },
   "outputs": [
    {
     "data": {
      "text/html": [
       "<div>\n",
       "<style scoped>\n",
       "    .dataframe tbody tr th:only-of-type {\n",
       "        vertical-align: middle;\n",
       "    }\n",
       "\n",
       "    .dataframe tbody tr th {\n",
       "        vertical-align: top;\n",
       "    }\n",
       "\n",
       "    .dataframe thead th {\n",
       "        text-align: right;\n",
       "    }\n",
       "</style>\n",
       "<table border=\"1\" class=\"dataframe\">\n",
       "  <thead>\n",
       "    <tr style=\"text-align: right;\">\n",
       "      <th></th>\n",
       "      <th>region</th>\n",
       "      <th>price</th>\n",
       "      <th>year</th>\n",
       "      <th>manufacturer</th>\n",
       "      <th>model</th>\n",
       "      <th>condition</th>\n",
       "      <th>cylinders</th>\n",
       "      <th>fuel</th>\n",
       "      <th>odometer</th>\n",
       "      <th>title_status</th>\n",
       "      <th>transmission</th>\n",
       "      <th>drive</th>\n",
       "      <th>size</th>\n",
       "      <th>type</th>\n",
       "      <th>paint_color</th>\n",
       "      <th>state</th>\n",
       "    </tr>\n",
       "  </thead>\n",
       "  <tbody>\n",
       "    <tr>\n",
       "      <th>27</th>\n",
       "      <td>auburn</td>\n",
       "      <td>33590.0</td>\n",
       "      <td>2014.0</td>\n",
       "      <td>gmc</td>\n",
       "      <td>sierra 1500 crew cab slt</td>\n",
       "      <td>good</td>\n",
       "      <td>8 cylinders</td>\n",
       "      <td>gas</td>\n",
       "      <td>57923.0</td>\n",
       "      <td>clean</td>\n",
       "      <td>other</td>\n",
       "      <td>NaN</td>\n",
       "      <td>NaN</td>\n",
       "      <td>pickup</td>\n",
       "      <td>white</td>\n",
       "      <td>al</td>\n",
       "    </tr>\n",
       "    <tr>\n",
       "      <th>28</th>\n",
       "      <td>auburn</td>\n",
       "      <td>22590.0</td>\n",
       "      <td>2010.0</td>\n",
       "      <td>chevrolet</td>\n",
       "      <td>silverado 1500</td>\n",
       "      <td>good</td>\n",
       "      <td>8 cylinders</td>\n",
       "      <td>gas</td>\n",
       "      <td>71229.0</td>\n",
       "      <td>clean</td>\n",
       "      <td>other</td>\n",
       "      <td>NaN</td>\n",
       "      <td>NaN</td>\n",
       "      <td>pickup</td>\n",
       "      <td>blue</td>\n",
       "      <td>al</td>\n",
       "    </tr>\n",
       "    <tr>\n",
       "      <th>29</th>\n",
       "      <td>auburn</td>\n",
       "      <td>39590.0</td>\n",
       "      <td>2020.0</td>\n",
       "      <td>gmc</td>\n",
       "      <td>silverado 1500 crew</td>\n",
       "      <td>good</td>\n",
       "      <td>8 cylinders</td>\n",
       "      <td>gas</td>\n",
       "      <td>19160.0</td>\n",
       "      <td>clean</td>\n",
       "      <td>other</td>\n",
       "      <td>NaN</td>\n",
       "      <td>NaN</td>\n",
       "      <td>pickup</td>\n",
       "      <td>red</td>\n",
       "      <td>al</td>\n",
       "    </tr>\n",
       "    <tr>\n",
       "      <th>30</th>\n",
       "      <td>auburn</td>\n",
       "      <td>30990.0</td>\n",
       "      <td>2017.0</td>\n",
       "      <td>toyota</td>\n",
       "      <td>tundra double cab sr</td>\n",
       "      <td>good</td>\n",
       "      <td>8 cylinders</td>\n",
       "      <td>gas</td>\n",
       "      <td>41124.0</td>\n",
       "      <td>clean</td>\n",
       "      <td>other</td>\n",
       "      <td>NaN</td>\n",
       "      <td>NaN</td>\n",
       "      <td>pickup</td>\n",
       "      <td>red</td>\n",
       "      <td>al</td>\n",
       "    </tr>\n",
       "    <tr>\n",
       "      <th>31</th>\n",
       "      <td>auburn</td>\n",
       "      <td>15000.0</td>\n",
       "      <td>2013.0</td>\n",
       "      <td>ford</td>\n",
       "      <td>f-150 xlt</td>\n",
       "      <td>excellent</td>\n",
       "      <td>6 cylinders</td>\n",
       "      <td>gas</td>\n",
       "      <td>128000.0</td>\n",
       "      <td>clean</td>\n",
       "      <td>automatic</td>\n",
       "      <td>rwd</td>\n",
       "      <td>full-size</td>\n",
       "      <td>truck</td>\n",
       "      <td>black</td>\n",
       "      <td>al</td>\n",
       "    </tr>\n",
       "  </tbody>\n",
       "</table>\n",
       "</div>"
      ],
      "text/plain": [
       "    region    price    year manufacturer                     model  condition  \\\n",
       "27  auburn  33590.0  2014.0          gmc  sierra 1500 crew cab slt       good   \n",
       "28  auburn  22590.0  2010.0    chevrolet            silverado 1500       good   \n",
       "29  auburn  39590.0  2020.0          gmc       silverado 1500 crew       good   \n",
       "30  auburn  30990.0  2017.0       toyota      tundra double cab sr       good   \n",
       "31  auburn  15000.0  2013.0         ford                 f-150 xlt  excellent   \n",
       "\n",
       "      cylinders fuel  odometer title_status transmission drive       size  \\\n",
       "27  8 cylinders  gas   57923.0        clean        other   NaN        NaN   \n",
       "28  8 cylinders  gas   71229.0        clean        other   NaN        NaN   \n",
       "29  8 cylinders  gas   19160.0        clean        other   NaN        NaN   \n",
       "30  8 cylinders  gas   41124.0        clean        other   NaN        NaN   \n",
       "31  6 cylinders  gas  128000.0        clean    automatic   rwd  full-size   \n",
       "\n",
       "      type paint_color state  \n",
       "27  pickup       white    al  \n",
       "28  pickup        blue    al  \n",
       "29  pickup         red    al  \n",
       "30  pickup         red    al  \n",
       "31   truck       black    al  "
      ]
     },
     "execution_count": 59,
     "metadata": {},
     "output_type": "execute_result"
    }
   ],
   "source": [
    "# Dropping the columns that won't be used in the dataset\n",
    "df_yo.drop(['id', 'url', 'region_url', 'VIN', 'image_url', 'description', 'lat', 'long', 'posting_date'], axis=1, inplace=True)\n",
    "df_yo.head()"
   ]
  },
  {
   "cell_type": "code",
   "execution_count": 60,
   "metadata": {},
   "outputs": [
    {
     "name": "stdout",
     "output_type": "stream",
     "text": [
      "<class 'pandas.core.frame.DataFrame'>\n",
      "Int64Index: 150864 entries, 31 to 426872\n",
      "Data columns (total 16 columns):\n",
      " #   Column        Non-Null Count   Dtype  \n",
      "---  ------        --------------   -----  \n",
      " 0   region        150864 non-null  object \n",
      " 1   price         150864 non-null  float64\n",
      " 2   year          150864 non-null  float64\n",
      " 3   manufacturer  150864 non-null  object \n",
      " 4   model         150864 non-null  object \n",
      " 5   condition     150864 non-null  object \n",
      " 6   cylinders     150864 non-null  object \n",
      " 7   fuel          150864 non-null  object \n",
      " 8   odometer      150864 non-null  float64\n",
      " 9   title_status  150864 non-null  object \n",
      " 10  transmission  150864 non-null  object \n",
      " 11  drive         150864 non-null  object \n",
      " 12  size          150864 non-null  object \n",
      " 13  type          150864 non-null  object \n",
      " 14  paint_color   150864 non-null  object \n",
      " 15  state         150864 non-null  object \n",
      "dtypes: float64(3), object(13)\n",
      "memory usage: 19.6+ MB\n"
     ]
    }
   ],
   "source": [
    "# Making a new df just incase a mistake is made and can be referenced back to.\n",
    "\n",
    "df_yo1 = df_yo.copy()\n",
    "df_yo1.dropna(inplace=True) #Dropping all the rows that contain NaN values within the dataset\n",
    "df_yo1 = df_yo1.loc[df_yo1['odometer'] < 500000] #limiting the amount of cars with odometers less than 500,000\n",
    "df_yo1.info()"
   ]
  },
  {
   "cell_type": "markdown",
   "metadata": {},
   "source": [
    "The curent dataset dropped to 150864 carlistings after heavily cleaning the data. This should be enough to for the predictive models. Currently around 280 thousand less car listings than that of the original dataset but it just shows how tainted the dataset was."
   ]
  },
  {
   "cell_type": "markdown",
   "metadata": {},
   "source": [
    "The dataset below is one that removes the columns with high remaining NAN values that I was un able to fill in. With removing them I get a dataset with far more amount of rows. over 140 thousnad rows. But due to limited computing power the local machine used to create this repo can not handle when the models were tried to be fitted onto this data. Will keep here incase anyone who wants to clone the repo wants more clean data to use."
   ]
  },
  {
   "cell_type": "code",
   "execution_count": 61,
   "metadata": {},
   "outputs": [],
   "source": [
    "df_yo2=df_yo.copy()"
   ]
  },
  {
   "cell_type": "code",
   "execution_count": 62,
   "metadata": {
    "scrolled": false
   },
   "outputs": [
    {
     "name": "stdout",
     "output_type": "stream",
     "text": [
      "<class 'pandas.core.frame.DataFrame'>\n",
      "Int64Index: 290827 entries, 27 to 426878\n",
      "Data columns (total 13 columns):\n",
      " #   Column        Non-Null Count   Dtype  \n",
      "---  ------        --------------   -----  \n",
      " 0   region        290827 non-null  object \n",
      " 1   price         290827 non-null  float64\n",
      " 2   year          290827 non-null  float64\n",
      " 3   manufacturer  290827 non-null  object \n",
      " 4   model         290827 non-null  object \n",
      " 5   condition     290827 non-null  object \n",
      " 6   cylinders     290827 non-null  object \n",
      " 7   fuel          290827 non-null  object \n",
      " 8   odometer      290827 non-null  float64\n",
      " 9   title_status  290827 non-null  object \n",
      " 10  transmission  290827 non-null  object \n",
      " 11  type          290827 non-null  object \n",
      " 12  state         290827 non-null  object \n",
      "dtypes: float64(3), object(10)\n",
      "memory usage: 31.1+ MB\n"
     ]
    }
   ],
   "source": [
    "df_yo2.drop(['drive', 'size', 'paint_color'], axis=1,inplace=True)\n",
    "df_yo2.dropna(inplace=True)\n",
    "df_yo2.info()"
   ]
  },
  {
   "cell_type": "code",
   "execution_count": 63,
   "metadata": {
    "scrolled": true
   },
   "outputs": [
    {
     "data": {
      "text/html": [
       "<div>\n",
       "<style scoped>\n",
       "    .dataframe tbody tr th:only-of-type {\n",
       "        vertical-align: middle;\n",
       "    }\n",
       "\n",
       "    .dataframe tbody tr th {\n",
       "        vertical-align: top;\n",
       "    }\n",
       "\n",
       "    .dataframe thead th {\n",
       "        text-align: right;\n",
       "    }\n",
       "</style>\n",
       "<table border=\"1\" class=\"dataframe\">\n",
       "  <thead>\n",
       "    <tr style=\"text-align: right;\">\n",
       "      <th></th>\n",
       "      <th>region</th>\n",
       "      <th>price</th>\n",
       "      <th>year</th>\n",
       "      <th>manufacturer</th>\n",
       "      <th>model</th>\n",
       "      <th>condition</th>\n",
       "      <th>cylinders</th>\n",
       "      <th>fuel</th>\n",
       "      <th>odometer</th>\n",
       "      <th>title_status</th>\n",
       "      <th>transmission</th>\n",
       "      <th>type</th>\n",
       "      <th>state</th>\n",
       "    </tr>\n",
       "  </thead>\n",
       "  <tbody>\n",
       "    <tr>\n",
       "      <th>27</th>\n",
       "      <td>auburn</td>\n",
       "      <td>33590.0</td>\n",
       "      <td>2014.0</td>\n",
       "      <td>gmc</td>\n",
       "      <td>sierra 1500 crew cab slt</td>\n",
       "      <td>good</td>\n",
       "      <td>8 cylinders</td>\n",
       "      <td>gas</td>\n",
       "      <td>57923.0</td>\n",
       "      <td>clean</td>\n",
       "      <td>other</td>\n",
       "      <td>pickup</td>\n",
       "      <td>al</td>\n",
       "    </tr>\n",
       "    <tr>\n",
       "      <th>28</th>\n",
       "      <td>auburn</td>\n",
       "      <td>22590.0</td>\n",
       "      <td>2010.0</td>\n",
       "      <td>chevrolet</td>\n",
       "      <td>silverado 1500</td>\n",
       "      <td>good</td>\n",
       "      <td>8 cylinders</td>\n",
       "      <td>gas</td>\n",
       "      <td>71229.0</td>\n",
       "      <td>clean</td>\n",
       "      <td>other</td>\n",
       "      <td>pickup</td>\n",
       "      <td>al</td>\n",
       "    </tr>\n",
       "    <tr>\n",
       "      <th>29</th>\n",
       "      <td>auburn</td>\n",
       "      <td>39590.0</td>\n",
       "      <td>2020.0</td>\n",
       "      <td>gmc</td>\n",
       "      <td>silverado 1500 crew</td>\n",
       "      <td>good</td>\n",
       "      <td>8 cylinders</td>\n",
       "      <td>gas</td>\n",
       "      <td>19160.0</td>\n",
       "      <td>clean</td>\n",
       "      <td>other</td>\n",
       "      <td>pickup</td>\n",
       "      <td>al</td>\n",
       "    </tr>\n",
       "    <tr>\n",
       "      <th>30</th>\n",
       "      <td>auburn</td>\n",
       "      <td>30990.0</td>\n",
       "      <td>2017.0</td>\n",
       "      <td>toyota</td>\n",
       "      <td>tundra double cab sr</td>\n",
       "      <td>good</td>\n",
       "      <td>8 cylinders</td>\n",
       "      <td>gas</td>\n",
       "      <td>41124.0</td>\n",
       "      <td>clean</td>\n",
       "      <td>other</td>\n",
       "      <td>pickup</td>\n",
       "      <td>al</td>\n",
       "    </tr>\n",
       "    <tr>\n",
       "      <th>31</th>\n",
       "      <td>auburn</td>\n",
       "      <td>15000.0</td>\n",
       "      <td>2013.0</td>\n",
       "      <td>ford</td>\n",
       "      <td>f-150 xlt</td>\n",
       "      <td>excellent</td>\n",
       "      <td>6 cylinders</td>\n",
       "      <td>gas</td>\n",
       "      <td>128000.0</td>\n",
       "      <td>clean</td>\n",
       "      <td>automatic</td>\n",
       "      <td>truck</td>\n",
       "      <td>al</td>\n",
       "    </tr>\n",
       "  </tbody>\n",
       "</table>\n",
       "</div>"
      ],
      "text/plain": [
       "    region    price    year manufacturer                     model  condition  \\\n",
       "27  auburn  33590.0  2014.0          gmc  sierra 1500 crew cab slt       good   \n",
       "28  auburn  22590.0  2010.0    chevrolet            silverado 1500       good   \n",
       "29  auburn  39590.0  2020.0          gmc       silverado 1500 crew       good   \n",
       "30  auburn  30990.0  2017.0       toyota      tundra double cab sr       good   \n",
       "31  auburn  15000.0  2013.0         ford                 f-150 xlt  excellent   \n",
       "\n",
       "      cylinders fuel  odometer title_status transmission    type state  \n",
       "27  8 cylinders  gas   57923.0        clean        other  pickup    al  \n",
       "28  8 cylinders  gas   71229.0        clean        other  pickup    al  \n",
       "29  8 cylinders  gas   19160.0        clean        other  pickup    al  \n",
       "30  8 cylinders  gas   41124.0        clean        other  pickup    al  \n",
       "31  6 cylinders  gas  128000.0        clean    automatic   truck    al  "
      ]
     },
     "execution_count": 63,
     "metadata": {},
     "output_type": "execute_result"
    }
   ],
   "source": [
    "df_yo2.head()"
   ]
  },
  {
   "cell_type": "markdown",
   "metadata": {},
   "source": [
    "## One Hot Encoding Categorical Variables"
   ]
  },
  {
   "cell_type": "markdown",
   "metadata": {},
   "source": [
    "To make the dataset fully ready for modeling the categorical variables have to be one hot encoded to as to make dummy columns where the value within the column is 1 or 0. 1 being that row has that column as a value and 0 saying that row doesn't have a column for a value."
   ]
  },
  {
   "cell_type": "code",
   "execution_count": 64,
   "metadata": {},
   "outputs": [],
   "source": [
    "# Applying the onehotencoder function that is stated at the top of the notebook to one hot encode the categoricals and\n",
    "# save them into variables\n",
    "\n",
    "\n",
    "# a = onehotencoder('region' , df_yo1)   curently commented out because too many columns are created from it\n",
    "b = onehotencoder('manufacturer' , df_yo1)\n",
    "# c = onehotencoder('model' , df_yo1)    too messy of a column therefore will be left out\n",
    "d = onehotencoder('condition' , df_yo1)\n",
    "e = onehotencoder('cylinders' , df_yo1)\n",
    "f = onehotencoder('fuel' , df_yo1)\n",
    "g = onehotencoder('title_status' , df_yo1)\n",
    "h = onehotencoder('transmission' , df_yo1)\n",
    "i = onehotencoder('drive' , df_yo1)\n",
    "j = onehotencoder('size' , df_yo1)\n",
    "k = onehotencoder('type', df_yo1)\n",
    "l = onehotencoder('paint_color' , df_yo1)\n",
    "m = onehotencoder('state', df_yo1)"
   ]
  },
  {
   "cell_type": "code",
   "execution_count": 65,
   "metadata": {},
   "outputs": [],
   "source": [
    "# e3 =(2022-df_yo1['year'].mean())/df_yo1['year'].std()\n",
    "# e3,df_yo1['year'].mean(),df_yo1['year'].std()"
   ]
  },
  {
   "cell_type": "code",
   "execution_count": 66,
   "metadata": {},
   "outputs": [],
   "source": [
    "# df_yo1['odometer'].mean(), df_yo1['odometer'].std(), df_yo1['odometer'].max()"
   ]
  },
  {
   "cell_type": "markdown",
   "metadata": {
    "scrolled": true
   },
   "source": [
    "## Making final df for modeling"
   ]
  },
  {
   "cell_type": "code",
   "execution_count": 67,
   "metadata": {},
   "outputs": [],
   "source": [
    "# concating all the variables that contain all the one hot encoded column names\n",
    "df_final1 = pd.concat([df_yo1,b,d,e,f,g,h,i,j,k,l,m], axis=1)\n",
    "df_final1.drop(['drive','region', 'manufacturer', 'condition', 'cylinders', 'fuel', 'title_status', 'transmission', 'size', 'type', 'state', 'paint_color'], axis=1, inplace=True)\n",
    "# Dropping the original categorical columns"
   ]
  },
  {
   "cell_type": "markdown",
   "metadata": {},
   "source": [
    "With the remaining columns, the integer/float columns, it is best practice to scale them as for their values to not sway the data. Also best practice to log price."
   ]
  },
  {
   "cell_type": "code",
   "execution_count": 68,
   "metadata": {},
   "outputs": [],
   "source": [
    "# Scaling the year column\n",
    "col_ss = ['year']  #saving the year column into col_ss\n",
    "ss = StandardScaler()  #instantiating standard scaler and saving it into ss\n",
    "Scaled = ss.fit_transform(df_final1[col_ss])    #fitting and transforming with standard scaler the year column and saving it within the Scaled variable \n",
    "Scaled = pd.DataFrame(Scaled, index=df_final1.index) # Taking the scaled version of the year column and turning it into a dataframe\n",
    "Scaled.columns = col_ss  #making the column name of the Scaled dataframe to year\n",
    "df_final1['year'] = Scaled['year']    # making the scaled versions of the year into the values within df_final1\n",
    "\n",
    "#Scaling odometer column\n",
    "col_sss = ['odometer'] #saving the ododmeter column into col_sss\n",
    "Scaledd = ss.fit_transform(df_final1[col_sss]) #fitting and transforming with standard scaler the year column and saving it within the Scaled variable \n",
    "Scaledd = pd.DataFrame(Scaledd, index=df_final1.index) # Taking the scaled version of the odometer column and turning it into a dataframe\n",
    "Scaledd.columns = col_sss  #making the column name of the Scaled dataframe to odometer\n",
    "df_final1['odometer'] = Scaledd['odometer'] # making the scaled version of the odometer into the values within df_final1\n",
    "\n",
    "df_final1['price'] = np.log(df_final1['price']) #using the loging method to log price and save it in the df_final1\n"
   ]
  },
  {
   "cell_type": "markdown",
   "metadata": {},
   "source": [
    "Modeling will be done within the modeling notebook therefore have to save the final df into a pickle file to be able to bring up in other notebooks"
   ]
  },
  {
   "cell_type": "code",
   "execution_count": 69,
   "metadata": {},
   "outputs": [],
   "source": [
    "# Saving the df into a pickle file\n",
    "with open('cars.pkl', 'wb') as carpickle:\n",
    "    pickle.dump(df_final1,carpickle)"
   ]
  },
  {
   "cell_type": "markdown",
   "metadata": {},
   "source": [
    "# Predicting New Data"
   ]
  },
  {
   "cell_type": "markdown",
   "metadata": {},
   "source": [
    "As to see the model in practice new data in the form of one singular vehicle will be predicted using the model."
   ]
  },
  {
   "cell_type": "code",
   "execution_count": 81,
   "metadata": {},
   "outputs": [
    {
     "name": "stdout",
     "output_type": "stream",
     "text": [
      "The prediction of the price of the car with limited features is [34665.42500574]\n",
      "The prediction of the price of the car with all features is [6470.41077062]\n"
     ]
    }
   ],
   "source": [
    "# load in model\n",
    "model_prediction =pickle.load(open('car_price_predictor_model.sav', 'rb'))\n",
    "#Creating a new df where it it without the target and model column\n",
    "X_test = df_final1.drop(['price','model'], axis=1)\n",
    "\n",
    "# Scaling down the inputs for the year and odometer the  value minus the mean all divided by the standard deviation of the\n",
    "# column\n",
    "year_audi = (2020-2012.4205045603987)/4.4768709628937495\n",
    "odometer_audi = (15000-102836.53701866485)/57728.5872305997\n",
    "\n",
    "# Making a prediction only using a couple of features of the car. Them being its manufacturer, year and odometer number\n",
    "#creating a dictionary with the column names and their values\n",
    "inputs = {'year':year_audi,\"odometer\":odometer_audi, \"manufacturer_audi\":1} \n",
    "# making an empty dataframe with columns from X_test to append the dictionary to\n",
    "input_data = pd.DataFrame(columns=X_test.columns)\n",
    "#appending the dictionary to the input_data dataframe\n",
    "input_data = input_data.append(inputs, ignore_index=True)\n",
    "#Filling in all the NaN values to dataframe with 0's as to let the model predict the value\n",
    "input_data = input_data.fillna(0)\n",
    "#Predicting the value\n",
    "print(f'The prediction of the price of the car with limited features is {np.exp(model_prediction.predict(input_data))}')\n",
    "\n",
    "#Making a prediction using all of the cars features\n",
    "#Creating a dataframe with all associated car features\n",
    "inputss = {'year':year_audi, \"odometer\":odometer_audi, \"manufacturer_audi\":1, \"condition_new\":1, \"cylinders_4 cylinders\":1, \"fuel_gas\":1, \"title_status_clean\":1, \"transmission_automatic\":1, \"type_sedan\":1, \"paint_color_white\":1, \"state_ny\":1 }\n",
    "#Creating empty dataframe with columns from X_test\n",
    "input_dataa = pd.DataFrame(columns=X_test.columns)\n",
    "#appending the dictionary to the input_dataa dataframe\n",
    "input_dataa = input_dataa.append(inputss, ignore_index=True)\n",
    "# Filling all NaN values to the dataframe with 0's as to let the model predeict the value\n",
    "input_dataa = input_dataa.fillna(0)\n",
    "\n",
    "print(f'The prediction of the price of the car with all features is {np.exp(model_prediction.predict(input_dataa))}')"
   ]
  },
  {
   "cell_type": "markdown",
   "metadata": {},
   "source": [
    "### Observations"
   ]
  },
  {
   "cell_type": "markdown",
   "metadata": {},
   "source": [
    "When the model was given limited information of the vehicle it was able to give a fairly accurate prediction of the price. But when nearly all the information of the vehicle was put into the model it vastly undervalued the vehicle. This can mean that the model doesn't perform well when too much information is given to it."
   ]
  },
  {
   "cell_type": "markdown",
   "metadata": {},
   "source": [
    "# Conclusions"
   ]
  },
  {
   "cell_type": "markdown",
   "metadata": {},
   "source": [
    "After many forms and attempts and clean this heavily mucky dataset from Kaggle it is come down that what was left over wasn't enough to allow the models to trainwell enough to acheive proper predictions. As seen in the predictions section of this notebook, the model isn't predicting well to new data. When given all the features in the datset it vastly underperforms. With the model having an RSME of 3724.54 it is way to high of a number in reference to the range of the values of the prices within the dataset. The model can either predict well over the price therefore having the buyer spend way too much for a car or way too low and having the seller lose out on profits. Currently the model needs more work and it is currently not in a position to be used by the public. "
   ]
  },
  {
   "cell_type": "code",
   "execution_count": null,
   "metadata": {},
   "outputs": [],
   "source": []
  }
 ],
 "metadata": {
  "kernelspec": {
   "display_name": "Python (learn-env)",
   "language": "python",
   "name": "learn-env"
  },
  "language_info": {
   "codemirror_mode": {
    "name": "ipython",
    "version": 3
   },
   "file_extension": ".py",
   "mimetype": "text/x-python",
   "name": "python",
   "nbconvert_exporter": "python",
   "pygments_lexer": "ipython3",
   "version": "3.8.5"
  }
 },
 "nbformat": 4,
 "nbformat_minor": 4
}
