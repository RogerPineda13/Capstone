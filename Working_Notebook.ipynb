{
 "cells": [
  {
   "cell_type": "markdown",
   "metadata": {},
   "source": [
    "# This is all over the place, don't worry will be fixed"
   ]
  },
  {
   "cell_type": "code",
   "execution_count": 1,
   "metadata": {},
   "outputs": [],
   "source": [
    "import pandas as pd\n",
    "import numpy as np\n",
    "import seaborn as sns\n",
    "import os\n",
    "import sys\n",
    "module_path = os.path.abspath(os.path.join(os.pardir, os.pardir))\n",
    "if module_path not in sys.path:\n",
    "    sys.path.append(module_path)\n",
    "\n",
    "import nltk\n",
    "from nltk.probability import FreqDist\n",
    "from nltk.corpus import stopwords\n",
    "from nltk.tokenize import regexp_tokenize, word_tokenize, RegexpTokenizer\n",
    "from nltk.corpus import wordnet\n",
    "import matplotlib.pyplot as plt\n",
    "import string\n",
    "import re\n",
    "\n",
    "from sklearn.feature_extraction.text import CountVectorizer, TfidfVectorizer,\\\n",
    "HashingVectorizer\n",
    "%matplotlib inline"
   ]
  },
  {
   "cell_type": "markdown",
   "metadata": {},
   "source": [
    "Loading in the data"
   ]
  },
  {
   "cell_type": "code",
   "execution_count": 2,
   "metadata": {},
   "outputs": [],
   "source": [
    "df= pd.read_csv('CraigslistCars.csv')"
   ]
  },
  {
   "cell_type": "code",
   "execution_count": 3,
   "metadata": {
    "scrolled": false
   },
   "outputs": [],
   "source": [
    "df_1 = df.copy()"
   ]
  },
  {
   "cell_type": "code",
   "execution_count": null,
   "metadata": {
    "scrolled": false
   },
   "outputs": [],
   "source": [
    "df_1.head()\n",
    "# visually seeing the first 5 rows of the raw dataset"
   ]
  },
  {
   "cell_type": "markdown",
   "metadata": {},
   "source": [
    "From the first few lines we are seeing that there are many rows that have NaN as a value within a column."
   ]
  },
  {
   "cell_type": "code",
   "execution_count": null,
   "metadata": {
    "scrolled": true
   },
   "outputs": [],
   "source": [
    "# Will take a random sample of a row to see if an arbritrary row will also follow suit of the first 5 rows by having \n",
    "# multiple NaN values\n",
    "df_1.sample()"
   ]
  },
  {
   "cell_type": "markdown",
   "metadata": {},
   "source": [
    "As you may possibly see above at least one column could have a NaN value in a row."
   ]
  },
  {
   "cell_type": "code",
   "execution_count": null,
   "metadata": {
    "scrolled": false
   },
   "outputs": [],
   "source": [
    "# Want to see what are the 25 columns that will be dealt with. Also will see which should be the target for this dataset\n",
    "df_1.columns"
   ]
  },
  {
   "cell_type": "markdown",
   "metadata": {},
   "source": [
    "Seeing that within the dataset that price exists and therefore should be a solid target to predict."
   ]
  },
  {
   "cell_type": "code",
   "execution_count": null,
   "metadata": {},
   "outputs": [],
   "source": [
    "# Seeing the range of the prices\n",
    "df_1.price.min(), df_1.price.max()"
   ]
  },
  {
   "cell_type": "code",
   "execution_count": null,
   "metadata": {
    "scrolled": false
   },
   "outputs": [],
   "source": [
    "# The range of price within the dataset goes from 0 to 3,736,928,711\n",
    "# Want to check out the years of these vehicles because some older cars have been valued in the millions\n",
    "df_1.loc[df_1['price'] == df_1.price.min(), ['year']], df_1.loc[df_1['price']==df_1.price.max(), ['year']]"
   ]
  },
  {
   "cell_type": "markdown",
   "metadata": {},
   "source": [
    "Seeing that over 30,000 rows have the price of 0 and 2 have the large value it is showing the dataset is far fromm perfect"
   ]
  },
  {
   "cell_type": "markdown",
   "metadata": {},
   "source": [
    "Best way to have the price of 0 not sway modeling later on is to limit price values as well as these strange values that are in the billions. Therefore will take an inner 90% of the data."
   ]
  },
  {
   "cell_type": "code",
   "execution_count": null,
   "metadata": {},
   "outputs": [],
   "source": [
    "df_1['price'] = df_1['price'][df_1['price'].between(df_1['price'].quantile(.085), df_1['price'].quantile(.985),inclusive=True)]\n",
    "df_1.price.min(), df_1.price.max()\n",
    "# shows 100 - 59999 is an inner 90%%"
   ]
  },
  {
   "cell_type": "code",
   "execution_count": null,
   "metadata": {},
   "outputs": [],
   "source": [
    "# Want new df with just price values that range from 100 to 59999"
   ]
  },
  {
   "cell_type": "code",
   "execution_count": 4,
   "metadata": {
    "scrolled": true
   },
   "outputs": [
    {
     "data": {
      "text/plain": [
       "(           id                                                url  \\\n",
       " 0  7222695916  https://prescott.craigslist.org/cto/d/prescott...   \n",
       " 1  7218891961  https://fayar.craigslist.org/ctd/d/bentonville...   \n",
       " 2  7221797935  https://keys.craigslist.org/cto/d/summerland-k...   \n",
       " 3  7222270760  https://worcester.craigslist.org/cto/d/west-br...   \n",
       " 4  7210384030  https://greensboro.craigslist.org/cto/d/trinit...   \n",
       " \n",
       "                    region                         region_url  price  year  \\\n",
       " 0                prescott    https://prescott.craigslist.org   6000   NaN   \n",
       " 1            fayetteville       https://fayar.craigslist.org  11900   NaN   \n",
       " 2            florida keys        https://keys.craigslist.org  21000   NaN   \n",
       " 3  worcester / central MA   https://worcester.craigslist.org   1500   NaN   \n",
       " 4              greensboro  https://greensboro.craigslist.org   4900   NaN   \n",
       " \n",
       "   manufacturer model condition cylinders  ... size  type paint_color  \\\n",
       " 0          NaN   NaN       NaN       NaN  ...  NaN   NaN         NaN   \n",
       " 1          NaN   NaN       NaN       NaN  ...  NaN   NaN         NaN   \n",
       " 2          NaN   NaN       NaN       NaN  ...  NaN   NaN         NaN   \n",
       " 3          NaN   NaN       NaN       NaN  ...  NaN   NaN         NaN   \n",
       " 4          NaN   NaN       NaN       NaN  ...  NaN   NaN         NaN   \n",
       " \n",
       "   image_url description county state lat long posting_date  \n",
       " 0       NaN         NaN    NaN    az NaN  NaN          NaN  \n",
       " 1       NaN         NaN    NaN    ar NaN  NaN          NaN  \n",
       " 2       NaN         NaN    NaN    fl NaN  NaN          NaN  \n",
       " 3       NaN         NaN    NaN    ma NaN  NaN          NaN  \n",
       " 4       NaN         NaN    NaN    nc NaN  NaN          NaN  \n",
       " \n",
       " [5 rows x 26 columns],\n",
       " 383903)"
      ]
     },
     "execution_count": 4,
     "metadata": {},
     "output_type": "execute_result"
    }
   ],
   "source": [
    "# Making new df of just values of cars between 100 and 59,999\n",
    "df_2 = df_1.loc[(df_1['price']>100) & (df_1['price'] <59999)].copy()\n",
    "df_2.head(), len(df_2)"
   ]
  },
  {
   "cell_type": "markdown",
   "metadata": {},
   "source": [
    "# Dealing with all the possible NaN values in the dataset"
   ]
  },
  {
   "cell_type": "code",
   "execution_count": null,
   "metadata": {
    "scrolled": true
   },
   "outputs": [],
   "source": [
    "df_2.isna().sum()"
   ]
  },
  {
   "cell_type": "markdown",
   "metadata": {},
   "source": [
    "year, manufacturer, model, condition, cylinders, fuel, odometer, title_status, transmission, VIN, drive, size, type, paint_color\n",
    "image_url, description, county, state, lat, long, posting_date have Na values and some have around 40% of its rows with NaN values."
   ]
  },
  {
   "cell_type": "code",
   "execution_count": 5,
   "metadata": {},
   "outputs": [
    {
     "data": {
      "text/plain": [
       "Series([], Name: county, dtype: int64)"
      ]
     },
     "execution_count": 5,
     "metadata": {},
     "output_type": "execute_result"
    }
   ],
   "source": [
    "# Checking the 'county' column since it has the most NaN values.\n",
    "df_2['county'].value_counts()\n",
    "# is completely empty"
   ]
  },
  {
   "cell_type": "code",
   "execution_count": 5,
   "metadata": {
    "scrolled": true
   },
   "outputs": [
    {
     "data": {
      "text/html": [
       "<div>\n",
       "<style scoped>\n",
       "    .dataframe tbody tr th:only-of-type {\n",
       "        vertical-align: middle;\n",
       "    }\n",
       "\n",
       "    .dataframe tbody tr th {\n",
       "        vertical-align: top;\n",
       "    }\n",
       "\n",
       "    .dataframe thead th {\n",
       "        text-align: right;\n",
       "    }\n",
       "</style>\n",
       "<table border=\"1\" class=\"dataframe\">\n",
       "  <thead>\n",
       "    <tr style=\"text-align: right;\">\n",
       "      <th></th>\n",
       "      <th>id</th>\n",
       "      <th>url</th>\n",
       "      <th>region</th>\n",
       "      <th>region_url</th>\n",
       "      <th>price</th>\n",
       "      <th>year</th>\n",
       "      <th>manufacturer</th>\n",
       "      <th>model</th>\n",
       "      <th>condition</th>\n",
       "      <th>cylinders</th>\n",
       "      <th>...</th>\n",
       "      <th>drive</th>\n",
       "      <th>size</th>\n",
       "      <th>type</th>\n",
       "      <th>paint_color</th>\n",
       "      <th>image_url</th>\n",
       "      <th>description</th>\n",
       "      <th>state</th>\n",
       "      <th>lat</th>\n",
       "      <th>long</th>\n",
       "      <th>posting_date</th>\n",
       "    </tr>\n",
       "  </thead>\n",
       "  <tbody>\n",
       "    <tr>\n",
       "      <th>0</th>\n",
       "      <td>7222695916</td>\n",
       "      <td>https://prescott.craigslist.org/cto/d/prescott...</td>\n",
       "      <td>prescott</td>\n",
       "      <td>https://prescott.craigslist.org</td>\n",
       "      <td>6000</td>\n",
       "      <td>NaN</td>\n",
       "      <td>NaN</td>\n",
       "      <td>NaN</td>\n",
       "      <td>NaN</td>\n",
       "      <td>NaN</td>\n",
       "      <td>...</td>\n",
       "      <td>NaN</td>\n",
       "      <td>NaN</td>\n",
       "      <td>NaN</td>\n",
       "      <td>NaN</td>\n",
       "      <td>NaN</td>\n",
       "      <td>NaN</td>\n",
       "      <td>az</td>\n",
       "      <td>NaN</td>\n",
       "      <td>NaN</td>\n",
       "      <td>NaN</td>\n",
       "    </tr>\n",
       "    <tr>\n",
       "      <th>1</th>\n",
       "      <td>7218891961</td>\n",
       "      <td>https://fayar.craigslist.org/ctd/d/bentonville...</td>\n",
       "      <td>fayetteville</td>\n",
       "      <td>https://fayar.craigslist.org</td>\n",
       "      <td>11900</td>\n",
       "      <td>NaN</td>\n",
       "      <td>NaN</td>\n",
       "      <td>NaN</td>\n",
       "      <td>NaN</td>\n",
       "      <td>NaN</td>\n",
       "      <td>...</td>\n",
       "      <td>NaN</td>\n",
       "      <td>NaN</td>\n",
       "      <td>NaN</td>\n",
       "      <td>NaN</td>\n",
       "      <td>NaN</td>\n",
       "      <td>NaN</td>\n",
       "      <td>ar</td>\n",
       "      <td>NaN</td>\n",
       "      <td>NaN</td>\n",
       "      <td>NaN</td>\n",
       "    </tr>\n",
       "    <tr>\n",
       "      <th>2</th>\n",
       "      <td>7221797935</td>\n",
       "      <td>https://keys.craigslist.org/cto/d/summerland-k...</td>\n",
       "      <td>florida keys</td>\n",
       "      <td>https://keys.craigslist.org</td>\n",
       "      <td>21000</td>\n",
       "      <td>NaN</td>\n",
       "      <td>NaN</td>\n",
       "      <td>NaN</td>\n",
       "      <td>NaN</td>\n",
       "      <td>NaN</td>\n",
       "      <td>...</td>\n",
       "      <td>NaN</td>\n",
       "      <td>NaN</td>\n",
       "      <td>NaN</td>\n",
       "      <td>NaN</td>\n",
       "      <td>NaN</td>\n",
       "      <td>NaN</td>\n",
       "      <td>fl</td>\n",
       "      <td>NaN</td>\n",
       "      <td>NaN</td>\n",
       "      <td>NaN</td>\n",
       "    </tr>\n",
       "    <tr>\n",
       "      <th>3</th>\n",
       "      <td>7222270760</td>\n",
       "      <td>https://worcester.craigslist.org/cto/d/west-br...</td>\n",
       "      <td>worcester / central MA</td>\n",
       "      <td>https://worcester.craigslist.org</td>\n",
       "      <td>1500</td>\n",
       "      <td>NaN</td>\n",
       "      <td>NaN</td>\n",
       "      <td>NaN</td>\n",
       "      <td>NaN</td>\n",
       "      <td>NaN</td>\n",
       "      <td>...</td>\n",
       "      <td>NaN</td>\n",
       "      <td>NaN</td>\n",
       "      <td>NaN</td>\n",
       "      <td>NaN</td>\n",
       "      <td>NaN</td>\n",
       "      <td>NaN</td>\n",
       "      <td>ma</td>\n",
       "      <td>NaN</td>\n",
       "      <td>NaN</td>\n",
       "      <td>NaN</td>\n",
       "    </tr>\n",
       "    <tr>\n",
       "      <th>4</th>\n",
       "      <td>7210384030</td>\n",
       "      <td>https://greensboro.craigslist.org/cto/d/trinit...</td>\n",
       "      <td>greensboro</td>\n",
       "      <td>https://greensboro.craigslist.org</td>\n",
       "      <td>4900</td>\n",
       "      <td>NaN</td>\n",
       "      <td>NaN</td>\n",
       "      <td>NaN</td>\n",
       "      <td>NaN</td>\n",
       "      <td>NaN</td>\n",
       "      <td>...</td>\n",
       "      <td>NaN</td>\n",
       "      <td>NaN</td>\n",
       "      <td>NaN</td>\n",
       "      <td>NaN</td>\n",
       "      <td>NaN</td>\n",
       "      <td>NaN</td>\n",
       "      <td>nc</td>\n",
       "      <td>NaN</td>\n",
       "      <td>NaN</td>\n",
       "      <td>NaN</td>\n",
       "    </tr>\n",
       "  </tbody>\n",
       "</table>\n",
       "<p>5 rows × 25 columns</p>\n",
       "</div>"
      ],
      "text/plain": [
       "           id                                                url  \\\n",
       "0  7222695916  https://prescott.craigslist.org/cto/d/prescott...   \n",
       "1  7218891961  https://fayar.craigslist.org/ctd/d/bentonville...   \n",
       "2  7221797935  https://keys.craigslist.org/cto/d/summerland-k...   \n",
       "3  7222270760  https://worcester.craigslist.org/cto/d/west-br...   \n",
       "4  7210384030  https://greensboro.craigslist.org/cto/d/trinit...   \n",
       "\n",
       "                   region                         region_url  price  year  \\\n",
       "0                prescott    https://prescott.craigslist.org   6000   NaN   \n",
       "1            fayetteville       https://fayar.craigslist.org  11900   NaN   \n",
       "2            florida keys        https://keys.craigslist.org  21000   NaN   \n",
       "3  worcester / central MA   https://worcester.craigslist.org   1500   NaN   \n",
       "4              greensboro  https://greensboro.craigslist.org   4900   NaN   \n",
       "\n",
       "  manufacturer model condition cylinders  ... drive  size type paint_color  \\\n",
       "0          NaN   NaN       NaN       NaN  ...   NaN   NaN  NaN         NaN   \n",
       "1          NaN   NaN       NaN       NaN  ...   NaN   NaN  NaN         NaN   \n",
       "2          NaN   NaN       NaN       NaN  ...   NaN   NaN  NaN         NaN   \n",
       "3          NaN   NaN       NaN       NaN  ...   NaN   NaN  NaN         NaN   \n",
       "4          NaN   NaN       NaN       NaN  ...   NaN   NaN  NaN         NaN   \n",
       "\n",
       "  image_url description state lat long posting_date  \n",
       "0       NaN         NaN    az NaN  NaN          NaN  \n",
       "1       NaN         NaN    ar NaN  NaN          NaN  \n",
       "2       NaN         NaN    fl NaN  NaN          NaN  \n",
       "3       NaN         NaN    ma NaN  NaN          NaN  \n",
       "4       NaN         NaN    nc NaN  NaN          NaN  \n",
       "\n",
       "[5 rows x 25 columns]"
      ]
     },
     "execution_count": 5,
     "metadata": {},
     "output_type": "execute_result"
    }
   ],
   "source": [
    "# The column is not going to be useful therefore it is safe to just drop it\n",
    "df_2.drop('county', axis=1, inplace=True)\n",
    "df_2.head()"
   ]
  },
  {
   "cell_type": "markdown",
   "metadata": {},
   "source": [
    "County dealt with"
   ]
  },
  {
   "cell_type": "markdown",
   "metadata": {},
   "source": [
    "The 'year' column is the first column that shows it has NaN values so lets take a deeper dive into the column"
   ]
  },
  {
   "cell_type": "code",
   "execution_count": null,
   "metadata": {
    "scrolled": true
   },
   "outputs": [],
   "source": [
    "df_2['year'].value_counts()"
   ]
  },
  {
   "cell_type": "code",
   "execution_count": null,
   "metadata": {},
   "outputs": [],
   "source": [
    "# Checking the oldest car\n",
    "df_2['year'].min()"
   ]
  },
  {
   "cell_type": "code",
   "execution_count": null,
   "metadata": {},
   "outputs": [],
   "source": [
    "# Checking newest car\n",
    "df_2.year.max()"
   ]
  },
  {
   "cell_type": "code",
   "execution_count": null,
   "metadata": {
    "scrolled": false
   },
   "outputs": [],
   "source": [
    "# Making a sorted list of all the years of the cars represented in the dataset\n",
    "unique_years = df_2['year'].unique()\n",
    "print(sorted(unique_years))"
   ]
  },
  {
   "cell_type": "markdown",
   "metadata": {},
   "source": [
    "Barring a couple of years in the early 1900's, the dataset seems to have nearly every year in the 20th century and all years that have occured in the 21st century."
   ]
  },
  {
   "cell_type": "code",
   "execution_count": null,
   "metadata": {},
   "outputs": [],
   "source": [
    "df_2.year.value_counts(normalize=True)"
   ]
  },
  {
   "cell_type": "code",
   "execution_count": null,
   "metadata": {},
   "outputs": [],
   "source": [
    "df_top_years = df_2.copy()\n",
    "df_top_years['year'] = df_top_years['year'][df_top_years['year'].between(df_top_years['year'].quantile(.1), df_top_years['year'].quantile(1),inclusive=True)]\n",
    "df_top_years.year.min(), df_top_years.year.max()"
   ]
  },
  {
   "cell_type": "code",
   "execution_count": 6,
   "metadata": {},
   "outputs": [],
   "source": [
    "df_limited_years= df_2.loc[df_2['year'] >2002].copy()"
   ]
  },
  {
   "cell_type": "code",
   "execution_count": null,
   "metadata": {},
   "outputs": [],
   "source": [
    "df_limited_years.year.value_counts()"
   ]
  },
  {
   "cell_type": "code",
   "execution_count": null,
   "metadata": {},
   "outputs": [],
   "source": [
    "df_limited_years.isna().sum()"
   ]
  },
  {
   "cell_type": "markdown",
   "metadata": {},
   "source": [
    "Other columns"
   ]
  },
  {
   "cell_type": "code",
   "execution_count": 7,
   "metadata": {},
   "outputs": [],
   "source": [
    "df_condition = df_limited_years.loc[df_limited_years['condition'].notna()].copy()\n",
    "df_model_and_condition = df_condition.loc[df_condition['model'].notna()].copy()\n",
    "condition_dict = {}\n",
    "for a, b in df_model_and_condition[['model', 'condition']].values:\n",
    "    condition_dict[a] = b"
   ]
  },
  {
   "cell_type": "code",
   "execution_count": 8,
   "metadata": {
    "scrolled": true
   },
   "outputs": [],
   "source": [
    "df_limited_years['condition'] = df_limited_years.apply(lambda x: x['condition'] if pd.isna(x['model']) or pd.notna(x['condition']) else condition_dict[x['model']] if x['model'] in condition_dict.keys() else x['condition'], axis=1)"
   ]
  },
  {
   "cell_type": "code",
   "execution_count": 9,
   "metadata": {},
   "outputs": [
    {
     "data": {
      "text/plain": [
       "id                   0\n",
       "url                  0\n",
       "region               0\n",
       "region_url           0\n",
       "price                0\n",
       "year                 0\n",
       "manufacturer     10234\n",
       "model             2530\n",
       "condition        17764\n",
       "cylinders       144503\n",
       "fuel              2226\n",
       "odometer          2050\n",
       "title_status      7004\n",
       "transmission      1645\n",
       "VIN             120074\n",
       "drive           105630\n",
       "size            253876\n",
       "type             69704\n",
       "paint_color     101144\n",
       "image_url            0\n",
       "description          2\n",
       "state                0\n",
       "lat               3283\n",
       "long              3283\n",
       "posting_date         0\n",
       "dtype: int64"
      ]
     },
     "execution_count": 9,
     "metadata": {},
     "output_type": "execute_result"
    }
   ],
   "source": [
    "df_limited_years.isna().sum()"
   ]
  },
  {
   "cell_type": "code",
   "execution_count": 10,
   "metadata": {},
   "outputs": [],
   "source": [
    "df_cylinders = df_limited_years.loc[df_limited_years['cylinders'].notna()].copy()\n",
    "df_cylinders_model = df_cylinders.loc[df_cylinders['model'].notna()].copy()\n",
    "cylinders_dictionary = {}\n",
    "for c, d in df_cylinders_model[['model', 'cylinders']].values:\n",
    "    cylinders_dictionary[c] = d"
   ]
  },
  {
   "cell_type": "code",
   "execution_count": 11,
   "metadata": {},
   "outputs": [],
   "source": [
    "df_limited_years['cylinders'] = df_limited_years.apply( lambda x: x['cylinders'] if pd.isna( x['model'] ) or pd.notna( x['cylinders'] ) else cylinders_dictionary[x['model']] if x['model'] in cylinders_dictionary.keys() else x['cylinders'], axis=1)"
   ]
  },
  {
   "cell_type": "code",
   "execution_count": 12,
   "metadata": {},
   "outputs": [],
   "source": [
    "df_manufacturer = df_limited_years.loc[df_limited_years['manufacturer'].notna()].copy()\n",
    "df_manufacturer_model = df_manufacturer.loc[df_manufacturer['model'].notna()].copy()\n",
    "manufacturer_dictionary = {}\n",
    "for e, f in df_manufacturer_model[['model', 'manufacturer']].values:\n",
    "    manufacturer_dictionary[e] = f"
   ]
  },
  {
   "cell_type": "code",
   "execution_count": 13,
   "metadata": {},
   "outputs": [],
   "source": [
    "df_limited_years['manufacturer'] = df_limited_years.apply( lambda x: x['manufacturer'] if pd.isna( x['model'] ) or pd.notna( x['manufacturer'] ) else manufacturer_dictionary[x['model']] if x['model'] in manufacturer_dictionary.keys() else x['manufacturer'], axis=1)"
   ]
  },
  {
   "cell_type": "code",
   "execution_count": 14,
   "metadata": {},
   "outputs": [
    {
     "data": {
      "text/plain": [
       "id                   0\n",
       "url                  0\n",
       "region               0\n",
       "region_url           0\n",
       "price                0\n",
       "year                 0\n",
       "manufacturer      9789\n",
       "model             2530\n",
       "condition        17764\n",
       "cylinders        34854\n",
       "fuel              2226\n",
       "odometer          2050\n",
       "title_status      7004\n",
       "transmission      1645\n",
       "VIN             120074\n",
       "drive           105630\n",
       "size            253876\n",
       "type             69704\n",
       "paint_color     101144\n",
       "image_url            0\n",
       "description          2\n",
       "state                0\n",
       "lat               3283\n",
       "long              3283\n",
       "posting_date         0\n",
       "dtype: int64"
      ]
     },
     "execution_count": 14,
     "metadata": {},
     "output_type": "execute_result"
    }
   ],
   "source": [
    "df_limited_years.isna().sum()"
   ]
  },
  {
   "cell_type": "code",
   "execution_count": 15,
   "metadata": {},
   "outputs": [],
   "source": [
    "df_limited_years['cylinders'] = df_limited_years.groupby('model')['cylinders'].ffill()\n",
    "df_limited_years['manufacturer'] = df_limited_years.groupby('model')['manufacturer'].ffill()\n",
    "df_limited_years['fuel']=df_limited_years.groupby('model')['fuel'].ffill()\n",
    "df_limited_years['odometer'] = df_limited_years['odometer'].fillna(df_limited_years.groupby(['year','model'])['odometer'].transform('mean'))\n",
    "df_limited_years['size']= df_limited_years.groupby('model')['size'].ffill()\n",
    "df_limited_years['type']= df_limited_years.groupby('model')['type'].ffill()\n",
    "df_limited_years['manufacturer']= df_limited_years.groupby('model')['manufacturer'].ffill()"
   ]
  },
  {
   "cell_type": "code",
   "execution_count": null,
   "metadata": {
    "scrolled": true
   },
   "outputs": [],
   "source": [
    "df_limited_years.isna().sum()"
   ]
  },
  {
   "cell_type": "code",
   "execution_count": 16,
   "metadata": {},
   "outputs": [
    {
     "data": {
      "text/plain": [
       "list"
      ]
     },
     "execution_count": 16,
     "metadata": {},
     "output_type": "execute_result"
    }
   ],
   "source": [
    "unique_manufacturer = df_2['manufacturer'].unique()\n",
    "manufacturer_list = list(unique_manufacturer)\n",
    "manufacturer_list =manufacturer_list[1:]\n",
    "type(manufacturer_list)"
   ]
  },
  {
   "cell_type": "code",
   "execution_count": null,
   "metadata": {
    "scrolled": true
   },
   "outputs": [],
   "source": [
    "manufacturer_list"
   ]
  },
  {
   "cell_type": "markdown",
   "metadata": {},
   "source": [
    "Maybe keep these to show how the description had the manufacturer's name"
   ]
  },
  {
   "cell_type": "code",
   "execution_count": null,
   "metadata": {},
   "outputs": [],
   "source": [
    "# need to find a way to fill in missing manufacturers. too many Na's to drop"
   ]
  },
  {
   "cell_type": "code",
   "execution_count": null,
   "metadata": {},
   "outputs": [],
   "source": [
    "# see if any other columns have the manufacturer name \n",
    "# list is in and return true or false"
   ]
  },
  {
   "cell_type": "code",
   "execution_count": null,
   "metadata": {},
   "outputs": [],
   "source": [
    "# sample = df_2['description'][97]"
   ]
  },
  {
   "cell_type": "code",
   "execution_count": null,
   "metadata": {
    "scrolled": true
   },
   "outputs": [],
   "source": [
    "# len(sample)"
   ]
  },
  {
   "cell_type": "code",
   "execution_count": null,
   "metadata": {},
   "outputs": [],
   "source": [
    "# pattern = \"([a-zA-Z]+(?:'[a-z]+)?)\"\n",
    "# tokenizer = RegexpTokenizer(pattern)\n",
    "# sample_doc = tokenizer.tokenize(sample)\n",
    "# sample_doc = [token.lower() for token in sample_doc]\n",
    "# sw =stopwords.words('english')\n",
    "# sample_doc = [token for token in sample_doc if token not in sw]"
   ]
  },
  {
   "cell_type": "code",
   "execution_count": null,
   "metadata": {},
   "outputs": [],
   "source": [
    "# sample_doc"
   ]
  },
  {
   "cell_type": "code",
   "execution_count": null,
   "metadata": {},
   "outputs": [],
   "source": [
    "# len(set(sample_doc))"
   ]
  },
  {
   "cell_type": "code",
   "execution_count": null,
   "metadata": {},
   "outputs": [],
   "source": [
    "# print(set(sample_doc))"
   ]
  },
  {
   "cell_type": "code",
   "execution_count": null,
   "metadata": {},
   "outputs": [],
   "source": [
    "# type(sample_doc)"
   ]
  },
  {
   "cell_type": "code",
   "execution_count": null,
   "metadata": {},
   "outputs": [],
   "source": [
    "# # List1\n",
    "# List1 = unique_manufacturer\n",
    " \n",
    "# # List2\n",
    "# List2 = sample_doc\n",
    "\n",
    "# check =  any(item in List1 for item in List2)\n",
    " \n",
    "# if check is True:\n",
    "#     print(\"The list {} contains all elements of the list {}\".format(List1, List2))    \n",
    "# else :\n",
    "#     print(\"No, List1 doesn't have all elements of the List2.\")"
   ]
  },
  {
   "cell_type": "code",
   "execution_count": null,
   "metadata": {},
   "outputs": [],
   "source": [
    "# def list_contains(List1, List2): \n",
    "#     check = False\n",
    "  \n",
    "#     # Iterate in the 1st list \n",
    "#     for m in List1: \n",
    "  \n",
    "#         # Iterate in the 2nd list \n",
    "#         for n in List2: \n",
    "    \n",
    "#             # if there is a match\n",
    "#             if m == n: \n",
    "#                 check = True\n",
    "#                 return check  \n",
    "                  \n",
    "#     return check \n",
    "      \n",
    "# # Test Case 1\n",
    "# List1 = unique_manufacturer\n",
    "# List2 = sample_doc \n",
    "# print(\"Test Case#1 \", list_contains(List1, List2)) "
   ]
  },
  {
   "cell_type": "code",
   "execution_count": null,
   "metadata": {},
   "outputs": [],
   "source": [
    "# car = set(unique_manufacturer) & set(sample_doc)\n",
    "# car"
   ]
  },
  {
   "cell_type": "code",
   "execution_count": null,
   "metadata": {},
   "outputs": [],
   "source": [
    "# df_2['description']=df_2['description'].str.lower()"
   ]
  },
  {
   "cell_type": "code",
   "execution_count": null,
   "metadata": {},
   "outputs": [],
   "source": [
    "# df_2.sample(10)"
   ]
  },
  {
   "cell_type": "code",
   "execution_count": null,
   "metadata": {},
   "outputs": [],
   "source": []
  },
  {
   "cell_type": "code",
   "execution_count": null,
   "metadata": {},
   "outputs": [],
   "source": [
    "# df_2.sample()"
   ]
  },
  {
   "cell_type": "code",
   "execution_count": null,
   "metadata": {},
   "outputs": [],
   "source": [
    "# df_2['exists'] = df.drop('manufacturer', 1).isin(df['manufacturer']).any(1) \n",
    "# df_2.exists.value_counts()"
   ]
  },
  {
   "cell_type": "code",
   "execution_count": null,
   "metadata": {},
   "outputs": [],
   "source": []
  },
  {
   "cell_type": "code",
   "execution_count": null,
   "metadata": {},
   "outputs": [],
   "source": [
    "# Only 8 cases where the name of the manufacturer's name is mentioned outside of the manufacturers column therefore wan't\n",
    "# able to fill in the Na Values"
   ]
  },
  {
   "cell_type": "code",
   "execution_count": 17,
   "metadata": {
    "scrolled": false
   },
   "outputs": [
    {
     "data": {
      "text/html": [
       "<div>\n",
       "<style scoped>\n",
       "    .dataframe tbody tr th:only-of-type {\n",
       "        vertical-align: middle;\n",
       "    }\n",
       "\n",
       "    .dataframe tbody tr th {\n",
       "        vertical-align: top;\n",
       "    }\n",
       "\n",
       "    .dataframe thead th {\n",
       "        text-align: right;\n",
       "    }\n",
       "</style>\n",
       "<table border=\"1\" class=\"dataframe\">\n",
       "  <thead>\n",
       "    <tr style=\"text-align: right;\">\n",
       "      <th></th>\n",
       "      <th>description</th>\n",
       "      <th>manufacturer</th>\n",
       "      <th>id</th>\n",
       "    </tr>\n",
       "  </thead>\n",
       "  <tbody>\n",
       "    <tr>\n",
       "      <th>97</th>\n",
       "      <td>Carvana is the safer way to buy a car During t...</td>\n",
       "      <td>NaN</td>\n",
       "      <td>7309271279</td>\n",
       "    </tr>\n",
       "    <tr>\n",
       "      <th>122</th>\n",
       "      <td>2005 Blue Bird 12 window, 72 passenger bus tha...</td>\n",
       "      <td>NaN</td>\n",
       "      <td>7306198330</td>\n",
       "    </tr>\n",
       "    <tr>\n",
       "      <th>135</th>\n",
       "      <td>Carvana is the safer way to buy a car During t...</td>\n",
       "      <td>NaN</td>\n",
       "      <td>7305150004</td>\n",
       "    </tr>\n",
       "    <tr>\n",
       "      <th>155</th>\n",
       "      <td>Carvana is the safer way to buy a car During t...</td>\n",
       "      <td>NaN</td>\n",
       "      <td>7302642422</td>\n",
       "    </tr>\n",
       "    <tr>\n",
       "      <th>220</th>\n",
       "      <td>2006 STERLING ACTERRA GRAPPLE TRUCK PAC-MAC LO...</td>\n",
       "      <td>NaN</td>\n",
       "      <td>7316423933</td>\n",
       "    </tr>\n",
       "  </tbody>\n",
       "</table>\n",
       "</div>"
      ],
      "text/plain": [
       "                                           description manufacturer  \\\n",
       "97   Carvana is the safer way to buy a car During t...          NaN   \n",
       "122  2005 Blue Bird 12 window, 72 passenger bus tha...          NaN   \n",
       "135  Carvana is the safer way to buy a car During t...          NaN   \n",
       "155  Carvana is the safer way to buy a car During t...          NaN   \n",
       "220  2006 STERLING ACTERRA GRAPPLE TRUCK PAC-MAC LO...          NaN   \n",
       "\n",
       "             id  \n",
       "97   7309271279  \n",
       "122  7306198330  \n",
       "135  7305150004  \n",
       "155  7302642422  \n",
       "220  7316423933  "
      ]
     },
     "execution_count": 17,
     "metadata": {},
     "output_type": "execute_result"
    }
   ],
   "source": [
    "manu_desc=df_limited_years.loc[df_limited_years['manufacturer'].isna(), ['description','manufacturer', 'id']].copy()\n",
    "manu_desc.head()"
   ]
  },
  {
   "cell_type": "code",
   "execution_count": 18,
   "metadata": {},
   "outputs": [],
   "source": [
    "manu_desc['description']=manu_desc['description'].str.lower().str.split()"
   ]
  },
  {
   "cell_type": "code",
   "execution_count": 19,
   "metadata": {
    "scrolled": true
   },
   "outputs": [
    {
     "data": {
      "text/html": [
       "<div>\n",
       "<style scoped>\n",
       "    .dataframe tbody tr th:only-of-type {\n",
       "        vertical-align: middle;\n",
       "    }\n",
       "\n",
       "    .dataframe tbody tr th {\n",
       "        vertical-align: top;\n",
       "    }\n",
       "\n",
       "    .dataframe thead th {\n",
       "        text-align: right;\n",
       "    }\n",
       "</style>\n",
       "<table border=\"1\" class=\"dataframe\">\n",
       "  <thead>\n",
       "    <tr style=\"text-align: right;\">\n",
       "      <th></th>\n",
       "      <th>description</th>\n",
       "      <th>manufacturer</th>\n",
       "      <th>id</th>\n",
       "    </tr>\n",
       "  </thead>\n",
       "  <tbody>\n",
       "    <tr>\n",
       "      <th>97</th>\n",
       "      <td>[carvana, is, the, safer, way, to, buy, a, car...</td>\n",
       "      <td>NaN</td>\n",
       "      <td>7309271279</td>\n",
       "    </tr>\n",
       "    <tr>\n",
       "      <th>122</th>\n",
       "      <td>[2005, blue, bird, 12, window,, 72, passenger,...</td>\n",
       "      <td>NaN</td>\n",
       "      <td>7306198330</td>\n",
       "    </tr>\n",
       "    <tr>\n",
       "      <th>135</th>\n",
       "      <td>[carvana, is, the, safer, way, to, buy, a, car...</td>\n",
       "      <td>NaN</td>\n",
       "      <td>7305150004</td>\n",
       "    </tr>\n",
       "    <tr>\n",
       "      <th>155</th>\n",
       "      <td>[carvana, is, the, safer, way, to, buy, a, car...</td>\n",
       "      <td>NaN</td>\n",
       "      <td>7302642422</td>\n",
       "    </tr>\n",
       "    <tr>\n",
       "      <th>220</th>\n",
       "      <td>[2006, sterling, acterra, grapple, truck, pac-...</td>\n",
       "      <td>NaN</td>\n",
       "      <td>7316423933</td>\n",
       "    </tr>\n",
       "  </tbody>\n",
       "</table>\n",
       "</div>"
      ],
      "text/plain": [
       "                                           description manufacturer  \\\n",
       "97   [carvana, is, the, safer, way, to, buy, a, car...          NaN   \n",
       "122  [2005, blue, bird, 12, window,, 72, passenger,...          NaN   \n",
       "135  [carvana, is, the, safer, way, to, buy, a, car...          NaN   \n",
       "155  [carvana, is, the, safer, way, to, buy, a, car...          NaN   \n",
       "220  [2006, sterling, acterra, grapple, truck, pac-...          NaN   \n",
       "\n",
       "             id  \n",
       "97   7309271279  \n",
       "122  7306198330  \n",
       "135  7305150004  \n",
       "155  7302642422  \n",
       "220  7316423933  "
      ]
     },
     "execution_count": 19,
     "metadata": {},
     "output_type": "execute_result"
    }
   ],
   "source": [
    "manu_desc.head()"
   ]
  },
  {
   "cell_type": "code",
   "execution_count": 20,
   "metadata": {
    "scrolled": false
   },
   "outputs": [],
   "source": [
    "index_nums=[]\n",
    "m =[]\n",
    "for index, row in manu_desc.iterrows():\n",
    "    for manufacturer in manufacturer_list:\n",
    "        if manufacturer in row['description']:\n",
    "            index_nums.append(index)\n",
    "            m.append(manufacturer)            "
   ]
  },
  {
   "cell_type": "code",
   "execution_count": 21,
   "metadata": {},
   "outputs": [],
   "source": [
    "# result = [None]*(len(index_nums)+len(m))\n",
    "# result[::2] = index_nums\n",
    "# result[1::2] =m\n",
    "\n",
    "# for x, y in zip(result[::2], result[1::2]):\n",
    "    \n",
    "#     print(x,y)\n"
   ]
  },
  {
   "cell_type": "code",
   "execution_count": 22,
   "metadata": {},
   "outputs": [],
   "source": [
    "manu_desc_completed = pd.DataFrame(index_nums, columns=['index'])\n",
    "manu_desc_completed['manufacturer'] = m"
   ]
  },
  {
   "cell_type": "code",
   "execution_count": 23,
   "metadata": {
    "scrolled": true
   },
   "outputs": [
    {
     "data": {
      "text/html": [
       "<div>\n",
       "<style scoped>\n",
       "    .dataframe tbody tr th:only-of-type {\n",
       "        vertical-align: middle;\n",
       "    }\n",
       "\n",
       "    .dataframe tbody tr th {\n",
       "        vertical-align: top;\n",
       "    }\n",
       "\n",
       "    .dataframe thead th {\n",
       "        text-align: right;\n",
       "    }\n",
       "</style>\n",
       "<table border=\"1\" class=\"dataframe\">\n",
       "  <thead>\n",
       "    <tr style=\"text-align: right;\">\n",
       "      <th></th>\n",
       "      <th>index</th>\n",
       "      <th>manufacturer</th>\n",
       "    </tr>\n",
       "  </thead>\n",
       "  <tbody>\n",
       "    <tr>\n",
       "      <th>0</th>\n",
       "      <td>220</td>\n",
       "      <td>gmc</td>\n",
       "    </tr>\n",
       "    <tr>\n",
       "      <th>1</th>\n",
       "      <td>220</td>\n",
       "      <td>ford</td>\n",
       "    </tr>\n",
       "    <tr>\n",
       "      <th>2</th>\n",
       "      <td>601</td>\n",
       "      <td>gmc</td>\n",
       "    </tr>\n",
       "    <tr>\n",
       "      <th>3</th>\n",
       "      <td>696</td>\n",
       "      <td>gmc</td>\n",
       "    </tr>\n",
       "    <tr>\n",
       "      <th>4</th>\n",
       "      <td>696</td>\n",
       "      <td>chevrolet</td>\n",
       "    </tr>\n",
       "    <tr>\n",
       "      <th>5</th>\n",
       "      <td>696</td>\n",
       "      <td>ford</td>\n",
       "    </tr>\n",
       "    <tr>\n",
       "      <th>6</th>\n",
       "      <td>696</td>\n",
       "      <td>nissan</td>\n",
       "    </tr>\n",
       "    <tr>\n",
       "      <th>7</th>\n",
       "      <td>696</td>\n",
       "      <td>dodge</td>\n",
       "    </tr>\n",
       "    <tr>\n",
       "      <th>8</th>\n",
       "      <td>696</td>\n",
       "      <td>mini</td>\n",
       "    </tr>\n",
       "    <tr>\n",
       "      <th>9</th>\n",
       "      <td>787</td>\n",
       "      <td>gmc</td>\n",
       "    </tr>\n",
       "    <tr>\n",
       "      <th>10</th>\n",
       "      <td>787</td>\n",
       "      <td>chevrolet</td>\n",
       "    </tr>\n",
       "    <tr>\n",
       "      <th>11</th>\n",
       "      <td>787</td>\n",
       "      <td>ford</td>\n",
       "    </tr>\n",
       "    <tr>\n",
       "      <th>12</th>\n",
       "      <td>787</td>\n",
       "      <td>ram</td>\n",
       "    </tr>\n",
       "    <tr>\n",
       "      <th>13</th>\n",
       "      <td>787</td>\n",
       "      <td>dodge</td>\n",
       "    </tr>\n",
       "    <tr>\n",
       "      <th>14</th>\n",
       "      <td>794</td>\n",
       "      <td>gmc</td>\n",
       "    </tr>\n",
       "  </tbody>\n",
       "</table>\n",
       "</div>"
      ],
      "text/plain": [
       "    index manufacturer\n",
       "0     220          gmc\n",
       "1     220         ford\n",
       "2     601          gmc\n",
       "3     696          gmc\n",
       "4     696    chevrolet\n",
       "5     696         ford\n",
       "6     696       nissan\n",
       "7     696        dodge\n",
       "8     696         mini\n",
       "9     787          gmc\n",
       "10    787    chevrolet\n",
       "11    787         ford\n",
       "12    787          ram\n",
       "13    787        dodge\n",
       "14    794          gmc"
      ]
     },
     "execution_count": 23,
     "metadata": {},
     "output_type": "execute_result"
    }
   ],
   "source": [
    "manu_desc_completed.head(15)"
   ]
  },
  {
   "cell_type": "code",
   "execution_count": 24,
   "metadata": {
    "scrolled": true
   },
   "outputs": [
    {
     "data": {
      "text/plain": [
       "gmc              869\n",
       "ford             297\n",
       "toyota           228\n",
       "chevrolet        185\n",
       "dodge            105\n",
       "volvo             95\n",
       "hyundai           84\n",
       "honda             83\n",
       "nissan            78\n",
       "chrysler          65\n",
       "jeep              62\n",
       "subaru            49\n",
       "ram               44\n",
       "bmw               42\n",
       "infiniti          42\n",
       "mercedes-benz     41\n",
       "volkswagen        41\n",
       "mini              39\n",
       "mazda             33\n",
       "mitsubishi        30\n",
       "cadillac          27\n",
       "morgan            26\n",
       "lexus             24\n",
       "ferrari           19\n",
       "audi              16\n",
       "lincoln           16\n",
       "pontiac           15\n",
       "acura             15\n",
       "kia               13\n",
       "mercury            5\n",
       "rover              4\n",
       "jaguar             4\n",
       "buick              4\n",
       "tesla              4\n",
       "porsche            4\n",
       "fiat               4\n",
       "saturn             4\n",
       "Name: manufacturer, dtype: int64"
      ]
     },
     "execution_count": 24,
     "metadata": {},
     "output_type": "execute_result"
    }
   ],
   "source": [
    "manu_desc_completed_new=manu_desc_completed.drop_duplicates(subset=['index'])\n",
    "manu_desc_completed_new.manufacturer.value_counts()"
   ]
  },
  {
   "cell_type": "code",
   "execution_count": 25,
   "metadata": {},
   "outputs": [
    {
     "data": {
      "text/html": [
       "<div>\n",
       "<style scoped>\n",
       "    .dataframe tbody tr th:only-of-type {\n",
       "        vertical-align: middle;\n",
       "    }\n",
       "\n",
       "    .dataframe tbody tr th {\n",
       "        vertical-align: top;\n",
       "    }\n",
       "\n",
       "    .dataframe thead th {\n",
       "        text-align: right;\n",
       "    }\n",
       "</style>\n",
       "<table border=\"1\" class=\"dataframe\">\n",
       "  <thead>\n",
       "    <tr style=\"text-align: right;\">\n",
       "      <th></th>\n",
       "      <th>manufacturer</th>\n",
       "    </tr>\n",
       "    <tr>\n",
       "      <th>index</th>\n",
       "      <th></th>\n",
       "    </tr>\n",
       "  </thead>\n",
       "  <tbody>\n",
       "    <tr>\n",
       "      <th>220</th>\n",
       "      <td>gmc</td>\n",
       "    </tr>\n",
       "    <tr>\n",
       "      <th>601</th>\n",
       "      <td>gmc</td>\n",
       "    </tr>\n",
       "    <tr>\n",
       "      <th>696</th>\n",
       "      <td>gmc</td>\n",
       "    </tr>\n",
       "    <tr>\n",
       "      <th>787</th>\n",
       "      <td>gmc</td>\n",
       "    </tr>\n",
       "    <tr>\n",
       "      <th>794</th>\n",
       "      <td>gmc</td>\n",
       "    </tr>\n",
       "  </tbody>\n",
       "</table>\n",
       "</div>"
      ],
      "text/plain": [
       "      manufacturer\n",
       "index             \n",
       "220            gmc\n",
       "601            gmc\n",
       "696            gmc\n",
       "787            gmc\n",
       "794            gmc"
      ]
     },
     "execution_count": 25,
     "metadata": {},
     "output_type": "execute_result"
    }
   ],
   "source": [
    "manu_desc_completed_new.set_index('index',inplace=True )\n",
    "manu_desc_completed_new.head()"
   ]
  },
  {
   "cell_type": "code",
   "execution_count": 26,
   "metadata": {},
   "outputs": [],
   "source": [
    "df_yo= df_limited_years.copy()"
   ]
  },
  {
   "cell_type": "code",
   "execution_count": 27,
   "metadata": {},
   "outputs": [
    {
     "data": {
      "text/plain": [
       "id                   0\n",
       "url                  0\n",
       "region               0\n",
       "region_url           0\n",
       "price                0\n",
       "year                 0\n",
       "manufacturer      7073\n",
       "model             2530\n",
       "condition        17764\n",
       "cylinders        33444\n",
       "fuel              1410\n",
       "odometer           392\n",
       "title_status      7004\n",
       "transmission      1645\n",
       "VIN             120074\n",
       "drive           105630\n",
       "size             91605\n",
       "type              9966\n",
       "paint_color     101144\n",
       "image_url            0\n",
       "description          2\n",
       "state                0\n",
       "lat               3283\n",
       "long              3283\n",
       "posting_date         0\n",
       "dtype: int64"
      ]
     },
     "execution_count": 27,
     "metadata": {},
     "output_type": "execute_result"
    }
   ],
   "source": [
    "df_yo.update(manu_desc_completed_new)\n",
    "df_yo.isna().sum()"
   ]
  },
  {
   "cell_type": "code",
   "execution_count": null,
   "metadata": {
    "scrolled": true
   },
   "outputs": [],
   "source": [
    "df_yo.iloc[170:180]"
   ]
  },
  {
   "cell_type": "code",
   "execution_count": 28,
   "metadata": {},
   "outputs": [
    {
     "data": {
      "text/plain": [
       "['good', 'excellent', 'fair', 'like new', 'new', 'salvage']"
      ]
     },
     "execution_count": 28,
     "metadata": {},
     "output_type": "execute_result"
    }
   ],
   "source": [
    "unique_condition = df_2['condition'].unique()\n",
    "condition_list = list(unique_condition)\n",
    "condition_list =condition_list[1:]\n",
    "condition_list"
   ]
  },
  {
   "cell_type": "code",
   "execution_count": 29,
   "metadata": {},
   "outputs": [
    {
     "data": {
      "text/html": [
       "<div>\n",
       "<style scoped>\n",
       "    .dataframe tbody tr th:only-of-type {\n",
       "        vertical-align: middle;\n",
       "    }\n",
       "\n",
       "    .dataframe tbody tr th {\n",
       "        vertical-align: top;\n",
       "    }\n",
       "\n",
       "    .dataframe thead th {\n",
       "        text-align: right;\n",
       "    }\n",
       "</style>\n",
       "<table border=\"1\" class=\"dataframe\">\n",
       "  <thead>\n",
       "    <tr style=\"text-align: right;\">\n",
       "      <th></th>\n",
       "      <th>description</th>\n",
       "      <th>condition</th>\n",
       "      <th>id</th>\n",
       "    </tr>\n",
       "  </thead>\n",
       "  <tbody>\n",
       "    <tr>\n",
       "      <th>195</th>\n",
       "      <td>2012 Black 140-inch Dodge Charger Limousine #1...</td>\n",
       "      <td>NaN</td>\n",
       "      <td>7316711193</td>\n",
       "    </tr>\n",
       "    <tr>\n",
       "      <th>225</th>\n",
       "      <td>2011 Chevrolet Silverado 1500 LTZ Crew Cab 4WD...</td>\n",
       "      <td>NaN</td>\n",
       "      <td>7316396026</td>\n",
       "    </tr>\n",
       "    <tr>\n",
       "      <th>226</th>\n",
       "      <td>2015 Chevrolet Silverado 1500 LT Crew Cab 4WD ...</td>\n",
       "      <td>NaN</td>\n",
       "      <td>7316395026</td>\n",
       "    </tr>\n",
       "    <tr>\n",
       "      <th>227</th>\n",
       "      <td>2014 Chevrolet Silverado 1500 2LT Crew Cab Lon...</td>\n",
       "      <td>NaN</td>\n",
       "      <td>7316393935</td>\n",
       "    </tr>\n",
       "    <tr>\n",
       "      <th>265</th>\n",
       "      <td>2006 *Suzuki* *XL-7*  SUV - $2,975Call Us Toda...</td>\n",
       "      <td>NaN</td>\n",
       "      <td>7315970659</td>\n",
       "    </tr>\n",
       "  </tbody>\n",
       "</table>\n",
       "</div>"
      ],
      "text/plain": [
       "                                           description condition          id\n",
       "195  2012 Black 140-inch Dodge Charger Limousine #1...       NaN  7316711193\n",
       "225  2011 Chevrolet Silverado 1500 LTZ Crew Cab 4WD...       NaN  7316396026\n",
       "226  2015 Chevrolet Silverado 1500 LT Crew Cab 4WD ...       NaN  7316395026\n",
       "227  2014 Chevrolet Silverado 1500 2LT Crew Cab Lon...       NaN  7316393935\n",
       "265  2006 *Suzuki* *XL-7*  SUV - $2,975Call Us Toda...       NaN  7315970659"
      ]
     },
     "execution_count": 29,
     "metadata": {},
     "output_type": "execute_result"
    }
   ],
   "source": [
    "cond_desc=df_limited_years.loc[df_limited_years['condition'].isna(), ['description','condition', 'id']].copy()\n",
    "cond_desc.head()"
   ]
  },
  {
   "cell_type": "code",
   "execution_count": 27,
   "metadata": {},
   "outputs": [],
   "source": [
    "cond_desc['description']=cond_desc['description'].str.lower().str.split()"
   ]
  },
  {
   "cell_type": "code",
   "execution_count": 30,
   "metadata": {},
   "outputs": [],
   "source": [
    "index_nums2=[]\n",
    "c =[]\n",
    "for index, row in cond_desc.iterrows():\n",
    "    for condition in condition_list:\n",
    "        if condition in row['description']:\n",
    "            index_nums2.append(index)\n",
    "            c.append(condition)  "
   ]
  },
  {
   "cell_type": "code",
   "execution_count": null,
   "metadata": {},
   "outputs": [],
   "source": [
    "# result2 = [None]*(len(index_nums2)+len(c))\n",
    "# result2[::2] = index_nums2\n",
    "# result2[1::2] =c\n",
    "\n",
    "# for x, y in zip(result2[::2], result2[1::2]):\n",
    "    \n",
    "#     print(x,y)"
   ]
  },
  {
   "cell_type": "code",
   "execution_count": 31,
   "metadata": {},
   "outputs": [
    {
     "data": {
      "text/html": [
       "<div>\n",
       "<style scoped>\n",
       "    .dataframe tbody tr th:only-of-type {\n",
       "        vertical-align: middle;\n",
       "    }\n",
       "\n",
       "    .dataframe tbody tr th {\n",
       "        vertical-align: top;\n",
       "    }\n",
       "\n",
       "    .dataframe thead th {\n",
       "        text-align: right;\n",
       "    }\n",
       "</style>\n",
       "<table border=\"1\" class=\"dataframe\">\n",
       "  <thead>\n",
       "    <tr style=\"text-align: right;\">\n",
       "      <th></th>\n",
       "      <th>condition</th>\n",
       "    </tr>\n",
       "    <tr>\n",
       "      <th>index</th>\n",
       "      <th></th>\n",
       "    </tr>\n",
       "  </thead>\n",
       "  <tbody>\n",
       "    <tr>\n",
       "      <th>414</th>\n",
       "      <td>like new</td>\n",
       "    </tr>\n",
       "    <tr>\n",
       "      <th>460</th>\n",
       "      <td>new</td>\n",
       "    </tr>\n",
       "    <tr>\n",
       "      <th>904</th>\n",
       "      <td>good</td>\n",
       "    </tr>\n",
       "    <tr>\n",
       "      <th>905</th>\n",
       "      <td>good</td>\n",
       "    </tr>\n",
       "    <tr>\n",
       "      <th>907</th>\n",
       "      <td>good</td>\n",
       "    </tr>\n",
       "  </tbody>\n",
       "</table>\n",
       "</div>"
      ],
      "text/plain": [
       "      condition\n",
       "index          \n",
       "414    like new\n",
       "460         new\n",
       "904        good\n",
       "905        good\n",
       "907        good"
      ]
     },
     "execution_count": 31,
     "metadata": {},
     "output_type": "execute_result"
    }
   ],
   "source": [
    "cond_desc_completed = pd.DataFrame(index_nums2, columns=['index'])\n",
    "cond_desc_completed['condition'] = c\n",
    "cond_desc_completed_new=cond_desc_completed.drop_duplicates(subset=['index'])\n",
    "cond_desc_completed_new.set_index('index',inplace=True )\n",
    "cond_desc_completed_new.head()"
   ]
  },
  {
   "cell_type": "code",
   "execution_count": 32,
   "metadata": {},
   "outputs": [
    {
     "data": {
      "text/plain": [
       "id                   0\n",
       "url                  0\n",
       "region               0\n",
       "region_url           0\n",
       "price                0\n",
       "year                 0\n",
       "manufacturer      7073\n",
       "model             2530\n",
       "condition        12162\n",
       "cylinders        33444\n",
       "fuel              1410\n",
       "odometer           392\n",
       "title_status      7004\n",
       "transmission      1645\n",
       "VIN             120074\n",
       "drive           105630\n",
       "size             91605\n",
       "type              9966\n",
       "paint_color     101144\n",
       "image_url            0\n",
       "description          2\n",
       "state                0\n",
       "lat               3283\n",
       "long              3283\n",
       "posting_date         0\n",
       "dtype: int64"
      ]
     },
     "execution_count": 32,
     "metadata": {},
     "output_type": "execute_result"
    }
   ],
   "source": [
    "df_yo.update(cond_desc_completed_new)\n",
    "df_yo.isna().sum()"
   ]
  },
  {
   "cell_type": "code",
   "execution_count": null,
   "metadata": {},
   "outputs": [],
   "source": [
    "# unique_cylinders = df_2['cylinders'].unique()\n",
    "# cylinders_list = list(unique_cylinders)\n",
    "# cylinders_list = cylinders_list[1:]\n",
    "# cylinders_list"
   ]
  },
  {
   "cell_type": "code",
   "execution_count": null,
   "metadata": {
    "scrolled": true
   },
   "outputs": [],
   "source": [
    "# cyld_desc=df_limited_years.loc[df_limited_years['cylinders'].isna(), ['description','cylinders', 'id']].copy()\n",
    "# cyld_desc.head()"
   ]
  },
  {
   "cell_type": "code",
   "execution_count": null,
   "metadata": {},
   "outputs": [],
   "source": [
    "# cyld_desc['description']=cyld_desc['description'].str.lower().str.split()"
   ]
  },
  {
   "cell_type": "code",
   "execution_count": null,
   "metadata": {},
   "outputs": [],
   "source": [
    "\n",
    "# ll=[]\n",
    "# cy =[]\n",
    "# for index, row in cyld_desc.iterrows():\n",
    "#     for cylinders in cylinders_list:\n",
    "#         if cylinders in row['description']:\n",
    "#             ll.append(index)\n",
    "#             cy.append(manufacturer)  \n",
    "# result3 = [None]*(len(ll)+len(cy))\n",
    "# result3[::2] = ll\n",
    "# result3[1::2] =cy\n",
    "# result3\n",
    "# # for x, y in zip(result3[::2], result3[1::2]):\n",
    "    \n",
    "# #     print(x,y)"
   ]
  },
  {
   "cell_type": "code",
   "execution_count": 33,
   "metadata": {},
   "outputs": [],
   "source": [
    "unique_fuel = df_limited_years['fuel'].unique()\n",
    "fuel_list = list(unique_fuel)\n",
    "fuel_list = ['gas', 'diesel', 'hybrid', 'electric']"
   ]
  },
  {
   "cell_type": "code",
   "execution_count": 34,
   "metadata": {},
   "outputs": [
    {
     "data": {
      "text/html": [
       "<div>\n",
       "<style scoped>\n",
       "    .dataframe tbody tr th:only-of-type {\n",
       "        vertical-align: middle;\n",
       "    }\n",
       "\n",
       "    .dataframe tbody tr th {\n",
       "        vertical-align: top;\n",
       "    }\n",
       "\n",
       "    .dataframe thead th {\n",
       "        text-align: right;\n",
       "    }\n",
       "</style>\n",
       "<table border=\"1\" class=\"dataframe\">\n",
       "  <thead>\n",
       "    <tr style=\"text-align: right;\">\n",
       "      <th></th>\n",
       "      <th>description</th>\n",
       "      <th>fuel</th>\n",
       "      <th>id</th>\n",
       "    </tr>\n",
       "  </thead>\n",
       "  <tbody>\n",
       "    <tr>\n",
       "      <th>225</th>\n",
       "      <td>[2011, chevrolet, silverado, 1500, ltz, crew, ...</td>\n",
       "      <td>NaN</td>\n",
       "      <td>7316396026</td>\n",
       "    </tr>\n",
       "    <tr>\n",
       "      <th>226</th>\n",
       "      <td>[2015, chevrolet, silverado, 1500, lt, crew, c...</td>\n",
       "      <td>NaN</td>\n",
       "      <td>7316395026</td>\n",
       "    </tr>\n",
       "    <tr>\n",
       "      <th>227</th>\n",
       "      <td>[2014, chevrolet, silverado, 1500, 2lt, crew, ...</td>\n",
       "      <td>NaN</td>\n",
       "      <td>7316393935</td>\n",
       "    </tr>\n",
       "    <tr>\n",
       "      <th>314</th>\n",
       "      <td>[2011, *jeep*, *grand, cherokee*, rwd, 4dr, la...</td>\n",
       "      <td>NaN</td>\n",
       "      <td>7315518138</td>\n",
       "    </tr>\n",
       "    <tr>\n",
       "      <th>368</th>\n",
       "      <td>[2010, *chevrolet*, *hhr*, fwd, 4dr, lt, w/1lt...</td>\n",
       "      <td>NaN</td>\n",
       "      <td>7314945978</td>\n",
       "    </tr>\n",
       "  </tbody>\n",
       "</table>\n",
       "</div>"
      ],
      "text/plain": [
       "                                           description fuel          id\n",
       "225  [2011, chevrolet, silverado, 1500, ltz, crew, ...  NaN  7316396026\n",
       "226  [2015, chevrolet, silverado, 1500, lt, crew, c...  NaN  7316395026\n",
       "227  [2014, chevrolet, silverado, 1500, 2lt, crew, ...  NaN  7316393935\n",
       "314  [2011, *jeep*, *grand, cherokee*, rwd, 4dr, la...  NaN  7315518138\n",
       "368  [2010, *chevrolet*, *hhr*, fwd, 4dr, lt, w/1lt...  NaN  7314945978"
      ]
     },
     "execution_count": 34,
     "metadata": {},
     "output_type": "execute_result"
    }
   ],
   "source": [
    "fuel_desc=df_limited_years.loc[df_limited_years['fuel'].isna(), ['description','fuel', 'id']].copy()\n",
    "fuel_desc['description']=fuel_desc['description'].str.lower().str.split()\n",
    "fuel_desc.head()"
   ]
  },
  {
   "cell_type": "code",
   "execution_count": 35,
   "metadata": {},
   "outputs": [],
   "source": [
    "index_nums4=[]\n",
    "f =[]\n",
    "for index, row in fuel_desc.iterrows():\n",
    "    for fuel in fuel_list:\n",
    "        if fuel in row['description']:\n",
    "            index_nums4.append(index)\n",
    "            f.append(fuel)  "
   ]
  },
  {
   "cell_type": "code",
   "execution_count": null,
   "metadata": {},
   "outputs": [],
   "source": [
    "# result4 = [None]*(len(index_nums4)+len(f))\n",
    "# result4[::2] = index_nums4\n",
    "# result4[1::2] =f\n",
    "\n",
    "# for x, y in zip(result4[::2], result4[1::2]):\n",
    "    \n",
    "#     print(x,y)"
   ]
  },
  {
   "cell_type": "code",
   "execution_count": 36,
   "metadata": {},
   "outputs": [
    {
     "data": {
      "text/html": [
       "<div>\n",
       "<style scoped>\n",
       "    .dataframe tbody tr th:only-of-type {\n",
       "        vertical-align: middle;\n",
       "    }\n",
       "\n",
       "    .dataframe tbody tr th {\n",
       "        vertical-align: top;\n",
       "    }\n",
       "\n",
       "    .dataframe thead th {\n",
       "        text-align: right;\n",
       "    }\n",
       "</style>\n",
       "<table border=\"1\" class=\"dataframe\">\n",
       "  <thead>\n",
       "    <tr style=\"text-align: right;\">\n",
       "      <th></th>\n",
       "      <th>fuel</th>\n",
       "    </tr>\n",
       "    <tr>\n",
       "      <th>index</th>\n",
       "      <th></th>\n",
       "    </tr>\n",
       "  </thead>\n",
       "  <tbody>\n",
       "    <tr>\n",
       "      <th>1569</th>\n",
       "      <td>hybrid</td>\n",
       "    </tr>\n",
       "    <tr>\n",
       "      <th>2278</th>\n",
       "      <td>hybrid</td>\n",
       "    </tr>\n",
       "    <tr>\n",
       "      <th>3621</th>\n",
       "      <td>hybrid</td>\n",
       "    </tr>\n",
       "    <tr>\n",
       "      <th>4952</th>\n",
       "      <td>hybrid</td>\n",
       "    </tr>\n",
       "    <tr>\n",
       "      <th>10399</th>\n",
       "      <td>electric</td>\n",
       "    </tr>\n",
       "  </tbody>\n",
       "</table>\n",
       "</div>"
      ],
      "text/plain": [
       "           fuel\n",
       "index          \n",
       "1569     hybrid\n",
       "2278     hybrid\n",
       "3621     hybrid\n",
       "4952     hybrid\n",
       "10399  electric"
      ]
     },
     "execution_count": 36,
     "metadata": {},
     "output_type": "execute_result"
    }
   ],
   "source": [
    "fuel_desc_completed = pd.DataFrame(index_nums4, columns=['index'])\n",
    "fuel_desc_completed['fuel'] = f\n",
    "fuel_desc_completed_new=fuel_desc_completed.drop_duplicates(subset=['index'])\n",
    "fuel_desc_completed_new.set_index('index',inplace=True )\n",
    "fuel_desc_completed_new.head()"
   ]
  },
  {
   "cell_type": "code",
   "execution_count": 37,
   "metadata": {},
   "outputs": [
    {
     "data": {
      "text/plain": [
       "id                   0\n",
       "url                  0\n",
       "region               0\n",
       "region_url           0\n",
       "price                0\n",
       "year                 0\n",
       "manufacturer      7073\n",
       "model             2530\n",
       "condition        12162\n",
       "cylinders        33444\n",
       "fuel              1215\n",
       "odometer           392\n",
       "title_status      7004\n",
       "transmission      1645\n",
       "VIN             120074\n",
       "drive           105630\n",
       "size             91605\n",
       "type              9966\n",
       "paint_color     101144\n",
       "image_url            0\n",
       "description          2\n",
       "state                0\n",
       "lat               3283\n",
       "long              3283\n",
       "posting_date         0\n",
       "dtype: int64"
      ]
     },
     "execution_count": 37,
     "metadata": {},
     "output_type": "execute_result"
    }
   ],
   "source": [
    "df_yo.update(fuel_desc_completed_new)\n",
    "df_yo.isna().sum()"
   ]
  },
  {
   "cell_type": "code",
   "execution_count": 38,
   "metadata": {},
   "outputs": [],
   "source": [
    "unique_transmission = df_limited_years['transmission'].unique()\n",
    "trasnmission_list = list(unique_transmission)\n",
    "transmission_list = ['automatic', 'manual']"
   ]
  },
  {
   "cell_type": "code",
   "execution_count": 39,
   "metadata": {},
   "outputs": [
    {
     "data": {
      "text/html": [
       "<div>\n",
       "<style scoped>\n",
       "    .dataframe tbody tr th:only-of-type {\n",
       "        vertical-align: middle;\n",
       "    }\n",
       "\n",
       "    .dataframe tbody tr th {\n",
       "        vertical-align: top;\n",
       "    }\n",
       "\n",
       "    .dataframe thead th {\n",
       "        text-align: right;\n",
       "    }\n",
       "</style>\n",
       "<table border=\"1\" class=\"dataframe\">\n",
       "  <thead>\n",
       "    <tr style=\"text-align: right;\">\n",
       "      <th></th>\n",
       "      <th>description</th>\n",
       "      <th>transmission</th>\n",
       "      <th>id</th>\n",
       "    </tr>\n",
       "  </thead>\n",
       "  <tbody>\n",
       "    <tr>\n",
       "      <th>2961</th>\n",
       "      <td>[2016, nissan, murano, sv, offered, by:, autov...</td>\n",
       "      <td>NaN</td>\n",
       "      <td>7312867213</td>\n",
       "    </tr>\n",
       "    <tr>\n",
       "      <th>5088</th>\n",
       "      <td>[2012, ford, f-550, super, duty, 4x4, 2dr, reg...</td>\n",
       "      <td>NaN</td>\n",
       "      <td>7316461977</td>\n",
       "    </tr>\n",
       "    <tr>\n",
       "      <th>5250</th>\n",
       "      <td>[bad, credit, -, no, credit..., we, can, help!...</td>\n",
       "      <td>NaN</td>\n",
       "      <td>7315616467</td>\n",
       "    </tr>\n",
       "    <tr>\n",
       "      <th>5284</th>\n",
       "      <td>[2006, ford, f-550, super, duty, 4x4, 4dr, sup...</td>\n",
       "      <td>NaN</td>\n",
       "      <td>7315552489</td>\n",
       "    </tr>\n",
       "    <tr>\n",
       "      <th>5384</th>\n",
       "      <td>[this, chevrolet, corvette, can, be, yours, to...</td>\n",
       "      <td>NaN</td>\n",
       "      <td>7315160850</td>\n",
       "    </tr>\n",
       "  </tbody>\n",
       "</table>\n",
       "</div>"
      ],
      "text/plain": [
       "                                            description transmission  \\\n",
       "2961  [2016, nissan, murano, sv, offered, by:, autov...          NaN   \n",
       "5088  [2012, ford, f-550, super, duty, 4x4, 2dr, reg...          NaN   \n",
       "5250  [bad, credit, -, no, credit..., we, can, help!...          NaN   \n",
       "5284  [2006, ford, f-550, super, duty, 4x4, 4dr, sup...          NaN   \n",
       "5384  [this, chevrolet, corvette, can, be, yours, to...          NaN   \n",
       "\n",
       "              id  \n",
       "2961  7312867213  \n",
       "5088  7316461977  \n",
       "5250  7315616467  \n",
       "5284  7315552489  \n",
       "5384  7315160850  "
      ]
     },
     "execution_count": 39,
     "metadata": {},
     "output_type": "execute_result"
    }
   ],
   "source": [
    "tran_desc=df_limited_years.loc[df_limited_years['transmission'].isna(), ['description','transmission', 'id']].copy()\n",
    "tran_desc['description']=tran_desc['description'].str.lower().str.split()\n",
    "tran_desc.head()"
   ]
  },
  {
   "cell_type": "code",
   "execution_count": 40,
   "metadata": {},
   "outputs": [],
   "source": [
    "index_nums5=[]\n",
    "t =[]\n",
    "for index, row in tran_desc.iterrows():\n",
    "    for transmission in transmission_list:\n",
    "        if transmission in row['description']:\n",
    "            index_nums5.append(index)\n",
    "            t.append(transmission)  "
   ]
  },
  {
   "cell_type": "code",
   "execution_count": null,
   "metadata": {},
   "outputs": [],
   "source": [
    "# result5 = [None]*(len(index_nums5)+len(t))\n",
    "# result5[::2] = index_nums5\n",
    "# result5[1::2] =t\n",
    "\n",
    "# for x, y in zip(result5[::2], result5[1::2]):\n",
    "    \n",
    "#     print(x,y)"
   ]
  },
  {
   "cell_type": "code",
   "execution_count": 41,
   "metadata": {},
   "outputs": [
    {
     "data": {
      "text/html": [
       "<div>\n",
       "<style scoped>\n",
       "    .dataframe tbody tr th:only-of-type {\n",
       "        vertical-align: middle;\n",
       "    }\n",
       "\n",
       "    .dataframe tbody tr th {\n",
       "        vertical-align: top;\n",
       "    }\n",
       "\n",
       "    .dataframe thead th {\n",
       "        text-align: right;\n",
       "    }\n",
       "</style>\n",
       "<table border=\"1\" class=\"dataframe\">\n",
       "  <thead>\n",
       "    <tr style=\"text-align: right;\">\n",
       "      <th></th>\n",
       "      <th>transmission</th>\n",
       "    </tr>\n",
       "    <tr>\n",
       "      <th>index</th>\n",
       "      <th></th>\n",
       "    </tr>\n",
       "  </thead>\n",
       "  <tbody>\n",
       "    <tr>\n",
       "      <th>8793</th>\n",
       "      <td>automatic</td>\n",
       "    </tr>\n",
       "    <tr>\n",
       "      <th>8800</th>\n",
       "      <td>automatic</td>\n",
       "    </tr>\n",
       "    <tr>\n",
       "      <th>8807</th>\n",
       "      <td>automatic</td>\n",
       "    </tr>\n",
       "    <tr>\n",
       "      <th>8808</th>\n",
       "      <td>automatic</td>\n",
       "    </tr>\n",
       "    <tr>\n",
       "      <th>8810</th>\n",
       "      <td>automatic</td>\n",
       "    </tr>\n",
       "  </tbody>\n",
       "</table>\n",
       "</div>"
      ],
      "text/plain": [
       "      transmission\n",
       "index             \n",
       "8793     automatic\n",
       "8800     automatic\n",
       "8807     automatic\n",
       "8808     automatic\n",
       "8810     automatic"
      ]
     },
     "execution_count": 41,
     "metadata": {},
     "output_type": "execute_result"
    }
   ],
   "source": [
    "tran_desc_completed = pd.DataFrame(index_nums5, columns=['index'])\n",
    "tran_desc_completed['transmission'] = t\n",
    "tran_desc_completed_new=tran_desc_completed.drop_duplicates(subset=['index'])\n",
    "tran_desc_completed_new.set_index('index',inplace=True )\n",
    "tran_desc_completed_new.head()"
   ]
  },
  {
   "cell_type": "code",
   "execution_count": 42,
   "metadata": {},
   "outputs": [
    {
     "data": {
      "text/plain": [
       "id                   0\n",
       "url                  0\n",
       "region               0\n",
       "region_url           0\n",
       "price                0\n",
       "year                 0\n",
       "manufacturer      7073\n",
       "model             2530\n",
       "condition        12162\n",
       "cylinders        33444\n",
       "fuel              1215\n",
       "odometer           392\n",
       "title_status      7004\n",
       "transmission      1158\n",
       "VIN             120074\n",
       "drive           105630\n",
       "size             91605\n",
       "type              9966\n",
       "paint_color     101144\n",
       "image_url            0\n",
       "description          2\n",
       "state                0\n",
       "lat               3283\n",
       "long              3283\n",
       "posting_date         0\n",
       "dtype: int64"
      ]
     },
     "execution_count": 42,
     "metadata": {},
     "output_type": "execute_result"
    }
   ],
   "source": [
    "df_yo.update(tran_desc_completed_new)\n",
    "df_yo.isna().sum()"
   ]
  },
  {
   "cell_type": "code",
   "execution_count": 43,
   "metadata": {},
   "outputs": [
    {
     "data": {
      "text/plain": [
       "['rwd', '4wd', 'fwd']"
      ]
     },
     "execution_count": 43,
     "metadata": {},
     "output_type": "execute_result"
    }
   ],
   "source": [
    "unique_drive = df_limited_years['drive'].unique()\n",
    "drive_list = list(unique_drive)\n",
    "drive_list= drive_list[1:]\n",
    "drive_list"
   ]
  },
  {
   "cell_type": "code",
   "execution_count": 44,
   "metadata": {
    "scrolled": true
   },
   "outputs": [
    {
     "data": {
      "text/html": [
       "<div>\n",
       "<style scoped>\n",
       "    .dataframe tbody tr th:only-of-type {\n",
       "        vertical-align: middle;\n",
       "    }\n",
       "\n",
       "    .dataframe tbody tr th {\n",
       "        vertical-align: top;\n",
       "    }\n",
       "\n",
       "    .dataframe thead th {\n",
       "        text-align: right;\n",
       "    }\n",
       "</style>\n",
       "<table border=\"1\" class=\"dataframe\">\n",
       "  <thead>\n",
       "    <tr style=\"text-align: right;\">\n",
       "      <th></th>\n",
       "      <th>description</th>\n",
       "      <th>drive</th>\n",
       "      <th>id</th>\n",
       "    </tr>\n",
       "  </thead>\n",
       "  <tbody>\n",
       "    <tr>\n",
       "      <th>27</th>\n",
       "      <td>[carvana, is, the, safer, way, to, buy, a, car...</td>\n",
       "      <td>NaN</td>\n",
       "      <td>7316814884</td>\n",
       "    </tr>\n",
       "    <tr>\n",
       "      <th>28</th>\n",
       "      <td>[carvana, is, the, safer, way, to, buy, a, car...</td>\n",
       "      <td>NaN</td>\n",
       "      <td>7316814758</td>\n",
       "    </tr>\n",
       "    <tr>\n",
       "      <th>29</th>\n",
       "      <td>[carvana, is, the, safer, way, to, buy, a, car...</td>\n",
       "      <td>NaN</td>\n",
       "      <td>7316814989</td>\n",
       "    </tr>\n",
       "    <tr>\n",
       "      <th>30</th>\n",
       "      <td>[carvana, is, the, safer, way, to, buy, a, car...</td>\n",
       "      <td>NaN</td>\n",
       "      <td>7316743432</td>\n",
       "    </tr>\n",
       "    <tr>\n",
       "      <th>39</th>\n",
       "      <td>[carvana, is, the, safer, way, to, buy, a, car...</td>\n",
       "      <td>NaN</td>\n",
       "      <td>7315770394</td>\n",
       "    </tr>\n",
       "  </tbody>\n",
       "</table>\n",
       "</div>"
      ],
      "text/plain": [
       "                                          description drive          id\n",
       "27  [carvana, is, the, safer, way, to, buy, a, car...   NaN  7316814884\n",
       "28  [carvana, is, the, safer, way, to, buy, a, car...   NaN  7316814758\n",
       "29  [carvana, is, the, safer, way, to, buy, a, car...   NaN  7316814989\n",
       "30  [carvana, is, the, safer, way, to, buy, a, car...   NaN  7316743432\n",
       "39  [carvana, is, the, safer, way, to, buy, a, car...   NaN  7315770394"
      ]
     },
     "execution_count": 44,
     "metadata": {},
     "output_type": "execute_result"
    }
   ],
   "source": [
    "driv_desc=df_limited_years.loc[df_limited_years['drive'].isna(), ['description','drive', 'id']].copy()\n",
    "driv_desc['description']=driv_desc['description'].str.lower().str.split()\n",
    "driv_desc.head()"
   ]
  },
  {
   "cell_type": "code",
   "execution_count": 45,
   "metadata": {},
   "outputs": [
    {
     "data": {
      "text/plain": [
       "description         1\n",
       "drive          105630\n",
       "id                  0\n",
       "dtype: int64"
      ]
     },
     "execution_count": 45,
     "metadata": {},
     "output_type": "execute_result"
    }
   ],
   "source": [
    "driv_desc.isna().sum()"
   ]
  },
  {
   "cell_type": "code",
   "execution_count": 46,
   "metadata": {
    "scrolled": true
   },
   "outputs": [],
   "source": [
    "driv_desc.dropna(subset=['description'], axis=0, inplace=True)"
   ]
  },
  {
   "cell_type": "code",
   "execution_count": 47,
   "metadata": {},
   "outputs": [],
   "source": [
    "index_nums6=[]\n",
    "d =[]\n",
    "for index, row in driv_desc.iterrows():\n",
    "    for drive in drive_list:\n",
    "        if drive in row['description']:\n",
    "            index_nums6.append(index)\n",
    "            d.append(drive)  "
   ]
  },
  {
   "cell_type": "code",
   "execution_count": null,
   "metadata": {},
   "outputs": [],
   "source": [
    "# result6 = [None]*(len(index_nums6)+len(d))\n",
    "# result6[::2] = index_nums6\n",
    "# result6[1::2] =d\n",
    "\n",
    "# for x, y in zip(result6[::2], result6[1::2]):\n",
    "    \n",
    "#     print(x,y)"
   ]
  },
  {
   "cell_type": "code",
   "execution_count": 48,
   "metadata": {},
   "outputs": [
    {
     "data": {
      "text/html": [
       "<div>\n",
       "<style scoped>\n",
       "    .dataframe tbody tr th:only-of-type {\n",
       "        vertical-align: middle;\n",
       "    }\n",
       "\n",
       "    .dataframe tbody tr th {\n",
       "        vertical-align: top;\n",
       "    }\n",
       "\n",
       "    .dataframe thead th {\n",
       "        text-align: right;\n",
       "    }\n",
       "</style>\n",
       "<table border=\"1\" class=\"dataframe\">\n",
       "  <thead>\n",
       "    <tr style=\"text-align: right;\">\n",
       "      <th></th>\n",
       "      <th>drive</th>\n",
       "    </tr>\n",
       "    <tr>\n",
       "      <th>index</th>\n",
       "      <th></th>\n",
       "    </tr>\n",
       "  </thead>\n",
       "  <tbody>\n",
       "    <tr>\n",
       "      <th>423</th>\n",
       "      <td>4wd</td>\n",
       "    </tr>\n",
       "    <tr>\n",
       "      <th>504</th>\n",
       "      <td>4wd</td>\n",
       "    </tr>\n",
       "    <tr>\n",
       "      <th>510</th>\n",
       "      <td>4wd</td>\n",
       "    </tr>\n",
       "    <tr>\n",
       "      <th>659</th>\n",
       "      <td>4wd</td>\n",
       "    </tr>\n",
       "    <tr>\n",
       "      <th>1038</th>\n",
       "      <td>4wd</td>\n",
       "    </tr>\n",
       "  </tbody>\n",
       "</table>\n",
       "</div>"
      ],
      "text/plain": [
       "      drive\n",
       "index      \n",
       "423     4wd\n",
       "504     4wd\n",
       "510     4wd\n",
       "659     4wd\n",
       "1038    4wd"
      ]
     },
     "execution_count": 48,
     "metadata": {},
     "output_type": "execute_result"
    }
   ],
   "source": [
    "driv_desc_completed = pd.DataFrame(index_nums6, columns=['index'])\n",
    "driv_desc_completed['drive'] = d\n",
    "driv_desc_completed_new=driv_desc_completed.drop_duplicates(subset=['index'])\n",
    "driv_desc_completed_new.set_index('index',inplace=True )\n",
    "driv_desc_completed_new.head()"
   ]
  },
  {
   "cell_type": "code",
   "execution_count": 49,
   "metadata": {},
   "outputs": [
    {
     "data": {
      "text/plain": [
       "id                   0\n",
       "url                  0\n",
       "region               0\n",
       "region_url           0\n",
       "price                0\n",
       "year                 0\n",
       "manufacturer      7073\n",
       "model             2530\n",
       "condition        12162\n",
       "cylinders        33444\n",
       "fuel              1215\n",
       "odometer           392\n",
       "title_status      7004\n",
       "transmission      1158\n",
       "VIN             120074\n",
       "drive            93792\n",
       "size             91605\n",
       "type              9966\n",
       "paint_color     101144\n",
       "image_url            0\n",
       "description          2\n",
       "state                0\n",
       "lat               3283\n",
       "long              3283\n",
       "posting_date         0\n",
       "dtype: int64"
      ]
     },
     "execution_count": 49,
     "metadata": {},
     "output_type": "execute_result"
    }
   ],
   "source": [
    "df_yo.update(driv_desc_completed_new)\n",
    "df_yo.isna().sum()"
   ]
  },
  {
   "cell_type": "code",
   "execution_count": 50,
   "metadata": {},
   "outputs": [
    {
     "data": {
      "text/plain": [
       "['full-size', 'mid-size', 'compact', 'sub-compact']"
      ]
     },
     "execution_count": 50,
     "metadata": {},
     "output_type": "execute_result"
    }
   ],
   "source": [
    "unique_size = df_limited_years['size'].unique()\n",
    "size_list = list(unique_size)\n",
    "size_list= size_list[1:]\n",
    "size_list"
   ]
  },
  {
   "cell_type": "code",
   "execution_count": 51,
   "metadata": {},
   "outputs": [
    {
     "data": {
      "text/html": [
       "<div>\n",
       "<style scoped>\n",
       "    .dataframe tbody tr th:only-of-type {\n",
       "        vertical-align: middle;\n",
       "    }\n",
       "\n",
       "    .dataframe tbody tr th {\n",
       "        vertical-align: top;\n",
       "    }\n",
       "\n",
       "    .dataframe thead th {\n",
       "        text-align: right;\n",
       "    }\n",
       "</style>\n",
       "<table border=\"1\" class=\"dataframe\">\n",
       "  <thead>\n",
       "    <tr style=\"text-align: right;\">\n",
       "      <th></th>\n",
       "      <th>description</th>\n",
       "      <th>size</th>\n",
       "      <th>id</th>\n",
       "    </tr>\n",
       "  </thead>\n",
       "  <tbody>\n",
       "    <tr>\n",
       "      <th>27</th>\n",
       "      <td>[carvana, is, the, safer, way, to, buy, a, car...</td>\n",
       "      <td>NaN</td>\n",
       "      <td>7316814884</td>\n",
       "    </tr>\n",
       "    <tr>\n",
       "      <th>28</th>\n",
       "      <td>[carvana, is, the, safer, way, to, buy, a, car...</td>\n",
       "      <td>NaN</td>\n",
       "      <td>7316814758</td>\n",
       "    </tr>\n",
       "    <tr>\n",
       "      <th>29</th>\n",
       "      <td>[carvana, is, the, safer, way, to, buy, a, car...</td>\n",
       "      <td>NaN</td>\n",
       "      <td>7316814989</td>\n",
       "    </tr>\n",
       "    <tr>\n",
       "      <th>30</th>\n",
       "      <td>[carvana, is, the, safer, way, to, buy, a, car...</td>\n",
       "      <td>NaN</td>\n",
       "      <td>7316743432</td>\n",
       "    </tr>\n",
       "    <tr>\n",
       "      <th>32</th>\n",
       "      <td>[carvana, is, the, safer, way, to, buy, a, car...</td>\n",
       "      <td>NaN</td>\n",
       "      <td>7316343444</td>\n",
       "    </tr>\n",
       "  </tbody>\n",
       "</table>\n",
       "</div>"
      ],
      "text/plain": [
       "                                          description size          id\n",
       "27  [carvana, is, the, safer, way, to, buy, a, car...  NaN  7316814884\n",
       "28  [carvana, is, the, safer, way, to, buy, a, car...  NaN  7316814758\n",
       "29  [carvana, is, the, safer, way, to, buy, a, car...  NaN  7316814989\n",
       "30  [carvana, is, the, safer, way, to, buy, a, car...  NaN  7316743432\n",
       "32  [carvana, is, the, safer, way, to, buy, a, car...  NaN  7316343444"
      ]
     },
     "execution_count": 51,
     "metadata": {},
     "output_type": "execute_result"
    }
   ],
   "source": [
    "size_desc=df_limited_years.loc[df_limited_years['size'].isna(), ['description','size', 'id']].copy()\n",
    "size_desc['description']=size_desc['description'].str.lower().str.split()\n",
    "size_desc.head()"
   ]
  },
  {
   "cell_type": "code",
   "execution_count": 52,
   "metadata": {},
   "outputs": [],
   "source": [
    "index_nums7=[]\n",
    "s =[]\n",
    "for index, row in size_desc.iterrows():\n",
    "    for size in size_list:\n",
    "        if size in row['description']:\n",
    "            index_nums7.append(index)\n",
    "            s.append(size)  "
   ]
  },
  {
   "cell_type": "code",
   "execution_count": null,
   "metadata": {},
   "outputs": [],
   "source": [
    "# result7 = [None]*(len(index_nums7)+len(s))\n",
    "# result7[::2] = index_nums7\n",
    "# result7[1::2] =s\n",
    "\n",
    "# for x, y in zip(result7[::2], result7[1::2]):\n",
    "    \n",
    "#     print(x,y)"
   ]
  },
  {
   "cell_type": "code",
   "execution_count": 53,
   "metadata": {},
   "outputs": [
    {
     "data": {
      "text/html": [
       "<div>\n",
       "<style scoped>\n",
       "    .dataframe tbody tr th:only-of-type {\n",
       "        vertical-align: middle;\n",
       "    }\n",
       "\n",
       "    .dataframe tbody tr th {\n",
       "        vertical-align: top;\n",
       "    }\n",
       "\n",
       "    .dataframe thead th {\n",
       "        text-align: right;\n",
       "    }\n",
       "</style>\n",
       "<table border=\"1\" class=\"dataframe\">\n",
       "  <thead>\n",
       "    <tr style=\"text-align: right;\">\n",
       "      <th></th>\n",
       "      <th>size</th>\n",
       "    </tr>\n",
       "    <tr>\n",
       "      <th>index</th>\n",
       "      <th></th>\n",
       "    </tr>\n",
       "  </thead>\n",
       "  <tbody>\n",
       "    <tr>\n",
       "      <th>248</th>\n",
       "      <td>compact</td>\n",
       "    </tr>\n",
       "    <tr>\n",
       "      <th>294</th>\n",
       "      <td>compact</td>\n",
       "    </tr>\n",
       "    <tr>\n",
       "      <th>583</th>\n",
       "      <td>compact</td>\n",
       "    </tr>\n",
       "    <tr>\n",
       "      <th>727</th>\n",
       "      <td>compact</td>\n",
       "    </tr>\n",
       "    <tr>\n",
       "      <th>874</th>\n",
       "      <td>full-size</td>\n",
       "    </tr>\n",
       "  </tbody>\n",
       "</table>\n",
       "</div>"
      ],
      "text/plain": [
       "            size\n",
       "index           \n",
       "248      compact\n",
       "294      compact\n",
       "583      compact\n",
       "727      compact\n",
       "874    full-size"
      ]
     },
     "execution_count": 53,
     "metadata": {},
     "output_type": "execute_result"
    }
   ],
   "source": [
    "size_desc_completed = pd.DataFrame(index_nums7, columns=['index'])\n",
    "size_desc_completed['size'] = s\n",
    "size_desc_completed_new=size_desc_completed.drop_duplicates(subset=['index'])\n",
    "size_desc_completed_new.set_index('index',inplace=True )\n",
    "size_desc_completed_new.head()"
   ]
  },
  {
   "cell_type": "code",
   "execution_count": 54,
   "metadata": {
    "scrolled": true
   },
   "outputs": [
    {
     "data": {
      "text/plain": [
       "id                   0\n",
       "url                  0\n",
       "region               0\n",
       "region_url           0\n",
       "price                0\n",
       "year                 0\n",
       "manufacturer      7073\n",
       "model             2530\n",
       "condition        12162\n",
       "cylinders        33444\n",
       "fuel              1215\n",
       "odometer           392\n",
       "title_status      7004\n",
       "transmission      1158\n",
       "VIN             120074\n",
       "drive            93792\n",
       "size             88753\n",
       "type              9966\n",
       "paint_color     101144\n",
       "image_url            0\n",
       "description          2\n",
       "state                0\n",
       "lat               3283\n",
       "long              3283\n",
       "posting_date         0\n",
       "dtype: int64"
      ]
     },
     "execution_count": 54,
     "metadata": {},
     "output_type": "execute_result"
    }
   ],
   "source": [
    "df_yo.update(size_desc_completed_new)\n",
    "df_yo.isna().sum()"
   ]
  },
  {
   "cell_type": "code",
   "execution_count": null,
   "metadata": {
    "scrolled": true
   },
   "outputs": [],
   "source": [
    "df_yo['type'].value_counts()"
   ]
  },
  {
   "cell_type": "code",
   "execution_count": 55,
   "metadata": {},
   "outputs": [],
   "source": [
    "unique_type = df_limited_years['type'].unique()\n",
    "type_list = list(unique_type)\n",
    "# type_list= type_list[1:]\n",
    "type_list = ['pickup',\n",
    " 'truck',\n",
    " 'other',\n",
    " 'coupe',\n",
    " 'SUV',\n",
    " 'hatchback',\n",
    " 'mini-van',\n",
    " 'sedan',\n",
    " 'offroad',\n",
    " 'bus',\n",
    " 'convertible',\n",
    " 'wagon',\n",
    " 'van']"
   ]
  },
  {
   "cell_type": "code",
   "execution_count": 56,
   "metadata": {},
   "outputs": [
    {
     "data": {
      "text/html": [
       "<div>\n",
       "<style scoped>\n",
       "    .dataframe tbody tr th:only-of-type {\n",
       "        vertical-align: middle;\n",
       "    }\n",
       "\n",
       "    .dataframe tbody tr th {\n",
       "        vertical-align: top;\n",
       "    }\n",
       "\n",
       "    .dataframe thead th {\n",
       "        text-align: right;\n",
       "    }\n",
       "</style>\n",
       "<table border=\"1\" class=\"dataframe\">\n",
       "  <thead>\n",
       "    <tr style=\"text-align: right;\">\n",
       "      <th></th>\n",
       "      <th>description</th>\n",
       "      <th>type</th>\n",
       "      <th>id</th>\n",
       "    </tr>\n",
       "  </thead>\n",
       "  <tbody>\n",
       "    <tr>\n",
       "      <th>195</th>\n",
       "      <td>[2012, black, 140-inch, dodge, charger, limous...</td>\n",
       "      <td>NaN</td>\n",
       "      <td>7316711193</td>\n",
       "    </tr>\n",
       "    <tr>\n",
       "      <th>196</th>\n",
       "      <td>[2005, ford, focus, 189k, miles, automatic, tr...</td>\n",
       "      <td>NaN</td>\n",
       "      <td>7316707537</td>\n",
       "    </tr>\n",
       "    <tr>\n",
       "      <th>200</th>\n",
       "      <td>[phone:, ☎, (205), 862-8003, text:, text, (205...</td>\n",
       "      <td>NaN</td>\n",
       "      <td>7316694884</td>\n",
       "    </tr>\n",
       "    <tr>\n",
       "      <th>201</th>\n",
       "      <td>[phone:, ☎, (205), 862-8003, text:, text, (205...</td>\n",
       "      <td>NaN</td>\n",
       "      <td>7316694885</td>\n",
       "    </tr>\n",
       "    <tr>\n",
       "      <th>203</th>\n",
       "      <td>[contemporary, automotive, address:, 3427, sky...</td>\n",
       "      <td>NaN</td>\n",
       "      <td>7316691449</td>\n",
       "    </tr>\n",
       "  </tbody>\n",
       "</table>\n",
       "</div>"
      ],
      "text/plain": [
       "                                           description type          id\n",
       "195  [2012, black, 140-inch, dodge, charger, limous...  NaN  7316711193\n",
       "196  [2005, ford, focus, 189k, miles, automatic, tr...  NaN  7316707537\n",
       "200  [phone:, ☎, (205), 862-8003, text:, text, (205...  NaN  7316694884\n",
       "201  [phone:, ☎, (205), 862-8003, text:, text, (205...  NaN  7316694885\n",
       "203  [contemporary, automotive, address:, 3427, sky...  NaN  7316691449"
      ]
     },
     "execution_count": 56,
     "metadata": {},
     "output_type": "execute_result"
    }
   ],
   "source": [
    "type_desc=df_limited_years.loc[df_limited_years['type'].isna(), ['description','type', 'id']].copy()\n",
    "type_desc['description']=type_desc['description'].str.lower().str.split()\n",
    "type_desc.head()"
   ]
  },
  {
   "cell_type": "code",
   "execution_count": 57,
   "metadata": {},
   "outputs": [],
   "source": [
    "index_nums8=[]\n",
    "ty =[]\n",
    "for index, row in type_desc.iterrows():\n",
    "    for types in type_list:\n",
    "        if types in row['description']:\n",
    "            index_nums8.append(index)\n",
    "            ty.append(types)  "
   ]
  },
  {
   "cell_type": "code",
   "execution_count": null,
   "metadata": {},
   "outputs": [],
   "source": [
    "# result8 = [None]*(len(index_nums8)+len(ty))\n",
    "# result8[::2] = index_nums8\n",
    "# result8[1::2] =ty\n",
    "\n",
    "# for x, y in zip(result8[::2], result8[1::2]):\n",
    "    \n",
    "#     print(x,y)"
   ]
  },
  {
   "cell_type": "code",
   "execution_count": 58,
   "metadata": {
    "scrolled": true
   },
   "outputs": [
    {
     "data": {
      "text/html": [
       "<div>\n",
       "<style scoped>\n",
       "    .dataframe tbody tr th:only-of-type {\n",
       "        vertical-align: middle;\n",
       "    }\n",
       "\n",
       "    .dataframe tbody tr th {\n",
       "        vertical-align: top;\n",
       "    }\n",
       "\n",
       "    .dataframe thead th {\n",
       "        text-align: right;\n",
       "    }\n",
       "</style>\n",
       "<table border=\"1\" class=\"dataframe\">\n",
       "  <thead>\n",
       "    <tr style=\"text-align: right;\">\n",
       "      <th></th>\n",
       "      <th>type</th>\n",
       "    </tr>\n",
       "    <tr>\n",
       "      <th>index</th>\n",
       "      <th></th>\n",
       "    </tr>\n",
       "  </thead>\n",
       "  <tbody>\n",
       "    <tr>\n",
       "      <th>201</th>\n",
       "      <td>truck</td>\n",
       "    </tr>\n",
       "    <tr>\n",
       "      <th>204</th>\n",
       "      <td>pickup</td>\n",
       "    </tr>\n",
       "    <tr>\n",
       "      <th>206</th>\n",
       "      <td>truck</td>\n",
       "    </tr>\n",
       "    <tr>\n",
       "      <th>220</th>\n",
       "      <td>truck</td>\n",
       "    </tr>\n",
       "    <tr>\n",
       "      <th>229</th>\n",
       "      <td>truck</td>\n",
       "    </tr>\n",
       "  </tbody>\n",
       "</table>\n",
       "</div>"
      ],
      "text/plain": [
       "         type\n",
       "index        \n",
       "201     truck\n",
       "204    pickup\n",
       "206     truck\n",
       "220     truck\n",
       "229     truck"
      ]
     },
     "execution_count": 58,
     "metadata": {},
     "output_type": "execute_result"
    }
   ],
   "source": [
    "type_desc_completed = pd.DataFrame(index_nums8, columns=['index'])\n",
    "type_desc_completed['type'] = ty\n",
    "type_desc_completed_new=type_desc_completed.drop_duplicates(subset=['index'])\n",
    "type_desc_completed_new.set_index('index',inplace=True )\n",
    "type_desc_completed_new.head()"
   ]
  },
  {
   "cell_type": "code",
   "execution_count": 59,
   "metadata": {},
   "outputs": [
    {
     "data": {
      "text/plain": [
       "id                   0\n",
       "url                  0\n",
       "region               0\n",
       "region_url           0\n",
       "price                0\n",
       "year                 0\n",
       "manufacturer      7073\n",
       "model             2530\n",
       "condition        12162\n",
       "cylinders        33444\n",
       "fuel              1215\n",
       "odometer           392\n",
       "title_status      7004\n",
       "transmission      1158\n",
       "VIN             120074\n",
       "drive            93792\n",
       "size             88753\n",
       "type              4586\n",
       "paint_color     101144\n",
       "image_url            0\n",
       "description          2\n",
       "state                0\n",
       "lat               3283\n",
       "long              3283\n",
       "posting_date         0\n",
       "dtype: int64"
      ]
     },
     "execution_count": 59,
     "metadata": {},
     "output_type": "execute_result"
    }
   ],
   "source": [
    "df_yo.update(type_desc_completed_new)\n",
    "df_yo.isna().sum()"
   ]
  },
  {
   "cell_type": "code",
   "execution_count": 60,
   "metadata": {
    "scrolled": false
   },
   "outputs": [
    {
     "data": {
      "text/html": [
       "<div>\n",
       "<style scoped>\n",
       "    .dataframe tbody tr th:only-of-type {\n",
       "        vertical-align: middle;\n",
       "    }\n",
       "\n",
       "    .dataframe tbody tr th {\n",
       "        vertical-align: top;\n",
       "    }\n",
       "\n",
       "    .dataframe thead th {\n",
       "        text-align: right;\n",
       "    }\n",
       "</style>\n",
       "<table border=\"1\" class=\"dataframe\">\n",
       "  <thead>\n",
       "    <tr style=\"text-align: right;\">\n",
       "      <th></th>\n",
       "      <th>region</th>\n",
       "      <th>price</th>\n",
       "      <th>year</th>\n",
       "      <th>manufacturer</th>\n",
       "      <th>model</th>\n",
       "      <th>condition</th>\n",
       "      <th>cylinders</th>\n",
       "      <th>fuel</th>\n",
       "      <th>odometer</th>\n",
       "      <th>title_status</th>\n",
       "      <th>transmission</th>\n",
       "      <th>drive</th>\n",
       "      <th>size</th>\n",
       "      <th>type</th>\n",
       "      <th>paint_color</th>\n",
       "      <th>state</th>\n",
       "    </tr>\n",
       "  </thead>\n",
       "  <tbody>\n",
       "    <tr>\n",
       "      <th>27</th>\n",
       "      <td>auburn</td>\n",
       "      <td>33590</td>\n",
       "      <td>2014.0</td>\n",
       "      <td>gmc</td>\n",
       "      <td>sierra 1500 crew cab slt</td>\n",
       "      <td>good</td>\n",
       "      <td>8 cylinders</td>\n",
       "      <td>gas</td>\n",
       "      <td>57923.0</td>\n",
       "      <td>clean</td>\n",
       "      <td>other</td>\n",
       "      <td>NaN</td>\n",
       "      <td>NaN</td>\n",
       "      <td>pickup</td>\n",
       "      <td>white</td>\n",
       "      <td>al</td>\n",
       "    </tr>\n",
       "    <tr>\n",
       "      <th>28</th>\n",
       "      <td>auburn</td>\n",
       "      <td>22590</td>\n",
       "      <td>2010.0</td>\n",
       "      <td>chevrolet</td>\n",
       "      <td>silverado 1500</td>\n",
       "      <td>good</td>\n",
       "      <td>8 cylinders</td>\n",
       "      <td>gas</td>\n",
       "      <td>71229.0</td>\n",
       "      <td>clean</td>\n",
       "      <td>other</td>\n",
       "      <td>NaN</td>\n",
       "      <td>NaN</td>\n",
       "      <td>pickup</td>\n",
       "      <td>blue</td>\n",
       "      <td>al</td>\n",
       "    </tr>\n",
       "    <tr>\n",
       "      <th>29</th>\n",
       "      <td>auburn</td>\n",
       "      <td>39590</td>\n",
       "      <td>2020.0</td>\n",
       "      <td>chevrolet</td>\n",
       "      <td>silverado 1500 crew</td>\n",
       "      <td>good</td>\n",
       "      <td>8 cylinders</td>\n",
       "      <td>gas</td>\n",
       "      <td>19160.0</td>\n",
       "      <td>clean</td>\n",
       "      <td>other</td>\n",
       "      <td>NaN</td>\n",
       "      <td>NaN</td>\n",
       "      <td>pickup</td>\n",
       "      <td>red</td>\n",
       "      <td>al</td>\n",
       "    </tr>\n",
       "    <tr>\n",
       "      <th>30</th>\n",
       "      <td>auburn</td>\n",
       "      <td>30990</td>\n",
       "      <td>2017.0</td>\n",
       "      <td>toyota</td>\n",
       "      <td>tundra double cab sr</td>\n",
       "      <td>good</td>\n",
       "      <td>8 cylinders</td>\n",
       "      <td>gas</td>\n",
       "      <td>41124.0</td>\n",
       "      <td>clean</td>\n",
       "      <td>other</td>\n",
       "      <td>NaN</td>\n",
       "      <td>NaN</td>\n",
       "      <td>pickup</td>\n",
       "      <td>red</td>\n",
       "      <td>al</td>\n",
       "    </tr>\n",
       "    <tr>\n",
       "      <th>31</th>\n",
       "      <td>auburn</td>\n",
       "      <td>15000</td>\n",
       "      <td>2013.0</td>\n",
       "      <td>ford</td>\n",
       "      <td>f-150 xlt</td>\n",
       "      <td>excellent</td>\n",
       "      <td>6 cylinders</td>\n",
       "      <td>gas</td>\n",
       "      <td>128000.0</td>\n",
       "      <td>clean</td>\n",
       "      <td>automatic</td>\n",
       "      <td>rwd</td>\n",
       "      <td>full-size</td>\n",
       "      <td>truck</td>\n",
       "      <td>black</td>\n",
       "      <td>al</td>\n",
       "    </tr>\n",
       "  </tbody>\n",
       "</table>\n",
       "</div>"
      ],
      "text/plain": [
       "    region  price    year manufacturer                     model  condition  \\\n",
       "27  auburn  33590  2014.0          gmc  sierra 1500 crew cab slt       good   \n",
       "28  auburn  22590  2010.0    chevrolet            silverado 1500       good   \n",
       "29  auburn  39590  2020.0    chevrolet       silverado 1500 crew       good   \n",
       "30  auburn  30990  2017.0       toyota      tundra double cab sr       good   \n",
       "31  auburn  15000  2013.0         ford                 f-150 xlt  excellent   \n",
       "\n",
       "      cylinders fuel  odometer title_status transmission drive       size  \\\n",
       "27  8 cylinders  gas   57923.0        clean        other   NaN        NaN   \n",
       "28  8 cylinders  gas   71229.0        clean        other   NaN        NaN   \n",
       "29  8 cylinders  gas   19160.0        clean        other   NaN        NaN   \n",
       "30  8 cylinders  gas   41124.0        clean        other   NaN        NaN   \n",
       "31  6 cylinders  gas  128000.0        clean    automatic   rwd  full-size   \n",
       "\n",
       "      type paint_color state  \n",
       "27  pickup       white    al  \n",
       "28  pickup        blue    al  \n",
       "29  pickup         red    al  \n",
       "30  pickup         red    al  \n",
       "31   truck       black    al  "
      ]
     },
     "execution_count": 60,
     "metadata": {},
     "output_type": "execute_result"
    }
   ],
   "source": [
    "df_yo.drop(['id', 'url', 'region_url', 'VIN', 'image_url', 'description', 'lat', 'long', 'posting_date'], axis=1, inplace=True)\n",
    "df_yo.head()"
   ]
  },
  {
   "cell_type": "code",
   "execution_count": 61,
   "metadata": {},
   "outputs": [
    {
     "name": "stdout",
     "output_type": "stream",
     "text": [
      "<class 'pandas.core.frame.DataFrame'>\n",
      "Int64Index: 151995 entries, 31 to 426872\n",
      "Data columns (total 16 columns):\n",
      " #   Column        Non-Null Count   Dtype  \n",
      "---  ------        --------------   -----  \n",
      " 0   region        151995 non-null  object \n",
      " 1   price         151995 non-null  int64  \n",
      " 2   year          151995 non-null  float64\n",
      " 3   manufacturer  151995 non-null  object \n",
      " 4   model         151995 non-null  object \n",
      " 5   condition     151995 non-null  object \n",
      " 6   cylinders     151995 non-null  object \n",
      " 7   fuel          151995 non-null  object \n",
      " 8   odometer      151995 non-null  float64\n",
      " 9   title_status  151995 non-null  object \n",
      " 10  transmission  151995 non-null  object \n",
      " 11  drive         151995 non-null  object \n",
      " 12  size          151995 non-null  object \n",
      " 13  type          151995 non-null  object \n",
      " 14  paint_color   151995 non-null  object \n",
      " 15  state         151995 non-null  object \n",
      "dtypes: float64(2), int64(1), object(13)\n",
      "memory usage: 19.7+ MB\n"
     ]
    }
   ],
   "source": [
    "df_yo1 = df_yo.copy()\n",
    "df_yo1.dropna(inplace=True)\n",
    "df_yo1.info()"
   ]
  },
  {
   "cell_type": "code",
   "execution_count": 64,
   "metadata": {},
   "outputs": [],
   "source": [
    "# import pickle\n",
    "# with open('cars.pkl', 'wb') as carpickle:\n",
    "#     pickle.dump(df_yo1,carpickle)"
   ]
  },
  {
   "cell_type": "code",
   "execution_count": 62,
   "metadata": {},
   "outputs": [],
   "source": [
    "df_yo2=df_yo.copy()"
   ]
  },
  {
   "cell_type": "code",
   "execution_count": 63,
   "metadata": {
    "scrolled": false
   },
   "outputs": [
    {
     "name": "stdout",
     "output_type": "stream",
     "text": [
      "<class 'pandas.core.frame.DataFrame'>\n",
      "Int64Index: 291525 entries, 27 to 426878\n",
      "Data columns (total 13 columns):\n",
      " #   Column        Non-Null Count   Dtype  \n",
      "---  ------        --------------   -----  \n",
      " 0   region        291525 non-null  object \n",
      " 1   price         291525 non-null  int64  \n",
      " 2   year          291525 non-null  float64\n",
      " 3   manufacturer  291525 non-null  object \n",
      " 4   model         291525 non-null  object \n",
      " 5   condition     291525 non-null  object \n",
      " 6   cylinders     291525 non-null  object \n",
      " 7   fuel          291525 non-null  object \n",
      " 8   odometer      291525 non-null  float64\n",
      " 9   title_status  291525 non-null  object \n",
      " 10  transmission  291525 non-null  object \n",
      " 11  type          291525 non-null  object \n",
      " 12  state         291525 non-null  object \n",
      "dtypes: float64(2), int64(1), object(10)\n",
      "memory usage: 31.1+ MB\n"
     ]
    }
   ],
   "source": [
    "df_yo2.drop(['drive', 'size', 'paint_color'], axis=1,inplace=True)\n",
    "df_yo2.dropna(inplace=True)\n",
    "df_yo2.info()"
   ]
  },
  {
   "cell_type": "code",
   "execution_count": 64,
   "metadata": {},
   "outputs": [
    {
     "data": {
      "text/html": [
       "<div>\n",
       "<style scoped>\n",
       "    .dataframe tbody tr th:only-of-type {\n",
       "        vertical-align: middle;\n",
       "    }\n",
       "\n",
       "    .dataframe tbody tr th {\n",
       "        vertical-align: top;\n",
       "    }\n",
       "\n",
       "    .dataframe thead th {\n",
       "        text-align: right;\n",
       "    }\n",
       "</style>\n",
       "<table border=\"1\" class=\"dataframe\">\n",
       "  <thead>\n",
       "    <tr style=\"text-align: right;\">\n",
       "      <th></th>\n",
       "      <th>region</th>\n",
       "      <th>price</th>\n",
       "      <th>year</th>\n",
       "      <th>manufacturer</th>\n",
       "      <th>model</th>\n",
       "      <th>condition</th>\n",
       "      <th>cylinders</th>\n",
       "      <th>fuel</th>\n",
       "      <th>odometer</th>\n",
       "      <th>title_status</th>\n",
       "      <th>transmission</th>\n",
       "      <th>type</th>\n",
       "      <th>state</th>\n",
       "    </tr>\n",
       "  </thead>\n",
       "  <tbody>\n",
       "    <tr>\n",
       "      <th>27</th>\n",
       "      <td>auburn</td>\n",
       "      <td>33590</td>\n",
       "      <td>2014.0</td>\n",
       "      <td>gmc</td>\n",
       "      <td>sierra 1500 crew cab slt</td>\n",
       "      <td>good</td>\n",
       "      <td>8 cylinders</td>\n",
       "      <td>gas</td>\n",
       "      <td>57923.0</td>\n",
       "      <td>clean</td>\n",
       "      <td>other</td>\n",
       "      <td>pickup</td>\n",
       "      <td>al</td>\n",
       "    </tr>\n",
       "    <tr>\n",
       "      <th>28</th>\n",
       "      <td>auburn</td>\n",
       "      <td>22590</td>\n",
       "      <td>2010.0</td>\n",
       "      <td>chevrolet</td>\n",
       "      <td>silverado 1500</td>\n",
       "      <td>good</td>\n",
       "      <td>8 cylinders</td>\n",
       "      <td>gas</td>\n",
       "      <td>71229.0</td>\n",
       "      <td>clean</td>\n",
       "      <td>other</td>\n",
       "      <td>pickup</td>\n",
       "      <td>al</td>\n",
       "    </tr>\n",
       "    <tr>\n",
       "      <th>29</th>\n",
       "      <td>auburn</td>\n",
       "      <td>39590</td>\n",
       "      <td>2020.0</td>\n",
       "      <td>chevrolet</td>\n",
       "      <td>silverado 1500 crew</td>\n",
       "      <td>good</td>\n",
       "      <td>8 cylinders</td>\n",
       "      <td>gas</td>\n",
       "      <td>19160.0</td>\n",
       "      <td>clean</td>\n",
       "      <td>other</td>\n",
       "      <td>pickup</td>\n",
       "      <td>al</td>\n",
       "    </tr>\n",
       "    <tr>\n",
       "      <th>30</th>\n",
       "      <td>auburn</td>\n",
       "      <td>30990</td>\n",
       "      <td>2017.0</td>\n",
       "      <td>toyota</td>\n",
       "      <td>tundra double cab sr</td>\n",
       "      <td>good</td>\n",
       "      <td>8 cylinders</td>\n",
       "      <td>gas</td>\n",
       "      <td>41124.0</td>\n",
       "      <td>clean</td>\n",
       "      <td>other</td>\n",
       "      <td>pickup</td>\n",
       "      <td>al</td>\n",
       "    </tr>\n",
       "    <tr>\n",
       "      <th>31</th>\n",
       "      <td>auburn</td>\n",
       "      <td>15000</td>\n",
       "      <td>2013.0</td>\n",
       "      <td>ford</td>\n",
       "      <td>f-150 xlt</td>\n",
       "      <td>excellent</td>\n",
       "      <td>6 cylinders</td>\n",
       "      <td>gas</td>\n",
       "      <td>128000.0</td>\n",
       "      <td>clean</td>\n",
       "      <td>automatic</td>\n",
       "      <td>truck</td>\n",
       "      <td>al</td>\n",
       "    </tr>\n",
       "  </tbody>\n",
       "</table>\n",
       "</div>"
      ],
      "text/plain": [
       "    region  price    year manufacturer                     model  condition  \\\n",
       "27  auburn  33590  2014.0          gmc  sierra 1500 crew cab slt       good   \n",
       "28  auburn  22590  2010.0    chevrolet            silverado 1500       good   \n",
       "29  auburn  39590  2020.0    chevrolet       silverado 1500 crew       good   \n",
       "30  auburn  30990  2017.0       toyota      tundra double cab sr       good   \n",
       "31  auburn  15000  2013.0         ford                 f-150 xlt  excellent   \n",
       "\n",
       "      cylinders fuel  odometer title_status transmission    type state  \n",
       "27  8 cylinders  gas   57923.0        clean        other  pickup    al  \n",
       "28  8 cylinders  gas   71229.0        clean        other  pickup    al  \n",
       "29  8 cylinders  gas   19160.0        clean        other  pickup    al  \n",
       "30  8 cylinders  gas   41124.0        clean        other  pickup    al  \n",
       "31  6 cylinders  gas  128000.0        clean    automatic   truck    al  "
      ]
     },
     "execution_count": 64,
     "metadata": {},
     "output_type": "execute_result"
    }
   ],
   "source": [
    "df_yo2.head()"
   ]
  },
  {
   "cell_type": "code",
   "execution_count": 61,
   "metadata": {},
   "outputs": [
    {
     "ename": "NameError",
     "evalue": "name 'pickle' is not defined",
     "output_type": "error",
     "traceback": [
      "\u001b[1;31m---------------------------------------------------------------------------\u001b[0m",
      "\u001b[1;31mNameError\u001b[0m                                 Traceback (most recent call last)",
      "\u001b[1;32m<ipython-input-61-270f8255aa75>\u001b[0m in \u001b[0;36m<module>\u001b[1;34m\u001b[0m\n\u001b[0;32m      1\u001b[0m \u001b[1;32mwith\u001b[0m \u001b[0mopen\u001b[0m\u001b[1;33m(\u001b[0m\u001b[1;34m'cars_witthout_drive_size_paint_NaN.pkl'\u001b[0m\u001b[1;33m,\u001b[0m \u001b[1;34m'wb'\u001b[0m\u001b[1;33m)\u001b[0m \u001b[1;32mas\u001b[0m \u001b[0mcarpickles\u001b[0m\u001b[1;33m:\u001b[0m\u001b[1;33m\u001b[0m\u001b[1;33m\u001b[0m\u001b[0m\n\u001b[1;32m----> 2\u001b[1;33m     \u001b[0mpickle\u001b[0m\u001b[1;33m.\u001b[0m\u001b[0mdump\u001b[0m\u001b[1;33m(\u001b[0m\u001b[0mdf_yo2\u001b[0m\u001b[1;33m,\u001b[0m\u001b[0mcarpickles\u001b[0m\u001b[1;33m)\u001b[0m\u001b[1;33m\u001b[0m\u001b[1;33m\u001b[0m\u001b[0m\n\u001b[0m",
      "\u001b[1;31mNameError\u001b[0m: name 'pickle' is not defined"
     ]
    }
   ],
   "source": [
    "# with open('cars_witthout_drive_size_paint_NaN.pkl', 'wb') as carpickles:\n",
    "#     pickle.dump(df_yo2,carpickles)"
   ]
  },
  {
   "cell_type": "code",
   "execution_count": 65,
   "metadata": {
    "scrolled": false
   },
   "outputs": [
    {
     "data": {
      "text/plain": [
       "white     37949\n",
       "black     30883\n",
       "silver    23550\n",
       "grey      16847\n",
       "blue      15587\n",
       "red       14557\n",
       "custom     4249\n",
       "brown      3388\n",
       "green      2962\n",
       "orange      847\n",
       "yellow      839\n",
       "purple      365\n",
       "Name: paint_color, dtype: int64"
      ]
     },
     "execution_count": 65,
     "metadata": {},
     "output_type": "execute_result"
    }
   ],
   "source": [
    "df_yo1['paint_color'].value_counts()"
   ]
  },
  {
   "cell_type": "code",
   "execution_count": 62,
   "metadata": {},
   "outputs": [
    {
     "data": {
      "text/html": [
       "<div>\n",
       "<style scoped>\n",
       "    .dataframe tbody tr th:only-of-type {\n",
       "        vertical-align: middle;\n",
       "    }\n",
       "\n",
       "    .dataframe tbody tr th {\n",
       "        vertical-align: top;\n",
       "    }\n",
       "\n",
       "    .dataframe thead th {\n",
       "        text-align: right;\n",
       "    }\n",
       "</style>\n",
       "<table border=\"1\" class=\"dataframe\">\n",
       "  <thead>\n",
       "    <tr style=\"text-align: right;\">\n",
       "      <th></th>\n",
       "      <th>region</th>\n",
       "      <th>price</th>\n",
       "      <th>year</th>\n",
       "      <th>manufacturer</th>\n",
       "      <th>model</th>\n",
       "      <th>condition</th>\n",
       "      <th>cylinders</th>\n",
       "      <th>fuel</th>\n",
       "      <th>odometer</th>\n",
       "      <th>title_status</th>\n",
       "      <th>transmission</th>\n",
       "      <th>drive</th>\n",
       "      <th>size</th>\n",
       "      <th>type</th>\n",
       "      <th>paint_color</th>\n",
       "      <th>state</th>\n",
       "    </tr>\n",
       "  </thead>\n",
       "  <tbody>\n",
       "    <tr>\n",
       "      <th>31</th>\n",
       "      <td>auburn</td>\n",
       "      <td>15000</td>\n",
       "      <td>2013.0</td>\n",
       "      <td>ford</td>\n",
       "      <td>f-150 xlt</td>\n",
       "      <td>excellent</td>\n",
       "      <td>6 cylinders</td>\n",
       "      <td>gas</td>\n",
       "      <td>128000.0</td>\n",
       "      <td>clean</td>\n",
       "      <td>automatic</td>\n",
       "      <td>rwd</td>\n",
       "      <td>full-size</td>\n",
       "      <td>truck</td>\n",
       "      <td>black</td>\n",
       "      <td>al</td>\n",
       "    </tr>\n",
       "    <tr>\n",
       "      <th>55</th>\n",
       "      <td>auburn</td>\n",
       "      <td>19900</td>\n",
       "      <td>2004.0</td>\n",
       "      <td>ford</td>\n",
       "      <td>f250 super duty</td>\n",
       "      <td>good</td>\n",
       "      <td>8 cylinders</td>\n",
       "      <td>diesel</td>\n",
       "      <td>88000.0</td>\n",
       "      <td>clean</td>\n",
       "      <td>automatic</td>\n",
       "      <td>4wd</td>\n",
       "      <td>full-size</td>\n",
       "      <td>pickup</td>\n",
       "      <td>blue</td>\n",
       "      <td>al</td>\n",
       "    </tr>\n",
       "    <tr>\n",
       "      <th>59</th>\n",
       "      <td>auburn</td>\n",
       "      <td>14000</td>\n",
       "      <td>2012.0</td>\n",
       "      <td>honda</td>\n",
       "      <td>odyssey</td>\n",
       "      <td>excellent</td>\n",
       "      <td>6 cylinders</td>\n",
       "      <td>gas</td>\n",
       "      <td>95000.0</td>\n",
       "      <td>clean</td>\n",
       "      <td>automatic</td>\n",
       "      <td>fwd</td>\n",
       "      <td>full-size</td>\n",
       "      <td>mini-van</td>\n",
       "      <td>silver</td>\n",
       "      <td>al</td>\n",
       "    </tr>\n",
       "    <tr>\n",
       "      <th>73</th>\n",
       "      <td>auburn</td>\n",
       "      <td>15000</td>\n",
       "      <td>2017.0</td>\n",
       "      <td>dodge</td>\n",
       "      <td>charger rt 4dr sedan</td>\n",
       "      <td>excellent</td>\n",
       "      <td>8 cylinders</td>\n",
       "      <td>gas</td>\n",
       "      <td>90000.0</td>\n",
       "      <td>rebuilt</td>\n",
       "      <td>automatic</td>\n",
       "      <td>rwd</td>\n",
       "      <td>mid-size</td>\n",
       "      <td>sedan</td>\n",
       "      <td>grey</td>\n",
       "      <td>al</td>\n",
       "    </tr>\n",
       "    <tr>\n",
       "      <th>86</th>\n",
       "      <td>auburn</td>\n",
       "      <td>3000</td>\n",
       "      <td>2004.0</td>\n",
       "      <td>chrysler</td>\n",
       "      <td>town &amp; country</td>\n",
       "      <td>good</td>\n",
       "      <td>6 cylinders</td>\n",
       "      <td>gas</td>\n",
       "      <td>176144.0</td>\n",
       "      <td>clean</td>\n",
       "      <td>automatic</td>\n",
       "      <td>fwd</td>\n",
       "      <td>mid-size</td>\n",
       "      <td>mini-van</td>\n",
       "      <td>silver</td>\n",
       "      <td>al</td>\n",
       "    </tr>\n",
       "  </tbody>\n",
       "</table>\n",
       "</div>"
      ],
      "text/plain": [
       "    region  price    year manufacturer                 model  condition  \\\n",
       "31  auburn  15000  2013.0         ford             f-150 xlt  excellent   \n",
       "55  auburn  19900  2004.0         ford       f250 super duty       good   \n",
       "59  auburn  14000  2012.0        honda               odyssey  excellent   \n",
       "73  auburn  15000  2017.0        dodge  charger rt 4dr sedan  excellent   \n",
       "86  auburn   3000  2004.0     chrysler        town & country       good   \n",
       "\n",
       "      cylinders    fuel  odometer title_status transmission drive       size  \\\n",
       "31  6 cylinders     gas  128000.0        clean    automatic   rwd  full-size   \n",
       "55  8 cylinders  diesel   88000.0        clean    automatic   4wd  full-size   \n",
       "59  6 cylinders     gas   95000.0        clean    automatic   fwd  full-size   \n",
       "73  8 cylinders     gas   90000.0      rebuilt    automatic   rwd   mid-size   \n",
       "86  6 cylinders     gas  176144.0        clean    automatic   fwd   mid-size   \n",
       "\n",
       "        type paint_color state  \n",
       "31     truck       black    al  \n",
       "55    pickup        blue    al  \n",
       "59  mini-van      silver    al  \n",
       "73     sedan        grey    al  \n",
       "86  mini-van      silver    al  "
      ]
     },
     "execution_count": 62,
     "metadata": {},
     "output_type": "execute_result"
    }
   ],
   "source": [
    "df_yo1.head()"
   ]
  },
  {
   "cell_type": "code",
   "execution_count": null,
   "metadata": {},
   "outputs": [],
   "source": [
    "# sample2 = manu_desc['description']"
   ]
  },
  {
   "cell_type": "code",
   "execution_count": null,
   "metadata": {},
   "outputs": [],
   "source": [
    "# pattern = \"([a-zA-Z]+(?:'[a-z]+)?)\"\n",
    "# tokenizer = RegexpTokenizer(pattern)\n",
    "# sample_doc = tokenizer.tokenize(sample)\n",
    "# sample_doc = [token.lower() for token in sample_doc]\n",
    "# sw =stopwords.words('english')\n",
    "# sample_doc = [token for token in sample_doc if token not in sw]"
   ]
  },
  {
   "cell_type": "code",
   "execution_count": null,
   "metadata": {},
   "outputs": [],
   "source": [
    "# pattern_2 = \"([a-zA-Z]+(?:'[a-z]+)?)\"\n",
    "# tokenizer = RegexpTokenizer(pattern_2)"
   ]
  },
  {
   "cell_type": "code",
   "execution_count": null,
   "metadata": {
    "scrolled": false
   },
   "outputs": [],
   "source": [
    "# pattern_2 = \"([a-zA-Z]+(?:'[a-z]+)?)\"\n",
    "# tokenizer = RegexpTokenizer(pattern_2)\n",
    "# manu_desc['tokenized_sents'] = manu_desc.apply(lambda row: tokenizer.tokenize(row['description']), axis=1)\n"
   ]
  },
  {
   "cell_type": "code",
   "execution_count": null,
   "metadata": {},
   "outputs": [],
   "source": [
    "# manu_desc['new'] = manu_desc['tokenized_sents'].str.split()\n",
    "# manu_desc.head()"
   ]
  },
  {
   "cell_type": "code",
   "execution_count": null,
   "metadata": {
    "scrolled": true
   },
   "outputs": [],
   "source": [
    "# manu_desc['description'] =manu_desc['description'].str.split()\n",
    "# manu_desc.head()"
   ]
  },
  {
   "cell_type": "code",
   "execution_count": null,
   "metadata": {},
   "outputs": [],
   "source": [
    "# manu_desc['description'] = manu_desc['description'].lower()\n",
    "# manu_desc.head()"
   ]
  },
  {
   "cell_type": "code",
   "execution_count": null,
   "metadata": {
    "scrolled": true
   },
   "outputs": [],
   "source": [
    "# manu_desc['description'] = manu_desc['description'].str.lower()"
   ]
  },
  {
   "cell_type": "code",
   "execution_count": null,
   "metadata": {},
   "outputs": [],
   "source": [
    "# manu_desc['exists'] = manu_desc.drop('manufacturer', 1).isin(manu_desc['manufacturer']).any(1) \n",
    "# manu_desc.exists.value_counts()"
   ]
  },
  {
   "cell_type": "code",
   "execution_count": null,
   "metadata": {},
   "outputs": [],
   "source": [
    "# manu_desc[\"test\"] = np.where(manu_desc[\"tokenized_sents\"].isin(manufacturer), 'Other')\n"
   ]
  },
  {
   "cell_type": "code",
   "execution_count": null,
   "metadata": {},
   "outputs": [],
   "source": [
    "# manu_desc['tokenized_sents'].lower()"
   ]
  },
  {
   "cell_type": "code",
   "execution_count": null,
   "metadata": {},
   "outputs": [],
   "source": [
    "# car1 = set(unique_manufacturer) & set(manu_desc['tokenized_sents'][0])\n",
    "# car1"
   ]
  },
  {
   "cell_type": "code",
   "execution_count": null,
   "metadata": {},
   "outputs": [],
   "source": [
    "# set(manu_desc['tokenized_sents'][0])"
   ]
  },
  {
   "cell_type": "code",
   "execution_count": null,
   "metadata": {},
   "outputs": [],
   "source": [
    "# df_new = manu_desc[manu_desc['tokenized_sents'].isin(['toyota'])]\n",
    "# df_new.head()"
   ]
  }
 ],
 "metadata": {
  "kernelspec": {
   "display_name": "Python (learn-env)",
   "language": "python",
   "name": "learn-env"
  },
  "language_info": {
   "codemirror_mode": {
    "name": "ipython",
    "version": 3
   },
   "file_extension": ".py",
   "mimetype": "text/x-python",
   "name": "python",
   "nbconvert_exporter": "python",
   "pygments_lexer": "ipython3",
   "version": "3.8.5"
  }
 },
 "nbformat": 4,
 "nbformat_minor": 4
}
