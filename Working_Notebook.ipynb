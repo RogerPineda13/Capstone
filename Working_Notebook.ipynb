{
 "cells": [
  {
   "cell_type": "code",
   "execution_count": 1,
   "metadata": {},
   "outputs": [],
   "source": [
    "import pandas as pd\n",
    "import numpy as np\n",
    "import seaborn as sns\n",
    "from sklearn.preprocessing import OneHotEncoder\n",
    "from sklearn.preprocessing import OrdinalEncoder\n",
    "from sklearn.linear_model import LinearRegression\n",
    "from sklearn.metrics import mean_squared_error\n",
    "from sklearn.preprocessing import StandardScaler\n",
    "from sklearn.model_selection import cross_val_score\n",
    "from statsmodels.formula.api import ols\n",
    "from sklearn.impute import SimpleImputer\n",
    "from sklearn.model_selection import train_test_split\n",
    "from sklearn.dummy import DummyRegressor\n",
    "import matplotlib.pyplot as plt\n",
    "import statsmodels.api as sm\n",
    "%load_ext autoreload\n",
    "%autoreload 2\n",
    "\n",
    "import os\n",
    "import sys\n",
    "module_path = os.path.abspath(os.path.join(os.pardir, os.pardir))\n",
    "if module_path not in sys.path:\n",
    "    sys.path.append(module_path)\n",
    "    \n",
    "import pandas as pd\n",
    "import nltk\n",
    "from nltk.probability import FreqDist\n",
    "from nltk.corpus import stopwords\n",
    "from nltk.tokenize import regexp_tokenize, word_tokenize, RegexpTokenizer\n",
    "from nltk import pos_tag\n",
    "from nltk.corpus import wordnet\n",
    "import matplotlib.pyplot as plt\n",
    "import string\n",
    "import re\n",
    "\n",
    "# Notice that these vectorizers are from `sklearn` and not `nltk`!\n",
    "from sklearn.feature_extraction.text import CountVectorizer, TfidfVectorizer,\\\n",
    "HashingVectorizer\n",
    "%matplotlib inline"
   ]
  },
  {
   "cell_type": "code",
   "execution_count": 2,
   "metadata": {},
   "outputs": [],
   "source": [
    "df= pd.read_csv('CraigslistCars.csv')"
   ]
  },
  {
   "cell_type": "code",
   "execution_count": 3,
   "metadata": {
    "scrolled": false
   },
   "outputs": [],
   "source": [
    "df_1 = df.copy()"
   ]
  },
  {
   "cell_type": "code",
   "execution_count": null,
   "metadata": {
    "scrolled": true
   },
   "outputs": [],
   "source": [
    "df_1.head()\n"
   ]
  },
  {
   "cell_type": "code",
   "execution_count": null,
   "metadata": {},
   "outputs": [],
   "source": [
    "df_1.sample()"
   ]
  },
  {
   "cell_type": "code",
   "execution_count": null,
   "metadata": {
    "scrolled": true
   },
   "outputs": [],
   "source": [
    "df_1.columns"
   ]
  },
  {
   "cell_type": "code",
   "execution_count": null,
   "metadata": {},
   "outputs": [],
   "source": [
    "df_1.price.min(), df_1.price.max()"
   ]
  },
  {
   "cell_type": "code",
   "execution_count": null,
   "metadata": {
    "scrolled": true
   },
   "outputs": [],
   "source": [
    "df_1.loc[df_1['price'] == df_1.price.min(), ['year']], df_1.loc[df_1['price']==df_1.price.max(), ['year']]"
   ]
  },
  {
   "cell_type": "code",
   "execution_count": null,
   "metadata": {},
   "outputs": [],
   "source": [
    "# Want to remove the outliers and the cars with 0 as a value of the data on price, look at an inner 90% of the data"
   ]
  },
  {
   "cell_type": "code",
   "execution_count": null,
   "metadata": {},
   "outputs": [],
   "source": [
    "df_1['price'] = df_1['price'][df_1['price'].between(df_1['price'].quantile(.085), df_1['price'].quantile(.985),inclusive=True)]\n",
    "df_1.price.min(), df_1.price.max()\n",
    "# shows 100 - 59999 is an inner 90%%"
   ]
  },
  {
   "cell_type": "code",
   "execution_count": null,
   "metadata": {},
   "outputs": [],
   "source": [
    "# Want new df with just price values that range from 100 to 59999"
   ]
  },
  {
   "cell_type": "code",
   "execution_count": 4,
   "metadata": {},
   "outputs": [
    {
     "data": {
      "text/plain": [
       "(           id                                                url  \\\n",
       " 0  7222695916  https://prescott.craigslist.org/cto/d/prescott...   \n",
       " 1  7218891961  https://fayar.craigslist.org/ctd/d/bentonville...   \n",
       " 2  7221797935  https://keys.craigslist.org/cto/d/summerland-k...   \n",
       " 3  7222270760  https://worcester.craigslist.org/cto/d/west-br...   \n",
       " 4  7210384030  https://greensboro.craigslist.org/cto/d/trinit...   \n",
       " \n",
       "                    region                         region_url  price  year  \\\n",
       " 0                prescott    https://prescott.craigslist.org   6000   NaN   \n",
       " 1            fayetteville       https://fayar.craigslist.org  11900   NaN   \n",
       " 2            florida keys        https://keys.craigslist.org  21000   NaN   \n",
       " 3  worcester / central MA   https://worcester.craigslist.org   1500   NaN   \n",
       " 4              greensboro  https://greensboro.craigslist.org   4900   NaN   \n",
       " \n",
       "   manufacturer model condition cylinders  ... size  type paint_color  \\\n",
       " 0          NaN   NaN       NaN       NaN  ...  NaN   NaN         NaN   \n",
       " 1          NaN   NaN       NaN       NaN  ...  NaN   NaN         NaN   \n",
       " 2          NaN   NaN       NaN       NaN  ...  NaN   NaN         NaN   \n",
       " 3          NaN   NaN       NaN       NaN  ...  NaN   NaN         NaN   \n",
       " 4          NaN   NaN       NaN       NaN  ...  NaN   NaN         NaN   \n",
       " \n",
       "   image_url description county state lat long posting_date  \n",
       " 0       NaN         NaN    NaN    az NaN  NaN          NaN  \n",
       " 1       NaN         NaN    NaN    ar NaN  NaN          NaN  \n",
       " 2       NaN         NaN    NaN    fl NaN  NaN          NaN  \n",
       " 3       NaN         NaN    NaN    ma NaN  NaN          NaN  \n",
       " 4       NaN         NaN    NaN    nc NaN  NaN          NaN  \n",
       " \n",
       " [5 rows x 26 columns],\n",
       " 383903)"
      ]
     },
     "execution_count": 4,
     "metadata": {},
     "output_type": "execute_result"
    }
   ],
   "source": [
    "df_2 = df_1.loc[(df_1['price']>100) & (df_1['price'] <59999)].copy()\n",
    "df_2.head(), len(df_2)"
   ]
  },
  {
   "cell_type": "code",
   "execution_count": 26,
   "metadata": {
    "scrolled": true
   },
   "outputs": [
    {
     "data": {
      "text/plain": [
       "id                   0\n",
       "url                  0\n",
       "region               0\n",
       "region_url           0\n",
       "price                0\n",
       "year              1018\n",
       "manufacturer     15164\n",
       "model             4321\n",
       "condition       145292\n",
       "cylinders       155429\n",
       "fuel              2564\n",
       "odometer          2221\n",
       "title_status      7543\n",
       "transmission      1775\n",
       "VIN             148750\n",
       "drive           117540\n",
       "size            276055\n",
       "type             82942\n",
       "paint_color     113668\n",
       "image_url           62\n",
       "description         64\n",
       "county          383903\n",
       "state                0\n",
       "lat               3461\n",
       "long              3461\n",
       "posting_date        62\n",
       "dtype: int64"
      ]
     },
     "execution_count": 26,
     "metadata": {},
     "output_type": "execute_result"
    }
   ],
   "source": [
    "df_2.isna().sum()"
   ]
  },
  {
   "cell_type": "code",
   "execution_count": null,
   "metadata": {},
   "outputs": [],
   "source": [
    "# year, manufacturer, model, condition, cylinders, fuel, odometer, title_status, transmission, VIN, drive, size, type, paint_color\n",
    "# image_url, description, county, state, lat, long, posting_date have Na values"
   ]
  },
  {
   "cell_type": "markdown",
   "metadata": {},
   "source": [
    "Deal With Na"
   ]
  },
  {
   "cell_type": "code",
   "execution_count": null,
   "metadata": {},
   "outputs": [],
   "source": [
    "len(df_2)"
   ]
  },
  {
   "cell_type": "code",
   "execution_count": null,
   "metadata": {},
   "outputs": [],
   "source": [
    "df_2['county'].value_counts()\n",
    "# is completely empty"
   ]
  },
  {
   "cell_type": "code",
   "execution_count": 5,
   "metadata": {
    "scrolled": true
   },
   "outputs": [
    {
     "data": {
      "text/html": [
       "<div>\n",
       "<style scoped>\n",
       "    .dataframe tbody tr th:only-of-type {\n",
       "        vertical-align: middle;\n",
       "    }\n",
       "\n",
       "    .dataframe tbody tr th {\n",
       "        vertical-align: top;\n",
       "    }\n",
       "\n",
       "    .dataframe thead th {\n",
       "        text-align: right;\n",
       "    }\n",
       "</style>\n",
       "<table border=\"1\" class=\"dataframe\">\n",
       "  <thead>\n",
       "    <tr style=\"text-align: right;\">\n",
       "      <th></th>\n",
       "      <th>id</th>\n",
       "      <th>url</th>\n",
       "      <th>region</th>\n",
       "      <th>region_url</th>\n",
       "      <th>price</th>\n",
       "      <th>year</th>\n",
       "      <th>manufacturer</th>\n",
       "      <th>model</th>\n",
       "      <th>condition</th>\n",
       "      <th>cylinders</th>\n",
       "      <th>...</th>\n",
       "      <th>drive</th>\n",
       "      <th>size</th>\n",
       "      <th>type</th>\n",
       "      <th>paint_color</th>\n",
       "      <th>image_url</th>\n",
       "      <th>description</th>\n",
       "      <th>state</th>\n",
       "      <th>lat</th>\n",
       "      <th>long</th>\n",
       "      <th>posting_date</th>\n",
       "    </tr>\n",
       "  </thead>\n",
       "  <tbody>\n",
       "    <tr>\n",
       "      <th>0</th>\n",
       "      <td>7222695916</td>\n",
       "      <td>https://prescott.craigslist.org/cto/d/prescott...</td>\n",
       "      <td>prescott</td>\n",
       "      <td>https://prescott.craigslist.org</td>\n",
       "      <td>6000</td>\n",
       "      <td>NaN</td>\n",
       "      <td>NaN</td>\n",
       "      <td>NaN</td>\n",
       "      <td>NaN</td>\n",
       "      <td>NaN</td>\n",
       "      <td>...</td>\n",
       "      <td>NaN</td>\n",
       "      <td>NaN</td>\n",
       "      <td>NaN</td>\n",
       "      <td>NaN</td>\n",
       "      <td>NaN</td>\n",
       "      <td>NaN</td>\n",
       "      <td>az</td>\n",
       "      <td>NaN</td>\n",
       "      <td>NaN</td>\n",
       "      <td>NaN</td>\n",
       "    </tr>\n",
       "    <tr>\n",
       "      <th>1</th>\n",
       "      <td>7218891961</td>\n",
       "      <td>https://fayar.craigslist.org/ctd/d/bentonville...</td>\n",
       "      <td>fayetteville</td>\n",
       "      <td>https://fayar.craigslist.org</td>\n",
       "      <td>11900</td>\n",
       "      <td>NaN</td>\n",
       "      <td>NaN</td>\n",
       "      <td>NaN</td>\n",
       "      <td>NaN</td>\n",
       "      <td>NaN</td>\n",
       "      <td>...</td>\n",
       "      <td>NaN</td>\n",
       "      <td>NaN</td>\n",
       "      <td>NaN</td>\n",
       "      <td>NaN</td>\n",
       "      <td>NaN</td>\n",
       "      <td>NaN</td>\n",
       "      <td>ar</td>\n",
       "      <td>NaN</td>\n",
       "      <td>NaN</td>\n",
       "      <td>NaN</td>\n",
       "    </tr>\n",
       "    <tr>\n",
       "      <th>2</th>\n",
       "      <td>7221797935</td>\n",
       "      <td>https://keys.craigslist.org/cto/d/summerland-k...</td>\n",
       "      <td>florida keys</td>\n",
       "      <td>https://keys.craigslist.org</td>\n",
       "      <td>21000</td>\n",
       "      <td>NaN</td>\n",
       "      <td>NaN</td>\n",
       "      <td>NaN</td>\n",
       "      <td>NaN</td>\n",
       "      <td>NaN</td>\n",
       "      <td>...</td>\n",
       "      <td>NaN</td>\n",
       "      <td>NaN</td>\n",
       "      <td>NaN</td>\n",
       "      <td>NaN</td>\n",
       "      <td>NaN</td>\n",
       "      <td>NaN</td>\n",
       "      <td>fl</td>\n",
       "      <td>NaN</td>\n",
       "      <td>NaN</td>\n",
       "      <td>NaN</td>\n",
       "    </tr>\n",
       "    <tr>\n",
       "      <th>3</th>\n",
       "      <td>7222270760</td>\n",
       "      <td>https://worcester.craigslist.org/cto/d/west-br...</td>\n",
       "      <td>worcester / central MA</td>\n",
       "      <td>https://worcester.craigslist.org</td>\n",
       "      <td>1500</td>\n",
       "      <td>NaN</td>\n",
       "      <td>NaN</td>\n",
       "      <td>NaN</td>\n",
       "      <td>NaN</td>\n",
       "      <td>NaN</td>\n",
       "      <td>...</td>\n",
       "      <td>NaN</td>\n",
       "      <td>NaN</td>\n",
       "      <td>NaN</td>\n",
       "      <td>NaN</td>\n",
       "      <td>NaN</td>\n",
       "      <td>NaN</td>\n",
       "      <td>ma</td>\n",
       "      <td>NaN</td>\n",
       "      <td>NaN</td>\n",
       "      <td>NaN</td>\n",
       "    </tr>\n",
       "    <tr>\n",
       "      <th>4</th>\n",
       "      <td>7210384030</td>\n",
       "      <td>https://greensboro.craigslist.org/cto/d/trinit...</td>\n",
       "      <td>greensboro</td>\n",
       "      <td>https://greensboro.craigslist.org</td>\n",
       "      <td>4900</td>\n",
       "      <td>NaN</td>\n",
       "      <td>NaN</td>\n",
       "      <td>NaN</td>\n",
       "      <td>NaN</td>\n",
       "      <td>NaN</td>\n",
       "      <td>...</td>\n",
       "      <td>NaN</td>\n",
       "      <td>NaN</td>\n",
       "      <td>NaN</td>\n",
       "      <td>NaN</td>\n",
       "      <td>NaN</td>\n",
       "      <td>NaN</td>\n",
       "      <td>nc</td>\n",
       "      <td>NaN</td>\n",
       "      <td>NaN</td>\n",
       "      <td>NaN</td>\n",
       "    </tr>\n",
       "  </tbody>\n",
       "</table>\n",
       "<p>5 rows × 25 columns</p>\n",
       "</div>"
      ],
      "text/plain": [
       "           id                                                url  \\\n",
       "0  7222695916  https://prescott.craigslist.org/cto/d/prescott...   \n",
       "1  7218891961  https://fayar.craigslist.org/ctd/d/bentonville...   \n",
       "2  7221797935  https://keys.craigslist.org/cto/d/summerland-k...   \n",
       "3  7222270760  https://worcester.craigslist.org/cto/d/west-br...   \n",
       "4  7210384030  https://greensboro.craigslist.org/cto/d/trinit...   \n",
       "\n",
       "                   region                         region_url  price  year  \\\n",
       "0                prescott    https://prescott.craigslist.org   6000   NaN   \n",
       "1            fayetteville       https://fayar.craigslist.org  11900   NaN   \n",
       "2            florida keys        https://keys.craigslist.org  21000   NaN   \n",
       "3  worcester / central MA   https://worcester.craigslist.org   1500   NaN   \n",
       "4              greensboro  https://greensboro.craigslist.org   4900   NaN   \n",
       "\n",
       "  manufacturer model condition cylinders  ... drive  size type paint_color  \\\n",
       "0          NaN   NaN       NaN       NaN  ...   NaN   NaN  NaN         NaN   \n",
       "1          NaN   NaN       NaN       NaN  ...   NaN   NaN  NaN         NaN   \n",
       "2          NaN   NaN       NaN       NaN  ...   NaN   NaN  NaN         NaN   \n",
       "3          NaN   NaN       NaN       NaN  ...   NaN   NaN  NaN         NaN   \n",
       "4          NaN   NaN       NaN       NaN  ...   NaN   NaN  NaN         NaN   \n",
       "\n",
       "  image_url description state lat long posting_date  \n",
       "0       NaN         NaN    az NaN  NaN          NaN  \n",
       "1       NaN         NaN    ar NaN  NaN          NaN  \n",
       "2       NaN         NaN    fl NaN  NaN          NaN  \n",
       "3       NaN         NaN    ma NaN  NaN          NaN  \n",
       "4       NaN         NaN    nc NaN  NaN          NaN  \n",
       "\n",
       "[5 rows x 25 columns]"
      ]
     },
     "execution_count": 5,
     "metadata": {},
     "output_type": "execute_result"
    }
   ],
   "source": [
    "df_2.drop('county', axis=1, inplace=True)\n",
    "df_2.head()"
   ]
  },
  {
   "cell_type": "markdown",
   "metadata": {},
   "source": [
    "County dealt with"
   ]
  },
  {
   "cell_type": "code",
   "execution_count": null,
   "metadata": {
    "scrolled": true
   },
   "outputs": [],
   "source": [
    "df_2['year'].value_counts()"
   ]
  },
  {
   "cell_type": "code",
   "execution_count": null,
   "metadata": {},
   "outputs": [],
   "source": [
    "df_2['year'].min()"
   ]
  },
  {
   "cell_type": "code",
   "execution_count": null,
   "metadata": {},
   "outputs": [],
   "source": [
    "df_2.year.max()"
   ]
  },
  {
   "cell_type": "code",
   "execution_count": null,
   "metadata": {
    "scrolled": false
   },
   "outputs": [],
   "source": [
    "unique_years = df_2['year'].unique()\n",
    "print(sorted(unique_years))"
   ]
  },
  {
   "cell_type": "code",
   "execution_count": null,
   "metadata": {},
   "outputs": [],
   "source": [
    "type(unique_years)"
   ]
  },
  {
   "cell_type": "code",
   "execution_count": null,
   "metadata": {},
   "outputs": [],
   "source": [
    "df_2.year.value_counts(normalize=True)"
   ]
  },
  {
   "cell_type": "code",
   "execution_count": null,
   "metadata": {},
   "outputs": [],
   "source": [
    "# Since only 1018 cars don't have the year it is ok to just drop the rows without a year as it only pertains to .3% of the\n",
    "# data\n"
   ]
  },
  {
   "cell_type": "code",
   "execution_count": 6,
   "metadata": {},
   "outputs": [],
   "source": [
    "df_2.dropna(subset=['year'], axis =0,inplace=True)"
   ]
  },
  {
   "cell_type": "code",
   "execution_count": 29,
   "metadata": {
    "scrolled": true
   },
   "outputs": [
    {
     "data": {
      "text/plain": [
       "id                   0\n",
       "url                  0\n",
       "region               0\n",
       "region_url           0\n",
       "price                0\n",
       "year                 0\n",
       "manufacturer     14147\n",
       "model             4259\n",
       "condition       144274\n",
       "cylinders       155361\n",
       "fuel              2312\n",
       "odometer          2158\n",
       "title_status      7259\n",
       "transmission      1713\n",
       "VIN             148688\n",
       "drive           117275\n",
       "size            275037\n",
       "type             82787\n",
       "paint_color     113531\n",
       "image_url            0\n",
       "description          2\n",
       "state                0\n",
       "lat               3399\n",
       "long              3399\n",
       "posting_date         0\n",
       "dtype: int64"
      ]
     },
     "execution_count": 29,
     "metadata": {},
     "output_type": "execute_result"
    }
   ],
   "source": [
    "df_2.isna().sum()"
   ]
  },
  {
   "cell_type": "code",
   "execution_count": null,
   "metadata": {},
   "outputs": [],
   "source": [
    "unique_manufacturer = df_2['manufacturer'].unique()\n",
    "print(unique_manufacturer)"
   ]
  },
  {
   "cell_type": "code",
   "execution_count": null,
   "metadata": {},
   "outputs": [],
   "source": [
    "# need to find a way to fill in missing manufacturers. too many Na's to drop"
   ]
  },
  {
   "cell_type": "code",
   "execution_count": null,
   "metadata": {},
   "outputs": [],
   "source": [
    "# see if any other columns have the manufacturer name \n",
    "# list is in and return true or false"
   ]
  },
  {
   "cell_type": "code",
   "execution_count": null,
   "metadata": {},
   "outputs": [],
   "source": [
    "sample = df_2['description'][97]"
   ]
  },
  {
   "cell_type": "code",
   "execution_count": null,
   "metadata": {
    "scrolled": true
   },
   "outputs": [],
   "source": [
    "len(sample)"
   ]
  },
  {
   "cell_type": "code",
   "execution_count": null,
   "metadata": {},
   "outputs": [],
   "source": [
    "pattern = \"([a-zA-Z]+(?:'[a-z]+)?)\"\n",
    "tokenizer = RegexpTokenizer(pattern)\n",
    "sample_doc = tokenizer.tokenize(sample)\n",
    "sample_doc = [token.lower() for token in sample_doc]\n",
    "sw =stopwords.words('english')\n",
    "sample_doc = [token for token in sample_doc if token not in sw]"
   ]
  },
  {
   "cell_type": "code",
   "execution_count": null,
   "metadata": {},
   "outputs": [],
   "source": [
    "sample_doc"
   ]
  },
  {
   "cell_type": "code",
   "execution_count": null,
   "metadata": {},
   "outputs": [],
   "source": [
    "len(set(sample_doc))"
   ]
  },
  {
   "cell_type": "code",
   "execution_count": null,
   "metadata": {},
   "outputs": [],
   "source": [
    "print(set(sample_doc))"
   ]
  },
  {
   "cell_type": "code",
   "execution_count": null,
   "metadata": {},
   "outputs": [],
   "source": [
    "type(sample_doc)"
   ]
  },
  {
   "cell_type": "code",
   "execution_count": null,
   "metadata": {},
   "outputs": [],
   "source": [
    "# List1\n",
    "List1 = unique_manufacturer\n",
    " \n",
    "# List2\n",
    "List2 = sample_doc\n",
    "\n",
    "check =  any(item in List1 for item in List2)\n",
    " \n",
    "if check is True:\n",
    "    print(\"The list {} contains all elements of the list {}\".format(List1, List2))    \n",
    "else :\n",
    "    print(\"No, List1 doesn't have all elements of the List2.\")"
   ]
  },
  {
   "cell_type": "code",
   "execution_count": null,
   "metadata": {},
   "outputs": [],
   "source": [
    "def list_contains(List1, List2): \n",
    "    check = False\n",
    "  \n",
    "    # Iterate in the 1st list \n",
    "    for m in List1: \n",
    "  \n",
    "        # Iterate in the 2nd list \n",
    "        for n in List2: \n",
    "    \n",
    "            # if there is a match\n",
    "            if m == n: \n",
    "                check = True\n",
    "                return check  \n",
    "                  \n",
    "    return check \n",
    "      \n",
    "# Test Case 1\n",
    "List1 = unique_manufacturer\n",
    "List2 = sample_doc \n",
    "print(\"Test Case#1 \", list_contains(List1, List2)) "
   ]
  },
  {
   "cell_type": "code",
   "execution_count": null,
   "metadata": {},
   "outputs": [],
   "source": [
    "car = set(unique_manufacturer) & set(sample_doc)\n",
    "car"
   ]
  },
  {
   "cell_type": "code",
   "execution_count": null,
   "metadata": {},
   "outputs": [],
   "source": []
  },
  {
   "cell_type": "code",
   "execution_count": null,
   "metadata": {},
   "outputs": [],
   "source": []
  },
  {
   "cell_type": "code",
   "execution_count": null,
   "metadata": {},
   "outputs": [],
   "source": []
  },
  {
   "cell_type": "code",
   "execution_count": null,
   "metadata": {},
   "outputs": [],
   "source": [
    "# df_2['model']=df_2['model'].str.lower().str.split()"
   ]
  },
  {
   "cell_type": "code",
   "execution_count": null,
   "metadata": {},
   "outputs": [],
   "source": []
  },
  {
   "cell_type": "code",
   "execution_count": null,
   "metadata": {},
   "outputs": [],
   "source": []
  },
  {
   "cell_type": "code",
   "execution_count": null,
   "metadata": {},
   "outputs": [],
   "source": []
  },
  {
   "cell_type": "code",
   "execution_count": null,
   "metadata": {},
   "outputs": [],
   "source": [
    "# df_2['description']=df_2['description'].str.lower()"
   ]
  },
  {
   "cell_type": "code",
   "execution_count": null,
   "metadata": {},
   "outputs": [],
   "source": [
    "# df_2.sample(10)"
   ]
  },
  {
   "cell_type": "code",
   "execution_count": null,
   "metadata": {},
   "outputs": [],
   "source": []
  },
  {
   "cell_type": "code",
   "execution_count": null,
   "metadata": {},
   "outputs": [],
   "source": [
    "# df_2.sample()"
   ]
  },
  {
   "cell_type": "code",
   "execution_count": null,
   "metadata": {},
   "outputs": [],
   "source": [
    "# df_2['exists'] = df.drop('manufacturer', 1).isin(df['manufacturer']).any(1) \n",
    "# df_2.exists.value_counts()"
   ]
  },
  {
   "cell_type": "code",
   "execution_count": null,
   "metadata": {},
   "outputs": [],
   "source": []
  },
  {
   "cell_type": "code",
   "execution_count": null,
   "metadata": {},
   "outputs": [],
   "source": [
    "# Only 8 cases where the name of the manufacturer's name is mentioned outside of the manufacturers column therefore wan't\n",
    "# able to fill in the Na Values"
   ]
  },
  {
   "cell_type": "code",
   "execution_count": 16,
   "metadata": {
    "scrolled": false
   },
   "outputs": [
    {
     "data": {
      "text/html": [
       "<div>\n",
       "<style scoped>\n",
       "    .dataframe tbody tr th:only-of-type {\n",
       "        vertical-align: middle;\n",
       "    }\n",
       "\n",
       "    .dataframe tbody tr th {\n",
       "        vertical-align: top;\n",
       "    }\n",
       "\n",
       "    .dataframe thead th {\n",
       "        text-align: right;\n",
       "    }\n",
       "</style>\n",
       "<table border=\"1\" class=\"dataframe\">\n",
       "  <thead>\n",
       "    <tr style=\"text-align: right;\">\n",
       "      <th></th>\n",
       "      <th>description</th>\n",
       "      <th>manufacturer</th>\n",
       "    </tr>\n",
       "  </thead>\n",
       "  <tbody>\n",
       "    <tr>\n",
       "      <th>97</th>\n",
       "      <td>Carvana is the safer way to buy a car During t...</td>\n",
       "      <td>NaN</td>\n",
       "    </tr>\n",
       "    <tr>\n",
       "      <th>122</th>\n",
       "      <td>2005 Blue Bird 12 window, 72 passenger bus tha...</td>\n",
       "      <td>NaN</td>\n",
       "    </tr>\n",
       "    <tr>\n",
       "      <th>135</th>\n",
       "      <td>Carvana is the safer way to buy a car During t...</td>\n",
       "      <td>NaN</td>\n",
       "    </tr>\n",
       "    <tr>\n",
       "      <th>137</th>\n",
       "      <td>Great Chevy Barn Find  Great candidate for res...</td>\n",
       "      <td>NaN</td>\n",
       "    </tr>\n",
       "    <tr>\n",
       "      <th>155</th>\n",
       "      <td>Carvana is the safer way to buy a car During t...</td>\n",
       "      <td>NaN</td>\n",
       "    </tr>\n",
       "  </tbody>\n",
       "</table>\n",
       "</div>"
      ],
      "text/plain": [
       "                                           description manufacturer\n",
       "97   Carvana is the safer way to buy a car During t...          NaN\n",
       "122  2005 Blue Bird 12 window, 72 passenger bus tha...          NaN\n",
       "135  Carvana is the safer way to buy a car During t...          NaN\n",
       "137  Great Chevy Barn Find  Great candidate for res...          NaN\n",
       "155  Carvana is the safer way to buy a car During t...          NaN"
      ]
     },
     "execution_count": 16,
     "metadata": {},
     "output_type": "execute_result"
    }
   ],
   "source": [
    "manu_desc=df_2.loc[df_2['manufacturer'].isna(), ['description','manufacturer']].copy()\n",
    "manu_desc.head()"
   ]
  },
  {
   "cell_type": "code",
   "execution_count": 17,
   "metadata": {},
   "outputs": [
    {
     "data": {
      "text/html": [
       "<div>\n",
       "<style scoped>\n",
       "    .dataframe tbody tr th:only-of-type {\n",
       "        vertical-align: middle;\n",
       "    }\n",
       "\n",
       "    .dataframe tbody tr th {\n",
       "        vertical-align: top;\n",
       "    }\n",
       "\n",
       "    .dataframe thead th {\n",
       "        text-align: right;\n",
       "    }\n",
       "</style>\n",
       "<table border=\"1\" class=\"dataframe\">\n",
       "  <thead>\n",
       "    <tr style=\"text-align: right;\">\n",
       "      <th></th>\n",
       "      <th>index</th>\n",
       "      <th>description</th>\n",
       "      <th>manufacturer</th>\n",
       "    </tr>\n",
       "  </thead>\n",
       "  <tbody>\n",
       "    <tr>\n",
       "      <th>0</th>\n",
       "      <td>97</td>\n",
       "      <td>Carvana is the safer way to buy a car During t...</td>\n",
       "      <td>NaN</td>\n",
       "    </tr>\n",
       "    <tr>\n",
       "      <th>1</th>\n",
       "      <td>122</td>\n",
       "      <td>2005 Blue Bird 12 window, 72 passenger bus tha...</td>\n",
       "      <td>NaN</td>\n",
       "    </tr>\n",
       "    <tr>\n",
       "      <th>2</th>\n",
       "      <td>135</td>\n",
       "      <td>Carvana is the safer way to buy a car During t...</td>\n",
       "      <td>NaN</td>\n",
       "    </tr>\n",
       "    <tr>\n",
       "      <th>3</th>\n",
       "      <td>137</td>\n",
       "      <td>Great Chevy Barn Find  Great candidate for res...</td>\n",
       "      <td>NaN</td>\n",
       "    </tr>\n",
       "    <tr>\n",
       "      <th>4</th>\n",
       "      <td>155</td>\n",
       "      <td>Carvana is the safer way to buy a car During t...</td>\n",
       "      <td>NaN</td>\n",
       "    </tr>\n",
       "  </tbody>\n",
       "</table>\n",
       "</div>"
      ],
      "text/plain": [
       "   index                                        description manufacturer\n",
       "0     97  Carvana is the safer way to buy a car During t...          NaN\n",
       "1    122  2005 Blue Bird 12 window, 72 passenger bus tha...          NaN\n",
       "2    135  Carvana is the safer way to buy a car During t...          NaN\n",
       "3    137  Great Chevy Barn Find  Great candidate for res...          NaN\n",
       "4    155  Carvana is the safer way to buy a car During t...          NaN"
      ]
     },
     "execution_count": 17,
     "metadata": {},
     "output_type": "execute_result"
    }
   ],
   "source": [
    "manu_desc.reset_index(inplace=True)\n",
    "manu_desc.head()"
   ]
  },
  {
   "cell_type": "code",
   "execution_count": null,
   "metadata": {},
   "outputs": [],
   "source": [
    "sample2 = manu_desc['description']"
   ]
  },
  {
   "cell_type": "code",
   "execution_count": null,
   "metadata": {},
   "outputs": [],
   "source": [
    "pattern = \"([a-zA-Z]+(?:'[a-z]+)?)\"\n",
    "tokenizer = RegexpTokenizer(pattern)\n",
    "sample_doc = tokenizer.tokenize(sample)\n",
    "sample_doc = [token.lower() for token in sample_doc]\n",
    "sw =stopwords.words('english')\n",
    "sample_doc = [token for token in sample_doc if token not in sw]"
   ]
  },
  {
   "cell_type": "code",
   "execution_count": 10,
   "metadata": {},
   "outputs": [],
   "source": [
    "pattern_2 = \"([a-zA-Z]+(?:'[a-z]+)?)\"\n",
    "tokenizer = RegexpTokenizer(pattern_2)"
   ]
  },
  {
   "cell_type": "code",
   "execution_count": 11,
   "metadata": {
    "scrolled": false
   },
   "outputs": [],
   "source": [
    "\n",
    "manu_desc['tokenized_sents'] = manu_desc.apply(lambda row: tokenizer.tokenize(row['description']), axis=1)\n"
   ]
  },
  {
   "cell_type": "code",
   "execution_count": 12,
   "metadata": {},
   "outputs": [
    {
     "data": {
      "text/html": [
       "<div>\n",
       "<style scoped>\n",
       "    .dataframe tbody tr th:only-of-type {\n",
       "        vertical-align: middle;\n",
       "    }\n",
       "\n",
       "    .dataframe tbody tr th {\n",
       "        vertical-align: top;\n",
       "    }\n",
       "\n",
       "    .dataframe thead th {\n",
       "        text-align: right;\n",
       "    }\n",
       "</style>\n",
       "<table border=\"1\" class=\"dataframe\">\n",
       "  <thead>\n",
       "    <tr style=\"text-align: right;\">\n",
       "      <th></th>\n",
       "      <th>index</th>\n",
       "      <th>description</th>\n",
       "      <th>manufacturer</th>\n",
       "      <th>tokenized_sents</th>\n",
       "      <th>new</th>\n",
       "    </tr>\n",
       "  </thead>\n",
       "  <tbody>\n",
       "    <tr>\n",
       "      <th>0</th>\n",
       "      <td>97</td>\n",
       "      <td>Carvana is the safer way to buy a car During t...</td>\n",
       "      <td>NaN</td>\n",
       "      <td>[Carvana, is, the, safer, way, to, buy, a, car...</td>\n",
       "      <td>NaN</td>\n",
       "    </tr>\n",
       "    <tr>\n",
       "      <th>1</th>\n",
       "      <td>122</td>\n",
       "      <td>2005 Blue Bird 12 window, 72 passenger bus tha...</td>\n",
       "      <td>NaN</td>\n",
       "      <td>[Blue, Bird, window, passenger, bus, that, is,...</td>\n",
       "      <td>NaN</td>\n",
       "    </tr>\n",
       "    <tr>\n",
       "      <th>2</th>\n",
       "      <td>135</td>\n",
       "      <td>Carvana is the safer way to buy a car During t...</td>\n",
       "      <td>NaN</td>\n",
       "      <td>[Carvana, is, the, safer, way, to, buy, a, car...</td>\n",
       "      <td>NaN</td>\n",
       "    </tr>\n",
       "    <tr>\n",
       "      <th>3</th>\n",
       "      <td>137</td>\n",
       "      <td>Great Chevy Barn Find  Great candidate for res...</td>\n",
       "      <td>NaN</td>\n",
       "      <td>[Great, Chevy, Barn, Find, Great, candidate, f...</td>\n",
       "      <td>NaN</td>\n",
       "    </tr>\n",
       "    <tr>\n",
       "      <th>4</th>\n",
       "      <td>155</td>\n",
       "      <td>Carvana is the safer way to buy a car During t...</td>\n",
       "      <td>NaN</td>\n",
       "      <td>[Carvana, is, the, safer, way, to, buy, a, car...</td>\n",
       "      <td>NaN</td>\n",
       "    </tr>\n",
       "  </tbody>\n",
       "</table>\n",
       "</div>"
      ],
      "text/plain": [
       "   index                                        description manufacturer  \\\n",
       "0     97  Carvana is the safer way to buy a car During t...          NaN   \n",
       "1    122  2005 Blue Bird 12 window, 72 passenger bus tha...          NaN   \n",
       "2    135  Carvana is the safer way to buy a car During t...          NaN   \n",
       "3    137  Great Chevy Barn Find  Great candidate for res...          NaN   \n",
       "4    155  Carvana is the safer way to buy a car During t...          NaN   \n",
       "\n",
       "                                     tokenized_sents  new  \n",
       "0  [Carvana, is, the, safer, way, to, buy, a, car...  NaN  \n",
       "1  [Blue, Bird, window, passenger, bus, that, is,...  NaN  \n",
       "2  [Carvana, is, the, safer, way, to, buy, a, car...  NaN  \n",
       "3  [Great, Chevy, Barn, Find, Great, candidate, f...  NaN  \n",
       "4  [Carvana, is, the, safer, way, to, buy, a, car...  NaN  "
      ]
     },
     "execution_count": 12,
     "metadata": {},
     "output_type": "execute_result"
    }
   ],
   "source": [
    "manu_desc['new'] = manu_desc['tokenized_sents'].str.lower()\n",
    "manu_desc.head()"
   ]
  },
  {
   "cell_type": "code",
   "execution_count": 18,
   "metadata": {
    "scrolled": true
   },
   "outputs": [
    {
     "data": {
      "text/html": [
       "<div>\n",
       "<style scoped>\n",
       "    .dataframe tbody tr th:only-of-type {\n",
       "        vertical-align: middle;\n",
       "    }\n",
       "\n",
       "    .dataframe tbody tr th {\n",
       "        vertical-align: top;\n",
       "    }\n",
       "\n",
       "    .dataframe thead th {\n",
       "        text-align: right;\n",
       "    }\n",
       "</style>\n",
       "<table border=\"1\" class=\"dataframe\">\n",
       "  <thead>\n",
       "    <tr style=\"text-align: right;\">\n",
       "      <th></th>\n",
       "      <th>index</th>\n",
       "      <th>description</th>\n",
       "      <th>manufacturer</th>\n",
       "    </tr>\n",
       "  </thead>\n",
       "  <tbody>\n",
       "    <tr>\n",
       "      <th>0</th>\n",
       "      <td>97</td>\n",
       "      <td>[Carvana, is, the, safer, way, to, buy, a, car...</td>\n",
       "      <td>NaN</td>\n",
       "    </tr>\n",
       "    <tr>\n",
       "      <th>1</th>\n",
       "      <td>122</td>\n",
       "      <td>[2005, Blue, Bird, 12, window,, 72, passenger,...</td>\n",
       "      <td>NaN</td>\n",
       "    </tr>\n",
       "    <tr>\n",
       "      <th>2</th>\n",
       "      <td>135</td>\n",
       "      <td>[Carvana, is, the, safer, way, to, buy, a, car...</td>\n",
       "      <td>NaN</td>\n",
       "    </tr>\n",
       "    <tr>\n",
       "      <th>3</th>\n",
       "      <td>137</td>\n",
       "      <td>[Great, Chevy, Barn, Find, Great, candidate, f...</td>\n",
       "      <td>NaN</td>\n",
       "    </tr>\n",
       "    <tr>\n",
       "      <th>4</th>\n",
       "      <td>155</td>\n",
       "      <td>[Carvana, is, the, safer, way, to, buy, a, car...</td>\n",
       "      <td>NaN</td>\n",
       "    </tr>\n",
       "  </tbody>\n",
       "</table>\n",
       "</div>"
      ],
      "text/plain": [
       "   index                                        description manufacturer\n",
       "0     97  [Carvana, is, the, safer, way, to, buy, a, car...          NaN\n",
       "1    122  [2005, Blue, Bird, 12, window,, 72, passenger,...          NaN\n",
       "2    135  [Carvana, is, the, safer, way, to, buy, a, car...          NaN\n",
       "3    137  [Great, Chevy, Barn, Find, Great, candidate, f...          NaN\n",
       "4    155  [Carvana, is, the, safer, way, to, buy, a, car...          NaN"
      ]
     },
     "execution_count": 18,
     "metadata": {},
     "output_type": "execute_result"
    }
   ],
   "source": [
    "manu_desc['description'] =manu_desc['description'].str.split()\n",
    "manu_desc.head()"
   ]
  },
  {
   "cell_type": "code",
   "execution_count": 19,
   "metadata": {},
   "outputs": [
    {
     "ename": "AttributeError",
     "evalue": "'Series' object has no attribute 'lower'",
     "output_type": "error",
     "traceback": [
      "\u001b[1;31m---------------------------------------------------------------------------\u001b[0m",
      "\u001b[1;31mAttributeError\u001b[0m                            Traceback (most recent call last)",
      "\u001b[1;32m<ipython-input-19-37c4a0fe56d2>\u001b[0m in \u001b[0;36m<module>\u001b[1;34m\u001b[0m\n\u001b[1;32m----> 1\u001b[1;33m \u001b[0mmanu_desc\u001b[0m\u001b[1;33m[\u001b[0m\u001b[1;34m'description'\u001b[0m\u001b[1;33m]\u001b[0m \u001b[1;33m=\u001b[0m \u001b[0mmanu_desc\u001b[0m\u001b[1;33m[\u001b[0m\u001b[1;34m'description'\u001b[0m\u001b[1;33m]\u001b[0m\u001b[1;33m.\u001b[0m\u001b[0mlower\u001b[0m\u001b[1;33m(\u001b[0m\u001b[1;33m)\u001b[0m\u001b[1;33m\u001b[0m\u001b[1;33m\u001b[0m\u001b[0m\n\u001b[0m\u001b[0;32m      2\u001b[0m \u001b[0mmanu_desc\u001b[0m\u001b[1;33m.\u001b[0m\u001b[0mhead\u001b[0m\u001b[1;33m(\u001b[0m\u001b[1;33m)\u001b[0m\u001b[1;33m\u001b[0m\u001b[1;33m\u001b[0m\u001b[0m\n",
      "\u001b[1;32m~\\anaconda3\\envs\\learn-env\\lib\\site-packages\\pandas\\core\\generic.py\u001b[0m in \u001b[0;36m__getattr__\u001b[1;34m(self, name)\u001b[0m\n\u001b[0;32m   5137\u001b[0m             \u001b[1;32mif\u001b[0m \u001b[0mself\u001b[0m\u001b[1;33m.\u001b[0m\u001b[0m_info_axis\u001b[0m\u001b[1;33m.\u001b[0m\u001b[0m_can_hold_identifiers_and_holds_name\u001b[0m\u001b[1;33m(\u001b[0m\u001b[0mname\u001b[0m\u001b[1;33m)\u001b[0m\u001b[1;33m:\u001b[0m\u001b[1;33m\u001b[0m\u001b[1;33m\u001b[0m\u001b[0m\n\u001b[0;32m   5138\u001b[0m                 \u001b[1;32mreturn\u001b[0m \u001b[0mself\u001b[0m\u001b[1;33m[\u001b[0m\u001b[0mname\u001b[0m\u001b[1;33m]\u001b[0m\u001b[1;33m\u001b[0m\u001b[1;33m\u001b[0m\u001b[0m\n\u001b[1;32m-> 5139\u001b[1;33m             \u001b[1;32mreturn\u001b[0m \u001b[0mobject\u001b[0m\u001b[1;33m.\u001b[0m\u001b[0m__getattribute__\u001b[0m\u001b[1;33m(\u001b[0m\u001b[0mself\u001b[0m\u001b[1;33m,\u001b[0m \u001b[0mname\u001b[0m\u001b[1;33m)\u001b[0m\u001b[1;33m\u001b[0m\u001b[1;33m\u001b[0m\u001b[0m\n\u001b[0m\u001b[0;32m   5140\u001b[0m \u001b[1;33m\u001b[0m\u001b[0m\n\u001b[0;32m   5141\u001b[0m     \u001b[1;32mdef\u001b[0m \u001b[0m__setattr__\u001b[0m\u001b[1;33m(\u001b[0m\u001b[0mself\u001b[0m\u001b[1;33m,\u001b[0m \u001b[0mname\u001b[0m\u001b[1;33m:\u001b[0m \u001b[0mstr\u001b[0m\u001b[1;33m,\u001b[0m \u001b[0mvalue\u001b[0m\u001b[1;33m)\u001b[0m \u001b[1;33m->\u001b[0m \u001b[1;32mNone\u001b[0m\u001b[1;33m:\u001b[0m\u001b[1;33m\u001b[0m\u001b[1;33m\u001b[0m\u001b[0m\n",
      "\u001b[1;31mAttributeError\u001b[0m: 'Series' object has no attribute 'lower'"
     ]
    }
   ],
   "source": [
    "# manu_desc['description'] = manu_desc['description'].lower()\n",
    "# manu_desc.head()"
   ]
  },
  {
   "cell_type": "code",
   "execution_count": null,
   "metadata": {
    "scrolled": true
   },
   "outputs": [],
   "source": [
    "# manu_desc['description'] = manu_desc['description'].str.lower()"
   ]
  },
  {
   "cell_type": "code",
   "execution_count": null,
   "metadata": {},
   "outputs": [],
   "source": [
    "manu_desc.head()"
   ]
  },
  {
   "cell_type": "code",
   "execution_count": null,
   "metadata": {},
   "outputs": [],
   "source": [
    "manu_desc.head()"
   ]
  },
  {
   "cell_type": "code",
   "execution_count": null,
   "metadata": {},
   "outputs": [],
   "source": [
    "type(manu_desc['tokenized_sents'][0])"
   ]
  },
  {
   "cell_type": "code",
   "execution_count": null,
   "metadata": {},
   "outputs": [],
   "source": [
    "manufacturer= list(unique_manufacturer)\n",
    "manufacturer"
   ]
  },
  {
   "cell_type": "code",
   "execution_count": null,
   "metadata": {},
   "outputs": [],
   "source": [
    "# manu_desc['exists'] = manu_desc.drop('manufacturer', 1).isin(manu_desc['manufacturer']).any(1) \n",
    "# manu_desc.exists.value_counts()"
   ]
  },
  {
   "cell_type": "code",
   "execution_count": null,
   "metadata": {},
   "outputs": [],
   "source": [
    "# manu_desc[\"test\"] = np.where(manu_desc[\"tokenized_sents\"].isin(manufacturer), 'Other')\n"
   ]
  },
  {
   "cell_type": "code",
   "execution_count": null,
   "metadata": {},
   "outputs": [],
   "source": [
    "manu_desc['tokenized_sents'].lower()"
   ]
  },
  {
   "cell_type": "code",
   "execution_count": null,
   "metadata": {},
   "outputs": [],
   "source": [
    "car1 = set(unique_manufacturer) & set(manu_desc['tokenized_sents'][0])\n",
    "car1"
   ]
  },
  {
   "cell_type": "code",
   "execution_count": null,
   "metadata": {},
   "outputs": [],
   "source": [
    "# set(manu_desc['tokenized_sents'][0])"
   ]
  },
  {
   "cell_type": "code",
   "execution_count": null,
   "metadata": {},
   "outputs": [],
   "source": [
    "df_new = manu_desc[manu_desc['tokenized_sents'].isin(['toyota'])]\n",
    "df_new.head()"
   ]
  },
  {
   "cell_type": "code",
   "execution_count": null,
   "metadata": {},
   "outputs": [],
   "source": [
    "empty = []\n",
    "# for car in unique_manufacturer:\n",
    "    \n",
    "#     if car in manu_desc['tokenized_sents'][0]:\n",
    "manu_desc['tokenized_sents'][0]"
   ]
  },
  {
   "cell_type": "code",
   "execution_count": 123,
   "metadata": {},
   "outputs": [],
   "source": [
    "# df1['condition'] = df1.apply( lambda x: x['condition'] if pd.isna( x['model'] ) or pd.notna( x['condition'] ) else condition_dict[x['model']] if x['model'] in condition_dict.keys() else x['condition'], axis=1)# 28615 \"nan\" values left.\n",
    "# as it can cause confusion between the \"like new\" and \"new\" values I will not try to fill in the \"nan\" values using the ifo's in the \"description\" variable.\n"
   ]
  },
  {
   "cell_type": "code",
   "execution_count": null,
   "metadata": {},
   "outputs": [],
   "source": []
  },
  {
   "cell_type": "code",
   "execution_count": null,
   "metadata": {},
   "outputs": [],
   "source": []
  },
  {
   "cell_type": "code",
   "execution_count": 8,
   "metadata": {},
   "outputs": [],
   "source": [
    "df_condition_completed = df_2.loc[df_2['condition'].notna()].copy()\n",
    "df_with_model_and_condition = df_condition_completed.loc[df_condition_completed['model'].notna()].copy()\n",
    "condition_dict = {}\n",
    "for a, b in df_with_model_and_condition[['model', 'condition']].values:\n",
    "    condition_dict[a] = b"
   ]
  },
  {
   "cell_type": "code",
   "execution_count": 41,
   "metadata": {},
   "outputs": [],
   "source": [
    "# df_condition_completed = df_2[df_2['condition'].notna()]\n",
    "# df_with_model_and_condition = df11[df11['model'].notna()]\n",
    "# condition_dictionary = {}\n",
    "# for a, b in df_with_model_and_condition[['model', 'condition']].values:\n",
    "#     condition_dict[a] = b"
   ]
  },
  {
   "cell_type": "code",
   "execution_count": 9,
   "metadata": {},
   "outputs": [],
   "source": [
    "df_2['condition'] = df_2.apply(lambda x: x['condition'] if pd.isna(x['model']) or pd.notna(x['condition']) else condition_dict[x['model']] if x['model'] in condition_dict.keys() else x['condition'], axis=1)"
   ]
  },
  {
   "cell_type": "code",
   "execution_count": 126,
   "metadata": {
    "scrolled": true
   },
   "outputs": [
    {
     "data": {
      "text/plain": [
       "id                   0\n",
       "url                  0\n",
       "region               0\n",
       "region_url           0\n",
       "price                0\n",
       "year                 0\n",
       "manufacturer     14147\n",
       "model             4259\n",
       "condition        19900\n",
       "cylinders       155361\n",
       "fuel              2312\n",
       "odometer          2158\n",
       "title_status      7259\n",
       "transmission      1713\n",
       "VIN             148688\n",
       "drive           117275\n",
       "size            275037\n",
       "type             82787\n",
       "paint_color     113531\n",
       "image_url            0\n",
       "description          2\n",
       "state                0\n",
       "lat               3399\n",
       "long              3399\n",
       "posting_date         0\n",
       "dtype: int64"
      ]
     },
     "execution_count": 126,
     "metadata": {},
     "output_type": "execute_result"
    }
   ],
   "source": [
    "df_2.isna().sum()"
   ]
  },
  {
   "cell_type": "code",
   "execution_count": 33,
   "metadata": {},
   "outputs": [
    {
     "data": {
      "text/plain": [
       "excellent    158208\n",
       "good         155156\n",
       "like new      34081\n",
       "fair          12740\n",
       "new            1417\n",
       "salvage        1383\n",
       "Name: condition, dtype: int64"
      ]
     },
     "execution_count": 33,
     "metadata": {},
     "output_type": "execute_result"
    }
   ],
   "source": [
    "df_2['condition'].value_counts()"
   ]
  },
  {
   "cell_type": "code",
   "execution_count": 59,
   "metadata": {
    "scrolled": true
   },
   "outputs": [
    {
     "data": {
      "text/plain": [
       "6 cylinders     86907\n",
       "4 cylinders     72223\n",
       "8 cylinders     63899\n",
       "5 cylinders      1662\n",
       "10 cylinders     1102\n",
       "other             994\n",
       "3 cylinders       591\n",
       "12 cylinders      146\n",
       "Name: cylinders, dtype: int64"
      ]
     },
     "execution_count": 59,
     "metadata": {},
     "output_type": "execute_result"
    }
   ],
   "source": [
    "df_2['cylinders'].value_counts()"
   ]
  },
  {
   "cell_type": "code",
   "execution_count": 10,
   "metadata": {},
   "outputs": [],
   "source": [
    "df_cylinders_completed = df_2.loc[df_2['cylinders'].notna()].copy()\n",
    "df_cylinders_and_model = df_cylinders_completed.loc[df_cylinders_completed['model'].notna()].copy()\n",
    "cylinders_dictionary = {}\n",
    "for c, d in df_cylinders_and_model[['model', 'cylinders']].values:\n",
    "    cylinders_dictionary[c] = d"
   ]
  },
  {
   "cell_type": "code",
   "execution_count": 11,
   "metadata": {},
   "outputs": [],
   "source": [
    "df_2['cylinders'] = df_2.apply( lambda x: x['cylinders'] if pd.isna( x['model'] ) or pd.notna( x['cylinders'] ) else cylinders_dictionary[x['model']] if x['model'] in cylinders_dictionary.keys() else x['cylinders'], axis=1)"
   ]
  },
  {
   "cell_type": "code",
   "execution_count": 12,
   "metadata": {},
   "outputs": [
    {
     "data": {
      "text/plain": [
       "id                   0\n",
       "url                  0\n",
       "region               0\n",
       "region_url           0\n",
       "price                0\n",
       "year                 0\n",
       "manufacturer     14147\n",
       "model             4259\n",
       "condition        19900\n",
       "cylinders        36992\n",
       "fuel              2312\n",
       "odometer          2158\n",
       "title_status      7259\n",
       "transmission      1713\n",
       "VIN             148688\n",
       "drive           117275\n",
       "size            275037\n",
       "type             82787\n",
       "paint_color     113531\n",
       "image_url            0\n",
       "description          2\n",
       "state                0\n",
       "lat               3399\n",
       "long              3399\n",
       "posting_date         0\n",
       "dtype: int64"
      ]
     },
     "execution_count": 12,
     "metadata": {},
     "output_type": "execute_result"
    }
   ],
   "source": [
    "df_2.isna().sum()"
   ]
  },
  {
   "cell_type": "code",
   "execution_count": 65,
   "metadata": {
    "scrolled": true
   },
   "outputs": [
    {
     "data": {
      "text/plain": [
       "6 cylinders     110173\n",
       "4 cylinders      92340\n",
       "8 cylinders      88659\n",
       "5 cylinders       2582\n",
       "3 cylinders       1368\n",
       "10 cylinders      1182\n",
       "other             1115\n",
       "12 cylinders       155\n",
       "Name: cylinders, dtype: int64"
      ]
     },
     "execution_count": 65,
     "metadata": {},
     "output_type": "execute_result"
    }
   ],
   "source": [
    "df_2['cylinders'].value_counts()"
   ]
  },
  {
   "cell_type": "code",
   "execution_count": 78,
   "metadata": {},
   "outputs": [
    {
     "data": {
      "text/plain": [
       "gas         323825\n",
       "other        27117\n",
       "diesel       23257\n",
       "hybrid        4813\n",
       "electric      1561\n",
       "Name: fuel, dtype: int64"
      ]
     },
     "execution_count": 78,
     "metadata": {},
     "output_type": "execute_result"
    }
   ],
   "source": [
    "df_2['fuel'].value_counts()"
   ]
  },
  {
   "cell_type": "code",
   "execution_count": 79,
   "metadata": {},
   "outputs": [
    {
     "data": {
      "text/plain": [
       "clean         362567\n",
       "rebuilt         6976\n",
       "salvage         3796\n",
       "lien            1362\n",
       "missing          753\n",
       "parts only       172\n",
       "Name: title_status, dtype: int64"
      ]
     },
     "execution_count": 79,
     "metadata": {},
     "output_type": "execute_result"
    }
   ],
   "source": [
    "df_2['title_status'].value_counts()"
   ]
  },
  {
   "cell_type": "code",
   "execution_count": 80,
   "metadata": {},
   "outputs": [
    {
     "data": {
      "text/plain": [
       "automatic    297276\n",
       "other         60749\n",
       "manual        23147\n",
       "Name: transmission, dtype: int64"
      ]
     },
     "execution_count": 80,
     "metadata": {},
     "output_type": "execute_result"
    }
   ],
   "source": [
    "df_2['transmission'].value_counts()"
   ]
  },
  {
   "cell_type": "code",
   "execution_count": 81,
   "metadata": {
    "scrolled": true
   },
   "outputs": [
    {
     "data": {
      "text/plain": [
       "f-150                       6970\n",
       "silverado 1500              4480\n",
       "1500                        3719\n",
       "camry                       2783\n",
       "accord                      2714\n",
       "                            ... \n",
       "van 30                         1\n",
       "1968 speciality                1\n",
       "titan sv crew cab v8 4x4       1\n",
       "1992 International 4900        1\n",
       "1976 grand Marquis             1\n",
       "Name: model, Length: 27161, dtype: int64"
      ]
     },
     "execution_count": 81,
     "metadata": {},
     "output_type": "execute_result"
    }
   ],
   "source": [
    "df_2['model'].value_counts()"
   ]
  },
  {
   "cell_type": "code",
   "execution_count": null,
   "metadata": {},
   "outputs": [],
   "source": [
    "decision "
   ]
  },
  {
   "cell_type": "code",
   "execution_count": 83,
   "metadata": {},
   "outputs": [
    {
     "data": {
      "text/plain": [
       "model                        \n",
       "silverado                        1484\n",
       "2500                             1168\n",
       "altima                           1162\n",
       "wrangler                         1092\n",
       "escape                           1065\n",
       "                                 ... \n",
       "freightliner m2106                  1\n",
       "frieghtliner                        1\n",
       "frightliner m2                      1\n",
       "frontier crew cab 4x2 sv auto       1\n",
       "*matrix*                            1\n",
       "Length: 8526, dtype: int64"
      ]
     },
     "execution_count": 83,
     "metadata": {},
     "output_type": "execute_result"
    }
   ],
   "source": [
    "df_2.loc[df_2['cylinders'].isna(), ['model']].value_counts()"
   ]
  },
  {
   "cell_type": "code",
   "execution_count": 84,
   "metadata": {},
   "outputs": [],
   "source": [
    "df_3 = df_2.copy()"
   ]
  },
  {
   "cell_type": "code",
   "execution_count": 85,
   "metadata": {},
   "outputs": [],
   "source": [
    "df_3.set_index('model',inplace=True)"
   ]
  },
  {
   "cell_type": "code",
   "execution_count": 86,
   "metadata": {},
   "outputs": [
    {
     "data": {
      "text/html": [
       "<div>\n",
       "<style scoped>\n",
       "    .dataframe tbody tr th:only-of-type {\n",
       "        vertical-align: middle;\n",
       "    }\n",
       "\n",
       "    .dataframe tbody tr th {\n",
       "        vertical-align: top;\n",
       "    }\n",
       "\n",
       "    .dataframe thead th {\n",
       "        text-align: right;\n",
       "    }\n",
       "</style>\n",
       "<table border=\"1\" class=\"dataframe\">\n",
       "  <thead>\n",
       "    <tr style=\"text-align: right;\">\n",
       "      <th></th>\n",
       "      <th>id</th>\n",
       "      <th>url</th>\n",
       "      <th>region</th>\n",
       "      <th>region_url</th>\n",
       "      <th>price</th>\n",
       "      <th>year</th>\n",
       "      <th>manufacturer</th>\n",
       "      <th>condition</th>\n",
       "      <th>cylinders</th>\n",
       "      <th>fuel</th>\n",
       "      <th>...</th>\n",
       "      <th>drive</th>\n",
       "      <th>size</th>\n",
       "      <th>type</th>\n",
       "      <th>paint_color</th>\n",
       "      <th>image_url</th>\n",
       "      <th>description</th>\n",
       "      <th>state</th>\n",
       "      <th>lat</th>\n",
       "      <th>long</th>\n",
       "      <th>posting_date</th>\n",
       "    </tr>\n",
       "    <tr>\n",
       "      <th>model</th>\n",
       "      <th></th>\n",
       "      <th></th>\n",
       "      <th></th>\n",
       "      <th></th>\n",
       "      <th></th>\n",
       "      <th></th>\n",
       "      <th></th>\n",
       "      <th></th>\n",
       "      <th></th>\n",
       "      <th></th>\n",
       "      <th></th>\n",
       "      <th></th>\n",
       "      <th></th>\n",
       "      <th></th>\n",
       "      <th></th>\n",
       "      <th></th>\n",
       "      <th></th>\n",
       "      <th></th>\n",
       "      <th></th>\n",
       "      <th></th>\n",
       "      <th></th>\n",
       "    </tr>\n",
       "  </thead>\n",
       "  <tbody>\n",
       "    <tr>\n",
       "      <th>sierra 1500 crew cab slt</th>\n",
       "      <td>7316814884</td>\n",
       "      <td>https://auburn.craigslist.org/ctd/d/auburn-uni...</td>\n",
       "      <td>auburn</td>\n",
       "      <td>https://auburn.craigslist.org</td>\n",
       "      <td>33590</td>\n",
       "      <td>2014.0</td>\n",
       "      <td>gmc</td>\n",
       "      <td>good</td>\n",
       "      <td>8 cylinders</td>\n",
       "      <td>gas</td>\n",
       "      <td>...</td>\n",
       "      <td>NaN</td>\n",
       "      <td>NaN</td>\n",
       "      <td>pickup</td>\n",
       "      <td>white</td>\n",
       "      <td>https://images.craigslist.org/00R0R_lwWjXSEWNa...</td>\n",
       "      <td>Carvana is the safer way to buy a car During t...</td>\n",
       "      <td>al</td>\n",
       "      <td>32.590</td>\n",
       "      <td>-85.4800</td>\n",
       "      <td>2021-05-04T12:31:18-0500</td>\n",
       "    </tr>\n",
       "    <tr>\n",
       "      <th>silverado 1500</th>\n",
       "      <td>7316814758</td>\n",
       "      <td>https://auburn.craigslist.org/ctd/d/auburn-uni...</td>\n",
       "      <td>auburn</td>\n",
       "      <td>https://auburn.craigslist.org</td>\n",
       "      <td>22590</td>\n",
       "      <td>2010.0</td>\n",
       "      <td>chevrolet</td>\n",
       "      <td>good</td>\n",
       "      <td>8 cylinders</td>\n",
       "      <td>gas</td>\n",
       "      <td>...</td>\n",
       "      <td>NaN</td>\n",
       "      <td>NaN</td>\n",
       "      <td>pickup</td>\n",
       "      <td>blue</td>\n",
       "      <td>https://images.craigslist.org/00R0R_lwWjXSEWNa...</td>\n",
       "      <td>Carvana is the safer way to buy a car During t...</td>\n",
       "      <td>al</td>\n",
       "      <td>32.590</td>\n",
       "      <td>-85.4800</td>\n",
       "      <td>2021-05-04T12:31:08-0500</td>\n",
       "    </tr>\n",
       "    <tr>\n",
       "      <th>silverado 1500 crew</th>\n",
       "      <td>7316814989</td>\n",
       "      <td>https://auburn.craigslist.org/ctd/d/auburn-uni...</td>\n",
       "      <td>auburn</td>\n",
       "      <td>https://auburn.craigslist.org</td>\n",
       "      <td>39590</td>\n",
       "      <td>2020.0</td>\n",
       "      <td>chevrolet</td>\n",
       "      <td>good</td>\n",
       "      <td>8 cylinders</td>\n",
       "      <td>gas</td>\n",
       "      <td>...</td>\n",
       "      <td>NaN</td>\n",
       "      <td>NaN</td>\n",
       "      <td>pickup</td>\n",
       "      <td>red</td>\n",
       "      <td>https://images.craigslist.org/01212_jjirIWa0y0...</td>\n",
       "      <td>Carvana is the safer way to buy a car During t...</td>\n",
       "      <td>al</td>\n",
       "      <td>32.590</td>\n",
       "      <td>-85.4800</td>\n",
       "      <td>2021-05-04T12:31:25-0500</td>\n",
       "    </tr>\n",
       "    <tr>\n",
       "      <th>tundra double cab sr</th>\n",
       "      <td>7316743432</td>\n",
       "      <td>https://auburn.craigslist.org/ctd/d/auburn-uni...</td>\n",
       "      <td>auburn</td>\n",
       "      <td>https://auburn.craigslist.org</td>\n",
       "      <td>30990</td>\n",
       "      <td>2017.0</td>\n",
       "      <td>toyota</td>\n",
       "      <td>good</td>\n",
       "      <td>8 cylinders</td>\n",
       "      <td>gas</td>\n",
       "      <td>...</td>\n",
       "      <td>NaN</td>\n",
       "      <td>NaN</td>\n",
       "      <td>pickup</td>\n",
       "      <td>red</td>\n",
       "      <td>https://images.craigslist.org/00x0x_1y9kIOzGCF...</td>\n",
       "      <td>Carvana is the safer way to buy a car During t...</td>\n",
       "      <td>al</td>\n",
       "      <td>32.590</td>\n",
       "      <td>-85.4800</td>\n",
       "      <td>2021-05-04T10:41:31-0500</td>\n",
       "    </tr>\n",
       "    <tr>\n",
       "      <th>f-150 xlt</th>\n",
       "      <td>7316356412</td>\n",
       "      <td>https://auburn.craigslist.org/cto/d/auburn-uni...</td>\n",
       "      <td>auburn</td>\n",
       "      <td>https://auburn.craigslist.org</td>\n",
       "      <td>15000</td>\n",
       "      <td>2013.0</td>\n",
       "      <td>ford</td>\n",
       "      <td>excellent</td>\n",
       "      <td>6 cylinders</td>\n",
       "      <td>gas</td>\n",
       "      <td>...</td>\n",
       "      <td>rwd</td>\n",
       "      <td>full-size</td>\n",
       "      <td>truck</td>\n",
       "      <td>black</td>\n",
       "      <td>https://images.craigslist.org/00404_l4loxHvdQe...</td>\n",
       "      <td>2013 F-150 XLT V6 4 Door. Good condition. Leve...</td>\n",
       "      <td>al</td>\n",
       "      <td>32.592</td>\n",
       "      <td>-85.5189</td>\n",
       "      <td>2021-05-03T14:02:03-0500</td>\n",
       "    </tr>\n",
       "  </tbody>\n",
       "</table>\n",
       "<p>5 rows × 24 columns</p>\n",
       "</div>"
      ],
      "text/plain": [
       "                                  id  \\\n",
       "model                                  \n",
       "sierra 1500 crew cab slt  7316814884   \n",
       "silverado 1500            7316814758   \n",
       "silverado 1500 crew       7316814989   \n",
       "tundra double cab sr      7316743432   \n",
       "f-150 xlt                 7316356412   \n",
       "\n",
       "                                                                        url  \\\n",
       "model                                                                         \n",
       "sierra 1500 crew cab slt  https://auburn.craigslist.org/ctd/d/auburn-uni...   \n",
       "silverado 1500            https://auburn.craigslist.org/ctd/d/auburn-uni...   \n",
       "silverado 1500 crew       https://auburn.craigslist.org/ctd/d/auburn-uni...   \n",
       "tundra double cab sr      https://auburn.craigslist.org/ctd/d/auburn-uni...   \n",
       "f-150 xlt                 https://auburn.craigslist.org/cto/d/auburn-uni...   \n",
       "\n",
       "                          region                     region_url  price  \\\n",
       "model                                                                    \n",
       "sierra 1500 crew cab slt  auburn  https://auburn.craigslist.org  33590   \n",
       "silverado 1500            auburn  https://auburn.craigslist.org  22590   \n",
       "silverado 1500 crew       auburn  https://auburn.craigslist.org  39590   \n",
       "tundra double cab sr      auburn  https://auburn.craigslist.org  30990   \n",
       "f-150 xlt                 auburn  https://auburn.craigslist.org  15000   \n",
       "\n",
       "                            year manufacturer  condition    cylinders fuel  \\\n",
       "model                                                                        \n",
       "sierra 1500 crew cab slt  2014.0          gmc       good  8 cylinders  gas   \n",
       "silverado 1500            2010.0    chevrolet       good  8 cylinders  gas   \n",
       "silverado 1500 crew       2020.0    chevrolet       good  8 cylinders  gas   \n",
       "tundra double cab sr      2017.0       toyota       good  8 cylinders  gas   \n",
       "f-150 xlt                 2013.0         ford  excellent  6 cylinders  gas   \n",
       "\n",
       "                          ...  drive       size    type paint_color  \\\n",
       "model                     ...                                         \n",
       "sierra 1500 crew cab slt  ...    NaN        NaN  pickup       white   \n",
       "silverado 1500            ...    NaN        NaN  pickup        blue   \n",
       "silverado 1500 crew       ...    NaN        NaN  pickup         red   \n",
       "tundra double cab sr      ...    NaN        NaN  pickup         red   \n",
       "f-150 xlt                 ...    rwd  full-size   truck       black   \n",
       "\n",
       "                                                                  image_url  \\\n",
       "model                                                                         \n",
       "sierra 1500 crew cab slt  https://images.craigslist.org/00R0R_lwWjXSEWNa...   \n",
       "silverado 1500            https://images.craigslist.org/00R0R_lwWjXSEWNa...   \n",
       "silverado 1500 crew       https://images.craigslist.org/01212_jjirIWa0y0...   \n",
       "tundra double cab sr      https://images.craigslist.org/00x0x_1y9kIOzGCF...   \n",
       "f-150 xlt                 https://images.craigslist.org/00404_l4loxHvdQe...   \n",
       "\n",
       "                                                                description  \\\n",
       "model                                                                         \n",
       "sierra 1500 crew cab slt  Carvana is the safer way to buy a car During t...   \n",
       "silverado 1500            Carvana is the safer way to buy a car During t...   \n",
       "silverado 1500 crew       Carvana is the safer way to buy a car During t...   \n",
       "tundra double cab sr      Carvana is the safer way to buy a car During t...   \n",
       "f-150 xlt                 2013 F-150 XLT V6 4 Door. Good condition. Leve...   \n",
       "\n",
       "                         state     lat     long              posting_date  \n",
       "model                                                                      \n",
       "sierra 1500 crew cab slt    al  32.590 -85.4800  2021-05-04T12:31:18-0500  \n",
       "silverado 1500              al  32.590 -85.4800  2021-05-04T12:31:08-0500  \n",
       "silverado 1500 crew         al  32.590 -85.4800  2021-05-04T12:31:25-0500  \n",
       "tundra double cab sr        al  32.590 -85.4800  2021-05-04T10:41:31-0500  \n",
       "f-150 xlt                   al  32.592 -85.5189  2021-05-03T14:02:03-0500  \n",
       "\n",
       "[5 rows x 24 columns]"
      ]
     },
     "execution_count": 86,
     "metadata": {},
     "output_type": "execute_result"
    }
   ],
   "source": [
    "df_3.head()"
   ]
  },
  {
   "cell_type": "code",
   "execution_count": 87,
   "metadata": {},
   "outputs": [],
   "source": [
    "df_3.sort_values(by=['model'],inplace=True)"
   ]
  },
  {
   "cell_type": "code",
   "execution_count": 88,
   "metadata": {},
   "outputs": [
    {
     "data": {
      "text/html": [
       "<div>\n",
       "<style scoped>\n",
       "    .dataframe tbody tr th:only-of-type {\n",
       "        vertical-align: middle;\n",
       "    }\n",
       "\n",
       "    .dataframe tbody tr th {\n",
       "        vertical-align: top;\n",
       "    }\n",
       "\n",
       "    .dataframe thead th {\n",
       "        text-align: right;\n",
       "    }\n",
       "</style>\n",
       "<table border=\"1\" class=\"dataframe\">\n",
       "  <thead>\n",
       "    <tr style=\"text-align: right;\">\n",
       "      <th></th>\n",
       "      <th>id</th>\n",
       "      <th>url</th>\n",
       "      <th>region</th>\n",
       "      <th>region_url</th>\n",
       "      <th>price</th>\n",
       "      <th>year</th>\n",
       "      <th>manufacturer</th>\n",
       "      <th>condition</th>\n",
       "      <th>cylinders</th>\n",
       "      <th>fuel</th>\n",
       "      <th>...</th>\n",
       "      <th>drive</th>\n",
       "      <th>size</th>\n",
       "      <th>type</th>\n",
       "      <th>paint_color</th>\n",
       "      <th>image_url</th>\n",
       "      <th>description</th>\n",
       "      <th>state</th>\n",
       "      <th>lat</th>\n",
       "      <th>long</th>\n",
       "      <th>posting_date</th>\n",
       "    </tr>\n",
       "    <tr>\n",
       "      <th>model</th>\n",
       "      <th></th>\n",
       "      <th></th>\n",
       "      <th></th>\n",
       "      <th></th>\n",
       "      <th></th>\n",
       "      <th></th>\n",
       "      <th></th>\n",
       "      <th></th>\n",
       "      <th></th>\n",
       "      <th></th>\n",
       "      <th></th>\n",
       "      <th></th>\n",
       "      <th></th>\n",
       "      <th></th>\n",
       "      <th></th>\n",
       "      <th></th>\n",
       "      <th></th>\n",
       "      <th></th>\n",
       "      <th></th>\n",
       "      <th></th>\n",
       "      <th></th>\n",
       "    </tr>\n",
       "  </thead>\n",
       "  <tbody>\n",
       "    <tr>\n",
       "      <th>\"t\"</th>\n",
       "      <td>7310905114</td>\n",
       "      <td>https://eugene.craigslist.org/cto/d/eugene-191...</td>\n",
       "      <td>eugene</td>\n",
       "      <td>https://eugene.craigslist.org</td>\n",
       "      <td>27000</td>\n",
       "      <td>1913.0</td>\n",
       "      <td>ford</td>\n",
       "      <td>like new</td>\n",
       "      <td>4 cylinders</td>\n",
       "      <td>gas</td>\n",
       "      <td>...</td>\n",
       "      <td>rwd</td>\n",
       "      <td>compact</td>\n",
       "      <td>convertible</td>\n",
       "      <td>red</td>\n",
       "      <td>https://images.craigslist.org/00X0X_bYoeBEz0cA...</td>\n",
       "      <td>WOW! WOW! WOW!!!  FIRE CHIEF CAR!!!  One of a ...</td>\n",
       "      <td>or</td>\n",
       "      <td>44.068200</td>\n",
       "      <td>-123.081900</td>\n",
       "      <td>2021-04-22T09:50:49-0700</td>\n",
       "    </tr>\n",
       "    <tr>\n",
       "      <th>#NAME?</th>\n",
       "      <td>7311211732</td>\n",
       "      <td>https://fresno.craigslist.org/ctd/d/san-luis-o...</td>\n",
       "      <td>fresno / madera</td>\n",
       "      <td>https://fresno.craigslist.org</td>\n",
       "      <td>21925</td>\n",
       "      <td>2014.0</td>\n",
       "      <td>NaN</td>\n",
       "      <td>excellent</td>\n",
       "      <td>6 cylinders</td>\n",
       "      <td>gas</td>\n",
       "      <td>...</td>\n",
       "      <td>4wd</td>\n",
       "      <td>NaN</td>\n",
       "      <td>wagon</td>\n",
       "      <td>white</td>\n",
       "      <td>https://images.craigslist.org/00B0B_6b02RkNwR3...</td>\n",
       "      <td>----------------------------------------------...</td>\n",
       "      <td>ca</td>\n",
       "      <td>35.275769</td>\n",
       "      <td>-120.668013</td>\n",
       "      <td>2021-04-22T21:13:23-0700</td>\n",
       "    </tr>\n",
       "    <tr>\n",
       "      <th>#NAME?</th>\n",
       "      <td>7316526866</td>\n",
       "      <td>https://detroit.craigslist.org/wyn/cto/d/walle...</td>\n",
       "      <td>detroit metro</td>\n",
       "      <td>https://detroit.craigslist.org</td>\n",
       "      <td>6500</td>\n",
       "      <td>2002.0</td>\n",
       "      <td>chevrolet</td>\n",
       "      <td>good</td>\n",
       "      <td>6 cylinders</td>\n",
       "      <td>diesel</td>\n",
       "      <td>...</td>\n",
       "      <td>NaN</td>\n",
       "      <td>NaN</td>\n",
       "      <td>truck</td>\n",
       "      <td>NaN</td>\n",
       "      <td>https://images.craigslist.org/00C0C_iS2vxEWjKw...</td>\n",
       "      <td>Two trucks for sale one is a 2002 c6500, the o...</td>\n",
       "      <td>mi</td>\n",
       "      <td>42.558200</td>\n",
       "      <td>-83.477300</td>\n",
       "      <td>2021-05-03T20:28:23-0400</td>\n",
       "    </tr>\n",
       "    <tr>\n",
       "      <th>#NAME?</th>\n",
       "      <td>7316746751</td>\n",
       "      <td>https://chicago.craigslist.org/nwc/ctd/d/hanov...</td>\n",
       "      <td>chicago</td>\n",
       "      <td>https://chicago.craigslist.org</td>\n",
       "      <td>27195</td>\n",
       "      <td>2017.0</td>\n",
       "      <td>NaN</td>\n",
       "      <td>excellent</td>\n",
       "      <td>6 cylinders</td>\n",
       "      <td>gas</td>\n",
       "      <td>...</td>\n",
       "      <td>fwd</td>\n",
       "      <td>NaN</td>\n",
       "      <td>mini-van</td>\n",
       "      <td>white</td>\n",
       "      <td>https://images.craigslist.org/00O0O_iOeppaeDtV...</td>\n",
       "      <td>Cars &amp; Finance - All in One Place!Going extra ...</td>\n",
       "      <td>il</td>\n",
       "      <td>41.995781</td>\n",
       "      <td>-88.167287</td>\n",
       "      <td>2021-05-04T10:46:58-0500</td>\n",
       "    </tr>\n",
       "    <tr>\n",
       "      <th>#NAME?</th>\n",
       "      <td>7304427389</td>\n",
       "      <td>https://erie.craigslist.org/cto/d/erie-2010-me...</td>\n",
       "      <td>erie</td>\n",
       "      <td>https://erie.craigslist.org</td>\n",
       "      <td>10500</td>\n",
       "      <td>2010.0</td>\n",
       "      <td>mercedes-benz</td>\n",
       "      <td>excellent</td>\n",
       "      <td>6 cylinders</td>\n",
       "      <td>gas</td>\n",
       "      <td>...</td>\n",
       "      <td>4wd</td>\n",
       "      <td>NaN</td>\n",
       "      <td>sedan</td>\n",
       "      <td>grey</td>\n",
       "      <td>https://images.craigslist.org/00h0h_av7uAaphI1...</td>\n",
       "      <td>2010 Mercedes-Benz E350 4MATIC V6 3.5 L for sa...</td>\n",
       "      <td>pa</td>\n",
       "      <td>42.073800</td>\n",
       "      <td>-80.148400</td>\n",
       "      <td>2021-04-09T18:32:21-0400</td>\n",
       "    </tr>\n",
       "  </tbody>\n",
       "</table>\n",
       "<p>5 rows × 24 columns</p>\n",
       "</div>"
      ],
      "text/plain": [
       "                id                                                url  \\\n",
       "model                                                                   \n",
       "\"t\"     7310905114  https://eugene.craigslist.org/cto/d/eugene-191...   \n",
       "#NAME?  7311211732  https://fresno.craigslist.org/ctd/d/san-luis-o...   \n",
       "#NAME?  7316526866  https://detroit.craigslist.org/wyn/cto/d/walle...   \n",
       "#NAME?  7316746751  https://chicago.craigslist.org/nwc/ctd/d/hanov...   \n",
       "#NAME?  7304427389  https://erie.craigslist.org/cto/d/erie-2010-me...   \n",
       "\n",
       "                 region                      region_url  price    year  \\\n",
       "model                                                                    \n",
       "\"t\"              eugene   https://eugene.craigslist.org  27000  1913.0   \n",
       "#NAME?  fresno / madera   https://fresno.craigslist.org  21925  2014.0   \n",
       "#NAME?    detroit metro  https://detroit.craigslist.org   6500  2002.0   \n",
       "#NAME?          chicago  https://chicago.craigslist.org  27195  2017.0   \n",
       "#NAME?             erie     https://erie.craigslist.org  10500  2010.0   \n",
       "\n",
       "         manufacturer  condition    cylinders    fuel  ...  drive     size  \\\n",
       "model                                                  ...                   \n",
       "\"t\"              ford   like new  4 cylinders     gas  ...    rwd  compact   \n",
       "#NAME?            NaN  excellent  6 cylinders     gas  ...    4wd      NaN   \n",
       "#NAME?      chevrolet       good  6 cylinders  diesel  ...    NaN      NaN   \n",
       "#NAME?            NaN  excellent  6 cylinders     gas  ...    fwd      NaN   \n",
       "#NAME?  mercedes-benz  excellent  6 cylinders     gas  ...    4wd      NaN   \n",
       "\n",
       "               type paint_color  \\\n",
       "model                             \n",
       "\"t\"     convertible         red   \n",
       "#NAME?        wagon       white   \n",
       "#NAME?        truck         NaN   \n",
       "#NAME?     mini-van       white   \n",
       "#NAME?        sedan        grey   \n",
       "\n",
       "                                                image_url  \\\n",
       "model                                                       \n",
       "\"t\"     https://images.craigslist.org/00X0X_bYoeBEz0cA...   \n",
       "#NAME?  https://images.craigslist.org/00B0B_6b02RkNwR3...   \n",
       "#NAME?  https://images.craigslist.org/00C0C_iS2vxEWjKw...   \n",
       "#NAME?  https://images.craigslist.org/00O0O_iOeppaeDtV...   \n",
       "#NAME?  https://images.craigslist.org/00h0h_av7uAaphI1...   \n",
       "\n",
       "                                              description state        lat  \\\n",
       "model                                                                        \n",
       "\"t\"     WOW! WOW! WOW!!!  FIRE CHIEF CAR!!!  One of a ...    or  44.068200   \n",
       "#NAME?  ----------------------------------------------...    ca  35.275769   \n",
       "#NAME?  Two trucks for sale one is a 2002 c6500, the o...    mi  42.558200   \n",
       "#NAME?  Cars & Finance - All in One Place!Going extra ...    il  41.995781   \n",
       "#NAME?  2010 Mercedes-Benz E350 4MATIC V6 3.5 L for sa...    pa  42.073800   \n",
       "\n",
       "              long              posting_date  \n",
       "model                                         \n",
       "\"t\"    -123.081900  2021-04-22T09:50:49-0700  \n",
       "#NAME? -120.668013  2021-04-22T21:13:23-0700  \n",
       "#NAME?  -83.477300  2021-05-03T20:28:23-0400  \n",
       "#NAME?  -88.167287  2021-05-04T10:46:58-0500  \n",
       "#NAME?  -80.148400  2021-04-09T18:32:21-0400  \n",
       "\n",
       "[5 rows x 24 columns]"
      ]
     },
     "execution_count": 88,
     "metadata": {},
     "output_type": "execute_result"
    }
   ],
   "source": [
    "df_3.head()"
   ]
  },
  {
   "cell_type": "code",
   "execution_count": 25,
   "metadata": {},
   "outputs": [],
   "source": [
    "df_4=df_2.copy()"
   ]
  },
  {
   "cell_type": "code",
   "execution_count": 15,
   "metadata": {},
   "outputs": [
    {
     "data": {
      "text/plain": [
       "model  manufacturer\n",
       "1500   ram             3599\n",
       "       chevrolet         97\n",
       "       gmc               18\n",
       "       dodge              4\n",
       "dtype: int64"
      ]
     },
     "execution_count": 15,
     "metadata": {},
     "output_type": "execute_result"
    }
   ],
   "source": [
    "df_4.loc[df_4['model']=='1500',['model','manufacturer']].value_counts()"
   ]
  },
  {
   "cell_type": "code",
   "execution_count": 103,
   "metadata": {},
   "outputs": [
    {
     "data": {
      "text/html": [
       "<div>\n",
       "<style scoped>\n",
       "    .dataframe tbody tr th:only-of-type {\n",
       "        vertical-align: middle;\n",
       "    }\n",
       "\n",
       "    .dataframe tbody tr th {\n",
       "        vertical-align: top;\n",
       "    }\n",
       "\n",
       "    .dataframe thead th {\n",
       "        text-align: right;\n",
       "    }\n",
       "</style>\n",
       "<table border=\"1\" class=\"dataframe\">\n",
       "  <thead>\n",
       "    <tr style=\"text-align: right;\">\n",
       "      <th></th>\n",
       "      <th>id</th>\n",
       "      <th>url</th>\n",
       "      <th>region</th>\n",
       "      <th>region_url</th>\n",
       "      <th>price</th>\n",
       "      <th>year</th>\n",
       "      <th>manufacturer</th>\n",
       "      <th>condition</th>\n",
       "      <th>cylinders</th>\n",
       "      <th>fuel</th>\n",
       "      <th>...</th>\n",
       "      <th>drive</th>\n",
       "      <th>size</th>\n",
       "      <th>type</th>\n",
       "      <th>paint_color</th>\n",
       "      <th>image_url</th>\n",
       "      <th>description</th>\n",
       "      <th>state</th>\n",
       "      <th>lat</th>\n",
       "      <th>long</th>\n",
       "      <th>posting_date</th>\n",
       "    </tr>\n",
       "    <tr>\n",
       "      <th>model</th>\n",
       "      <th></th>\n",
       "      <th></th>\n",
       "      <th></th>\n",
       "      <th></th>\n",
       "      <th></th>\n",
       "      <th></th>\n",
       "      <th></th>\n",
       "      <th></th>\n",
       "      <th></th>\n",
       "      <th></th>\n",
       "      <th></th>\n",
       "      <th></th>\n",
       "      <th></th>\n",
       "      <th></th>\n",
       "      <th></th>\n",
       "      <th></th>\n",
       "      <th></th>\n",
       "      <th></th>\n",
       "      <th></th>\n",
       "      <th></th>\n",
       "      <th></th>\n",
       "    </tr>\n",
       "  </thead>\n",
       "  <tbody>\n",
       "    <tr>\n",
       "      <th>.. ect.</th>\n",
       "      <td>7304172920</td>\n",
       "      <td>https://buffalo.craigslist.org/ctd/d/angola-ju...</td>\n",
       "      <td>buffalo</td>\n",
       "      <td>https://buffalo.craigslist.org</td>\n",
       "      <td>1234</td>\n",
       "      <td>2002.0</td>\n",
       "      <td>ford</td>\n",
       "      <td>NaN</td>\n",
       "      <td>NaN</td>\n",
       "      <td>other</td>\n",
       "      <td>...</td>\n",
       "      <td>NaN</td>\n",
       "      <td>NaN</td>\n",
       "      <td>NaN</td>\n",
       "      <td>NaN</td>\n",
       "      <td>https://images.craigslist.org/00Q0Q_5uDnk4SMpb...</td>\n",
       "      <td>Skip the Middle Man .. Get top dollar $$$  Car...</td>\n",
       "      <td>ny</td>\n",
       "      <td>42.636600</td>\n",
       "      <td>-79.049700</td>\n",
       "      <td>2021-04-09T11:33:21-0400</td>\n",
       "    </tr>\n",
       "    <tr>\n",
       "      <th>.. ect.</th>\n",
       "      <td>7316525434</td>\n",
       "      <td>https://buffalo.craigslist.org/ctd/d/angola-we...</td>\n",
       "      <td>buffalo</td>\n",
       "      <td>https://buffalo.craigslist.org</td>\n",
       "      <td>1234</td>\n",
       "      <td>2002.0</td>\n",
       "      <td>ford</td>\n",
       "      <td>NaN</td>\n",
       "      <td>NaN</td>\n",
       "      <td>other</td>\n",
       "      <td>...</td>\n",
       "      <td>NaN</td>\n",
       "      <td>NaN</td>\n",
       "      <td>NaN</td>\n",
       "      <td>NaN</td>\n",
       "      <td>https://images.craigslist.org/00Q0Q_5uDnk4SMpb...</td>\n",
       "      <td>Running or Not !!!  Skip the Middle Man .. $$$...</td>\n",
       "      <td>ny</td>\n",
       "      <td>42.636600</td>\n",
       "      <td>-79.049700</td>\n",
       "      <td>2021-05-03T20:24:50-0400</td>\n",
       "    </tr>\n",
       "    <tr>\n",
       "      <th>.Cadillac XLR convertible</th>\n",
       "      <td>7316014113</td>\n",
       "      <td>https://denver.craigslist.org/cto/d/denver-cad...</td>\n",
       "      <td>denver</td>\n",
       "      <td>https://denver.craigslist.org</td>\n",
       "      <td>29000</td>\n",
       "      <td>2004.0</td>\n",
       "      <td>NaN</td>\n",
       "      <td>excellent</td>\n",
       "      <td>8 cylinders</td>\n",
       "      <td>gas</td>\n",
       "      <td>...</td>\n",
       "      <td>rwd</td>\n",
       "      <td>full-size</td>\n",
       "      <td>convertible</td>\n",
       "      <td>purple</td>\n",
       "      <td>https://images.craigslist.org/00C0C_4GdJWBeEbv...</td>\n",
       "      <td>2004 Cadillac XLR Neiman Marcus edition this c...</td>\n",
       "      <td>co</td>\n",
       "      <td>39.867200</td>\n",
       "      <td>-105.004100</td>\n",
       "      <td>2021-05-02T18:36:10-0600</td>\n",
       "    </tr>\n",
       "    <tr>\n",
       "      <th>/ accord</th>\n",
       "      <td>7315118598</td>\n",
       "      <td>https://providence.craigslist.org/ctd/d/provid...</td>\n",
       "      <td>rhode island</td>\n",
       "      <td>https://providence.craigslist.org</td>\n",
       "      <td>8500</td>\n",
       "      <td>2013.0</td>\n",
       "      <td>honda</td>\n",
       "      <td>excellent</td>\n",
       "      <td>6 cylinders</td>\n",
       "      <td>gas</td>\n",
       "      <td>...</td>\n",
       "      <td>fwd</td>\n",
       "      <td>compact</td>\n",
       "      <td>sedan</td>\n",
       "      <td>white</td>\n",
       "      <td>https://images.craigslist.org/00202_csgqtAR81U...</td>\n",
       "      <td>2013 HONDA ACCORD WHITE 135K , LEATHER, V6 , S...</td>\n",
       "      <td>ri</td>\n",
       "      <td>41.797100</td>\n",
       "      <td>-71.425500</td>\n",
       "      <td>2021-04-30T20:36:13-0400</td>\n",
       "    </tr>\n",
       "    <tr>\n",
       "      <th>/ braun</th>\n",
       "      <td>7313030279</td>\n",
       "      <td>https://kpr.craigslist.org/cto/d/west-richland...</td>\n",
       "      <td>kennewick-pasco-richland</td>\n",
       "      <td>https://kpr.craigslist.org</td>\n",
       "      <td>7250</td>\n",
       "      <td>2003.0</td>\n",
       "      <td>dodge</td>\n",
       "      <td>fair</td>\n",
       "      <td>6 cylinders</td>\n",
       "      <td>gas</td>\n",
       "      <td>...</td>\n",
       "      <td>fwd</td>\n",
       "      <td>NaN</td>\n",
       "      <td>mini-van</td>\n",
       "      <td>blue</td>\n",
       "      <td>https://images.craigslist.org/00o0o_kfcDqC3K2x...</td>\n",
       "      <td>2003 Dodge Caravan, Braun converted wheel chai...</td>\n",
       "      <td>wa</td>\n",
       "      <td>46.315300</td>\n",
       "      <td>-119.371400</td>\n",
       "      <td>2021-04-26T14:01:43-0700</td>\n",
       "    </tr>\n",
       "    <tr>\n",
       "      <th>/ durango sport</th>\n",
       "      <td>7315509536</td>\n",
       "      <td>https://richmond.craigslist.org/cto/d/richmond...</td>\n",
       "      <td>richmond</td>\n",
       "      <td>https://richmond.craigslist.org</td>\n",
       "      <td>20000</td>\n",
       "      <td>2015.0</td>\n",
       "      <td>dodge</td>\n",
       "      <td>good</td>\n",
       "      <td>6 cylinders</td>\n",
       "      <td>gas</td>\n",
       "      <td>...</td>\n",
       "      <td>4wd</td>\n",
       "      <td>full-size</td>\n",
       "      <td>SUV</td>\n",
       "      <td>grey</td>\n",
       "      <td>https://images.craigslist.org/00V0V_7ItxfTZ7Xu...</td>\n",
       "      <td>2015 Dodge Durango 66,779 miles.   Good condition</td>\n",
       "      <td>va</td>\n",
       "      <td>37.458000</td>\n",
       "      <td>-77.470000</td>\n",
       "      <td>2021-05-01T17:12:14-0400</td>\n",
       "    </tr>\n",
       "    <tr>\n",
       "      <th>/ vmi / ♿</th>\n",
       "      <td>7314403674</td>\n",
       "      <td>https://chicago.craigslist.org/sox/ctd/d/champ...</td>\n",
       "      <td>chicago</td>\n",
       "      <td>https://chicago.craigslist.org</td>\n",
       "      <td>10950</td>\n",
       "      <td>2006.0</td>\n",
       "      <td>chrysler</td>\n",
       "      <td>excellent</td>\n",
       "      <td>6 cylinders</td>\n",
       "      <td>gas</td>\n",
       "      <td>...</td>\n",
       "      <td>fwd</td>\n",
       "      <td>full-size</td>\n",
       "      <td>mini-van</td>\n",
       "      <td>white</td>\n",
       "      <td>https://images.craigslist.org/00c0c_8429zWAfT7...</td>\n",
       "      <td>* 2OO6 CHRYSLER TOWN n COUNTRY MINI VAN  * V6 ...</td>\n",
       "      <td>il</td>\n",
       "      <td>40.107300</td>\n",
       "      <td>-88.278800</td>\n",
       "      <td>2021-04-29T12:33:35-0500</td>\n",
       "    </tr>\n",
       "    <tr>\n",
       "      <th>/ vmi ♿</th>\n",
       "      <td>7308270183</td>\n",
       "      <td>https://peoria.craigslist.org/cto/d/dewey-chry...</td>\n",
       "      <td>peoria</td>\n",
       "      <td>https://peoria.craigslist.org</td>\n",
       "      <td>10995</td>\n",
       "      <td>2006.0</td>\n",
       "      <td>chrysler</td>\n",
       "      <td>excellent</td>\n",
       "      <td>6 cylinders</td>\n",
       "      <td>gas</td>\n",
       "      <td>...</td>\n",
       "      <td>fwd</td>\n",
       "      <td>NaN</td>\n",
       "      <td>NaN</td>\n",
       "      <td>white</td>\n",
       "      <td>https://images.craigslist.org/00c0c_8429zWAfT7...</td>\n",
       "      <td>♿ CHRYSLER - VMI - WHEELCHAIR ACCESSIBLE MINI-...</td>\n",
       "      <td>il</td>\n",
       "      <td>40.313100</td>\n",
       "      <td>-88.277000</td>\n",
       "      <td>2021-04-17T10:54:30-0500</td>\n",
       "    </tr>\n",
       "    <tr>\n",
       "      <th>// vmi // ♿</th>\n",
       "      <td>7307904842</td>\n",
       "      <td>https://quincy.craigslist.org/cto/d/decatur-ch...</td>\n",
       "      <td>western IL</td>\n",
       "      <td>https://quincy.craigslist.org</td>\n",
       "      <td>10999</td>\n",
       "      <td>2006.0</td>\n",
       "      <td>chrysler</td>\n",
       "      <td>excellent</td>\n",
       "      <td>6 cylinders</td>\n",
       "      <td>gas</td>\n",
       "      <td>...</td>\n",
       "      <td>fwd</td>\n",
       "      <td>mid-size</td>\n",
       "      <td>mini-van</td>\n",
       "      <td>white</td>\n",
       "      <td>https://images.craigslist.org/00G0G_lFL2CGoeUQ...</td>\n",
       "      <td>♿ CHRYSLER - VMI - WHEELCHAIR ACCESSIBLE MINI-...</td>\n",
       "      <td>il</td>\n",
       "      <td>39.858300</td>\n",
       "      <td>-88.938200</td>\n",
       "      <td>2021-04-16T15:02:53-0500</td>\n",
       "    </tr>\n",
       "    <tr>\n",
       "      <th>// vmi ♿</th>\n",
       "      <td>7306064743</td>\n",
       "      <td>https://carbondale.craigslist.org/cto/d/charle...</td>\n",
       "      <td>southern illinois</td>\n",
       "      <td>https://carbondale.craigslist.org</td>\n",
       "      <td>10999</td>\n",
       "      <td>2006.0</td>\n",
       "      <td>chrysler</td>\n",
       "      <td>excellent</td>\n",
       "      <td>6 cylinders</td>\n",
       "      <td>gas</td>\n",
       "      <td>...</td>\n",
       "      <td>fwd</td>\n",
       "      <td>full-size</td>\n",
       "      <td>mini-van</td>\n",
       "      <td>white</td>\n",
       "      <td>https://images.craigslist.org/00Z0Z_iAg2SBudyM...</td>\n",
       "      <td>2006 CHRYSLER TOWN n COUNTRY MINI VAN  * V6 - ...</td>\n",
       "      <td>il</td>\n",
       "      <td>39.486900</td>\n",
       "      <td>-88.176100</td>\n",
       "      <td>2021-04-13T06:37:12-0500</td>\n",
       "    </tr>\n",
       "    <tr>\n",
       "      <th>/ford Focus</th>\n",
       "      <td>7313884402</td>\n",
       "      <td>https://ottumwa.craigslist.org/ctd/d/ottumwa-2...</td>\n",
       "      <td>southeast IA</td>\n",
       "      <td>https://ottumwa.craigslist.org</td>\n",
       "      <td>3900</td>\n",
       "      <td>2008.0</td>\n",
       "      <td>NaN</td>\n",
       "      <td>NaN</td>\n",
       "      <td>NaN</td>\n",
       "      <td>gas</td>\n",
       "      <td>...</td>\n",
       "      <td>NaN</td>\n",
       "      <td>NaN</td>\n",
       "      <td>NaN</td>\n",
       "      <td>NaN</td>\n",
       "      <td>https://images.craigslist.org/00101_98VS6txY8T...</td>\n",
       "      <td>2008 FORD FOCUS    Down Payment is TTL      Ve...</td>\n",
       "      <td>ia</td>\n",
       "      <td>41.007932</td>\n",
       "      <td>-92.419746</td>\n",
       "      <td>2021-04-28T11:42:11-0500</td>\n",
       "    </tr>\n",
       "    <tr>\n",
       "      <th>/ford focus se</th>\n",
       "      <td>7315044575</td>\n",
       "      <td>https://grandrapids.craigslist.org/ctd/d/matta...</td>\n",
       "      <td>grand rapids</td>\n",
       "      <td>https://grandrapids.craigslist.org</td>\n",
       "      <td>6250</td>\n",
       "      <td>2009.0</td>\n",
       "      <td>NaN</td>\n",
       "      <td>excellent</td>\n",
       "      <td>4 cylinders</td>\n",
       "      <td>gas</td>\n",
       "      <td>...</td>\n",
       "      <td>fwd</td>\n",
       "      <td>NaN</td>\n",
       "      <td>sedan</td>\n",
       "      <td>red</td>\n",
       "      <td>https://images.craigslist.org/00H0H_l2dPFWGS65...</td>\n",
       "      <td>******Clean Car Fax****Remote Start****  2.0L ...</td>\n",
       "      <td>mi</td>\n",
       "      <td>42.234520</td>\n",
       "      <td>-85.786371</td>\n",
       "      <td>2021-04-30T17:45:48-0400</td>\n",
       "    </tr>\n",
       "    <tr>\n",
       "      <th>/mercury comet</th>\n",
       "      <td>7312309377</td>\n",
       "      <td>https://orlando.craigslist.org/cto/d/orlando-1...</td>\n",
       "      <td>orlando</td>\n",
       "      <td>https://orlando.craigslist.org</td>\n",
       "      <td>11900</td>\n",
       "      <td>1971.0</td>\n",
       "      <td>lincoln</td>\n",
       "      <td>like new</td>\n",
       "      <td>6 cylinders</td>\n",
       "      <td>gas</td>\n",
       "      <td>...</td>\n",
       "      <td>rwd</td>\n",
       "      <td>full-size</td>\n",
       "      <td>coupe</td>\n",
       "      <td>white</td>\n",
       "      <td>https://images.craigslist.org/00x0x_biBpJQJxhc...</td>\n",
       "      <td>1971 Lincoln/Mercury Comet 50 year old antique...</td>\n",
       "      <td>fl</td>\n",
       "      <td>28.580100</td>\n",
       "      <td>-81.484600</td>\n",
       "      <td>2021-04-25T10:31:07-0400</td>\n",
       "    </tr>\n",
       "    <tr>\n",
       "      <th>/vmi conversion van</th>\n",
       "      <td>7316387772</td>\n",
       "      <td>https://nmi.craigslist.org/cto/d/saint-helen-2...</td>\n",
       "      <td>northern michigan</td>\n",
       "      <td>https://nmi.craigslist.org</td>\n",
       "      <td>18500</td>\n",
       "      <td>2013.0</td>\n",
       "      <td>ford</td>\n",
       "      <td>excellent</td>\n",
       "      <td>8 cylinders</td>\n",
       "      <td>gas</td>\n",
       "      <td>...</td>\n",
       "      <td>rwd</td>\n",
       "      <td>full-size</td>\n",
       "      <td>van</td>\n",
       "      <td>red</td>\n",
       "      <td>https://images.craigslist.org/00b0b_a78SnhappR...</td>\n",
       "      <td>This is a one owner disability vehicle. It has...</td>\n",
       "      <td>mi</td>\n",
       "      <td>44.366500</td>\n",
       "      <td>-84.424700</td>\n",
       "      <td>2021-05-03T15:53:15-0400</td>\n",
       "    </tr>\n",
       "    <tr>\n",
       "      <th>0</th>\n",
       "      <td>7316212138</td>\n",
       "      <td>https://tucson.craigslist.org/cto/d/tucson-kit...</td>\n",
       "      <td>tucson</td>\n",
       "      <td>https://tucson.craigslist.org</td>\n",
       "      <td>14900</td>\n",
       "      <td>1978.0</td>\n",
       "      <td>NaN</td>\n",
       "      <td>good</td>\n",
       "      <td>NaN</td>\n",
       "      <td>other</td>\n",
       "      <td>...</td>\n",
       "      <td>NaN</td>\n",
       "      <td>NaN</td>\n",
       "      <td>NaN</td>\n",
       "      <td>NaN</td>\n",
       "      <td>https://images.craigslist.org/00w0w_9GKTBOtVDW...</td>\n",
       "      <td>Think about your dream of having your own succ...</td>\n",
       "      <td>az</td>\n",
       "      <td>32.250000</td>\n",
       "      <td>-110.886900</td>\n",
       "      <td>2021-05-03T08:21:21-0700</td>\n",
       "    </tr>\n",
       "    <tr>\n",
       "      <th>01 MALIBU</th>\n",
       "      <td>7311558209</td>\n",
       "      <td>https://stlouis.craigslist.org/cto/d/saint-cha...</td>\n",
       "      <td>st louis, MO</td>\n",
       "      <td>https://stlouis.craigslist.org</td>\n",
       "      <td>2950</td>\n",
       "      <td>2001.0</td>\n",
       "      <td>NaN</td>\n",
       "      <td>NaN</td>\n",
       "      <td>NaN</td>\n",
       "      <td>gas</td>\n",
       "      <td>...</td>\n",
       "      <td>NaN</td>\n",
       "      <td>NaN</td>\n",
       "      <td>NaN</td>\n",
       "      <td>NaN</td>\n",
       "      <td>https://images.craigslist.org/00u0u_av0v5GdRUo...</td>\n",
       "      <td>2001 MALIBU--1 OWNER--V6 ENGINE--AUTO TRANS--P...</td>\n",
       "      <td>il</td>\n",
       "      <td>38.762200</td>\n",
       "      <td>-90.547100</td>\n",
       "      <td>2021-04-23T15:37:44-0500</td>\n",
       "    </tr>\n",
       "  </tbody>\n",
       "</table>\n",
       "<p>16 rows × 24 columns</p>\n",
       "</div>"
      ],
      "text/plain": [
       "                                   id  \\\n",
       "model                                   \n",
       ".. ect.                    7304172920   \n",
       ".. ect.                    7316525434   \n",
       ".Cadillac XLR convertible  7316014113   \n",
       "/ accord                   7315118598   \n",
       "/ braun                    7313030279   \n",
       "/ durango sport            7315509536   \n",
       "/ vmi / ♿                  7314403674   \n",
       "/ vmi ♿                    7308270183   \n",
       "// vmi // ♿                7307904842   \n",
       "// vmi ♿                   7306064743   \n",
       "/ford Focus                7313884402   \n",
       "/ford focus se             7315044575   \n",
       "/mercury comet             7312309377   \n",
       "/vmi conversion van        7316387772   \n",
       "0                          7316212138   \n",
       "01 MALIBU                  7311558209   \n",
       "\n",
       "                                                                         url  \\\n",
       "model                                                                          \n",
       ".. ect.                    https://buffalo.craigslist.org/ctd/d/angola-ju...   \n",
       ".. ect.                    https://buffalo.craigslist.org/ctd/d/angola-we...   \n",
       ".Cadillac XLR convertible  https://denver.craigslist.org/cto/d/denver-cad...   \n",
       "/ accord                   https://providence.craigslist.org/ctd/d/provid...   \n",
       "/ braun                    https://kpr.craigslist.org/cto/d/west-richland...   \n",
       "/ durango sport            https://richmond.craigslist.org/cto/d/richmond...   \n",
       "/ vmi / ♿                  https://chicago.craigslist.org/sox/ctd/d/champ...   \n",
       "/ vmi ♿                    https://peoria.craigslist.org/cto/d/dewey-chry...   \n",
       "// vmi // ♿                https://quincy.craigslist.org/cto/d/decatur-ch...   \n",
       "// vmi ♿                   https://carbondale.craigslist.org/cto/d/charle...   \n",
       "/ford Focus                https://ottumwa.craigslist.org/ctd/d/ottumwa-2...   \n",
       "/ford focus se             https://grandrapids.craigslist.org/ctd/d/matta...   \n",
       "/mercury comet             https://orlando.craigslist.org/cto/d/orlando-1...   \n",
       "/vmi conversion van        https://nmi.craigslist.org/cto/d/saint-helen-2...   \n",
       "0                          https://tucson.craigslist.org/cto/d/tucson-kit...   \n",
       "01 MALIBU                  https://stlouis.craigslist.org/cto/d/saint-cha...   \n",
       "\n",
       "                                             region  \\\n",
       "model                                                 \n",
       ".. ect.                                     buffalo   \n",
       ".. ect.                                     buffalo   \n",
       ".Cadillac XLR convertible                    denver   \n",
       "/ accord                               rhode island   \n",
       "/ braun                    kennewick-pasco-richland   \n",
       "/ durango sport                            richmond   \n",
       "/ vmi / ♿                                   chicago   \n",
       "/ vmi ♿                                      peoria   \n",
       "// vmi // ♿                              western IL   \n",
       "// vmi ♿                          southern illinois   \n",
       "/ford Focus                            southeast IA   \n",
       "/ford focus se                         grand rapids   \n",
       "/mercury comet                              orlando   \n",
       "/vmi conversion van               northern michigan   \n",
       "0                                            tucson   \n",
       "01 MALIBU                              st louis, MO   \n",
       "\n",
       "                                                   region_url  price    year  \\\n",
       "model                                                                          \n",
       ".. ect.                        https://buffalo.craigslist.org   1234  2002.0   \n",
       ".. ect.                        https://buffalo.craigslist.org   1234  2002.0   \n",
       ".Cadillac XLR convertible       https://denver.craigslist.org  29000  2004.0   \n",
       "/ accord                    https://providence.craigslist.org   8500  2013.0   \n",
       "/ braun                            https://kpr.craigslist.org   7250  2003.0   \n",
       "/ durango sport               https://richmond.craigslist.org  20000  2015.0   \n",
       "/ vmi / ♿                      https://chicago.craigslist.org  10950  2006.0   \n",
       "/ vmi ♿                         https://peoria.craigslist.org  10995  2006.0   \n",
       "// vmi // ♿                     https://quincy.craigslist.org  10999  2006.0   \n",
       "// vmi ♿                    https://carbondale.craigslist.org  10999  2006.0   \n",
       "/ford Focus                    https://ottumwa.craigslist.org   3900  2008.0   \n",
       "/ford focus se             https://grandrapids.craigslist.org   6250  2009.0   \n",
       "/mercury comet                 https://orlando.craigslist.org  11900  1971.0   \n",
       "/vmi conversion van                https://nmi.craigslist.org  18500  2013.0   \n",
       "0                               https://tucson.craigslist.org  14900  1978.0   \n",
       "01 MALIBU                      https://stlouis.craigslist.org   2950  2001.0   \n",
       "\n",
       "                          manufacturer  condition    cylinders   fuel  ...  \\\n",
       "model                                                                  ...   \n",
       ".. ect.                           ford        NaN          NaN  other  ...   \n",
       ".. ect.                           ford        NaN          NaN  other  ...   \n",
       ".Cadillac XLR convertible          NaN  excellent  8 cylinders    gas  ...   \n",
       "/ accord                         honda  excellent  6 cylinders    gas  ...   \n",
       "/ braun                          dodge       fair  6 cylinders    gas  ...   \n",
       "/ durango sport                  dodge       good  6 cylinders    gas  ...   \n",
       "/ vmi / ♿                     chrysler  excellent  6 cylinders    gas  ...   \n",
       "/ vmi ♿                       chrysler  excellent  6 cylinders    gas  ...   \n",
       "// vmi // ♿                   chrysler  excellent  6 cylinders    gas  ...   \n",
       "// vmi ♿                      chrysler  excellent  6 cylinders    gas  ...   \n",
       "/ford Focus                        NaN        NaN          NaN    gas  ...   \n",
       "/ford focus se                     NaN  excellent  4 cylinders    gas  ...   \n",
       "/mercury comet                 lincoln   like new  6 cylinders    gas  ...   \n",
       "/vmi conversion van               ford  excellent  8 cylinders    gas  ...   \n",
       "0                                  NaN       good          NaN  other  ...   \n",
       "01 MALIBU                          NaN        NaN          NaN    gas  ...   \n",
       "\n",
       "                           drive       size         type paint_color  \\\n",
       "model                                                                  \n",
       ".. ect.                      NaN        NaN          NaN         NaN   \n",
       ".. ect.                      NaN        NaN          NaN         NaN   \n",
       ".Cadillac XLR convertible    rwd  full-size  convertible      purple   \n",
       "/ accord                     fwd    compact        sedan       white   \n",
       "/ braun                      fwd        NaN     mini-van        blue   \n",
       "/ durango sport              4wd  full-size          SUV        grey   \n",
       "/ vmi / ♿                    fwd  full-size     mini-van       white   \n",
       "/ vmi ♿                      fwd        NaN          NaN       white   \n",
       "// vmi // ♿                  fwd   mid-size     mini-van       white   \n",
       "// vmi ♿                     fwd  full-size     mini-van       white   \n",
       "/ford Focus                  NaN        NaN          NaN         NaN   \n",
       "/ford focus se               fwd        NaN        sedan         red   \n",
       "/mercury comet               rwd  full-size        coupe       white   \n",
       "/vmi conversion van          rwd  full-size          van         red   \n",
       "0                            NaN        NaN          NaN         NaN   \n",
       "01 MALIBU                    NaN        NaN          NaN         NaN   \n",
       "\n",
       "                                                                   image_url  \\\n",
       "model                                                                          \n",
       ".. ect.                    https://images.craigslist.org/00Q0Q_5uDnk4SMpb...   \n",
       ".. ect.                    https://images.craigslist.org/00Q0Q_5uDnk4SMpb...   \n",
       ".Cadillac XLR convertible  https://images.craigslist.org/00C0C_4GdJWBeEbv...   \n",
       "/ accord                   https://images.craigslist.org/00202_csgqtAR81U...   \n",
       "/ braun                    https://images.craigslist.org/00o0o_kfcDqC3K2x...   \n",
       "/ durango sport            https://images.craigslist.org/00V0V_7ItxfTZ7Xu...   \n",
       "/ vmi / ♿                  https://images.craigslist.org/00c0c_8429zWAfT7...   \n",
       "/ vmi ♿                    https://images.craigslist.org/00c0c_8429zWAfT7...   \n",
       "// vmi // ♿                https://images.craigslist.org/00G0G_lFL2CGoeUQ...   \n",
       "// vmi ♿                   https://images.craigslist.org/00Z0Z_iAg2SBudyM...   \n",
       "/ford Focus                https://images.craigslist.org/00101_98VS6txY8T...   \n",
       "/ford focus se             https://images.craigslist.org/00H0H_l2dPFWGS65...   \n",
       "/mercury comet             https://images.craigslist.org/00x0x_biBpJQJxhc...   \n",
       "/vmi conversion van        https://images.craigslist.org/00b0b_a78SnhappR...   \n",
       "0                          https://images.craigslist.org/00w0w_9GKTBOtVDW...   \n",
       "01 MALIBU                  https://images.craigslist.org/00u0u_av0v5GdRUo...   \n",
       "\n",
       "                                                                 description  \\\n",
       "model                                                                          \n",
       ".. ect.                    Skip the Middle Man .. Get top dollar $$$  Car...   \n",
       ".. ect.                    Running or Not !!!  Skip the Middle Man .. $$$...   \n",
       ".Cadillac XLR convertible  2004 Cadillac XLR Neiman Marcus edition this c...   \n",
       "/ accord                   2013 HONDA ACCORD WHITE 135K , LEATHER, V6 , S...   \n",
       "/ braun                    2003 Dodge Caravan, Braun converted wheel chai...   \n",
       "/ durango sport            2015 Dodge Durango 66,779 miles.   Good condition   \n",
       "/ vmi / ♿                  * 2OO6 CHRYSLER TOWN n COUNTRY MINI VAN  * V6 ...   \n",
       "/ vmi ♿                    ♿ CHRYSLER - VMI - WHEELCHAIR ACCESSIBLE MINI-...   \n",
       "// vmi // ♿                ♿ CHRYSLER - VMI - WHEELCHAIR ACCESSIBLE MINI-...   \n",
       "// vmi ♿                   2006 CHRYSLER TOWN n COUNTRY MINI VAN  * V6 - ...   \n",
       "/ford Focus                2008 FORD FOCUS    Down Payment is TTL      Ve...   \n",
       "/ford focus se             ******Clean Car Fax****Remote Start****  2.0L ...   \n",
       "/mercury comet             1971 Lincoln/Mercury Comet 50 year old antique...   \n",
       "/vmi conversion van        This is a one owner disability vehicle. It has...   \n",
       "0                          Think about your dream of having your own succ...   \n",
       "01 MALIBU                  2001 MALIBU--1 OWNER--V6 ENGINE--AUTO TRANS--P...   \n",
       "\n",
       "                          state        lat        long  \\\n",
       "model                                                    \n",
       ".. ect.                      ny  42.636600  -79.049700   \n",
       ".. ect.                      ny  42.636600  -79.049700   \n",
       ".Cadillac XLR convertible    co  39.867200 -105.004100   \n",
       "/ accord                     ri  41.797100  -71.425500   \n",
       "/ braun                      wa  46.315300 -119.371400   \n",
       "/ durango sport              va  37.458000  -77.470000   \n",
       "/ vmi / ♿                    il  40.107300  -88.278800   \n",
       "/ vmi ♿                      il  40.313100  -88.277000   \n",
       "// vmi // ♿                  il  39.858300  -88.938200   \n",
       "// vmi ♿                     il  39.486900  -88.176100   \n",
       "/ford Focus                  ia  41.007932  -92.419746   \n",
       "/ford focus se               mi  42.234520  -85.786371   \n",
       "/mercury comet               fl  28.580100  -81.484600   \n",
       "/vmi conversion van          mi  44.366500  -84.424700   \n",
       "0                            az  32.250000 -110.886900   \n",
       "01 MALIBU                    il  38.762200  -90.547100   \n",
       "\n",
       "                                       posting_date  \n",
       "model                                                \n",
       ".. ect.                    2021-04-09T11:33:21-0400  \n",
       ".. ect.                    2021-05-03T20:24:50-0400  \n",
       ".Cadillac XLR convertible  2021-05-02T18:36:10-0600  \n",
       "/ accord                   2021-04-30T20:36:13-0400  \n",
       "/ braun                    2021-04-26T14:01:43-0700  \n",
       "/ durango sport            2021-05-01T17:12:14-0400  \n",
       "/ vmi / ♿                  2021-04-29T12:33:35-0500  \n",
       "/ vmi ♿                    2021-04-17T10:54:30-0500  \n",
       "// vmi // ♿                2021-04-16T15:02:53-0500  \n",
       "// vmi ♿                   2021-04-13T06:37:12-0500  \n",
       "/ford Focus                2021-04-28T11:42:11-0500  \n",
       "/ford focus se             2021-04-30T17:45:48-0400  \n",
       "/mercury comet             2021-04-25T10:31:07-0400  \n",
       "/vmi conversion van        2021-05-03T15:53:15-0400  \n",
       "0                          2021-05-03T08:21:21-0700  \n",
       "01 MALIBU                  2021-04-23T15:37:44-0500  \n",
       "\n",
       "[16 rows x 24 columns]"
      ]
     },
     "execution_count": 103,
     "metadata": {},
     "output_type": "execute_result"
    }
   ],
   "source": [
    "df_3.iloc[100:116]"
   ]
  },
  {
   "cell_type": "code",
   "execution_count": 26,
   "metadata": {},
   "outputs": [],
   "source": [
    "df_4['cylinders'] = df_4.groupby('model')['cylinders'].ffill()"
   ]
  },
  {
   "cell_type": "code",
   "execution_count": 107,
   "metadata": {},
   "outputs": [
    {
     "data": {
      "text/plain": [
       "id                   0\n",
       "url                  0\n",
       "region               0\n",
       "region_url           0\n",
       "price                0\n",
       "year                 0\n",
       "manufacturer     14147\n",
       "model             4259\n",
       "condition        19900\n",
       "cylinders        38963\n",
       "fuel              2312\n",
       "odometer          2158\n",
       "title_status      7259\n",
       "transmission      1713\n",
       "VIN             148688\n",
       "drive           117275\n",
       "size            275037\n",
       "type             82787\n",
       "paint_color     113531\n",
       "image_url            0\n",
       "description          2\n",
       "state                0\n",
       "lat               3399\n",
       "long              3399\n",
       "posting_date         0\n",
       "dtype: int64"
      ]
     },
     "execution_count": 107,
     "metadata": {},
     "output_type": "execute_result"
    }
   ],
   "source": [
    "df_4.isna().sum()"
   ]
  },
  {
   "cell_type": "code",
   "execution_count": 27,
   "metadata": {},
   "outputs": [],
   "source": [
    "df_4['manufacturer'] = df_4.groupby('model')['manufacturer'].ffill()"
   ]
  },
  {
   "cell_type": "code",
   "execution_count": 113,
   "metadata": {},
   "outputs": [
    {
     "data": {
      "text/plain": [
       "ford               62830\n",
       "chevrolet          49130\n",
       "toyota             31449\n",
       "honda              19728\n",
       "nissan             17207\n",
       "jeep               17131\n",
       "ram                15682\n",
       "gmc                14712\n",
       "bmw                13494\n",
       "dodge              12046\n",
       "mercedes-benz      10006\n",
       "hyundai             9294\n",
       "subaru              8914\n",
       "volkswagen          8854\n",
       "lexus               7651\n",
       "kia                 7434\n",
       "audi                6918\n",
       "cadillac            6442\n",
       "acura               5655\n",
       "chrysler            5611\n",
       "buick               5150\n",
       "mazda               5035\n",
       "infiniti            4435\n",
       "lincoln             3968\n",
       "volvo               3219\n",
       "mitsubishi          3089\n",
       "mini                2247\n",
       "pontiac             2210\n",
       "rover               1885\n",
       "jaguar              1878\n",
       "porsche             1163\n",
       "mercury             1128\n",
       "saturn              1069\n",
       "alfa-romeo           856\n",
       "tesla                768\n",
       "fiat                 764\n",
       "harley-davidson      138\n",
       "datsun                63\n",
       "land rover            11\n",
       "aston-martin          11\n",
       "ferrari                9\n",
       "morgan                 3\n",
       "Name: manufacturer, dtype: int64"
      ]
     },
     "execution_count": 113,
     "metadata": {},
     "output_type": "execute_result"
    }
   ],
   "source": [
    "df_4['manufacturer'].value_counts()"
   ]
  },
  {
   "cell_type": "code",
   "execution_count": 114,
   "metadata": {},
   "outputs": [
    {
     "data": {
      "text/plain": [
       "ford               62756\n",
       "chevrolet          49071\n",
       "toyota             31214\n",
       "honda              19726\n",
       "nissan             17206\n",
       "jeep               17126\n",
       "ram                15668\n",
       "gmc                14704\n",
       "bmw                13473\n",
       "dodge              12036\n",
       "mercedes-benz       9998\n",
       "hyundai             9283\n",
       "subaru              8913\n",
       "volkswagen          8849\n",
       "lexus               7651\n",
       "kia                 7434\n",
       "audi                6918\n",
       "cadillac            6441\n",
       "acura               5655\n",
       "chrysler            5595\n",
       "buick               5146\n",
       "mazda               5008\n",
       "infiniti            4434\n",
       "lincoln             3967\n",
       "volvo               3218\n",
       "mitsubishi          3089\n",
       "mini                2247\n",
       "pontiac             2209\n",
       "jaguar              1878\n",
       "rover               1849\n",
       "porsche             1161\n",
       "mercury             1127\n",
       "saturn              1069\n",
       "alfa-romeo           856\n",
       "tesla                768\n",
       "fiat                 764\n",
       "harley-davidson      138\n",
       "datsun                59\n",
       "land rover            11\n",
       "aston-martin          11\n",
       "ferrari                9\n",
       "morgan                 3\n",
       "Name: manufacturer, dtype: int64"
      ]
     },
     "execution_count": 114,
     "metadata": {},
     "output_type": "execute_result"
    }
   ],
   "source": [
    "df_2['manufacturer'].value_counts()"
   ]
  },
  {
   "cell_type": "code",
   "execution_count": 115,
   "metadata": {
    "scrolled": true
   },
   "outputs": [
    {
     "data": {
      "text/plain": [
       "id                   0\n",
       "url                  0\n",
       "region               0\n",
       "region_url           0\n",
       "price                0\n",
       "year                 0\n",
       "manufacturer     13598\n",
       "model             4259\n",
       "condition        19900\n",
       "cylinders        38963\n",
       "fuel              2312\n",
       "odometer          2158\n",
       "title_status      7259\n",
       "transmission      1713\n",
       "VIN             148688\n",
       "drive           117275\n",
       "size            275037\n",
       "type             82787\n",
       "paint_color     113531\n",
       "image_url            0\n",
       "description          2\n",
       "state                0\n",
       "lat               3399\n",
       "long              3399\n",
       "posting_date         0\n",
       "dtype: int64"
      ]
     },
     "execution_count": 115,
     "metadata": {},
     "output_type": "execute_result"
    }
   ],
   "source": [
    "df_4.isna().sum()"
   ]
  },
  {
   "cell_type": "code",
   "execution_count": 16,
   "metadata": {
    "scrolled": true
   },
   "outputs": [
    {
     "data": {
      "text/plain": [
       "gas         323825\n",
       "other        27117\n",
       "diesel       23257\n",
       "hybrid        4813\n",
       "electric      1561\n",
       "Name: fuel, dtype: int64"
      ]
     },
     "execution_count": 16,
     "metadata": {},
     "output_type": "execute_result"
    }
   ],
   "source": [
    "df_4['fuel'].value_counts()"
   ]
  },
  {
   "cell_type": "code",
   "execution_count": 28,
   "metadata": {},
   "outputs": [],
   "source": [
    "df_4['fuel']=df_4.groupby('model')['fuel'].ffill()"
   ]
  },
  {
   "cell_type": "code",
   "execution_count": 20,
   "metadata": {},
   "outputs": [
    {
     "data": {
      "text/plain": [
       "id                   0\n",
       "url                  0\n",
       "region               0\n",
       "region_url           0\n",
       "price                0\n",
       "year                 0\n",
       "manufacturer     14147\n",
       "model             4259\n",
       "condition        19900\n",
       "cylinders        36992\n",
       "fuel              1475\n",
       "odometer          2158\n",
       "title_status      7259\n",
       "transmission      1713\n",
       "VIN             148688\n",
       "drive           117275\n",
       "size            275037\n",
       "type             82787\n",
       "paint_color     113531\n",
       "image_url            0\n",
       "description          2\n",
       "state                0\n",
       "lat               3399\n",
       "long              3399\n",
       "posting_date         0\n",
       "dtype: int64"
      ]
     },
     "execution_count": 20,
     "metadata": {},
     "output_type": "execute_result"
    }
   ],
   "source": [
    "df_4.isna().sum()"
   ]
  },
  {
   "cell_type": "code",
   "execution_count": 116,
   "metadata": {},
   "outputs": [
    {
     "data": {
      "text/plain": [
       "id                   0\n",
       "url                  0\n",
       "region               0\n",
       "region_url           0\n",
       "price                0\n",
       "year                 0\n",
       "manufacturer     14147\n",
       "model             4259\n",
       "condition        19900\n",
       "cylinders        85311\n",
       "fuel              2312\n",
       "odometer          2158\n",
       "title_status      7259\n",
       "transmission      1713\n",
       "VIN             148688\n",
       "drive           117275\n",
       "size            275037\n",
       "type             82787\n",
       "paint_color     113531\n",
       "image_url            0\n",
       "description          2\n",
       "state                0\n",
       "lat               3399\n",
       "long              3399\n",
       "posting_date         0\n",
       "dtype: int64"
      ]
     },
     "execution_count": 116,
     "metadata": {},
     "output_type": "execute_result"
    }
   ],
   "source": [
    "df_2.isna().sum()"
   ]
  },
  {
   "cell_type": "code",
   "execution_count": 29,
   "metadata": {},
   "outputs": [],
   "source": [
    "df_4['odometer'] = df_4['odometer'].fillna(df_4.groupby(['year','model'])['odometer'].transform('mean'))"
   ]
  },
  {
   "cell_type": "code",
   "execution_count": 30,
   "metadata": {},
   "outputs": [
    {
     "data": {
      "text/plain": [
       "id                   0\n",
       "url                  0\n",
       "region               0\n",
       "region_url           0\n",
       "price                0\n",
       "year                 0\n",
       "manufacturer     13598\n",
       "model             4259\n",
       "condition        19900\n",
       "cylinders        34798\n",
       "fuel              1475\n",
       "odometer           430\n",
       "title_status      7259\n",
       "transmission      1713\n",
       "VIN             148688\n",
       "drive           117275\n",
       "size            275037\n",
       "type             82787\n",
       "paint_color     113531\n",
       "image_url            0\n",
       "description          2\n",
       "state                0\n",
       "lat               3399\n",
       "long              3399\n",
       "posting_date         0\n",
       "dtype: int64"
      ]
     },
     "execution_count": 30,
     "metadata": {},
     "output_type": "execute_result"
    }
   ],
   "source": [
    "df_4.isna().sum()"
   ]
  },
  {
   "cell_type": "code",
   "execution_count": 31,
   "metadata": {},
   "outputs": [
    {
     "data": {
      "text/plain": [
       "4wd    115132\n",
       "fwd     96528\n",
       "rwd     53950\n",
       "Name: drive, dtype: int64"
      ]
     },
     "execution_count": 31,
     "metadata": {},
     "output_type": "execute_result"
    }
   ],
   "source": [
    "df_4['drive'].value_counts()"
   ]
  },
  {
   "cell_type": "code",
   "execution_count": 32,
   "metadata": {},
   "outputs": [
    {
     "data": {
      "text/plain": [
       "drive\n",
       "4wd      5012\n",
       "rwd       123\n",
       "fwd       113\n",
       "dtype: int64"
      ]
     },
     "execution_count": 32,
     "metadata": {},
     "output_type": "execute_result"
    }
   ],
   "source": [
    "df_4.loc[df_4['manufacturer'] == 'subaru', ['drive']].value_counts()"
   ]
  },
  {
   "cell_type": "code",
   "execution_count": 33,
   "metadata": {},
   "outputs": [
    {
     "data": {
      "text/plain": [
       "full-size      56457\n",
       "mid-size       31545\n",
       "compact        17002\n",
       "sub-compact     2844\n",
       "Name: size, dtype: int64"
      ]
     },
     "execution_count": 33,
     "metadata": {},
     "output_type": "execute_result"
    }
   ],
   "source": [
    "df_4['size'].value_counts()"
   ]
  },
  {
   "cell_type": "code",
   "execution_count": 34,
   "metadata": {},
   "outputs": [],
   "source": [
    "df_4['size']= df_4.groupby('model')['size'].ffill()"
   ]
  },
  {
   "cell_type": "code",
   "execution_count": 35,
   "metadata": {},
   "outputs": [
    {
     "data": {
      "text/plain": [
       "id                   0\n",
       "url                  0\n",
       "region               0\n",
       "region_url           0\n",
       "price                0\n",
       "year                 0\n",
       "manufacturer     13598\n",
       "model             4259\n",
       "condition        19900\n",
       "cylinders        34798\n",
       "fuel              1475\n",
       "odometer           430\n",
       "title_status      7259\n",
       "transmission      1713\n",
       "VIN             148688\n",
       "drive           117275\n",
       "size             95822\n",
       "type             82787\n",
       "paint_color     113531\n",
       "image_url            0\n",
       "description          2\n",
       "state                0\n",
       "lat               3399\n",
       "long              3399\n",
       "posting_date         0\n",
       "dtype: int64"
      ]
     },
     "execution_count": 35,
     "metadata": {},
     "output_type": "execute_result"
    }
   ],
   "source": [
    "df_4.isna().sum()"
   ]
  },
  {
   "cell_type": "code",
   "execution_count": 36,
   "metadata": {},
   "outputs": [
    {
     "data": {
      "text/plain": [
       "sedan          79230\n",
       "SUV            69442\n",
       "pickup         39761\n",
       "truck          28714\n",
       "other          19374\n",
       "coupe          17503\n",
       "hatchback      15815\n",
       "wagon           9882\n",
       "van             7695\n",
       "convertible     7074\n",
       "mini-van        4529\n",
       "offroad          583\n",
       "bus              496\n",
       "Name: type, dtype: int64"
      ]
     },
     "execution_count": 36,
     "metadata": {},
     "output_type": "execute_result"
    }
   ],
   "source": [
    "df_4['type'].value_counts()"
   ]
  },
  {
   "cell_type": "code",
   "execution_count": 38,
   "metadata": {},
   "outputs": [],
   "source": [
    "df_4['type']= df_4.groupby('model')['type'].ffill()"
   ]
  },
  {
   "cell_type": "code",
   "execution_count": 39,
   "metadata": {
    "scrolled": true
   },
   "outputs": [
    {
     "data": {
      "text/plain": [
       "id                   0\n",
       "url                  0\n",
       "region               0\n",
       "region_url           0\n",
       "price                0\n",
       "year                 0\n",
       "manufacturer     13598\n",
       "model             4259\n",
       "condition        19900\n",
       "cylinders        34798\n",
       "fuel              1475\n",
       "odometer           430\n",
       "title_status      7259\n",
       "transmission      1713\n",
       "VIN             148688\n",
       "drive           117275\n",
       "size             95822\n",
       "type             12457\n",
       "paint_color     113531\n",
       "image_url            0\n",
       "description          2\n",
       "state                0\n",
       "lat               3399\n",
       "long              3399\n",
       "posting_date         0\n",
       "dtype: int64"
      ]
     },
     "execution_count": 39,
     "metadata": {},
     "output_type": "execute_result"
    }
   ],
   "source": [
    "df_4.isna().sum()"
   ]
  },
  {
   "cell_type": "code",
   "execution_count": 44,
   "metadata": {},
   "outputs": [],
   "source": [
    "df_4.drop(['lat', 'long', 'image_url', 'VIN', 'posting_date'], axis=1, inplace=True)"
   ]
  },
  {
   "cell_type": "code",
   "execution_count": 48,
   "metadata": {},
   "outputs": [],
   "source": [
    "df_4.drop('description', axis=1, inplace=True)"
   ]
  },
  {
   "cell_type": "code",
   "execution_count": 53,
   "metadata": {},
   "outputs": [
    {
     "data": {
      "text/plain": [
       "id                   0\n",
       "url                  0\n",
       "region               0\n",
       "region_url           0\n",
       "price                0\n",
       "year                 0\n",
       "manufacturer     13598\n",
       "model             4259\n",
       "condition        19900\n",
       "cylinders        34798\n",
       "fuel              1475\n",
       "odometer           430\n",
       "title_status      7259\n",
       "transmission      1713\n",
       "drive           117275\n",
       "size             95822\n",
       "type             12457\n",
       "paint_color     113531\n",
       "state                0\n",
       "dtype: int64"
      ]
     },
     "execution_count": 53,
     "metadata": {},
     "output_type": "execute_result"
    }
   ],
   "source": [
    "df_4.isna().sum()"
   ]
  },
  {
   "cell_type": "code",
   "execution_count": 49,
   "metadata": {},
   "outputs": [],
   "source": [
    "df_5=df_4.copy()"
   ]
  },
  {
   "cell_type": "code",
   "execution_count": 50,
   "metadata": {},
   "outputs": [
    {
     "name": "stdout",
     "output_type": "stream",
     "text": [
      "<class 'pandas.core.frame.DataFrame'>\n",
      "Int64Index: 382885 entries, 27 to 426879\n",
      "Data columns (total 19 columns):\n",
      " #   Column        Non-Null Count   Dtype  \n",
      "---  ------        --------------   -----  \n",
      " 0   id            382885 non-null  int64  \n",
      " 1   url           382885 non-null  object \n",
      " 2   region        382885 non-null  object \n",
      " 3   region_url    382885 non-null  object \n",
      " 4   price         382885 non-null  int64  \n",
      " 5   year          382885 non-null  float64\n",
      " 6   manufacturer  369287 non-null  object \n",
      " 7   model         378626 non-null  object \n",
      " 8   condition     362985 non-null  object \n",
      " 9   cylinders     348087 non-null  object \n",
      " 10  fuel          381410 non-null  object \n",
      " 11  odometer      382455 non-null  float64\n",
      " 12  title_status  375626 non-null  object \n",
      " 13  transmission  381172 non-null  object \n",
      " 14  drive         265610 non-null  object \n",
      " 15  size          287063 non-null  object \n",
      " 16  type          370428 non-null  object \n",
      " 17  paint_color   269354 non-null  object \n",
      " 18  state         382885 non-null  object \n",
      "dtypes: float64(2), int64(2), object(15)\n",
      "memory usage: 58.4+ MB\n"
     ]
    }
   ],
   "source": [
    "df_5.info()"
   ]
  },
  {
   "cell_type": "code",
   "execution_count": 51,
   "metadata": {},
   "outputs": [
    {
     "name": "stdout",
     "output_type": "stream",
     "text": [
      "<class 'pandas.core.frame.DataFrame'>\n",
      "Int64Index: 164722 entries, 31 to 426872\n",
      "Data columns (total 19 columns):\n",
      " #   Column        Non-Null Count   Dtype  \n",
      "---  ------        --------------   -----  \n",
      " 0   id            164722 non-null  int64  \n",
      " 1   url           164722 non-null  object \n",
      " 2   region        164722 non-null  object \n",
      " 3   region_url    164722 non-null  object \n",
      " 4   price         164722 non-null  int64  \n",
      " 5   year          164722 non-null  float64\n",
      " 6   manufacturer  164722 non-null  object \n",
      " 7   model         164722 non-null  object \n",
      " 8   condition     164722 non-null  object \n",
      " 9   cylinders     164722 non-null  object \n",
      " 10  fuel          164722 non-null  object \n",
      " 11  odometer      164722 non-null  float64\n",
      " 12  title_status  164722 non-null  object \n",
      " 13  transmission  164722 non-null  object \n",
      " 14  drive         164722 non-null  object \n",
      " 15  size          164722 non-null  object \n",
      " 16  type          164722 non-null  object \n",
      " 17  paint_color   164722 non-null  object \n",
      " 18  state         164722 non-null  object \n",
      "dtypes: float64(2), int64(2), object(15)\n",
      "memory usage: 25.1+ MB\n"
     ]
    }
   ],
   "source": [
    "df_5.dropna(inplace=True) #164721\n",
    "df_5.info()"
   ]
  },
  {
   "cell_type": "code",
   "execution_count": 52,
   "metadata": {},
   "outputs": [],
   "source": [
    "df_6=df_4.copy()"
   ]
  },
  {
   "cell_type": "code",
   "execution_count": 55,
   "metadata": {},
   "outputs": [],
   "source": [
    "df_6.drop(['paint_color','drive'], axis=1, inplace=True)"
   ]
  },
  {
   "cell_type": "code",
   "execution_count": 56,
   "metadata": {},
   "outputs": [
    {
     "name": "stdout",
     "output_type": "stream",
     "text": [
      "<class 'pandas.core.frame.DataFrame'>\n",
      "Int64Index: 270520 entries, 31 to 426875\n",
      "Data columns (total 17 columns):\n",
      " #   Column        Non-Null Count   Dtype  \n",
      "---  ------        --------------   -----  \n",
      " 0   id            270520 non-null  int64  \n",
      " 1   url           270520 non-null  object \n",
      " 2   region        270520 non-null  object \n",
      " 3   region_url    270520 non-null  object \n",
      " 4   price         270520 non-null  int64  \n",
      " 5   year          270520 non-null  float64\n",
      " 6   manufacturer  270520 non-null  object \n",
      " 7   model         270520 non-null  object \n",
      " 8   condition     270520 non-null  object \n",
      " 9   cylinders     270520 non-null  object \n",
      " 10  fuel          270520 non-null  object \n",
      " 11  odometer      270520 non-null  float64\n",
      " 12  title_status  270520 non-null  object \n",
      " 13  transmission  270520 non-null  object \n",
      " 14  size          270520 non-null  object \n",
      " 15  type          270520 non-null  object \n",
      " 16  state         270520 non-null  object \n",
      "dtypes: float64(2), int64(2), object(13)\n",
      "memory usage: 37.2+ MB\n"
     ]
    }
   ],
   "source": [
    "df_6.dropna(inplace=True)\n",
    "df_6.info()"
   ]
  },
  {
   "cell_type": "code",
   "execution_count": 57,
   "metadata": {},
   "outputs": [
    {
     "data": {
      "text/plain": [
       "columbus               3363\n",
       "jacksonville           3007\n",
       "milwaukee              2905\n",
       "grand rapids           2885\n",
       "central NJ             2860\n",
       "                       ... \n",
       "meridian                 20\n",
       "southwest MS             12\n",
       "kansas city               9\n",
       "fort smith, AR            8\n",
       "west virginia (old)       8\n",
       "Name: region, Length: 404, dtype: int64"
      ]
     },
     "execution_count": 57,
     "metadata": {},
     "output_type": "execute_result"
    }
   ],
   "source": [
    "df_4['region'].value_counts()"
   ]
  },
  {
   "cell_type": "code",
   "execution_count": null,
   "metadata": {},
   "outputs": [],
   "source": []
  }
 ],
 "metadata": {
  "kernelspec": {
   "display_name": "Python (learn-env)",
   "language": "python",
   "name": "learn-env"
  },
  "language_info": {
   "codemirror_mode": {
    "name": "ipython",
    "version": 3
   },
   "file_extension": ".py",
   "mimetype": "text/x-python",
   "name": "python",
   "nbconvert_exporter": "python",
   "pygments_lexer": "ipython3",
   "version": "3.8.5"
  }
 },
 "nbformat": 4,
 "nbformat_minor": 4
}
