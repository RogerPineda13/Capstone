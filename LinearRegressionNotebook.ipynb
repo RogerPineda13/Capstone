{
 "cells": [
  {
   "cell_type": "code",
   "execution_count": 1,
   "metadata": {},
   "outputs": [],
   "source": [
    "import pandas as pd\n",
    "import numpy as np\n",
    "import seaborn as sns\n",
    "from sklearn.preprocessing import OneHotEncoder\n",
    "from sklearn.preprocessing import OrdinalEncoder\n",
    "from sklearn.linear_model import LinearRegression\n",
    "from sklearn.metrics import mean_squared_error\n",
    "from sklearn.preprocessing import StandardScaler\n",
    "from sklearn.model_selection import cross_val_score\n",
    "from statsmodels.formula.api import ols\n",
    "from sklearn.impute import SimpleImputer\n",
    "from sklearn.model_selection import train_test_split\n",
    "from sklearn.dummy import DummyRegressor\n",
    "import matplotlib.pyplot as plt\n",
    "import statsmodels.api as sm"
   ]
  },
  {
   "cell_type": "markdown",
   "metadata": {},
   "source": [
    "Will do a pickle file of final df later"
   ]
  },
  {
   "cell_type": "code",
   "execution_count": 2,
   "metadata": {},
   "outputs": [],
   "source": [
    "df= pd.read_csv('CraigslistCars.csv')"
   ]
  },
  {
   "cell_type": "code",
   "execution_count": 3,
   "metadata": {},
   "outputs": [],
   "source": [
    "df_1 = df.copy()"
   ]
  },
  {
   "cell_type": "code",
   "execution_count": 4,
   "metadata": {},
   "outputs": [],
   "source": [
    "df_2 = df_1.loc[(df_1['price']>100) & (df_1['price'] <59999)].copy()"
   ]
  },
  {
   "cell_type": "code",
   "execution_count": 5,
   "metadata": {},
   "outputs": [],
   "source": [
    "df_2.drop('county', axis=1, inplace=True)"
   ]
  },
  {
   "cell_type": "code",
   "execution_count": 6,
   "metadata": {},
   "outputs": [],
   "source": [
    "df_2.dropna(subset=['year'], axis =0,inplace=True)"
   ]
  },
  {
   "cell_type": "code",
   "execution_count": 7,
   "metadata": {},
   "outputs": [],
   "source": [
    "df_condition_completed = df_2.loc[df_2['condition'].notna()].copy()\n",
    "df_with_model_and_condition = df_condition_completed.loc[df_condition_completed['model'].notna()].copy()\n",
    "condition_dict = {}\n",
    "for a, b in df_with_model_and_condition[['model', 'condition']].values:\n",
    "    condition_dict[a] = b"
   ]
  },
  {
   "cell_type": "code",
   "execution_count": 8,
   "metadata": {},
   "outputs": [],
   "source": [
    "df_2['condition'] = df_2.apply(lambda x: x['condition'] if pd.isna(x['model']) or pd.notna(x['condition']) else condition_dict[x['model']] if x['model'] in condition_dict.keys() else x['condition'], axis=1)"
   ]
  },
  {
   "cell_type": "code",
   "execution_count": 9,
   "metadata": {},
   "outputs": [],
   "source": [
    "df_cylinders_completed = df_2.loc[df_2['cylinders'].notna()].copy()\n",
    "df_cylinders_and_model = df_cylinders_completed.loc[df_cylinders_completed['model'].notna()].copy()\n",
    "cylinders_dictionary = {}\n",
    "for c, d in df_cylinders_and_model[['model', 'cylinders']].values:\n",
    "    cylinders_dictionary[c] = d"
   ]
  },
  {
   "cell_type": "code",
   "execution_count": 10,
   "metadata": {},
   "outputs": [],
   "source": [
    "df_2['cylinders'] = df_2.apply( lambda x: x['cylinders'] if pd.isna( x['model'] ) or pd.notna( x['cylinders'] ) else cylinders_dictionary[x['model']] if x['model'] in cylinders_dictionary.keys() else x['cylinders'], axis=1)"
   ]
  },
  {
   "cell_type": "code",
   "execution_count": 11,
   "metadata": {},
   "outputs": [],
   "source": [
    "df_2['cylinders'] = df_2.groupby('model')['cylinders'].ffill()"
   ]
  },
  {
   "cell_type": "code",
   "execution_count": 12,
   "metadata": {},
   "outputs": [],
   "source": [
    "df_2['manufacturer'] = df_2.groupby('model')['manufacturer'].ffill()"
   ]
  },
  {
   "cell_type": "code",
   "execution_count": 13,
   "metadata": {},
   "outputs": [],
   "source": [
    "df_2['fuel']=df_2.groupby('model')['fuel'].ffill()"
   ]
  },
  {
   "cell_type": "code",
   "execution_count": 14,
   "metadata": {},
   "outputs": [],
   "source": [
    "df_2['odometer'] = df_2['odometer'].fillna(df_2.groupby(['year','model'])['odometer'].transform('mean'))"
   ]
  },
  {
   "cell_type": "code",
   "execution_count": 15,
   "metadata": {},
   "outputs": [],
   "source": [
    "df_2.drop('VIN', axis=1, inplace=True)"
   ]
  },
  {
   "cell_type": "code",
   "execution_count": 16,
   "metadata": {},
   "outputs": [],
   "source": [
    "df_2['size']= df_2.groupby('model')['size'].ffill()"
   ]
  },
  {
   "cell_type": "code",
   "execution_count": 17,
   "metadata": {},
   "outputs": [],
   "source": [
    "df_2.drop('image_url', axis =1, inplace=True)"
   ]
  },
  {
   "cell_type": "code",
   "execution_count": 18,
   "metadata": {},
   "outputs": [],
   "source": [
    "df_2.drop('posting_date', axis=1, inplace=True)"
   ]
  },
  {
   "cell_type": "code",
   "execution_count": 19,
   "metadata": {},
   "outputs": [],
   "source": [
    "df_2.drop(['id', 'url','region_url'], axis=1, inplace=True)"
   ]
  },
  {
   "cell_type": "code",
   "execution_count": 20,
   "metadata": {},
   "outputs": [
    {
     "name": "stdout",
     "output_type": "stream",
     "text": [
      "<class 'pandas.core.frame.DataFrame'>\n",
      "Int64Index: 382885 entries, 27 to 426879\n",
      "Data columns (total 19 columns):\n",
      " #   Column        Non-Null Count   Dtype  \n",
      "---  ------        --------------   -----  \n",
      " 0   region        382885 non-null  object \n",
      " 1   price         382885 non-null  int64  \n",
      " 2   year          382885 non-null  float64\n",
      " 3   manufacturer  369287 non-null  object \n",
      " 4   model         378626 non-null  object \n",
      " 5   condition     362985 non-null  object \n",
      " 6   cylinders     348087 non-null  object \n",
      " 7   fuel          381410 non-null  object \n",
      " 8   odometer      382455 non-null  float64\n",
      " 9   title_status  375626 non-null  object \n",
      " 10  transmission  381172 non-null  object \n",
      " 11  drive         265610 non-null  object \n",
      " 12  size          287063 non-null  object \n",
      " 13  type          300098 non-null  object \n",
      " 14  paint_color   269354 non-null  object \n",
      " 15  description   382883 non-null  object \n",
      " 16  state         382885 non-null  object \n",
      " 17  lat           379486 non-null  float64\n",
      " 18  long          379486 non-null  float64\n",
      "dtypes: float64(4), int64(1), object(14)\n",
      "memory usage: 58.4+ MB\n"
     ]
    }
   ],
   "source": [
    "df_2.info()"
   ]
  },
  {
   "cell_type": "code",
   "execution_count": 21,
   "metadata": {},
   "outputs": [],
   "source": [
    "df_2.drop(['lat', 'long'], axis=1, inplace=True)"
   ]
  },
  {
   "cell_type": "code",
   "execution_count": 22,
   "metadata": {},
   "outputs": [
    {
     "name": "stdout",
     "output_type": "stream",
     "text": [
      "<class 'pandas.core.frame.DataFrame'>\n",
      "Int64Index: 382885 entries, 27 to 426879\n",
      "Data columns (total 14 columns):\n",
      " #   Column        Non-Null Count   Dtype  \n",
      "---  ------        --------------   -----  \n",
      " 0   region        382885 non-null  object \n",
      " 1   price         382885 non-null  int64  \n",
      " 2   year          382885 non-null  float64\n",
      " 3   manufacturer  369287 non-null  object \n",
      " 4   model         378626 non-null  object \n",
      " 5   condition     362985 non-null  object \n",
      " 6   cylinders     348087 non-null  object \n",
      " 7   fuel          381410 non-null  object \n",
      " 8   odometer      382455 non-null  float64\n",
      " 9   title_status  375626 non-null  object \n",
      " 10  transmission  381172 non-null  object \n",
      " 11  size          287063 non-null  object \n",
      " 12  type          300098 non-null  object \n",
      " 13  state         382885 non-null  object \n",
      "dtypes: float64(2), int64(1), object(11)\n",
      "memory usage: 43.8+ MB\n"
     ]
    }
   ],
   "source": [
    "df_2.drop(['paint_color', 'description', 'drive'], axis=1, inplace=True)\n",
    "df_2.info()"
   ]
  },
  {
   "cell_type": "code",
   "execution_count": null,
   "metadata": {},
   "outputs": [],
   "source": []
  },
  {
   "cell_type": "code",
   "execution_count": 23,
   "metadata": {},
   "outputs": [
    {
     "name": "stdout",
     "output_type": "stream",
     "text": [
      "<class 'pandas.core.frame.DataFrame'>\n",
      "Int64Index: 206119 entries, 31 to 426875\n",
      "Data columns (total 14 columns):\n",
      " #   Column        Non-Null Count   Dtype  \n",
      "---  ------        --------------   -----  \n",
      " 0   region        206119 non-null  object \n",
      " 1   price         206119 non-null  int64  \n",
      " 2   year          206119 non-null  float64\n",
      " 3   manufacturer  206119 non-null  object \n",
      " 4   model         206119 non-null  object \n",
      " 5   condition     206119 non-null  object \n",
      " 6   cylinders     206119 non-null  object \n",
      " 7   fuel          206119 non-null  object \n",
      " 8   odometer      206119 non-null  float64\n",
      " 9   title_status  206119 non-null  object \n",
      " 10  transmission  206119 non-null  object \n",
      " 11  size          206119 non-null  object \n",
      " 12  type          206119 non-null  object \n",
      " 13  state         206119 non-null  object \n",
      "dtypes: float64(2), int64(1), object(11)\n",
      "memory usage: 23.6+ MB\n"
     ]
    }
   ],
   "source": [
    "df_3=df_2.copy()\n",
    "df_3.dropna(inplace=True)\n",
    "df_3.info()"
   ]
  },
  {
   "cell_type": "code",
   "execution_count": 24,
   "metadata": {},
   "outputs": [],
   "source": [
    "ohe=OneHotEncoder(categories='auto', sparse=False, drop='first')\n",
    "ss=StandardScaler()"
   ]
  },
  {
   "cell_type": "code",
   "execution_count": 30,
   "metadata": {},
   "outputs": [],
   "source": []
  },
  {
   "cell_type": "code",
   "execution_count": 25,
   "metadata": {},
   "outputs": [],
   "source": [
    "def onehotencoder(column_name, df):\n",
    "    column_name_ohe = df[[column_name]]\n",
    "    ohe = OneHotEncoder(categories = 'auto', sparse = False)\n",
    "    ohe.fit(column_name_ohe)\n",
    "    column_transformed = ohe.transform(column_name_ohe)\n",
    "    column_encoded_ohe = pd.DataFrame(column_transformed, columns = ohe.get_feature_names([column_name]), index = df.index)\n",
    "    return column_encoded_ohe"
   ]
  },
  {
   "cell_type": "code",
   "execution_count": 26,
   "metadata": {},
   "outputs": [],
   "source": [
    "a =onehotencoder('region' , df_3)\n",
    "b = onehotencoder('manufacturer' , df_3)\n",
    "# c = onehotencoder('model' , df_3)\n",
    "d = onehotencoder('condition' , df_3)\n",
    "e = onehotencoder('cylinders' , df_3)\n",
    "f = onehotencoder('fuel' , df_3)\n",
    "g =onehotencoder('title_status' , df_3)\n",
    "h = onehotencoder('transmission' , df_3)\n",
    "i = onehotencoder('size' , df_3)\n",
    "j = onehotencoder('type', df_3)\n",
    "k = onehotencoder('state', df_3)"
   ]
  },
  {
   "cell_type": "code",
   "execution_count": 33,
   "metadata": {},
   "outputs": [],
   "source": [
    "# X_train_ohe = X_train.select_dtypes('object')\n",
    "# X_train_encoded = ohe.fit_transform(X_train_ohe)\n",
    "# train_df = pd.DataFrame(X_train_encoded, columns=ohe.get_feature_names(), index=X_train.index)"
   ]
  },
  {
   "cell_type": "code",
   "execution_count": 27,
   "metadata": {},
   "outputs": [],
   "source": [
    "df_4 = pd.concat([df_3,a,b,d,e,f,g,h,i,j,k], axis=1)"
   ]
  },
  {
   "cell_type": "code",
   "execution_count": 28,
   "metadata": {},
   "outputs": [],
   "source": [
    "df_4.drop(['region', 'manufacturer','condition', 'cylinders', 'fuel', 'title_status', 'transmission', 'size','type', 'state'], axis=1, inplace=True)"
   ]
  },
  {
   "cell_type": "code",
   "execution_count": null,
   "metadata": {},
   "outputs": [],
   "source": []
  },
  {
   "cell_type": "code",
   "execution_count": 29,
   "metadata": {
    "scrolled": true
   },
   "outputs": [
    {
     "data": {
      "text/html": [
       "<div>\n",
       "<style scoped>\n",
       "    .dataframe tbody tr th:only-of-type {\n",
       "        vertical-align: middle;\n",
       "    }\n",
       "\n",
       "    .dataframe tbody tr th {\n",
       "        vertical-align: top;\n",
       "    }\n",
       "\n",
       "    .dataframe thead th {\n",
       "        text-align: right;\n",
       "    }\n",
       "</style>\n",
       "<table border=\"1\" class=\"dataframe\">\n",
       "  <thead>\n",
       "    <tr style=\"text-align: right;\">\n",
       "      <th></th>\n",
       "      <th>price</th>\n",
       "      <th>year</th>\n",
       "      <th>model</th>\n",
       "      <th>odometer</th>\n",
       "      <th>region_SF bay area</th>\n",
       "      <th>region_abilene</th>\n",
       "      <th>region_akron / canton</th>\n",
       "      <th>region_albany</th>\n",
       "      <th>region_albuquerque</th>\n",
       "      <th>region_altoona-johnstown</th>\n",
       "      <th>...</th>\n",
       "      <th>state_sd</th>\n",
       "      <th>state_tn</th>\n",
       "      <th>state_tx</th>\n",
       "      <th>state_ut</th>\n",
       "      <th>state_va</th>\n",
       "      <th>state_vt</th>\n",
       "      <th>state_wa</th>\n",
       "      <th>state_wi</th>\n",
       "      <th>state_wv</th>\n",
       "      <th>state_wy</th>\n",
       "    </tr>\n",
       "  </thead>\n",
       "  <tbody>\n",
       "    <tr>\n",
       "      <th>31</th>\n",
       "      <td>15000</td>\n",
       "      <td>2013.0</td>\n",
       "      <td>f-150 xlt</td>\n",
       "      <td>128000.0</td>\n",
       "      <td>0.0</td>\n",
       "      <td>0.0</td>\n",
       "      <td>0.0</td>\n",
       "      <td>0.0</td>\n",
       "      <td>0.0</td>\n",
       "      <td>0.0</td>\n",
       "      <td>...</td>\n",
       "      <td>0.0</td>\n",
       "      <td>0.0</td>\n",
       "      <td>0.0</td>\n",
       "      <td>0.0</td>\n",
       "      <td>0.0</td>\n",
       "      <td>0.0</td>\n",
       "      <td>0.0</td>\n",
       "      <td>0.0</td>\n",
       "      <td>0.0</td>\n",
       "      <td>0.0</td>\n",
       "    </tr>\n",
       "    <tr>\n",
       "      <th>55</th>\n",
       "      <td>19900</td>\n",
       "      <td>2004.0</td>\n",
       "      <td>f250 super duty</td>\n",
       "      <td>88000.0</td>\n",
       "      <td>0.0</td>\n",
       "      <td>0.0</td>\n",
       "      <td>0.0</td>\n",
       "      <td>0.0</td>\n",
       "      <td>0.0</td>\n",
       "      <td>0.0</td>\n",
       "      <td>...</td>\n",
       "      <td>0.0</td>\n",
       "      <td>0.0</td>\n",
       "      <td>0.0</td>\n",
       "      <td>0.0</td>\n",
       "      <td>0.0</td>\n",
       "      <td>0.0</td>\n",
       "      <td>0.0</td>\n",
       "      <td>0.0</td>\n",
       "      <td>0.0</td>\n",
       "      <td>0.0</td>\n",
       "    </tr>\n",
       "    <tr>\n",
       "      <th>59</th>\n",
       "      <td>14000</td>\n",
       "      <td>2012.0</td>\n",
       "      <td>odyssey</td>\n",
       "      <td>95000.0</td>\n",
       "      <td>0.0</td>\n",
       "      <td>0.0</td>\n",
       "      <td>0.0</td>\n",
       "      <td>0.0</td>\n",
       "      <td>0.0</td>\n",
       "      <td>0.0</td>\n",
       "      <td>...</td>\n",
       "      <td>0.0</td>\n",
       "      <td>0.0</td>\n",
       "      <td>0.0</td>\n",
       "      <td>0.0</td>\n",
       "      <td>0.0</td>\n",
       "      <td>0.0</td>\n",
       "      <td>0.0</td>\n",
       "      <td>0.0</td>\n",
       "      <td>0.0</td>\n",
       "      <td>0.0</td>\n",
       "    </tr>\n",
       "    <tr>\n",
       "      <th>65</th>\n",
       "      <td>22500</td>\n",
       "      <td>2001.0</td>\n",
       "      <td>f450</td>\n",
       "      <td>144700.0</td>\n",
       "      <td>0.0</td>\n",
       "      <td>0.0</td>\n",
       "      <td>0.0</td>\n",
       "      <td>0.0</td>\n",
       "      <td>0.0</td>\n",
       "      <td>0.0</td>\n",
       "      <td>...</td>\n",
       "      <td>0.0</td>\n",
       "      <td>0.0</td>\n",
       "      <td>0.0</td>\n",
       "      <td>0.0</td>\n",
       "      <td>0.0</td>\n",
       "      <td>0.0</td>\n",
       "      <td>0.0</td>\n",
       "      <td>0.0</td>\n",
       "      <td>0.0</td>\n",
       "      <td>0.0</td>\n",
       "    </tr>\n",
       "    <tr>\n",
       "      <th>73</th>\n",
       "      <td>15000</td>\n",
       "      <td>2017.0</td>\n",
       "      <td>charger rt 4dr sedan</td>\n",
       "      <td>90000.0</td>\n",
       "      <td>0.0</td>\n",
       "      <td>0.0</td>\n",
       "      <td>0.0</td>\n",
       "      <td>0.0</td>\n",
       "      <td>0.0</td>\n",
       "      <td>0.0</td>\n",
       "      <td>...</td>\n",
       "      <td>0.0</td>\n",
       "      <td>0.0</td>\n",
       "      <td>0.0</td>\n",
       "      <td>0.0</td>\n",
       "      <td>0.0</td>\n",
       "      <td>0.0</td>\n",
       "      <td>0.0</td>\n",
       "      <td>0.0</td>\n",
       "      <td>0.0</td>\n",
       "      <td>0.0</td>\n",
       "    </tr>\n",
       "  </tbody>\n",
       "</table>\n",
       "<p>5 rows × 545 columns</p>\n",
       "</div>"
      ],
      "text/plain": [
       "    price    year                 model  odometer  region_SF bay area  \\\n",
       "31  15000  2013.0             f-150 xlt  128000.0                 0.0   \n",
       "55  19900  2004.0       f250 super duty   88000.0                 0.0   \n",
       "59  14000  2012.0               odyssey   95000.0                 0.0   \n",
       "65  22500  2001.0                  f450  144700.0                 0.0   \n",
       "73  15000  2017.0  charger rt 4dr sedan   90000.0                 0.0   \n",
       "\n",
       "    region_abilene  region_akron / canton  region_albany  region_albuquerque  \\\n",
       "31             0.0                    0.0            0.0                 0.0   \n",
       "55             0.0                    0.0            0.0                 0.0   \n",
       "59             0.0                    0.0            0.0                 0.0   \n",
       "65             0.0                    0.0            0.0                 0.0   \n",
       "73             0.0                    0.0            0.0                 0.0   \n",
       "\n",
       "    region_altoona-johnstown  ...  state_sd  state_tn  state_tx  state_ut  \\\n",
       "31                       0.0  ...       0.0       0.0       0.0       0.0   \n",
       "55                       0.0  ...       0.0       0.0       0.0       0.0   \n",
       "59                       0.0  ...       0.0       0.0       0.0       0.0   \n",
       "65                       0.0  ...       0.0       0.0       0.0       0.0   \n",
       "73                       0.0  ...       0.0       0.0       0.0       0.0   \n",
       "\n",
       "    state_va  state_vt  state_wa  state_wi  state_wv  state_wy  \n",
       "31       0.0       0.0       0.0       0.0       0.0       0.0  \n",
       "55       0.0       0.0       0.0       0.0       0.0       0.0  \n",
       "59       0.0       0.0       0.0       0.0       0.0       0.0  \n",
       "65       0.0       0.0       0.0       0.0       0.0       0.0  \n",
       "73       0.0       0.0       0.0       0.0       0.0       0.0  \n",
       "\n",
       "[5 rows x 545 columns]"
      ]
     },
     "execution_count": 29,
     "metadata": {},
     "output_type": "execute_result"
    }
   ],
   "source": [
    "df_4.head()"
   ]
  },
  {
   "cell_type": "code",
   "execution_count": null,
   "metadata": {},
   "outputs": [],
   "source": []
  },
  {
   "cell_type": "code",
   "execution_count": 38,
   "metadata": {},
   "outputs": [],
   "source": [
    "X= df_4.drop(['model','price'], axis=1)\n",
    "y= df_4['price']\n",
    "X_train, X_test, y_train, y_test = train_test_split(X, y, test_size=0.2, random_state=42)"
   ]
  },
  {
   "cell_type": "code",
   "execution_count": 39,
   "metadata": {},
   "outputs": [
    {
     "name": "stderr",
     "output_type": "stream",
     "text": [
      "<ipython-input-39-aa332f148755>:5: SettingWithCopyWarning: \n",
      "A value is trying to be set on a copy of a slice from a DataFrame.\n",
      "Try using .loc[row_indexer,col_indexer] = value instead\n",
      "\n",
      "See the caveats in the documentation: https://pandas.pydata.org/pandas-docs/stable/user_guide/indexing.html#returning-a-view-versus-a-copy\n",
      "  X_train['year'] = Scaled['year']\n"
     ]
    }
   ],
   "source": [
    "col_ss = ['year']\n",
    "Scaled = ss.fit_transform(X_train[col_ss])\n",
    "Scaled = pd.DataFrame(Scaled, index=X_train.index)\n",
    "Scaled.columns = col_ss\n",
    "X_train['year'] = Scaled['year']\n",
    "\n"
   ]
  },
  {
   "cell_type": "code",
   "execution_count": 40,
   "metadata": {},
   "outputs": [
    {
     "name": "stderr",
     "output_type": "stream",
     "text": [
      "<ipython-input-40-11956b13e498>:5: SettingWithCopyWarning: \n",
      "A value is trying to be set on a copy of a slice from a DataFrame.\n",
      "Try using .loc[row_indexer,col_indexer] = value instead\n",
      "\n",
      "See the caveats in the documentation: https://pandas.pydata.org/pandas-docs/stable/user_guide/indexing.html#returning-a-view-versus-a-copy\n",
      "  X_train['odometer'] = Scaledd['odometer']\n"
     ]
    }
   ],
   "source": [
    "col_sss = ['odometer']\n",
    "Scaledd = ss.fit_transform(X_train[col_sss])\n",
    "Scaledd = pd.DataFrame(Scaledd, index=X_train.index)\n",
    "Scaledd.columns = col_sss\n",
    "X_train['odometer'] = Scaledd['odometer']"
   ]
  },
  {
   "cell_type": "code",
   "execution_count": 41,
   "metadata": {},
   "outputs": [
    {
     "name": "stdout",
     "output_type": "stream",
     "text": [
      "0.5009565902863771\n"
     ]
    }
   ],
   "source": [
    "SimpleLinearRegression = LinearRegression()\n",
    "SimpleLinearRegression.fit(X_train, y_train)\n",
    "print(SimpleLinearRegression.score(X_train,y_train))"
   ]
  },
  {
   "cell_type": "code",
   "execution_count": null,
   "metadata": {},
   "outputs": [],
   "source": []
  }
 ],
 "metadata": {
  "kernelspec": {
   "display_name": "Python (learn-env)",
   "language": "python",
   "name": "learn-env"
  },
  "language_info": {
   "codemirror_mode": {
    "name": "ipython",
    "version": 3
   },
   "file_extension": ".py",
   "mimetype": "text/x-python",
   "name": "python",
   "nbconvert_exporter": "python",
   "pygments_lexer": "ipython3",
   "version": "3.8.5"
  }
 },
 "nbformat": 4,
 "nbformat_minor": 4
}
